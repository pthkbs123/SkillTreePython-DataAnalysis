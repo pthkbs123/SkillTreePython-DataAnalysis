{
  "cells": [
    {
      "cell_type": "markdown",
      "metadata": {
        "id": "view-in-github",
        "colab_type": "text"
      },
      "source": [
        "<a href=\"https://colab.research.google.com/github/pthkbs123/SkillTreePython-DataAnalysis/blob/main/01.%EB%8D%B0%EC%9D%B4%ED%84%B0%EB%B6%84%EC%84%9D%EA%B8%B0%EC%B4%88/05_NumPy-%EB%B0%B0%EC%97%B4%EC%9D%98%EC%97%B0%EC%82%B0.ipynb\" target=\"_parent\"><img src=\"https://colab.research.google.com/assets/colab-badge.svg\" alt=\"Open In Colab\"/></a>"
      ]
    },
    {
      "cell_type": "markdown",
      "metadata": {
        "id": "jgFAOz-Tw1VI"
      },
      "source": [
        "# CH05 Numpy  - 배열의 연산\n",
        "\n",
        "---\n",
        "* 날짜: 2022-04-12\n",
        "* 이름: 박태현\n"
      ]
    },
    {
      "cell_type": "markdown",
      "metadata": {
        "id": "_3uSBF40BdCd"
      },
      "source": [
        "\n",
        "```\n",
        "import numpy as np\n",
        "```\n",
        "\n",
        "\n"
      ]
    },
    {
      "cell_type": "code",
      "execution_count": null,
      "metadata": {
        "id": "zPOE7GIhJcdU"
      },
      "outputs": [],
      "source": [
        "import numpy as np"
      ]
    },
    {
      "cell_type": "markdown",
      "metadata": {
        "id": "_ilCtKbjYZzk"
      },
      "source": [
        "---\n",
        "### **(1) 산술 연산(Arithmetic Operators)**\n",
        "---\n",
        "\n",
        "|연산자|범용함수|설명|\n",
        "|--|--|--|\n",
        "|+|`np.add`|덧셈|\n",
        "|-|`np.substract`|뺄셈|\n",
        "|-|`np.negative`|단항음수|\n",
        "|*|`np.multiply`|곱셈|\n",
        "|/|`np.divide`|나눗셈|\n",
        "|//|`np.floor_divide`|나눗셈 내림|\n",
        "|**|`np.power`|지수 연산|\n",
        "|%|`np.mod`|나머지 연산|\n",
        "\n",
        "파이썬의 수치자료형에서 사용하는 모든 연산을 넘파이 배열에서 사용할 수 있습니다. \n",
        "\n",
        "리스트에서는 불가능했던 배열간의 덧셈도 아래와 같이 사용 가능합니다.\n",
        "\n",
        "```\n",
        "a = np.array([1,2,3])\n",
        "b = np.array([-1,2,-3])\n",
        "a*b\n",
        "```\n",
        "\n"
      ]
    },
    {
      "cell_type": "code",
      "execution_count": null,
      "metadata": {
        "id": "lGmuZNP4YZzu",
        "outputId": "665de03c-799e-4c36-a393-3ee6e597e754"
      },
      "outputs": [
        {
          "data": {
            "text/plain": [
              "(array([-1,  4, -9]), array([-1,  4, -9]))"
            ]
          },
          "execution_count": 98,
          "metadata": {},
          "output_type": "execute_result"
        }
      ],
      "source": [
        "a = np.array([1,2,3])\n",
        "b = np.array([-1,2,-3])\n",
        "a*b, np.multiply(a,b)"
      ]
    },
    {
      "cell_type": "markdown",
      "metadata": {
        "id": "HjPXsM8C5ULZ"
      },
      "source": [
        "\n",
        "#### **|  브로드캐스팅 (Broadcasting)**\n",
        "\n",
        "NumPy의 배열 연산은 벡터화(vectorized) 연산을 사용합니다. 브로드 캐스팅은 배열 각 요소에 대한 반복적인 계산을 효율적으로 수행합니다.\n",
        "\n",
        "\n",
        "<p align='center'>\n",
        "<img src=https://github.com/yebiny/SkillTreePython-DataAnalysis/blob/main/imgs/ch0105-01.png?raw=true width=560>\n",
        "</p>"
      ]
    },
    {
      "cell_type": "code",
      "execution_count": null,
      "metadata": {
        "id": "ZhsYhSsaLhoh",
        "outputId": "6c1b791a-30c1-492a-e3b3-0d4afe2ec921"
      },
      "outputs": [
        {
          "name": "stdout",
          "output_type": "stream",
          "text": [
            "[[ 2  4  6]\n",
            " [ 8 10 12]\n",
            " [14 16 18]]\n",
            "[[ 2  4  6]\n",
            " [ 8 10 12]\n",
            " [14 16 18]]\n",
            "[[ 2  4  6]\n",
            " [ 8 10 12]\n",
            " [14 16 18]]\n"
          ]
        }
      ],
      "source": [
        "x = np.arange(1,10).reshape(3,3)\n",
        "y = np.full([3,3],2)\n",
        "y_2 = np.array([2,2,2])\n",
        "\n",
        "print(x * y)\n",
        "print(x * y_2)\n",
        "print(x * 2)\n",
        "# 셋 다 같은 결과. 직관적으로 사용 가능"
      ]
    },
    {
      "cell_type": "markdown",
      "metadata": {
        "id": "bSey8YjkL5BT"
      },
      "source": [
        "---\n",
        "### **(2) 수학 관련 함수**\n",
        "---\n",
        "\n",
        "\n",
        "\n"
      ]
    },
    {
      "cell_type": "markdown",
      "metadata": {
        "id": "aNlW6SlrO9nr"
      },
      "source": [
        "#### **| 절대값 함수 (Absolute Function)**\n",
        "\n",
        "\n",
        "\n",
        "\n",
        "\n",
        "* `np.absolute(n)` = `np.abs(n)` : `n`의 절대값 반환\n",
        "\n",
        "```\n",
        "print(b)\n",
        "np.abs(b)\n",
        "```\n"
      ]
    },
    {
      "cell_type": "code",
      "execution_count": null,
      "metadata": {
        "id": "zaMa3LVuO9ns",
        "outputId": "ee6dd298-c986-4954-a2e9-4772ab2dee12"
      },
      "outputs": [
        {
          "name": "stdout",
          "output_type": "stream",
          "text": [
            "[-1  2 -3]\n"
          ]
        },
        {
          "data": {
            "text/plain": [
              "array([1, 2, 3])"
            ]
          },
          "execution_count": 3,
          "metadata": {},
          "output_type": "execute_result"
        }
      ],
      "source": [
        "print(b)\n",
        "np.abs(b)"
      ]
    },
    {
      "cell_type": "markdown",
      "metadata": {
        "id": "U5uE3sVtzRvA"
      },
      "source": [
        "#### **| 제곱/제곱근 함수**\n",
        "\n",
        "* `np.square(n)`: `n`의 제곱을 반환\n",
        "* `np.sqrt(n)` : `n`의 제곱근을 반환\n",
        "\n",
        "```\n",
        "n = 25\n",
        "print(np.square(n), np.sqrt(n))\n",
        "```"
      ]
    },
    {
      "cell_type": "code",
      "execution_count": null,
      "metadata": {
        "id": "ggnIxDGzzTfX",
        "outputId": "1acc5e7f-3f80-4d3b-8e84-ef23e92741e4"
      },
      "outputs": [
        {
          "name": "stdout",
          "output_type": "stream",
          "text": [
            "625 5.0\n"
          ]
        }
      ],
      "source": [
        "n = 25\n",
        "print(np.square(n), np.sqrt(n))"
      ]
    },
    {
      "cell_type": "markdown",
      "metadata": {
        "id": "tWh1aQ50vRhB"
      },
      "source": [
        "#### **| 지수/로그 함수**\n",
        "\n",
        "* `np.exp(n)` : 자연상수 `e`(=~2.71..)의 `n` 제곱을 반환\n",
        "* `np.exp2(n)` : 상수 `2`의 `n` 제곱을 반환\n",
        "\n",
        "\n",
        "```\n",
        "[np.exp2(n) for n in range(10)]\n",
        "```\n",
        "\n",
        "\n",
        "\n",
        "\n",
        "\n"
      ]
    },
    {
      "cell_type": "code",
      "execution_count": null,
      "metadata": {
        "id": "Dygt3AyHvTZz",
        "outputId": "4ac61c97-3765-46f8-cc45-dff84748605f"
      },
      "outputs": [
        {
          "data": {
            "text/plain": [
              "[1.0, 2.0, 4.0, 8.0, 16.0, 32.0, 64.0, 128.0, 256.0, 512.0]"
            ]
          },
          "execution_count": 23,
          "metadata": {},
          "output_type": "execute_result"
        }
      ],
      "source": [
        "[np.exp2(n) for n in range(10)]"
      ]
    },
    {
      "cell_type": "markdown",
      "metadata": {
        "id": "0g8jrMErbtEA"
      },
      "source": [
        "\n",
        "* `np.log(n)` : 밑이 `e`인 로그값을 반환합니다. \n",
        "* `np.log2(n)` : 밑이 `2`인 로그값을 반환합니다.\n",
        "* `np.log10(n)` : 밑이 `10`인 로그값을 반환합니다.\n",
        "\n",
        "```\n",
        "n = [10,100,1000,10000]\n",
        "np.log10(n)\n",
        "```"
      ]
    },
    {
      "cell_type": "code",
      "execution_count": null,
      "metadata": {
        "id": "YB0BzwxDvnkT",
        "outputId": "55195e4f-c39c-43e1-8088-eb2eea8ce498"
      },
      "outputs": [
        {
          "data": {
            "text/plain": [
              "array([1., 2., 3., 4.])"
            ]
          },
          "execution_count": 24,
          "metadata": {},
          "output_type": "execute_result"
        }
      ],
      "source": [
        "n = [10,100,1000,10000]\n",
        "np.log10(n)"
      ]
    },
    {
      "cell_type": "markdown",
      "metadata": {
        "id": "wE_p9AxjtdJ9"
      },
      "source": [
        "#### **| 삼각 함수(Trigonometrical Function)**\n",
        "\n",
        "|함수|설명|\n",
        "|--|--|\n",
        "|`np.sin`|사인|\n",
        "|`np.cos`|코사인|\n",
        "|`np.tan`|탄젠트|\n",
        "|`np.arcsin`|아크 사인|\n",
        "|`np.argcos`|아크 코사인|\n",
        "|`np.argtan`|아크 탄젠트|\n",
        "|`np.sinh`|하이퍼볼릭 사인|\n",
        "|`np.cosh`|하이퍼볼릭 코사인|\n",
        "|`np.tanh`|하이퍼볼릭 탄젠트|\n",
        "|`np.arcsinh`|하이퍼볼릭 아크 사인|\n",
        "|`np.arccosh`|하이퍼볼릭 아크 코사인|\n",
        "|`np.arctanh`|하이퍼볼릭 아크 탄젠트|\n",
        "|`np.deg2rad`|각도를 라디안으로 변환|\n",
        "|`np.rad2deg`|라디안을 각도로 변환|\n",
        "|`np.hypot`|유클리드 거리계산|\n",
        "\n",
        "학창시절 아래 삼각함수 표를 외워본 경험이 있을 겁니다. 더이상 이를 외울 필요는 없습니다. 코드가 알아서 해줄테니까요. 값이 똑같이 나오는지 확인해 봅시다.\n",
        "\n",
        "<p align='center'>\n",
        "<img src=https://github.com/yebiny/SkillTreePython-DataAnalysis/blob/main/imgs/ch0105-02.png?raw=true width=500>\n",
        "</p>\n",
        "\n",
        "```\n",
        "n = 0\n",
        "np.sin(n), np.cos(n), np.tan(n)\n",
        "```"
      ]
    },
    {
      "cell_type": "code",
      "execution_count": null,
      "metadata": {
        "id": "v7m-AQW9uJ9u",
        "outputId": "10b0d26b-d5e1-47b4-e686-20060a4b4b75"
      },
      "outputs": [
        {
          "data": {
            "text/plain": [
              "(0.0, 1.0, 0.0)"
            ]
          },
          "execution_count": 25,
          "metadata": {},
          "output_type": "execute_result"
        }
      ],
      "source": [
        "n = 0\n",
        "np.sin(n), np.cos(n), np.tan(n)"
      ]
    },
    {
      "cell_type": "markdown",
      "metadata": {
        "id": "EHGOV5FuPII3"
      },
      "source": [
        "#### **| 집계 함수(Aggregate Functions)**\n",
        "\n",
        "|함수|설명|\n",
        "|--|--|\n",
        "|`np.sum()`|배열 내 합을 반환|\n",
        "|`np.cumsum()`|배열 내 누적합 반환|\n",
        "|`np.prod()`|배열 내 곱 반환|\n",
        "|`np.diff()`|배열 내 차 반환|\n",
        "|`np.min()`|최소값 반환|\n",
        "|`np.max()`|최대값 반환|\n",
        "|`np.mean()`|평균 반환|\n",
        "|`np.std()`|표준편차 반환|\n",
        "|`np.var()`|분산 반환|\n",
        "|`np.median()`|중앙값 반환|\n",
        "|`np.argmin()`|최소값 인덱스 반환|\n",
        "|`np.argmax()`|최소값 인덱스 반환|\n",
        "\n",
        "\n",
        "```\n",
        "print(a)\n",
        "print('누적합: ',np.cumsum(a))\n",
        "print('곱: ',np.prod(a))\n",
        "print('차: ',np.diff(a))\n",
        "print('중앙값: ',np.median(a))\n",
        "```"
      ]
    },
    {
      "cell_type": "code",
      "execution_count": null,
      "metadata": {
        "id": "OIENQ0LlVMyd",
        "outputId": "36950d9b-f8e6-4979-e935-59d75bfbaf8c"
      },
      "outputs": [
        {
          "name": "stdout",
          "output_type": "stream",
          "text": [
            "[1 2 3]\n",
            "누적합:  [1 3 6]\n",
            "곱:  6\n",
            "차:  [1 1]\n",
            "중앙값:  2.0\n"
          ]
        }
      ],
      "source": [
        "print(a)\n",
        "print('누적합: ',np.cumsum(a))\n",
        "print('곱: ',np.prod(a))\n",
        "print('차: ',np.diff(a))\n",
        "print('중앙값: ',np.median(a))"
      ]
    },
    {
      "cell_type": "markdown",
      "metadata": {
        "id": "VAVV6_8OarUE"
      },
      "source": [
        "머신러닝에서 자주 사용되는 함수는 `np.argmax`입니다. `np.argmax`는 최대값의 인덱스를 반환하는데요, 최대값 자체가 아닌 인덱스가 언제 필요할까요?\n",
        "\n",
        "예시를 들어 봅시다. `y`에 카드 이름이, `x`에는 각 카드가 뽑힐 확률이 들어 있습니다. 뽑힐 확률이 가장 높은 카드를 아래와 같이 구할 수 있습니다.\n",
        "\n",
        "```\n",
        "x = [0.1, 0.2, 0.6, 0.1]\n",
        "y = ['a', 'b', 'c', 'd']\n",
        "idx = np.argmax(x)\n",
        "print(y[idx]) # 팬시 인덱싱\n",
        "```"
      ]
    },
    {
      "cell_type": "code",
      "execution_count": null,
      "metadata": {
        "id": "X5ltEzDsap-m",
        "outputId": "5b475abf-2bc4-4a94-9a0a-25b6d3b10cd2"
      },
      "outputs": [
        {
          "name": "stdout",
          "output_type": "stream",
          "text": [
            "c\n"
          ]
        }
      ],
      "source": [
        "x = [0.1, 0.2, 0.6, 0.1]\n",
        "y = ['a', 'b', 'c', 'd']\n",
        "idx = np.argmax(x)\n",
        "print(y[idx]) # 팬시 인덱싱"
      ]
    },
    {
      "cell_type": "markdown",
      "metadata": {
        "id": "ohtLbHoEVMU2"
      },
      "source": [
        "---\n",
        "### **(3) 벡터/행렬 연산**\n",
        "---\n",
        "\n",
        "|함수|설명|\n",
        "|--|--|\n",
        "|`np.matmul()`|=`@`, 행렬곱|\n",
        "|`np.dot()`|내적|\n",
        "|`np.prod()`|외적|\n",
        "\n"
      ]
    },
    {
      "cell_type": "markdown",
      "metadata": {
        "id": "i6ll7q_HWTKA"
      },
      "source": [
        "\n",
        "* `np.matmul(a1, a2)` : 배열 `a1`과 `a2`의 행렬곱을 수행합니다. \n",
        "\n",
        "일반적인 행렬곱을 `matmul`을 통해서 할 수 있습니다. \n",
        "\n",
        "```\n",
        "A = np.array([[1,2],\n",
        "              [0,1]])\n",
        "B = np.array([[1,0],\n",
        "              [0,1]])\n",
        "print(np.matmul(A,B))\n",
        "print(A@B)\n",
        "```\n"
      ]
    },
    {
      "cell_type": "code",
      "execution_count": null,
      "metadata": {
        "id": "9Gds9RSHWTx8",
        "outputId": "0265b91f-44ff-48f4-a6ea-480888e57d3b"
      },
      "outputs": [
        {
          "name": "stdout",
          "output_type": "stream",
          "text": [
            "[[1 2]\n",
            " [0 1]]\n",
            "[[1 2]\n",
            " [0 1]]\n"
          ]
        }
      ],
      "source": [
        "A = np.array([[1,2],\n",
        "              [0,1]])\n",
        "B = np.array([[1,0],\n",
        "              [0,1]])\n",
        "print(np.matmul(A,B))\n",
        "print(A@B)"
      ]
    },
    {
      "cell_type": "markdown",
      "metadata": {
        "id": "WJrKcbetWT5E"
      },
      "source": [
        "* `np.dot(a1, a2)`: 배열 `a1`과 `a2`의 벡터 내적을 수행합니다.\n",
        "\n",
        "벡터 내적은 벡터 내 같은 인덱스의 값을 곱하고 모두 더한 것입니다.\n",
        "\n",
        "```\n",
        "print(a, b)\n",
        "print(sum(a*b))\n",
        "print(np.dot(a,b))\n",
        "```\n",
        "\n",
        "\n"
      ]
    },
    {
      "cell_type": "code",
      "execution_count": null,
      "metadata": {
        "id": "xX2V5x3SWSpk",
        "outputId": "27c33ce9-22c7-4bff-cd1e-b36f2d3ebddb"
      },
      "outputs": [
        {
          "name": "stdout",
          "output_type": "stream",
          "text": [
            "[1 2 3] [-1  2 -3]\n",
            "-6\n",
            "-6\n"
          ]
        }
      ],
      "source": [
        "print(a, b)\n",
        "print(sum(a*b))\n",
        "print(np.dot(a,b))"
      ]
    },
    {
      "cell_type": "markdown",
      "metadata": {
        "id": "_oy400wHYLHN"
      },
      "source": [
        "---\n",
        "### **(4) 비교 연산**\n",
        "---\n",
        "\n",
        "비교 연산자를 이용하면 `boolean` 값으로 이루어진 배열을 반환합니다.\n",
        "\n",
        "\n"
      ]
    },
    {
      "cell_type": "markdown",
      "metadata": {
        "id": "Hhi5eYZu9Uw4"
      },
      "source": [
        "\n",
        "#### **| 값 비교**\n",
        "\n",
        "\n",
        "|연산자|비교 범용 함수|\n",
        "|--|--|\n",
        "|`==`|`np.equal`|\n",
        "|`!=`|`np.not_equal`|\n",
        "|`<`| `np.less`|\n",
        "|`<=`|`np.less_equal`|\n",
        "|`>`| `np.greater`|\n",
        "|`>=`|`np.greater_equal`|\n",
        "\n",
        "```\n",
        "print(a)\n",
        "print(b)\n",
        "a==b, a<b, a>b\n",
        "```"
      ]
    },
    {
      "cell_type": "code",
      "execution_count": null,
      "metadata": {
        "id": "gXL4qh9G0Euw",
        "outputId": "51f834ad-7715-4290-b537-527d520d6a6f"
      },
      "outputs": [
        {
          "name": "stdout",
          "output_type": "stream",
          "text": [
            "[1 2 3]\n",
            "[-1  2 -3]\n"
          ]
        },
        {
          "data": {
            "text/plain": [
              "(array([False,  True, False]),\n",
              " array([False, False, False]),\n",
              " array([ True, False,  True]))"
            ]
          },
          "execution_count": 100,
          "metadata": {},
          "output_type": "execute_result"
        }
      ],
      "source": [
        "print(a)\n",
        "print(b)\n",
        "a==b, a<b, a>b"
      ]
    },
    {
      "cell_type": "markdown",
      "metadata": {
        "id": "OLsYDXJ88jyd"
      },
      "source": [
        "\n",
        "#### **| 예외값 비교**\n",
        "\n",
        "\n",
        "\n",
        "|함수|설명|\n",
        "|--|--|\n",
        "|`np.isinf`|`inf` 값이면 `True`, 아니면 `False`|\n",
        "|`np.isfinite`|`inf, nan` 값이면 `False`, 아니면 `True`|\n",
        "|`np.isnan`|`nan` 값이면 `True`, 아니면 `False`|\n",
        "\n",
        "```\n",
        "a = [np.inf, np.nan, 0]\n",
        "print(np.isinf(a))\n",
        "print(np.isfinite(a))\n",
        "print(np.isnan(a))\n",
        "```"
      ]
    },
    {
      "cell_type": "code",
      "execution_count": null,
      "metadata": {
        "id": "pt_d1IfE0F0g",
        "outputId": "2e508c82-037f-4872-cc31-74638459ecdd"
      },
      "outputs": [
        {
          "name": "stdout",
          "output_type": "stream",
          "text": [
            "[ True False False]\n",
            "[False False  True]\n",
            "[False  True False]\n"
          ]
        }
      ],
      "source": [
        "a = [np.inf, np.nan, 0]\n",
        "print(np.isinf(a))\n",
        "print(np.isfinite(a))\n",
        "print(np.isnan(a))"
      ]
    },
    {
      "cell_type": "markdown",
      "metadata": {
        "id": "rnvGTkHatKIn"
      },
      "source": [
        "#### **| 논리 연산자**\n",
        "\n",
        "|함수|설명|\n",
        "|--|--|\n",
        "|`np.all()`|모두 `True`일때 `True` 반환|\n",
        "|`np.any()`|모두 `False`일때 `False` 반환|\n",
        "\n",
        "파이썬의 논리 연산자와 동일 합니다. 아래와 같이 숫자 자료형을 바로 넣으면 0 일 때는 `False`, 그 외에는 `True`로 인식하여 연산이 진행됩니다.\n",
        "\n",
        "```\n",
        "a = [1,0,1,1,0]\n",
        "np.all(a), np.any(a)\n",
        "```"
      ]
    },
    {
      "cell_type": "code",
      "execution_count": null,
      "metadata": {
        "id": "PlyGLDBntSCt",
        "outputId": "04f265be-38bd-45a3-82af-4258be217a60"
      },
      "outputs": [
        {
          "data": {
            "text/plain": [
              "(False, True)"
            ]
          },
          "execution_count": 31,
          "metadata": {},
          "output_type": "execute_result"
        }
      ],
      "source": [
        "a = [1,0,1,1,0]\n",
        "np.all(a), np.any(a)"
      ]
    },
    {
      "cell_type": "markdown",
      "metadata": {
        "id": "3SiCZqJsap3_"
      },
      "source": [
        "---\n",
        "### **(5) 정렬**\n",
        "---\n",
        "\n",
        "\n",
        "|함수|설명|\n",
        "|--|--|\n",
        "|`np.sort()`|오름차순 정렬|\n",
        "|`np.argsort()`|index 정렬|\n",
        "|`np.partition()`|`k`개의 작은값 반환|\n"
      ]
    },
    {
      "cell_type": "markdown",
      "metadata": {
        "id": "kTcud6R1-ptC"
      },
      "source": [
        "* `np.sort(a, axis=axis)` : 배열 `a`를 오름차순으로 정렬합니다. \n",
        "\n",
        "```\n",
        "np.random.seed(42);a = np.random.randint(0,12,(3,4))\n",
        "print(a)\n",
        "print('axis=0: 위에서 아래로 정렬')\n",
        "print(np.sort(a, axis=0))\n",
        "print('axis=1: 좌에서 우로 정렬')\n",
        "print(np.sort(a, axis=1))\n",
        "```\n"
      ]
    },
    {
      "cell_type": "code",
      "execution_count": null,
      "metadata": {
        "id": "-4A0yrwM0I4M",
        "outputId": "1b75ad18-7c73-48b2-fa43-6489d7c72694"
      },
      "outputs": [
        {
          "name": "stdout",
          "output_type": "stream",
          "text": [
            "[[ 6  3 10  7]\n",
            " [ 4  6  9  2]\n",
            " [ 6 10 10  7]]\n",
            "axis=0: 위에서 아래로 정렬\n",
            "[[ 4  3  9  2]\n",
            " [ 6  6 10  7]\n",
            " [ 6 10 10  7]]\n",
            "axis=1: 좌에서 우로 정렬\n",
            "[[ 3  6  7 10]\n",
            " [ 2  4  6  9]\n",
            " [ 6  7 10 10]]\n"
          ]
        }
      ],
      "source": [
        "np.random.seed(42);a = np.random.randint(0,12,(3,4))\n",
        "print(a)\n",
        "print('axis=0: 위에서 아래로 정렬')\n",
        "print(np.sort(a, axis=0))\n",
        "print('axis=1: 좌에서 우로 정렬')\n",
        "print(np.sort(a, axis=1))"
      ]
    },
    {
      "cell_type": "markdown",
      "metadata": {
        "id": "vtT3s-bP_dOo"
      },
      "source": [
        "* `np.argsort(a, axis=axis)` : 배열 `a`를 오름차순 정렬하는  인덱스를 반환\n",
        "\n",
        "위에서 배웠던 `np.argmax`와 마찬가지로 팬시 인덱싱에서 유용하게 사용됩니다. \n",
        "\n",
        "아래와 같이 월별(x) 판매수(y)가 주어졌을 때 판매수 순으로 정렬하고자 합니다. \n",
        "\n",
        "```\n",
        "x = np.array(['1월', '2월', '3월'])\n",
        "y = np.array([500,230,350])\n",
        "sort_idx = np.argsort(y)\n",
        "print(sort_idx)\n",
        "x[sort_idx][::-1] # 팬시 인덱싱\n",
        "```"
      ]
    },
    {
      "cell_type": "code",
      "execution_count": null,
      "metadata": {
        "id": "Mt4Bjvj-0KTE",
        "outputId": "73d6e77e-019d-465a-fc3b-027f27a6ead1"
      },
      "outputs": [
        {
          "name": "stdout",
          "output_type": "stream",
          "text": [
            "[1 2 0]\n"
          ]
        },
        {
          "data": {
            "text/plain": [
              "array(['1월', '3월', '2월'], dtype='<U2')"
            ]
          },
          "execution_count": 181,
          "metadata": {},
          "output_type": "execute_result"
        }
      ],
      "source": [
        "x = np.array(['1월', '2월', '3월'])\n",
        "y = np.array([500,230,350])\n",
        "sort_idx = np.argsort(y)\n",
        "print(sort_idx)\n",
        "x[sort_idx][::-1] # 팬시 인덱싱"
      ]
    },
    {
      "cell_type": "code",
      "execution_count": null,
      "metadata": {
        "id": "v5azsp2ZmXkL",
        "outputId": "05b99dc8-2ef7-4967-a17e-1217f602b008"
      },
      "outputs": [
        {
          "data": {
            "text/plain": [
              "array(['1월', '3월', '2월'], dtype='<U2')"
            ]
          },
          "execution_count": 184,
          "metadata": {},
          "output_type": "execute_result"
        }
      ],
      "source": [
        "x[sort_idx][::-1]"
      ]
    },
    {
      "cell_type": "markdown",
      "metadata": {
        "id": "a3jBnhpAdMVe"
      },
      "source": [
        "## 문제풀이\n",
        "---"
      ]
    },
    {
      "cell_type": "markdown",
      "metadata": {
        "id": "d9o7kBXoNlE3"
      },
      "source": [
        "**예제 01**\n",
        "\n",
        "아래 그림에 있는 산술연산을 각각 코드로 구현하세요\n",
        "\n",
        "<p align='center'>\n",
        "<img src=https://github.com/yebiny/SkillTreePython-DataAnalysis/blob/main/imgs/ch0105-03.png?raw=true width=400>\n",
        "</p>\n"
      ]
    },
    {
      "cell_type": "code",
      "execution_count": null,
      "metadata": {
        "id": "Gwir0bafNlE9",
        "outputId": "64702fc2-f5e0-4c34-c6b3-a6f28a967f62"
      },
      "outputs": [
        {
          "name": "stdout",
          "output_type": "stream",
          "text": [
            "[3 4 5]\n",
            "[-1  0  1]\n",
            "[1 0 1]\n",
            "[1 4 9]\n"
          ]
        }
      ],
      "source": [
        "a01 = np.array([1,2,3])\n",
        "print(a01 + 2)\n",
        "print(a01 - 2)\n",
        "print(a01 % 2)\n",
        "print(a01 ** 2)"
      ]
    },
    {
      "cell_type": "markdown",
      "metadata": {
        "id": "9K2SFvwvDWS0"
      },
      "source": [
        "**예제 02**\n",
        "\n",
        "\n",
        "아래는 `sum`의 용례를 그림으로 표현한 것입니다. 각 경우에 대해 코드로 구현하세요.\n",
        "\n",
        "<p align='center'>\n",
        "<img src=https://github.com/yebiny/SkillTreePython-DataAnalysis/blob/main/imgs/ch0105-04.png?raw=true width=460>\n",
        "</p>\n"
      ]
    },
    {
      "cell_type": "code",
      "execution_count": null,
      "metadata": {
        "id": "xy__ENILmXkN"
      },
      "outputs": [],
      "source": [
        "a02 = np.array([[1,2,3],[1,2,3]])"
      ]
    },
    {
      "cell_type": "code",
      "execution_count": null,
      "metadata": {
        "id": "fRmgVemQeXB5",
        "outputId": "29d525f4-4c68-4734-ae73-59670942c008"
      },
      "outputs": [
        {
          "data": {
            "text/plain": [
              "(12, array([2, 4, 6]), array([6, 6]))"
            ]
          },
          "execution_count": 40,
          "metadata": {},
          "output_type": "execute_result"
        }
      ],
      "source": [
        "a02.sum(), a02.sum(axis=0),a02.sum(axis=1)"
      ]
    },
    {
      "cell_type": "markdown",
      "metadata": {
        "id": "0keO4-KjEApG"
      },
      "source": [
        "**예제 03**\n",
        "\n",
        "위와 똑같은 방법으로 3가지 경우에 대해 `min()`을 수행하세요"
      ]
    },
    {
      "cell_type": "code",
      "execution_count": null,
      "metadata": {
        "id": "UNDxcRJxsQJn",
        "outputId": "0707fa20-45fc-4c97-daa5-0bd1413228e6"
      },
      "outputs": [
        {
          "data": {
            "text/plain": [
              "(1, array([1, 2, 3]), array([1, 1]))"
            ]
          },
          "execution_count": 43,
          "metadata": {},
          "output_type": "execute_result"
        }
      ],
      "source": [
        "a02.min(), a02.min(axis = 0), a02.min(axis = 1)"
      ]
    },
    {
      "cell_type": "markdown",
      "metadata": {
        "id": "4UCGzsZdESAT"
      },
      "source": [
        "**예제 04**\n",
        "\n",
        "위와 똑같은 방법으로 3가지 경우에 대해 `argmax()`을 수행하세요"
      ]
    },
    {
      "cell_type": "code",
      "execution_count": null,
      "metadata": {
        "id": "-wPr1XR4ESAU",
        "outputId": "26cf9152-2871-4fe5-a780-f9f6ad70ffc3"
      },
      "outputs": [
        {
          "data": {
            "text/plain": [
              "(2, array([0, 0, 0], dtype=int64), array([2, 2], dtype=int64))"
            ]
          },
          "execution_count": 46,
          "metadata": {},
          "output_type": "execute_result"
        }
      ],
      "source": [
        "a02.argmax(), a02.argmax(axis=0), a02.argmax(axis=1)"
      ]
    },
    {
      "cell_type": "markdown",
      "metadata": {
        "id": "yMPwhGuUEY1v"
      },
      "source": [
        "**예제 05**\n",
        "\n",
        "위와 똑같은 방법으로 3가지 경우에 대해 `std()`을 수행하세요"
      ]
    },
    {
      "cell_type": "code",
      "execution_count": null,
      "metadata": {
        "id": "KKmFZ_BYEY1v",
        "outputId": "64998a14-3c20-4196-e811-c96a9139652b"
      },
      "outputs": [
        {
          "data": {
            "text/plain": [
              "(0.816496580927726, array([0., 0., 0.]), array([0.81649658, 0.81649658]))"
            ]
          },
          "execution_count": 49,
          "metadata": {},
          "output_type": "execute_result"
        }
      ],
      "source": [
        "a02.std(), a02.std(axis=0), a02.std(axis=1)"
      ]
    },
    {
      "cell_type": "markdown",
      "metadata": {
        "id": "jWsyyY-4DduJ"
      },
      "source": [
        "**예제 06**\n",
        "\n",
        "아래는 `any`의 용례를 그림으로 표현한 것입니다. 각 경우에 대해 코드로 구현하고, 왜 이런 결과가 나오는지 정리하세요.\n",
        "\n",
        "\n",
        "<p align='center'>\n",
        "<img src=https://github.com/yebiny/SkillTreePython-DataAnalysis/blob/main/imgs/ch0105-05.png?raw=true width=580>\n",
        "</p>\n"
      ]
    },
    {
      "cell_type": "code",
      "execution_count": null,
      "metadata": {
        "id": "sWBmKlwmvzoN",
        "outputId": "e15c19b8-9a13-4630-e558-18f74890ebb7"
      },
      "outputs": [
        {
          "name": "stdout",
          "output_type": "stream",
          "text": [
            "True\n",
            "[False False  True]\n",
            "[ True  True]\n"
          ]
        }
      ],
      "source": [
        "print(np.any(a02>2))\n",
        "print(np.any(a02>2, axis=0))\n",
        "print(np.any(a02>2, axis=1))\n",
        "\n",
        "# any는 1개라도 맞는게 있으면 True 반환"
      ]
    },
    {
      "cell_type": "markdown",
      "metadata": {
        "id": "mwnQPVUNE1h1"
      },
      "source": [
        "**예제 07**\n",
        "\n",
        "위와 똑같은 방법으로 3가지 경우에 대해 `all()`을 수행하고, 왜 이런 결과가 나오는지 정리하세요."
      ]
    },
    {
      "cell_type": "code",
      "execution_count": null,
      "metadata": {
        "id": "VKgUxqoFE1h2",
        "outputId": "60bddc34-ff5a-4093-ed96-2a6fb3b43d59"
      },
      "outputs": [
        {
          "name": "stdout",
          "output_type": "stream",
          "text": [
            "False\n",
            "[False False  True]\n",
            "[False False]\n"
          ]
        }
      ],
      "source": [
        "print(np.all(a02>2))\n",
        "print(np.all(a02>2, axis=0))\n",
        "print(np.all(a02>2, axis=1))\n",
        "\n",
        "# all은 전부 맞아야 True 반환"
      ]
    },
    {
      "cell_type": "markdown",
      "metadata": {
        "id": "2IBubqt7Dk7s"
      },
      "source": [
        "**예제 08**\n",
        "\n",
        "\n",
        "1에서 100까지의 랜덤값을 가지고 형태가 `(40)` 인 1차원 배열을 `a08`로 바인딩하세요"
      ]
    },
    {
      "cell_type": "code",
      "execution_count": null,
      "metadata": {
        "id": "xiwGmZftDk7t",
        "outputId": "f883261f-92da-4c58-aba7-e1c22f772faa"
      },
      "outputs": [
        {
          "name": "stdout",
          "output_type": "stream",
          "text": [
            "[71 92  8 38 57 51 66 13 72 20 32 75 56 84 60 92 74 97 50 54 74  9 53 31\n",
            " 80 15 93 59 75 23  4 92 72 56 84 29 14 38 83 51 80 68 31 61 45 47 88 44\n",
            " 36 99 32 83  6 81 66  8 93 42 96 89 94 26 84 59 99 71 58 58 84 86 37 64\n",
            " 75 89  1  2 34 53 73 58 35 15 79 72 57 78 87 85 83 92 13 91 74 28  1 22\n",
            " 95 33 52 51]\n"
          ]
        }
      ],
      "source": [
        "np.random.seed(40);a08 = np.random.randint(1,100,size=100)\n",
        "print(a08)"
      ]
    },
    {
      "cell_type": "markdown",
      "metadata": {
        "id": "AV6YotDEFht1"
      },
      "source": [
        "**예제 09**\n",
        "\n",
        "`a08`에서 50보다 큰 수만 가지는 배열을 불리언 연산자를 이용해서 생성하세요."
      ]
    },
    {
      "cell_type": "code",
      "execution_count": null,
      "metadata": {
        "id": "QfmEyuClFht1",
        "outputId": "db6e68a4-308b-4dc2-b376-e70582115553"
      },
      "outputs": [
        {
          "data": {
            "text/plain": [
              "array([71, 92, 57, 51, 66, 72, 75, 56, 84, 60, 92, 74, 97, 54, 74, 53, 80,\n",
              "       93, 59, 75, 92, 72, 56, 84, 83, 51, 80, 68, 61, 88, 99, 83, 81, 66,\n",
              "       93, 96, 89, 94, 84, 59, 99, 71, 58, 58, 84, 86, 64, 75, 89, 53, 73,\n",
              "       58, 79, 72, 57, 78, 87, 85, 83, 92, 91, 74, 95, 52, 51])"
            ]
          },
          "execution_count": 110,
          "metadata": {},
          "output_type": "execute_result"
        }
      ],
      "source": [
        "mask = a08>50\n",
        "a09 = a08[mask]\n",
        "a09"
      ]
    },
    {
      "cell_type": "markdown",
      "metadata": {
        "id": "15JxLUfIFvhb"
      },
      "source": [
        "**예제 10**\n",
        "\n",
        "`a08`에서 50 이하이며 3의 배수만 가지는 배열을 불리언 연산자를 이용해 생성하세요"
      ]
    },
    {
      "cell_type": "code",
      "execution_count": null,
      "metadata": {
        "id": "dohpkasaFvhc",
        "outputId": "85439302-2daf-4b1b-aad8-4d092f472b2d"
      },
      "outputs": [
        {
          "data": {
            "text/plain": [
              "array([ 8, 38, 13, 20, 32,  9, 31, 15, 23,  4, 29, 14, 38, 31, 45, 47, 44,\n",
              "       36, 32,  6,  8, 42, 26, 37,  1,  2, 34, 35, 15, 13, 28,  1, 22, 33])"
            ]
          },
          "execution_count": 103,
          "metadata": {},
          "output_type": "execute_result"
        }
      ],
      "source": [
        "mask = a08<50\n",
        "a10 = a08[mask]\n",
        "a10"
      ]
    },
    {
      "cell_type": "markdown",
      "metadata": {
        "id": "cfPWmy9QGPon"
      },
      "source": [
        "**예제 11**\n",
        "\n",
        "`a08`에서 90이상이거나 10이하인 수만 가지는 배열을 불리언 연산자를 이용해 생성하세요"
      ]
    },
    {
      "cell_type": "code",
      "execution_count": null,
      "metadata": {
        "id": "BV55x0xiGPoo",
        "outputId": "a5047429-6067-4527-dac8-6348b88c5a7c"
      },
      "outputs": [
        {
          "data": {
            "text/plain": [
              "array([92,  8, 92, 97,  9, 93,  4, 92, 99,  6,  8, 93, 96, 94, 99,  1,  2,\n",
              "       92, 91,  1, 95])"
            ]
          },
          "execution_count": 114,
          "metadata": {},
          "output_type": "execute_result"
        }
      ],
      "source": [
        "mask = (a08>=90) | (a08<=10)\n",
        "a11 = a08[mask]\n",
        "a11\n",
        "\n",
        "# or 을 사용하니 에러 발생. |를 사용."
      ]
    },
    {
      "cell_type": "markdown",
      "metadata": {
        "id": "K0xYrJgYGbDf"
      },
      "source": [
        "**예제 12**\n",
        "\n",
        "\n",
        "`a08`을 shape가 `(8,5)`인 2차원 배열로 변환하고 `a12`로 바인딩 하세요."
      ]
    },
    {
      "cell_type": "code",
      "execution_count": null,
      "metadata": {
        "id": "ITvXZBHaGbDf",
        "outputId": "3cf0915b-a14b-45e7-9656-3317fa5a9979"
      },
      "outputs": [
        {
          "data": {
            "text/plain": [
              "array([[71, 92,  8, 38, 57],\n",
              "       [51, 66, 13, 72, 20],\n",
              "       [32, 75, 56, 84, 60],\n",
              "       [92, 74, 97, 50, 54],\n",
              "       [74,  9, 53, 31, 80],\n",
              "       [15, 93, 59, 75, 23],\n",
              "       [ 4, 92, 72, 56, 84],\n",
              "       [29, 14, 38, 83, 51]])"
            ]
          },
          "execution_count": 118,
          "metadata": {},
          "output_type": "execute_result"
        }
      ],
      "source": [
        "a12 = np.resize(a08,(8,5))\n",
        "a12"
      ]
    },
    {
      "cell_type": "markdown",
      "metadata": {
        "id": "1tuYynxRGoiU"
      },
      "source": [
        "**예제 13**\n",
        "\n",
        "\n",
        "`a12`를 복사하여 `a13`으로 바인딩하고 이를 각 행 별로 정렬하세요"
      ]
    },
    {
      "cell_type": "code",
      "execution_count": null,
      "metadata": {
        "id": "v33_n2dtGoiV",
        "outputId": "d49482b0-e3df-46e2-8dd9-70115f3bfceb"
      },
      "outputs": [
        {
          "data": {
            "text/plain": [
              "array([[ 4,  9,  8, 31, 20],\n",
              "       [15, 14, 13, 38, 23],\n",
              "       [29, 66, 38, 50, 51],\n",
              "       [32, 74, 53, 56, 54],\n",
              "       [51, 75, 56, 72, 57],\n",
              "       [71, 92, 59, 75, 60],\n",
              "       [74, 92, 72, 83, 80],\n",
              "       [92, 93, 97, 84, 84]])"
            ]
          },
          "execution_count": 120,
          "metadata": {},
          "output_type": "execute_result"
        }
      ],
      "source": [
        "a13 = a12.copy()\n",
        "np.sort(a13, axis = 0)"
      ]
    },
    {
      "cell_type": "markdown",
      "metadata": {
        "id": "3U84dpF0GtvC"
      },
      "source": [
        "**예제 14**\n",
        "\n",
        "\n",
        "`a12`를 복사하여 `a14`로 바인딩하고 각 열 별로 가장 작은수 3개를 찾으세요"
      ]
    },
    {
      "cell_type": "code",
      "execution_count": null,
      "metadata": {
        "id": "IFBK4giEGtvC",
        "outputId": "222b5a30-bccf-42b6-9079-c44088a881c5"
      },
      "outputs": [
        {
          "data": {
            "text/plain": [
              "array([[ 8, 38, 57],\n",
              "       [13, 20, 51],\n",
              "       [32, 56, 60],\n",
              "       [50, 54, 74],\n",
              "       [ 9, 31, 53],\n",
              "       [15, 23, 59],\n",
              "       [ 4, 56, 72],\n",
              "       [14, 29, 38]])"
            ]
          },
          "execution_count": 124,
          "metadata": {},
          "output_type": "execute_result"
        }
      ],
      "source": [
        "a14 = a12.copy()\n",
        "a14.sort(axis=1)\n",
        "a14_find, temp = np.split(a14, [3], axis = 1)\n",
        "a14_find"
      ]
    },
    {
      "cell_type": "code",
      "execution_count": null,
      "metadata": {
        "id": "3lPEULZKmXkU",
        "outputId": "8b78f2d7-1c77-4c3f-9648-b84dea066e91"
      },
      "outputs": [
        {
          "data": {
            "text/plain": [
              "array([[ 8, 38, 57],\n",
              "       [13, 20, 51],\n",
              "       [32, 56, 60],\n",
              "       [50, 54, 74],\n",
              "       [ 9, 31, 53],\n",
              "       [15, 23, 59],\n",
              "       [ 4, 56, 72],\n",
              "       [14, 29, 38]])"
            ]
          },
          "execution_count": 176,
          "metadata": {},
          "output_type": "execute_result"
        }
      ],
      "source": [
        "a14_temp = np.partition(a14,0)[:,:3]\n",
        "a14_temp"
      ]
    },
    {
      "cell_type": "markdown",
      "metadata": {
        "id": "tEodss9KIfy_"
      },
      "source": [
        "$A$, $B$, $C$를 아래와 같이 정의하세요.\n",
        "\n",
        "\\begin{align*}\n",
        " A&= \n",
        "\\begin{pmatrix}\n",
        "1 &2  &1 \\\\ \n",
        "2 &1 & 1\\\\ \n",
        "-1 & 0 & 1\n",
        "\\end{pmatrix}\n",
        "\\end{align*}\n",
        "\n",
        "\\begin{align*}\n",
        " B&= \n",
        "\\begin{pmatrix}\n",
        "1 &0 \\\\ \n",
        "0 &1 \\\\ \n",
        "1 & 0 \n",
        "\\end{pmatrix}\n",
        "\\end{align*}\n",
        "\n",
        "\\begin{align*}\n",
        " C&= \n",
        "\\begin{pmatrix}\n",
        "1 \\\\ \n",
        "0  \\\\ \n",
        "-1  \n",
        "\\end{pmatrix}\n",
        "\\end{align*}\n",
        "\n"
      ]
    },
    {
      "cell_type": "code",
      "execution_count": null,
      "metadata": {
        "id": "lfugPiWZoN60",
        "outputId": "d15c4f4f-57e0-4e79-8c04-4dbe3bb54075"
      },
      "outputs": [
        {
          "data": {
            "text/plain": [
              "(array([[ 1,  2,  1],\n",
              "        [ 2,  1,  1],\n",
              "        [-1,  0,  1]]),\n",
              " array([[1, 0],\n",
              "        [0, 1],\n",
              "        [1, 0]]),\n",
              " array([[ 1],\n",
              "        [ 0],\n",
              "        [-1]]))"
            ]
          },
          "execution_count": 125,
          "metadata": {},
          "output_type": "execute_result"
        }
      ],
      "source": [
        "A = np.array([[1,2,1],[2,1,1],[-1,0,1]])\n",
        "B = np.array([[1,0],[0,1],[1,0]])\n",
        "C = np.array([[1],[0],[-1]])\n",
        "\n",
        "A,B,C"
      ]
    },
    {
      "cell_type": "markdown",
      "metadata": {
        "id": "uLmADn5RJpM-"
      },
      "source": [
        "**예제 15**\n",
        "\n",
        "\n",
        "$A$, $B$ 의 행렬곱"
      ]
    },
    {
      "cell_type": "code",
      "execution_count": null,
      "metadata": {
        "id": "6y-Dpcf1JpNI",
        "outputId": "cf695be1-2ecd-4125-f652-a1643a2048cb"
      },
      "outputs": [
        {
          "data": {
            "text/plain": [
              "array([[2, 2],\n",
              "       [3, 1],\n",
              "       [0, 0]])"
            ]
          },
          "execution_count": 157,
          "metadata": {},
          "output_type": "execute_result"
        }
      ],
      "source": [
        "A @ B"
      ]
    },
    {
      "cell_type": "markdown",
      "metadata": {
        "id": "OeS66T5ZJ4He"
      },
      "source": [
        "**예제 16**\n",
        "\n",
        "\n",
        "$A$, $C$ 의 행렬곱"
      ]
    },
    {
      "cell_type": "code",
      "execution_count": null,
      "metadata": {
        "id": "S_sKPQnNJ4Hf",
        "outputId": "11baf05b-898e-4699-bf1a-44e11ce06b73"
      },
      "outputs": [
        {
          "data": {
            "text/plain": [
              "array([[ 0],\n",
              "       [ 1],\n",
              "       [-2]])"
            ]
          },
          "execution_count": 158,
          "metadata": {},
          "output_type": "execute_result"
        }
      ],
      "source": [
        "A @ C"
      ]
    },
    {
      "cell_type": "markdown",
      "metadata": {
        "id": "QAJw9V1JKSk5"
      },
      "source": [
        "**예제 17**\n",
        "\n",
        "\n",
        "$A * C$"
      ]
    },
    {
      "cell_type": "code",
      "execution_count": null,
      "metadata": {
        "id": "PvIutUcLKSk6",
        "outputId": "9fa26289-3ac1-4b9e-fd4e-886a4ad7b2e9"
      },
      "outputs": [
        {
          "data": {
            "text/plain": [
              "array([[ 1,  2,  1],\n",
              "       [ 0,  0,  0],\n",
              "       [ 1,  0, -1]])"
            ]
          },
          "execution_count": 159,
          "metadata": {},
          "output_type": "execute_result"
        }
      ],
      "source": [
        "A * C"
      ]
    },
    {
      "cell_type": "markdown",
      "metadata": {
        "id": "OVD8v-qCJ-rv"
      },
      "source": [
        "**예제 18**\n",
        "\n",
        "\n",
        "$B$와 $B^T$의 내적"
      ]
    },
    {
      "cell_type": "code",
      "execution_count": null,
      "metadata": {
        "id": "9trfMVWJJ-rv",
        "outputId": "2bdec913-b1c2-4c64-da6b-c00c731ef5d4"
      },
      "outputs": [
        {
          "data": {
            "text/plain": [
              "array([[1, 0, 1],\n",
              "       [0, 1, 0],\n",
              "       [1, 0, 1]])"
            ]
          },
          "execution_count": 161,
          "metadata": {},
          "output_type": "execute_result"
        }
      ],
      "source": [
        "np.dot(B,B.T)"
      ]
    },
    {
      "cell_type": "markdown",
      "metadata": {
        "id": "iMnix5w9psKz"
      },
      "source": [
        "\n",
        "20명의 학생의 번호와, 키와, 수행평가 점수가 아래와 같이 정의 되어 있습니다. \n",
        "\n",
        "```\n",
        "idx = [1,2,3,4,5,6,7,8,9,10,11,12,13,14,15,16,17,18,19,20]\n",
        "tall = [178, 171, 179, 173, 152, 157, 175, 180, 182, 165, 160, 164, 174, 163, 158, 159, 172, 155, 177, 162]\n",
        "score = [57, 64, 85, 30, 58, 72, 84, 63, 49, 94, 70, 54, 60, 68, 74, 78, 92, 86, 51, 37]\n",
        "```\n"
      ]
    },
    {
      "cell_type": "code",
      "execution_count": null,
      "metadata": {
        "id": "D0i699xups-x"
      },
      "outputs": [],
      "source": [
        "idx = np.array([1,2,3,4,5,6,7,8,9,10,11,12,13,14,15,16,17,18,19,20])\n",
        "tall = np.array([178, 171, 179, 173, 152, 157, 175, 180, 182, 165, 160, 164, 174, 163, 158, 159, 172, 155, 177, 162])\n",
        "score = np.array([57, 64, 85, 30, 58, 72, 84, 63, 49, 94, 70, 54, 60, 68, 74, 78, 92, 86, 51, 37])"
      ]
    },
    {
      "cell_type": "markdown",
      "metadata": {
        "id": "c5tYq2nKol3P"
      },
      "source": [
        "**예제 19**\n",
        "\n",
        "키가 큰 순으로 학생들의 번호(idx)를 정렬하세요.\n",
        "\n"
      ]
    },
    {
      "cell_type": "code",
      "execution_count": null,
      "metadata": {
        "id": "9kJ5nVO0ol3W",
        "outputId": "2839f8f9-76c6-41e8-b854-0624c585f657"
      },
      "outputs": [
        {
          "name": "stdout",
          "output_type": "stream",
          "text": [
            "[ 9  8  3  1 19  7 13  4 17  2 10 12 14 20 11 16 15  6 18  5]\n"
          ]
        }
      ],
      "source": [
        "temp_tall = np.argsort(tall)\n",
        "print(idx[temp_tall])\n",
        "# np.sort([temp_tall], axis = 0)"
      ]
    },
    {
      "cell_type": "markdown",
      "metadata": {
        "id": "zUs8t2AipxEp"
      },
      "source": [
        "**예제 20**\n",
        "\n",
        "수행평가 점수가 낮은 순으로 학생들의 번호(idx)를 정렬하세요.\n"
      ]
    },
    {
      "cell_type": "code",
      "execution_count": null,
      "metadata": {
        "id": "9Kl8UyflpxEq",
        "outputId": "04cb88c6-b004-4827-ab9c-a67cea7803cb"
      },
      "outputs": [
        {
          "name": "stdout",
          "output_type": "stream",
          "text": [
            "[ 4 20  9 19 12  1  5 13  8  2 14 11  6 15 16  7  3 18 17 10]\n"
          ]
        }
      ],
      "source": [
        "temp_score = np.argsort(score)\n",
        "print(idx[temp_score])"
      ]
    },
    {
      "cell_type": "code",
      "execution_count": null,
      "metadata": {
        "id": "pkRyDmefmXkZ"
      },
      "outputs": [],
      "source": [
        ""
      ]
    }
  ],
  "metadata": {
    "colab": {
      "collapsed_sections": [],
      "name": "05_NumPy-배열의연산.ipynb",
      "provenance": [],
      "include_colab_link": true
    },
    "kernelspec": {
      "display_name": "Python 3 (ipykernel)",
      "language": "python",
      "name": "python3"
    },
    "language_info": {
      "codemirror_mode": {
        "name": "ipython",
        "version": 3
      },
      "file_extension": ".py",
      "mimetype": "text/x-python",
      "name": "python",
      "nbconvert_exporter": "python",
      "pygments_lexer": "ipython3",
      "version": "3.9.7"
    }
  },
  "nbformat": 4,
  "nbformat_minor": 0
}