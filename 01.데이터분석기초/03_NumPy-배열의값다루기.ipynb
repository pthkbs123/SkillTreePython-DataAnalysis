{
  "nbformat": 4,
  "nbformat_minor": 0,
  "metadata": {
    "colab": {
      "name": "03_NumPy-배열의값다루기.ipynb",
      "provenance": [],
      "collapsed_sections": [],
      "include_colab_link": true
    },
    "kernelspec": {
      "name": "python3",
      "display_name": "Python 3"
    },
    "language_info": {
      "name": "python"
    }
  },
  "cells": [
    {
      "cell_type": "markdown",
      "metadata": {
        "id": "view-in-github",
        "colab_type": "text"
      },
      "source": [
        "<a href=\"https://colab.research.google.com/github/pthkbs123/SkillTreePython-DataAnalysis/blob/main/01.%EB%8D%B0%EC%9D%B4%ED%84%B0%EB%B6%84%EC%84%9D%EA%B8%B0%EC%B4%88/03_NumPy-%EB%B0%B0%EC%97%B4%EC%9D%98%EA%B0%92%EB%8B%A4%EB%A3%A8%EA%B8%B0.ipynb\" target=\"_parent\"><img src=\"https://colab.research.google.com/assets/colab-badge.svg\" alt=\"Open In Colab\"/></a>"
      ]
    },
    {
      "cell_type": "markdown",
      "metadata": {
        "id": "jgFAOz-Tw1VI"
      },
      "source": [
        "# CH03. Numpy  - 배열의 값 다루기\n",
        "\n",
        "---\n",
        "* 날짜: 2022-04-11\n",
        "* 이름: 박태현\n"
      ]
    },
    {
      "cell_type": "markdown",
      "source": [
        "## 개념정리\n",
        "\n",
        "앞서 우리는 배열을 생성하는 다양한 방법을 배웠습니다. 이번시간에 이렇게 생성한 배열의 값을 조회(인덱싱, 슬리아싱) 하고 값을 변경(수정, 삭제) 하는 방법에 대해 알아보도록 합니다. \n",
        "\n",
        "\n",
        "```\n",
        "import numpy as np\n",
        "```\n",
        "\n",
        "\n"
      ],
      "metadata": {
        "id": "_3uSBF40BdCd"
      }
    },
    {
      "cell_type": "code",
      "source": [
        "import numpy as np"
      ],
      "metadata": {
        "id": "3IDspyuAtqd7"
      },
      "execution_count": 1,
      "outputs": []
    },
    {
      "cell_type": "markdown",
      "metadata": {
        "id": "HjPXsM8C5ULZ"
      },
      "source": [
        "---\n",
        "### **(1) 배열 조회**\n",
        "---\n",
        "\n",
        "기본적인 배열의 정보를 아래 메서드를 이용해 확인할 수 있습니다. \n",
        "\n",
        "\n",
        "* `.ndim`: 차원의 수\n",
        "* `.shape`: 형태\n",
        "* `.dtype`: element 타입\n",
        "* `.size`: element 총 개수\n",
        "* `.itemsize`: 메모리 사이즈 (byte)\n",
        "* `.nbytes`: `size`*`itemsize`\n",
        "\n",
        "```\n",
        "a = np.arange(10)\n",
        "print(a)\n",
        "print(a.ndim) # 차원의 수\n",
        "print(a.shape) # 형태\n",
        "print(a.dtype) # element 타입\n",
        "print(a.size) # element 총 개수\n",
        "print(a.itemsize) # 메모리 사이즈\n",
        "print(a.nbytes) # 메모리 사이즈 * element 총 개수\n",
        "```"
      ]
    },
    {
      "cell_type": "code",
      "source": [
        "a = np.arange(10, dtype = 'float32')\n",
        "print(a)\n",
        "print(a.ndim) # 차원의 수\n",
        "print(a.shape) # 형태\n",
        "print(a.dtype) # element 타입\n",
        "print(a.size) # element 총 개수\n",
        "print(a.itemsize) # 메모리 사이즈\n",
        "print(a.nbytes) # 메모리 사이즈 * element 총 개수"
      ],
      "metadata": {
        "id": "_dSqxyxUk44g",
        "colab": {
          "base_uri": "https://localhost:8080/"
        },
        "outputId": "789b40a6-cc7a-4e02-c4ee-e2636adffebd"
      },
      "execution_count": 6,
      "outputs": [
        {
          "output_type": "stream",
          "name": "stdout",
          "text": [
            "[0. 1. 2. 3. 4. 5. 6. 7. 8. 9.]\n",
            "1\n",
            "(10,)\n",
            "float32\n",
            "10\n",
            "4\n",
            "40\n"
          ]
        }
      ]
    },
    {
      "cell_type": "markdown",
      "source": [
        "#### **| 인덱싱**\n",
        "\n",
        "배열의 인덱싱은 기본적으로 파이썬 리스트와 동일합니다. 다만 넘파이 배열에서는 차원에 대한 인덱싱을 콤마(,)를 이용합니다.\n",
        "\n",
        "아래와 같이 리스트 `l`과 배열 `a`가 주어 졌을 때 데이터 `2`를 출력해 봅시다.\n",
        "\n",
        "배열을 사용할 땐 보통 `a[0,1]` 과 같이 각 차원에 대해 콤마(`,`)로 구분합니다. \n",
        "\n",
        "```\n",
        "l = [[1,2,3],[4,5,6]]\n",
        "a = np.array(l)\n",
        "print(a)\n",
        "\n",
        "l[0][1], a[0][1], a[0,1]\n",
        "```"
      ],
      "metadata": {
        "id": "NQ_GbYiXLN2i"
      }
    },
    {
      "cell_type": "code",
      "source": [
        "l = [[1,2,3],[4,5,6]]\n",
        "a = np.array(l)\n",
        "print(a)\n",
        "\n",
        "l[0][1], a[0][1], a[0,1] # 2를 추출하는 방법. a[0,1]의 방법을 더 많이 사용한다."
      ],
      "metadata": {
        "id": "XzFGRGdoj7jD",
        "colab": {
          "base_uri": "https://localhost:8080/"
        },
        "outputId": "cc4e5e91-c189-4cb2-bcbc-4c7b86045301"
      },
      "execution_count": 7,
      "outputs": [
        {
          "output_type": "stream",
          "name": "stdout",
          "text": [
            "[[1 2 3]\n",
            " [4 5 6]]\n"
          ]
        },
        {
          "output_type": "execute_result",
          "data": {
            "text/plain": [
              "(2, 2, 2)"
            ]
          },
          "metadata": {},
          "execution_count": 7
        }
      ]
    },
    {
      "cell_type": "markdown",
      "source": [
        "#### **| 슬라이싱**\n",
        "\n",
        "슬라이싱 또한 기본적으로 파이썬 리스트와 동일하며 다른점은 콤마(,)를 이용한다는 것입니다. \n",
        "\n",
        "우선 슬라이싱을 이용해 리스트 `l`에서 리스트 `[[1,2],[4,5]]`을 출력해 봅시다.\n",
        "\n",
        "```\n",
        "?\n",
        "```\n",
        "\n"
      ],
      "metadata": {
        "id": "hoFFULJRj8mU"
      }
    },
    {
      "cell_type": "code",
      "source": [
        "l[0][0:2], l[1][0:2]"
      ],
      "metadata": {
        "id": "dYLhCvEqj8mV",
        "colab": {
          "base_uri": "https://localhost:8080/"
        },
        "outputId": "2ce0197b-51a4-4eb6-ed42-f5454e9aaad2"
      },
      "execution_count": 9,
      "outputs": [
        {
          "output_type": "execute_result",
          "data": {
            "text/plain": [
              "([1, 2], [4, 5])"
            ]
          },
          "metadata": {},
          "execution_count": 9
        }
      ]
    },
    {
      "cell_type": "code",
      "source": [
        "a[  : , : 2 ]"
      ],
      "metadata": {
        "id": "S64FExzsoBBg",
        "colab": {
          "base_uri": "https://localhost:8080/"
        },
        "outputId": "e941f4d5-0442-4e8b-d51c-ddb21064253a"
      },
      "execution_count": 19,
      "outputs": [
        {
          "output_type": "execute_result",
          "data": {
            "text/plain": [
              "array([[1, 2],\n",
              "       [4, 5]])"
            ]
          },
          "metadata": {},
          "execution_count": 19
        }
      ]
    },
    {
      "cell_type": "markdown",
      "source": [
        "이처럼 리스트에서는 제한적인 슬라이싱을 넘파이 배열을 통해서는 자유롭게 슬라이싱이 가능합니다. "
      ],
      "metadata": {
        "id": "BJPqOH9FooVQ"
      }
    },
    {
      "cell_type": "markdown",
      "source": [
        "#### **| 연습문제**\n",
        "\n",
        "연습을 위해 아래 그림과 같은 2차원 배열을 생성하고 `a2`로 바인딩 하세요.\n",
        "\n",
        "<p align='center'>\n",
        "<img src=https://github.com/yebiny/SkillTreePython-DataAnalysis/blob/main/imgs/ch0103-01.png?raw=true width=240>\n",
        "</p>\n",
        "\n",
        "```\n",
        "a2 = np.arange(1, 26).reshape(5,5)\n",
        "```"
      ],
      "metadata": {
        "id": "hzWZ5G7mo2PR"
      }
    },
    {
      "cell_type": "code",
      "source": [
        "a2 = np.arange(1, 26).reshape(5,5)\n",
        "a2"
      ],
      "metadata": {
        "id": "peNsBPQcrggt",
        "colab": {
          "base_uri": "https://localhost:8080/"
        },
        "outputId": "61898ee8-b230-4229-eb61-5b861a4dc2d4"
      },
      "execution_count": 25,
      "outputs": [
        {
          "output_type": "execute_result",
          "data": {
            "text/plain": [
              "array([[ 1,  2,  3,  4,  5],\n",
              "       [ 6,  7,  8,  9, 10],\n",
              "       [11, 12, 13, 14, 15],\n",
              "       [16, 17, 18, 19, 20],\n",
              "       [21, 22, 23, 24, 25]])"
            ]
          },
          "metadata": {},
          "execution_count": 25
        }
      ]
    },
    {
      "cell_type": "markdown",
      "source": [
        "**연습 01**\n",
        "\n",
        "인덱싱을 이용해 `a2`의 4, 13, 25를 각각 출력하세요. \n"
      ],
      "metadata": {
        "id": "ey_R7ZgXnHdp"
      }
    },
    {
      "cell_type": "code",
      "source": [
        "a2[0, 3], a2[2, 2], a2[4,4] # a2[4,4] == a2[-1,-1]"
      ],
      "metadata": {
        "id": "XUKKRTSJAsMa",
        "colab": {
          "base_uri": "https://localhost:8080/"
        },
        "outputId": "51287514-7186-442b-abfc-96bf70cb0814"
      },
      "execution_count": 41,
      "outputs": [
        {
          "output_type": "execute_result",
          "data": {
            "text/plain": [
              "(4, 13, 25)"
            ]
          },
          "metadata": {},
          "execution_count": 41
        }
      ]
    },
    {
      "cell_type": "markdown",
      "source": [
        "**연습 02**\n",
        "\n",
        "슬라이싱을 이용해 파란색 값으로 이루어진 배열을 출력하세요.\n",
        "\n",
        "<p align='center'>\n",
        "<img src=https://github.com/yebiny/SkillTreePython-DataAnalysis/blob/main/imgs/ch0103-02.png?raw=true width=240>\n",
        "</p>\n"
      ],
      "metadata": {
        "id": "osSECfAyqBln"
      }
    },
    {
      "cell_type": "code",
      "source": [
        "a2[ 1: , 1 ]"
      ],
      "metadata": {
        "id": "4f6g4MUhqBlu",
        "colab": {
          "base_uri": "https://localhost:8080/"
        },
        "outputId": "5c3fb242-76e1-4647-a25e-69459dce90d1"
      },
      "execution_count": 35,
      "outputs": [
        {
          "output_type": "execute_result",
          "data": {
            "text/plain": [
              "array([ 7, 12, 17, 22])"
            ]
          },
          "metadata": {},
          "execution_count": 35
        }
      ]
    },
    {
      "cell_type": "markdown",
      "source": [
        "**연습 03**\n",
        "\n",
        "슬라이싱을 이용해 파란색 값으로 이루어진 배열을 출력하세요.\n",
        "\n",
        "<p align='center'>\n",
        "<img src=https://github.com/yebiny/SkillTreePython-DataAnalysis/blob/main/imgs/ch0103-03.png?raw=true width=240>\n",
        "</p>\n"
      ],
      "metadata": {
        "id": "5frFtw8dqJth"
      }
    },
    {
      "cell_type": "code",
      "source": [
        "a2[ 1:4 , 1:4 ]"
      ],
      "metadata": {
        "id": "VrPumy5wqJth",
        "colab": {
          "base_uri": "https://localhost:8080/"
        },
        "outputId": "6e50b10b-f3fc-4e50-815b-841ee8a9032a"
      },
      "execution_count": 42,
      "outputs": [
        {
          "output_type": "execute_result",
          "data": {
            "text/plain": [
              "array([[ 7,  8,  9],\n",
              "       [12, 13, 14],\n",
              "       [17, 18, 19]])"
            ]
          },
          "metadata": {},
          "execution_count": 42
        }
      ]
    },
    {
      "cell_type": "markdown",
      "source": [
        "---\n",
        "### **(2) 다양한 인덱싱**\n",
        "---\n"
      ],
      "metadata": {
        "id": "CrNPIU4P7gb4"
      }
    },
    {
      "cell_type": "markdown",
      "source": [
        "#### **| 팬시 인덱싱(Fancy indexing)**\n",
        "\n",
        "아래그림과 같이 `a2`의 대각선 값인 `[1,7,13,19,25]`만 슬라이싱 하려면 어떻게 할까요? 이 경우 인덱스가 이어져 있지 않기 때문에 위에서 배운 방법만으로는 어렵습니다. \n",
        "\n",
        "<p align='center'>\n",
        "<img src=https://github.com/yebiny/SkillTreePython-DataAnalysis/blob/main/imgs/ch0103-04.png?raw=true width=240>\n",
        "</p>\n",
        "\n",
        "\n",
        "이럴 때 유용하게 사용할 수 있는게 팬시 인덱싱 입니다. 팬시 인덱싱은 배열 값의 선택 여부를 인덱스로 지정합니다. \n",
        "\n",
        "\n",
        "```\n",
        "a2[(0,1,2,3,4),(0,1,2,3,4)]\n",
        "```\n",
        "위 코드는 행, 열로 바꿔 생각하면 `(0,0)`, `(1,1)`, `(2,2)`, `(3,3)`, `(4,4)` 위치에 있는 값들을 인덱싱 한것과 동일합니다. \n"
      ],
      "metadata": {
        "id": "2DTdJiChrkHg"
      }
    },
    {
      "cell_type": "code",
      "source": [
        "a2[(0,1,2,3,4),(0,1,2,3,4)]"
      ],
      "metadata": {
        "id": "R6XxUzsPrkHh",
        "colab": {
          "base_uri": "https://localhost:8080/"
        },
        "outputId": "78d40b87-1012-4c2b-c1ec-4781e40d517d"
      },
      "execution_count": 43,
      "outputs": [
        {
          "output_type": "execute_result",
          "data": {
            "text/plain": [
              "array([ 1,  7, 13, 19, 25])"
            ]
          },
          "metadata": {},
          "execution_count": 43
        }
      ]
    },
    {
      "cell_type": "markdown",
      "source": [
        "#### **| 불리언 인덱싱(Fancy indexing)**\n",
        "\n",
        "불리언 인덱싱은 배열 값의 선택 여부를 불리언(boolian) 을 이용해 지정합니다. 불리언 인덱싱을 사용하기 위해서는 인덱스 할 배열과 똑같은 크기에 `True`혹은 `False` 값만 들어있는 배열이 필요합니다. \n",
        "\n",
        "따라서 위에서 처럼 대각값을 슬라이싱 하기 위해서는 아래와 같은 작업이 필요합니다. \n",
        "\n",
        "```\n",
        "mask  = np.array([[True, False, False, False, False,],\n",
        "                [False, True, False, False, False,],\n",
        "                [False, False, True, False, False,],\n",
        "                [False, False, False, True, False,],\n",
        "                [False, False, False, False, True,]])\n",
        "\n",
        "mask  = np.array([[1,0,0,0,0],\n",
        "                 [0,1,0,0,0],\n",
        "                 [0,0,1,0,0],\n",
        "                 [0,0,0,1,0],\n",
        "                 [0,0,0,0,1]], dtype=bool)\n",
        "print(mask)\n",
        "\n",
        "a2[mask]\n",
        "```\n"
      ],
      "metadata": {
        "id": "fl73JgeJrrwQ"
      }
    },
    {
      "cell_type": "code",
      "source": [
        "mask  = np.array([[True, False, False, False, False,],\n",
        "                [False, True, False, False, False,],\n",
        "                [False, False, True, False, False,],\n",
        "                [False, False, False, True, False,],\n",
        "                [False, False, False, False, True,]])\n",
        "\n",
        "mask  = np.array([[1,0,0,0,0],\n",
        "                 [0,1,0,0,0],\n",
        "                 [0,0,1,0,0],\n",
        "                 [0,0,0,1,0],\n",
        "                 [0,0,0,0,1]], dtype=bool)\n",
        "print(mask)\n",
        "\n",
        "a2[mask]"
      ],
      "metadata": {
        "id": "nfRZ8261rrwR",
        "colab": {
          "base_uri": "https://localhost:8080/"
        },
        "outputId": "0b73d5f0-a186-4bb6-a39a-18e144fd4c31"
      },
      "execution_count": 46,
      "outputs": [
        {
          "output_type": "stream",
          "name": "stdout",
          "text": [
            "[[ True False False False False]\n",
            " [False  True False False False]\n",
            " [False False  True False False]\n",
            " [False False False  True False]\n",
            " [False False False False  True]]\n"
          ]
        },
        {
          "output_type": "execute_result",
          "data": {
            "text/plain": [
              "array([ 1,  7, 13, 19, 25])"
            ]
          },
          "metadata": {},
          "execution_count": 46
        }
      ]
    },
    {
      "cell_type": "markdown",
      "source": [
        "불리언 인덱싱이 불필요해 보이지만 유용하게 사용될 때가 있습니다. 아직 연산에 대해 배우지 않았지만 예시를 들어보겠습니다. \n",
        "\n",
        "`a2`에서 `15`보다 큰값만 슬라이싱 하려 합니다. 이 때 불리언 인덱싱을 이용해 `mask`를 다음과 같이 정의할 수 있습니다. \n",
        "\n",
        "```\n",
        "mask = a2>15\n",
        "print(mask)\n",
        "a2[mask]\n",
        "```"
      ],
      "metadata": {
        "id": "yDnEg3ZHtHEO"
      }
    },
    {
      "cell_type": "code",
      "source": [
        "mask = a2>15\n",
        "print(mask)\n",
        "a2[mask]"
      ],
      "metadata": {
        "id": "Pd6HybTdtlsO",
        "colab": {
          "base_uri": "https://localhost:8080/"
        },
        "outputId": "dde9d34c-d2e4-4a80-9958-7298ce73d42e"
      },
      "execution_count": 45,
      "outputs": [
        {
          "output_type": "stream",
          "name": "stdout",
          "text": [
            "[[False False False False False]\n",
            " [False False False False False]\n",
            " [False False False False False]\n",
            " [ True  True  True  True  True]\n",
            " [ True  True  True  True  True]]\n"
          ]
        },
        {
          "output_type": "execute_result",
          "data": {
            "text/plain": [
              "array([16, 17, 18, 19, 20, 21, 22, 23, 24, 25])"
            ]
          },
          "metadata": {},
          "execution_count": 45
        }
      ]
    },
    {
      "cell_type": "markdown",
      "source": [
        "#### **| 연습문제**\n",
        "\n",
        "**연습 04**\n",
        "\n",
        "아래 그림에서 색깔별로 해당하는 값들을 인덱싱 하여 각각 새로운 배열로 만드세요.\n",
        "\n",
        "\n",
        "<p align='center'>\n",
        "<img src=https://github.com/yebiny/SkillTreePython-DataAnalysis/blob/main/imgs/ch0103-05.png?raw=true width=240>\n",
        "</p>\n",
        "\n"
      ],
      "metadata": {
        "id": "3OohVJBBt5XQ"
      }
    },
    {
      "cell_type": "code",
      "source": [
        "mask1 = np.array([[1,0,0,0,0],\n",
        "                 [0,0,0,0,0],\n",
        "                 [0,1,0,0,0],\n",
        "                 [0,0,0,1,0],\n",
        "                 [0,0,0,0,0]], dtype=bool)\n",
        "mask1_ans = a2[mask1]\n",
        "\n",
        "mask2 = np.array([[0,0,1,0,1],\n",
        "                 [0,0,1,0,1],\n",
        "                 [0,0,1,0,1],\n",
        "                 [0,0,0,0,0],\n",
        "                 [0,0,0,0,0]], dtype=bool)\n",
        "mask2_ans = a2[mask2]\n",
        "\n",
        "mask3 = np.array([[0,0,0,0,0],\n",
        "                 [0,0,0,0,0],\n",
        "                 [0,0,0,0,0],\n",
        "                 [0,0,0,0,0],\n",
        "                 [1,1,1,1,1]], dtype=bool)\n",
        "mask3_ans = a2[mask3]\n",
        "\n",
        "print(mask1_ans, mask2_ans, mask3_ans)"
      ],
      "metadata": {
        "id": "i0Mc-XWQvJ_d",
        "colab": {
          "base_uri": "https://localhost:8080/"
        },
        "outputId": "1f841bf0-bca7-4fb8-cdc7-e3abc28c8af0"
      },
      "execution_count": 51,
      "outputs": [
        {
          "output_type": "stream",
          "name": "stdout",
          "text": [
            "[ 1 12 19] [ 3  5  8 10 13 15] [21 22 23 24 25]\n"
          ]
        }
      ]
    },
    {
      "cell_type": "code",
      "source": [
        "a_blue = a2[(0,2,3), (0,1,3)]\n",
        "a_green = a2[:3, (2,4)]\n",
        "mask = a2 > 20\n",
        "a_red = a2[mask]\n",
        "print(a_blue)\n",
        "print(a_green)\n",
        "print(a_red)"
      ],
      "metadata": {
        "colab": {
          "base_uri": "https://localhost:8080/"
        },
        "id": "NPFDudFtSBNH",
        "outputId": "32e5d83d-d135-4898-ec38-cb01c8418ae1"
      },
      "execution_count": 53,
      "outputs": [
        {
          "output_type": "stream",
          "name": "stdout",
          "text": [
            "[ 1 12 19]\n",
            "[[ 3  5]\n",
            " [ 8 10]\n",
            " [13 15]]\n",
            "[21 22 23 24 25]\n"
          ]
        }
      ]
    },
    {
      "cell_type": "markdown",
      "source": [
        "---\n",
        "### **(3) 배열 값 변경**\n",
        "---\n"
      ],
      "metadata": {
        "id": "20us_Tx577JL"
      }
    },
    {
      "cell_type": "markdown",
      "source": [
        "#### **| 수정**\n",
        "\n",
        "배열 값의 수정은 기본적으로 인덱싱을 이용합니다. 리스트의 수정과 마찬가지로 인덱싱으로 특정값에 접근하고 바인딩을 이용해 값을 수정합니다. \n",
        "\n",
        "\n",
        "```\n",
        "a = np.arange(10)\n",
        "print(a)\n",
        "a[0]=100\n",
        "print(a)\n",
        "```"
      ],
      "metadata": {
        "id": "xW7UPAFY77JR"
      }
    },
    {
      "cell_type": "code",
      "source": [
        "a = np.arange(10)\n",
        "print(a)\n",
        "a[0]=100\n",
        "print(a)"
      ],
      "metadata": {
        "id": "VwBnNgLT77xV",
        "colab": {
          "base_uri": "https://localhost:8080/"
        },
        "outputId": "01e2f56b-bc0c-4dd6-90c7-1fd39223f6e6"
      },
      "execution_count": 54,
      "outputs": [
        {
          "output_type": "stream",
          "name": "stdout",
          "text": [
            "[0 1 2 3 4 5 6 7 8 9]\n",
            "[100   1   2   3   4   5   6   7   8   9]\n"
          ]
        }
      ]
    },
    {
      "cell_type": "markdown",
      "source": [
        "#### **| 삽입**\n",
        "\n",
        "* `b = np.insert(a, index, element, axis=n)` : \n",
        "값을 추가한 새로운 배열을 반환합니다. 원본 배열은 변경되지 않습니다. \n",
        "\n",
        "`insert` 메서드를 이용하여 배열의 특정 위치에 값을 추가할 수 있습니다. 이 때 값을 추가할 차원 축 (axis)를 지정해야 하며, 지정하지 않으면 1차원 배열을 반환합니다. \n",
        "\n",
        "```\n",
        "a = np.zeros((3,3))\n",
        "print(a)\n",
        "\n",
        "print(np.insert(a, 0, 1, axis=0))\n",
        "print(np.insert(a, 0, 1, axis=1))\n",
        "print(np.insert(a, 0, 1))\n",
        "```"
      ],
      "metadata": {
        "id": "eKawM5an8mZx"
      }
    },
    {
      "cell_type": "code",
      "source": [
        "a = np.zeros((3,3))\n",
        "print(a)\n",
        "print('--------------')\n",
        "print(np.insert(a, 0, 1, axis=0))\n",
        "print('--------------')\n",
        "print(np.insert(a, 0, 1, axis=1))\n",
        "print('--------------')\n",
        "print(np.insert(a, 0, 1)) # 지정하지 않아 1차원 배열을 반환함."
      ],
      "metadata": {
        "id": "IkvNkInb8mZx",
        "colab": {
          "base_uri": "https://localhost:8080/"
        },
        "outputId": "ea373082-3261-4b80-d254-4ca6de1c6ce8"
      },
      "execution_count": 64,
      "outputs": [
        {
          "output_type": "stream",
          "name": "stdout",
          "text": [
            "[[0. 0. 0.]\n",
            " [0. 0. 0.]\n",
            " [0. 0. 0.]]\n",
            "--------------\n",
            "[[1. 1. 1.]\n",
            " [0. 0. 0.]\n",
            " [0. 0. 0.]\n",
            " [0. 0. 0.]]\n",
            "--------------\n",
            "[[1. 0. 0. 0.]\n",
            " [1. 0. 0. 0.]\n",
            " [1. 0. 0. 0.]]\n",
            "--------------\n",
            "[1. 0. 0. 0. 0. 0. 0. 0. 0. 0.]\n"
          ]
        }
      ]
    },
    {
      "cell_type": "markdown",
      "source": [
        "#### **| 연습문제**\n",
        "\n"
      ],
      "metadata": {
        "id": "h_cUD4FQ-oAo"
      }
    },
    {
      "cell_type": "code",
      "source": [
        "a = np.zeros((3,3))"
      ],
      "metadata": {
        "id": "yHbPsM-kTP04"
      },
      "execution_count": 79,
      "outputs": []
    },
    {
      "cell_type": "markdown",
      "source": [
        "**연습 05**\n",
        "\n",
        "위에서 정의한 `a`에 `insert`를 사용하여 아래 그림과 같은 배열을 출력하세요.\n",
        "\n",
        "<p align='center'>\n",
        "<img src=https://github.com/yebiny/SkillTreePython-DataAnalysis/blob/main/imgs/ch0103-06.png?raw=true width=150>\n",
        "</p>"
      ],
      "metadata": {
        "id": "Rw32D58m-t1t"
      }
    },
    {
      "cell_type": "code",
      "source": [
        "np.insert(a,2,1,axis = 0)"
      ],
      "metadata": {
        "id": "nK3awP18-oAp",
        "colab": {
          "base_uri": "https://localhost:8080/"
        },
        "outputId": "ac0db58f-5d75-46f6-f9fd-aae6c9c5af10"
      },
      "execution_count": 67,
      "outputs": [
        {
          "output_type": "execute_result",
          "data": {
            "text/plain": [
              "array([[0., 0., 0.],\n",
              "       [0., 0., 0.],\n",
              "       [1., 1., 1.],\n",
              "       [0., 0., 0.]])"
            ]
          },
          "metadata": {},
          "execution_count": 67
        }
      ]
    },
    {
      "cell_type": "markdown",
      "source": [
        "**연습 06**\n",
        "\n",
        "위에서 정의한 `a`에 `insert`를 사용하여 아래 그림과 같은 배열을 출력하세요.\n",
        "\n",
        "<p align='center'>\n",
        "<img src=https://github.com/yebiny/SkillTreePython-DataAnalysis/blob/main/imgs/ch0103-07.png?raw=true width=210>\n",
        "</p>"
      ],
      "metadata": {
        "id": "Bza20EHW_lXI"
      }
    },
    {
      "cell_type": "code",
      "source": [
        "np.insert(a,1,[1,2,3],axis = 1) # shape에 맞게끔 값을 넣어주면, 각각에 맞춰서 들어간다"
      ],
      "metadata": {
        "id": "hSvLOhwAZA_r",
        "colab": {
          "base_uri": "https://localhost:8080/"
        },
        "outputId": "d69b5db9-61ce-4691-f365-69850c20e715"
      },
      "execution_count": 72,
      "outputs": [
        {
          "output_type": "execute_result",
          "data": {
            "text/plain": [
              "array([[0., 1., 0., 0.],\n",
              "       [0., 2., 0., 0.],\n",
              "       [0., 3., 0., 0.]])"
            ]
          },
          "metadata": {},
          "execution_count": 72
        }
      ]
    },
    {
      "cell_type": "markdown",
      "source": [
        "#### **| 삭제**\n",
        "\n",
        "* `b = np.delete(a, index, axis=n)` : \n",
        "값을 추가한 새로운 배열을 반환합니다. 원본 배열은 변경되지 않습니다. \n",
        "\n",
        "`delete` 메서드는 배열의 특정 위치 값을 삭제합니다. 이 때 값을 추가할 차원 축 (axis)를 지정해야 하며, 지정하지 않으면 1차원 배열을 반환합니다. \n",
        "\n",
        "```\n",
        "a = np.zeros((3,3))\n",
        "print(a)\n",
        "\n",
        "print(np.delete(a, 0, axis=0))\n",
        "print(np.delete(a, 0, axis=1))\n",
        "print(np.delete(a, 0))\n",
        "``` "
      ],
      "metadata": {
        "id": "I1w7yFZkPcI5"
      }
    },
    {
      "cell_type": "code",
      "metadata": {
        "id": "m7oidORKPcI9",
        "colab": {
          "base_uri": "https://localhost:8080/"
        },
        "outputId": "d42ce89d-f5cd-4cc5-fc89-d4f8a04556b7"
      },
      "source": [
        "a = np.zeros((3,3))\n",
        "print(a)\n",
        "\n",
        "print(np.delete(a, 0, axis=0))\n",
        "print(np.delete(a, 0, axis=1))\n",
        "print(np.delete(a, 0))"
      ],
      "execution_count": 73,
      "outputs": [
        {
          "output_type": "stream",
          "name": "stdout",
          "text": [
            "[[0. 0. 0.]\n",
            " [0. 0. 0.]\n",
            " [0. 0. 0.]]\n",
            "[[0. 0. 0.]\n",
            " [0. 0. 0.]]\n",
            "[[0. 0.]\n",
            " [0. 0.]\n",
            " [0. 0.]]\n",
            "[0. 0. 0. 0. 0. 0. 0. 0.]\n"
          ]
        }
      ]
    },
    {
      "cell_type": "markdown",
      "source": [
        "#### **| 복사**\n",
        "\n",
        "* `b = np.copy(a)` : 배열 `a`를 복사하여 `b`로 반환합니다. \n",
        "\n",
        "\n",
        "\n",
        "\n",
        "\n",
        "\n"
      ],
      "metadata": {
        "id": "3TdSoq9shmbV"
      }
    },
    {
      "cell_type": "code",
      "source": [
        "b = np.copy(a)\n",
        "b"
      ],
      "metadata": {
        "id": "VeCwYgn4Bhpk",
        "colab": {
          "base_uri": "https://localhost:8080/"
        },
        "outputId": "c550b65d-3f0e-47da-c675-d8ad35d91ac3"
      },
      "execution_count": 75,
      "outputs": [
        {
          "output_type": "execute_result",
          "data": {
            "text/plain": [
              "array([[0., 0., 0.],\n",
              "       [0., 0., 0.],\n",
              "       [0., 0., 0.]])"
            ]
          },
          "metadata": {},
          "execution_count": 75
        }
      ]
    },
    {
      "cell_type": "markdown",
      "source": [
        "`np.copy`를 이용해 배열을 복사하면 `b` 값이 변경되더라도 원본 배열 `a`는 보존됩니다.\n",
        "```\n",
        "b[1,1]=1\n",
        "print(a)\n",
        "print(b)\n",
        "```"
      ],
      "metadata": {
        "id": "LOw4Y58XByIA"
      }
    },
    {
      "cell_type": "code",
      "source": [
        "b[1,1]=1\n",
        "print(a)\n",
        "print(b)"
      ],
      "metadata": {
        "id": "U4yvdZKABraW",
        "colab": {
          "base_uri": "https://localhost:8080/"
        },
        "outputId": "0b57b7ed-6450-4a73-bff4-0b1467d31822"
      },
      "execution_count": 76,
      "outputs": [
        {
          "output_type": "stream",
          "name": "stdout",
          "text": [
            "[[0. 0. 0.]\n",
            " [0. 0. 0.]\n",
            " [0. 0. 0.]]\n",
            "[[0. 0. 0.]\n",
            " [0. 1. 0.]\n",
            " [0. 0. 0.]]\n"
          ]
        }
      ]
    },
    {
      "cell_type": "markdown",
      "source": [
        "만약 슬라이싱으로 배열을 복사하게 되면 원본 배열 `a`가 보존되지 않습니다.\n",
        "\n",
        "```\n",
        "b = a[:]\n",
        "print(a)\n",
        "print(b)\n",
        "print('b값을 변경')\n",
        "b[1,1]=1\n",
        "print(a)\n",
        "print(b)\n",
        "```\n"
      ],
      "metadata": {
        "id": "1mSHucaqhkFu"
      }
    },
    {
      "cell_type": "code",
      "metadata": {
        "id": "2DxXadB1VgBQ",
        "colab": {
          "base_uri": "https://localhost:8080/"
        },
        "outputId": "89d3da35-adb6-4fe4-a4ac-1503f3113d37"
      },
      "source": [
        "b = a[:] # 이런 식으로 바인딩\n",
        "print(a)\n",
        "print(b)\n",
        "\n",
        "print('b값을 변경')\n",
        "b[1,1]=1\n",
        "\n",
        "print(a)\n",
        "print(b)"
      ],
      "execution_count": 80,
      "outputs": [
        {
          "output_type": "stream",
          "name": "stdout",
          "text": [
            "[[0. 0. 0.]\n",
            " [0. 0. 0.]\n",
            " [0. 0. 0.]]\n",
            "[[0. 0. 0.]\n",
            " [0. 0. 0.]\n",
            " [0. 0. 0.]]\n",
            "b값을 변경\n",
            "[[0. 0. 0.]\n",
            " [0. 1. 0.]\n",
            " [0. 0. 0.]]\n",
            "[[0. 0. 0.]\n",
            " [0. 1. 0.]\n",
            " [0. 0. 0.]]\n"
          ]
        }
      ]
    },
    {
      "cell_type": "markdown",
      "source": [
        "## 문제풀이\n",
        "---\n"
      ],
      "metadata": {
        "id": "1Zo86GIRD8iE"
      }
    },
    {
      "cell_type": "markdown",
      "source": [
        "아래 그림과 같은 배열을 각각 `a1`, `a2`, `a3` 로 정의하세요. `a3` 그림에서 뒤쪽에 있는 숫자들은 앞에 값과 동일합니다.\n",
        "\n",
        "<p align='center'>\n",
        "<img src=https://github.com/yebiny/SkillTreePython-DataAnalysis/blob/main/imgs/ch0103-08.png?raw=true width=620>\n",
        "</p>"
      ],
      "metadata": {
        "id": "BJNPI5t15M4P"
      }
    },
    {
      "cell_type": "code",
      "source": [
        "a1 = np.array([2,4,1,3])\n",
        "a2 = np.array([ [0,1,2], [10,11,12], [20,21,22], [30,31,32], [40,41,42] ])\n",
        "a3 = np.array([[ [0,1], [10,11] ]] * 3) "
      ],
      "metadata": {
        "id": "0VcVNdbm5M1J"
      },
      "execution_count": 103,
      "outputs": []
    },
    {
      "cell_type": "code",
      "source": [
        "a3.shape"
      ],
      "metadata": {
        "colab": {
          "base_uri": "https://localhost:8080/"
        },
        "id": "28R6fOakZ9d1",
        "outputId": "2eea7940-b67a-453f-8807-e9024dbedbde"
      },
      "execution_count": 116,
      "outputs": [
        {
          "output_type": "execute_result",
          "data": {
            "text/plain": [
              "(3, 2, 2)"
            ]
          },
          "metadata": {},
          "execution_count": 116
        }
      ]
    },
    {
      "cell_type": "markdown",
      "source": [
        "**예제 01**\n",
        "\n",
        "`a1`의 3을 인덱싱 하세요"
      ],
      "metadata": {
        "id": "cTtCSNxFmxsL"
      }
    },
    {
      "cell_type": "code",
      "source": [
        "a1[3]"
      ],
      "metadata": {
        "id": "X2FslwXL_hSE",
        "colab": {
          "base_uri": "https://localhost:8080/"
        },
        "outputId": "932086b0-ca46-4fe6-bda2-87b2df0c0f21"
      },
      "execution_count": 85,
      "outputs": [
        {
          "output_type": "execute_result",
          "data": {
            "text/plain": [
              "3"
            ]
          },
          "metadata": {},
          "execution_count": 85
        }
      ]
    },
    {
      "cell_type": "markdown",
      "source": [
        "**예제 02**\n",
        "\n",
        "`a2`의 2와 30을 인덱싱 하세요."
      ],
      "metadata": {
        "id": "mQqp_GvL_nqZ"
      }
    },
    {
      "cell_type": "code",
      "source": [
        "a2[3,0], a2[0,2]"
      ],
      "metadata": {
        "id": "afH2M561_nqa",
        "colab": {
          "base_uri": "https://localhost:8080/"
        },
        "outputId": "461b5892-bc5c-414b-970d-5c22e87b4cee"
      },
      "execution_count": 90,
      "outputs": [
        {
          "output_type": "execute_result",
          "data": {
            "text/plain": [
              "(30, 2)"
            ]
          },
          "metadata": {},
          "execution_count": 90
        }
      ]
    },
    {
      "cell_type": "markdown",
      "source": [
        "**예제 03**\n",
        "\n",
        "`a3`의 10을 모두 인덱싱 하세요."
      ],
      "metadata": {
        "id": "t_ryizEe_rvF"
      }
    },
    {
      "cell_type": "code",
      "source": [
        "a3[: , 1, 0]"
      ],
      "metadata": {
        "id": "EM_B1GhA_rvG",
        "colab": {
          "base_uri": "https://localhost:8080/"
        },
        "outputId": "bbe97033-f018-40de-d91f-3a41989b4784"
      },
      "execution_count": 102,
      "outputs": [
        {
          "output_type": "execute_result",
          "data": {
            "text/plain": [
              "array([10, 10, 10])"
            ]
          },
          "metadata": {},
          "execution_count": 102
        }
      ]
    },
    {
      "cell_type": "markdown",
      "source": [
        "**예제 04**\n",
        "\n",
        "`a2`에서 아래 그림에 해당하는 값을 펜시 인덱싱과 불리언 인덱싱을 각각 이용하여 새로운 배열로 만드세요.\n",
        "\n",
        "<p align='center'>\n",
        "<img src=https://github.com/yebiny/SkillTreePython-DataAnalysis/blob/main/imgs/ch0103-09.png?raw=true width=150>\n",
        "</p>"
      ],
      "metadata": {
        "id": "joLrAHQjAO-u"
      }
    },
    {
      "cell_type": "code",
      "source": [
        "mask = np.array([ [0,0,0],[0,0,0], [1,0,1], [0,0,0], [1,0,1],], dtype = bool)\n",
        "new_a2 = a2[mask]\n",
        "\n",
        "new_a2"
      ],
      "metadata": {
        "id": "2XxmQEyRAO-v",
        "colab": {
          "base_uri": "https://localhost:8080/"
        },
        "outputId": "8bbd61c6-29b0-4ef0-9840-01e2aab18be3"
      },
      "execution_count": 109,
      "outputs": [
        {
          "output_type": "execute_result",
          "data": {
            "text/plain": [
              "array([20, 22, 40, 42])"
            ]
          },
          "metadata": {},
          "execution_count": 109
        }
      ]
    },
    {
      "cell_type": "markdown",
      "source": [
        "**예제 05**\n",
        "\n",
        "`a2`에서 아래 그림에 해당하는 값을 펜시 인덱싱과 불리언 인덱싱을 각각 이용하여 새로운 배열로 만드세요.\n",
        "\n",
        "\n",
        "<p align='center'>\n",
        "<img src=https://github.com/yebiny/SkillTreePython-DataAnalysis/blob/main/imgs/ch0103-10.png?raw=true width=150>\n",
        "</p>"
      ],
      "metadata": {
        "id": "SfR9Wjh-6wpK"
      }
    },
    {
      "cell_type": "code",
      "source": [
        "mask = np.array([ [1,0,1],[1,0,1], [1,0,1], [0,0,0], [0,0,0],], dtype = bool)\n",
        "new2_a2 = a2[mask]\n",
        "\n",
        "new2_a2"
      ],
      "metadata": {
        "id": "gCQwBtin6wpP",
        "colab": {
          "base_uri": "https://localhost:8080/"
        },
        "outputId": "98d613e2-e8a9-4c67-cf47-e310555bebef"
      },
      "execution_count": 110,
      "outputs": [
        {
          "output_type": "execute_result",
          "data": {
            "text/plain": [
              "array([ 0,  2, 10, 12, 20, 22])"
            ]
          },
          "metadata": {},
          "execution_count": 110
        }
      ]
    },
    {
      "cell_type": "markdown",
      "source": [
        "**예제 06**\n",
        "\n",
        "`a2`에서 아래 그림에 해당하는 값을 펜시 인덱싱과 불리언 인덱싱을 각각 이용하여 새로운 배열로 만드세요.\n",
        "\n",
        "\n",
        "<p align='center'>\n",
        "<img src=https://github.com/yebiny/SkillTreePython-DataAnalysis/blob/main/imgs/ch0103-11.png?raw=true width=150>\n",
        "</p>"
      ],
      "metadata": {
        "id": "xiltaKm27A0k"
      }
    },
    {
      "cell_type": "code",
      "source": [
        "mask = np.array([ [0,0,0],[0,0,0], [1,1,1], [0,1,0], [0,1,0],], dtype = bool)\n",
        "new3_a2 = a2[mask]\n",
        "\n",
        "new3_a2"
      ],
      "metadata": {
        "id": "vddom3tb7A0l",
        "colab": {
          "base_uri": "https://localhost:8080/"
        },
        "outputId": "96e4d371-cfcd-4099-90ee-63689dd76a07"
      },
      "execution_count": 111,
      "outputs": [
        {
          "output_type": "execute_result",
          "data": {
            "text/plain": [
              "array([20, 21, 22, 31, 41])"
            ]
          },
          "metadata": {},
          "execution_count": 111
        }
      ]
    },
    {
      "cell_type": "code",
      "source": [
        "a3"
      ],
      "metadata": {
        "colab": {
          "base_uri": "https://localhost:8080/"
        },
        "id": "o7-36pHUiIAb",
        "outputId": "9e5753f3-7ffd-4da0-88a8-38aa46252df5"
      },
      "execution_count": 134,
      "outputs": [
        {
          "output_type": "execute_result",
          "data": {
            "text/plain": [
              "array([[[ 0,  1],\n",
              "        [10, 11]],\n",
              "\n",
              "       [[ 0,  1],\n",
              "        [10, 11]],\n",
              "\n",
              "       [[ 0,  1],\n",
              "        [10, 11]]])"
            ]
          },
          "metadata": {},
          "execution_count": 134
        }
      ]
    },
    {
      "cell_type": "code",
      "source": [
        "a3[mask]"
      ],
      "metadata": {
        "colab": {
          "base_uri": "https://localhost:8080/"
        },
        "id": "d8eXp7fjiKzk",
        "outputId": "ffc607cb-612a-4331-89c4-f793f377c078"
      },
      "execution_count": 136,
      "outputs": [
        {
          "output_type": "execute_result",
          "data": {
            "text/plain": [
              "array([1, 1, 1])"
            ]
          },
          "metadata": {},
          "execution_count": 136
        }
      ]
    },
    {
      "cell_type": "markdown",
      "source": [
        "**예제 07**\n",
        "\n",
        "`a3`에서 1에 해당하는 값만 모아 새로운 배열로 만드세요."
      ],
      "metadata": {
        "id": "V8tbSZZN62na"
      }
    },
    {
      "cell_type": "code",
      "source": [
        "mask = a3 == 1\n",
        "new_a3 = a3[mask]\n",
        "a3.shape, new_a3.shape"
      ],
      "metadata": {
        "id": "5meyjfby62nb",
        "colab": {
          "base_uri": "https://localhost:8080/"
        },
        "outputId": "5a5e92a6-25c3-476d-86e9-d79b7d78e947"
      },
      "execution_count": 175,
      "outputs": [
        {
          "output_type": "execute_result",
          "data": {
            "text/plain": [
              "((3, 2, 2), (3,))"
            ]
          },
          "metadata": {},
          "execution_count": 175
        }
      ]
    },
    {
      "cell_type": "markdown",
      "metadata": {
        "id": "KrDsXKO0BvN9"
      },
      "source": [
        "**예제 08**\n",
        "\n",
        "`a2`를 복사하여 `b2`로 바인딩하세요.\n"
      ]
    },
    {
      "cell_type": "code",
      "source": [
        "b2 = np.copy(a2)\n",
        "b2"
      ],
      "metadata": {
        "id": "Cw7MAmI8BvN-",
        "colab": {
          "base_uri": "https://localhost:8080/"
        },
        "outputId": "1428246b-d868-4ef2-dd89-18fd86a20b94"
      },
      "execution_count": 205,
      "outputs": [
        {
          "output_type": "execute_result",
          "data": {
            "text/plain": [
              "array([[ 0,  1,  2],\n",
              "       [10, 11, 12],\n",
              "       [20, 21, 22],\n",
              "       [30, 31, 32],\n",
              "       [40, 41, 42]])"
            ]
          },
          "metadata": {},
          "execution_count": 205
        }
      ]
    },
    {
      "cell_type": "markdown",
      "source": [
        "**예제 09**\n",
        "\n",
        "`b2`를 아래 그림과 같이 수정하세요.\n",
        "\n",
        "\n",
        "<p align='center'>\n",
        "<img src=https://github.com/yebiny/SkillTreePython-DataAnalysis/blob/main/imgs/ch0103-12.png?raw=true width=150>\n",
        "</p>"
      ],
      "metadata": {
        "id": "Kxa9RJw8N1k4"
      }
    },
    {
      "cell_type": "code",
      "source": [
        "for i in range(3) : \n",
        "  b2[1][i] = 100\n",
        "  b2[3][i] = 100\n",
        "b2"
      ],
      "metadata": {
        "id": "TuKu3G0COHTx",
        "colab": {
          "base_uri": "https://localhost:8080/"
        },
        "outputId": "fc3d1c31-80a9-45cb-c89d-09f621024911"
      },
      "execution_count": 206,
      "outputs": [
        {
          "output_type": "execute_result",
          "data": {
            "text/plain": [
              "array([[  0,   1,   2],\n",
              "       [100, 100, 100],\n",
              "       [ 20,  21,  22],\n",
              "       [100, 100, 100],\n",
              "       [ 40,  41,  42]])"
            ]
          },
          "metadata": {},
          "execution_count": 206
        }
      ]
    },
    {
      "cell_type": "markdown",
      "source": [
        "**예제 10**\n",
        "\n",
        "이어서 `b2`를 아래 그림과 같이 수정하세요.\n",
        "\n",
        "\n",
        "<p align='center'>\n",
        "<img src=https://github.com/yebiny/SkillTreePython-DataAnalysis/blob/main/imgs/ch0103-13.png?raw=true width=150>\n",
        "</p>"
      ],
      "metadata": {
        "id": "uDYC2aemC4FW"
      }
    },
    {
      "cell_type": "code",
      "source": [
        "for i in range(0,5,2) : \n",
        "  b2[i][2] = 200\n",
        "  b2[i][2] = 200\n",
        "b2"
      ],
      "metadata": {
        "id": "9qhPnPtoC4FX",
        "colab": {
          "base_uri": "https://localhost:8080/"
        },
        "outputId": "67c93acd-647a-49e0-8379-cfc482a76509"
      },
      "execution_count": 207,
      "outputs": [
        {
          "output_type": "execute_result",
          "data": {
            "text/plain": [
              "array([[  0,   1, 200],\n",
              "       [100, 100, 100],\n",
              "       [ 20,  21, 200],\n",
              "       [100, 100, 100],\n",
              "       [ 40,  41, 200]])"
            ]
          },
          "metadata": {},
          "execution_count": 207
        }
      ]
    },
    {
      "cell_type": "markdown",
      "source": [
        "**예제 11**\n",
        "\n",
        "이어서 `b2`에 값을 아래와 같이 삽입하세요.\n",
        "\n",
        "\n",
        "<p align='center'>\n",
        "<img src=https://github.com/yebiny/SkillTreePython-DataAnalysis/blob/main/imgs/ch0103-14.png?raw=true width=180>\n",
        "</p>"
      ],
      "metadata": {
        "id": "1fpupocGOYlz"
      }
    },
    {
      "cell_type": "code",
      "source": [
        "b2 = np.insert(b2, 2, 0, axis = 1)\n",
        "b2"
      ],
      "metadata": {
        "id": "F3AcVlSCOYl0",
        "colab": {
          "base_uri": "https://localhost:8080/"
        },
        "outputId": "73bdff9a-c66a-4fe9-f794-4d677d08c4d1"
      },
      "execution_count": 208,
      "outputs": [
        {
          "output_type": "execute_result",
          "data": {
            "text/plain": [
              "array([[  0,   1,   0, 200],\n",
              "       [100, 100,   0, 100],\n",
              "       [ 20,  21,   0, 200],\n",
              "       [100, 100,   0, 100],\n",
              "       [ 40,  41,   0, 200]])"
            ]
          },
          "metadata": {},
          "execution_count": 208
        }
      ]
    },
    {
      "cell_type": "markdown",
      "source": [
        "**예제 12**\n",
        "\n",
        "이어서 `b2`의 값을 아래와 같이 삭제하세요.\n",
        "\n",
        "\n",
        "<p align='center'>\n",
        "<img src=https://github.com/yebiny/SkillTreePython-DataAnalysis/blob/main/imgs/ch0103-15.png?raw=true width=180>\n",
        "</p>"
      ],
      "metadata": {
        "id": "RV92_ziYDFAG"
      }
    },
    {
      "cell_type": "code",
      "source": [
        "b2 = np.delete(b2, 2, axis = 0)\n",
        "b2 = np.delete(b2, 3, axis = 0)\n",
        "b2"
      ],
      "metadata": {
        "id": "oGk3Z4NCDFAH",
        "colab": {
          "base_uri": "https://localhost:8080/"
        },
        "outputId": "acc98f6e-2a58-4670-8134-3511a941580d"
      },
      "execution_count": 209,
      "outputs": [
        {
          "output_type": "execute_result",
          "data": {
            "text/plain": [
              "array([[  0,   1,   0, 200],\n",
              "       [100, 100,   0, 100],\n",
              "       [100, 100,   0, 100]])"
            ]
          },
          "metadata": {},
          "execution_count": 209
        }
      ]
    }
  ]
}