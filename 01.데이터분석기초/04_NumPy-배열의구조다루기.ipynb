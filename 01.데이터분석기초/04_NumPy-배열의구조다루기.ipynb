{
  "nbformat": 4,
  "nbformat_minor": 0,
  "metadata": {
    "colab": {
      "name": "04_NumPy-배열의구조다루기.ipynb",
      "provenance": [],
      "collapsed_sections": [],
      "include_colab_link": true
    },
    "kernelspec": {
      "name": "python3",
      "display_name": "Python 3"
    },
    "language_info": {
      "name": "python"
    }
  },
  "cells": [
    {
      "cell_type": "markdown",
      "metadata": {
        "id": "view-in-github",
        "colab_type": "text"
      },
      "source": [
        "<a href=\"https://colab.research.google.com/github/pthkbs123/SkillTreePython-DataAnalysis/blob/main/01.%EB%8D%B0%EC%9D%B4%ED%84%B0%EB%B6%84%EC%84%9D%EA%B8%B0%EC%B4%88/04_NumPy-%EB%B0%B0%EC%97%B4%EC%9D%98%EA%B5%AC%EC%A1%B0%EB%8B%A4%EB%A3%A8%EA%B8%B0.ipynb\" target=\"_parent\"><img src=\"https://colab.research.google.com/assets/colab-badge.svg\" alt=\"Open In Colab\"/></a>"
      ]
    },
    {
      "cell_type": "markdown",
      "metadata": {
        "id": "jgFAOz-Tw1VI"
      },
      "source": [
        "# CH04 Numpy  - 배열의 구조 다루기\n",
        "\n",
        "---\n",
        "* 날짜: 2022-04-12\n",
        "* 이름: 박태현\n"
      ]
    },
    {
      "cell_type": "markdown",
      "source": [
        "## 개념정리\n",
        "\n",
        "데이터 분석에 있어서 배열에 담긴 데이터만큼 중요한 것이 배열의 구조입니다. 특히 머신러닝, 딥러닝에서는 데이터의 선형변환이 주가 되기 때문에 이 과정에서 데이터의 형태 변형이 많이 이루어 집니다. 이번 시간에는 배열의 형태를 변경하고 연결하고, 분할 하는 여러 방법들을 알아보도록 합니다. \n",
        "\n",
        "```\n",
        "import numpy as np\n",
        "```\n",
        "\n",
        "\n"
      ],
      "metadata": {
        "id": "_3uSBF40BdCd"
      }
    },
    {
      "cell_type": "code",
      "source": [
        "import numpy as np"
      ],
      "metadata": {
        "id": "zPOE7GIhJcdU"
      },
      "execution_count": 1,
      "outputs": []
    },
    {
      "cell_type": "markdown",
      "metadata": {
        "id": "HjPXsM8C5ULZ"
      },
      "source": [
        "---\n",
        "### **(1) 형태 변경**\n",
        "---\n"
      ]
    },
    {
      "cell_type": "markdown",
      "source": [
        "#### **| 형태 직접 변경**\n",
        "\n",
        "* `a.reshape(shape)` : `shape` 형태로 변경한 배열을 반환합니다.\n",
        "* `a.resize(shape)` : 배열 `a`를 `shape` 형태로 변경합니다. 사이즈가 기존보다 크면 값을 0으로 채우고, 작으면 값이 삭제됩니다.\n",
        "\n",
        "`.reshape`는 기존 배열과 변경할 배열의 총 크기가 같아야 하지만 `.resize`는 같을 필요가 없습니다. 다만 `..resize`는 값이 임의로 변경되니 사용에 주의해야 합니다.\n",
        "\n",
        "또한 `reshape`는 기존배열을 보존하고 `resize`는 기존배열을 바로 변경합니다.\n",
        "\n",
        "```\n",
        "a = np.arange(10)\n",
        "a.resize((5,3))\n",
        "print(a)\n",
        "a1=a.reshape((3,5))\n",
        "print(a1)\n",
        "```"
      ],
      "metadata": {
        "id": "NQ_GbYiXLN2i"
      }
    },
    {
      "cell_type": "code",
      "source": [
        "a = np.arange(10)\n",
        "a.resize((5,3))\n",
        "print(a)\n",
        "a1=a.reshape((3,5))\n",
        "print(a1)"
      ],
      "metadata": {
        "id": "XzFGRGdoj7jD",
        "colab": {
          "base_uri": "https://localhost:8080/"
        },
        "outputId": "0667d242-6e26-4830-ce56-497cb5224bcf"
      },
      "execution_count": 2,
      "outputs": [
        {
          "output_type": "stream",
          "name": "stdout",
          "text": [
            "[[0 1 2]\n",
            " [3 4 5]\n",
            " [6 7 8]\n",
            " [9 0 0]\n",
            " [0 0 0]]\n",
            "[[0 1 2 3 4]\n",
            " [5 6 7 8 9]\n",
            " [0 0 0 0 0]]\n"
          ]
        }
      ]
    },
    {
      "cell_type": "markdown",
      "source": [
        "#### **| 형태 간접 변경**\n",
        "\n",
        "* `np.swapaxes(a, axis1, axis2 )` : 배열 `a`의 두 축 (`axis1`, `axis2`)를 교환합니다.\n",
        "* `.T` : 배열의 차원을 전치(transpose) 합니다.\n"
      ],
      "metadata": {
        "id": "JskG776k15sC"
      }
    },
    {
      "cell_type": "markdown",
      "source": [
        "\n",
        "`swapaxes`로 데이터의 성질을 그대로 보존하면서 형태를 변경할 수 있습니다. \n",
        "\n",
        "```\n",
        "a = np.arange(24).reshape(2,3,4)\n",
        "print(a, a.shape)\n",
        "\n",
        "a=np.swapaxes(a, 0,1)\n",
        "print(a, a.shape)\n",
        "```"
      ],
      "metadata": {
        "id": "SiDTaaoh3nu9"
      }
    },
    {
      "cell_type": "code",
      "source": [
        "a = np.arange(24).reshape(2,3,4)\n",
        "print(a, a.shape)\n",
        "\n",
        "print('---------------')\n",
        "\n",
        "a=np.swapaxes(a, 0,1)\n",
        "print(a, a.shape)"
      ],
      "metadata": {
        "id": "29oYbC1S15sI",
        "colab": {
          "base_uri": "https://localhost:8080/"
        },
        "outputId": "ab12f993-4f32-4b7b-b6b3-1b34373f3520"
      },
      "execution_count": 8,
      "outputs": [
        {
          "output_type": "stream",
          "name": "stdout",
          "text": [
            "[[[ 0  1  2  3]\n",
            "  [ 4  5  6  7]\n",
            "  [ 8  9 10 11]]\n",
            "\n",
            " [[12 13 14 15]\n",
            "  [16 17 18 19]\n",
            "  [20 21 22 23]]] (2, 3, 4)\n",
            "---------------\n",
            "[[[ 0  1  2  3]\n",
            "  [12 13 14 15]]\n",
            "\n",
            " [[ 4  5  6  7]\n",
            "  [16 17 18 19]]\n",
            "\n",
            " [[ 8  9 10 11]\n",
            "  [20 21 22 23]]] (3, 2, 4)\n"
          ]
        }
      ]
    },
    {
      "cell_type": "markdown",
      "source": [
        "여기서 데이터의 성질을 보존한다는 것은 무엇을 뜻할까요? \n",
        "\n",
        "안과에 방문한 어린이들의 나이와 시력을 정리한 데이터가 아래와 같이 저장되어 있다고 합시다.\n",
        "\n",
        "\n",
        "<p align='center'>\n",
        "<img src=https://github.com/yebiny/SkillTreePython-DataAnalysis/blob/main/imgs/ch0104-01.png?raw=true width=200>\n",
        "</p>\n",
        "\n",
        "\n",
        "```\n",
        "ds = np.array([[10, 0.5],\n",
        "               [8, 0.8],\n",
        "               [12, 0.4],\n",
        "               [7, 0.7]])\n",
        "print(ds, ds.shape)\n",
        "```\n",
        "\n",
        "\n"
      ],
      "metadata": {
        "id": "MTxzssAI30Qc"
      }
    },
    {
      "cell_type": "code",
      "source": [
        "ds = np.array([[10, 0.5],\n",
        "               [8, 0.8],\n",
        "               [12, 0.4],\n",
        "               [7, 0.7]])\n",
        "print(ds, ds.shape)"
      ],
      "metadata": {
        "id": "DBu3qV0f6qNy",
        "colab": {
          "base_uri": "https://localhost:8080/"
        },
        "outputId": "b8765da2-aedf-485d-f400-06114909aaf7"
      },
      "execution_count": 9,
      "outputs": [
        {
          "output_type": "stream",
          "name": "stdout",
          "text": [
            "[[10.   0.5]\n",
            " [ 8.   0.8]\n",
            " [12.   0.4]\n",
            " [ 7.   0.7]] (4, 2)\n"
          ]
        }
      ]
    },
    {
      "cell_type": "markdown",
      "source": [
        "\n",
        "이 데이터의 형태를 데이터 성질을 유지하면서 변환하려면 아래와 같은 결과가 되어야 하겠지요\n",
        "\n",
        "<p align='center'>\n",
        "<img src=https://github.com/yebiny/SkillTreePython-DataAnalysis/blob/main/imgs/ch0104-02.png?raw=true width=320>\n",
        "</p>\n",
        "\n",
        "\n",
        "이를 `swapaxes`와 `reshape`로 번형하고 결과를 비교해 보겠습니다.\n",
        "\n",
        "```\n",
        "ds1 = np.reshape(ds, (2,4))\n",
        "print(ds1, ds1.shape)\n",
        "\n",
        "ds2 = np.swapaxes(ds, 0,1)\n",
        "print(ds2, ds2.shape)\n",
        "```"
      ],
      "metadata": {
        "id": "A4lHxurW6qq7"
      }
    },
    {
      "cell_type": "code",
      "source": [
        "ds1 = np.reshape(ds, (2,4))\n",
        "print(ds1, ds1.shape)\n",
        "\n",
        "ds2 = np.swapaxes(ds, 0,1)\n",
        "print(ds2, ds2.shape)"
      ],
      "metadata": {
        "id": "Yl0CbgAa30Qd",
        "colab": {
          "base_uri": "https://localhost:8080/"
        },
        "outputId": "39efbd59-69a8-452c-ce87-522c0b9adf40"
      },
      "execution_count": 10,
      "outputs": [
        {
          "output_type": "stream",
          "name": "stdout",
          "text": [
            "[[10.   0.5  8.   0.8]\n",
            " [12.   0.4  7.   0.7]] (2, 4)\n",
            "[[10.   8.  12.   7. ]\n",
            " [ 0.5  0.8  0.4  0.7]] (2, 4)\n"
          ]
        }
      ]
    },
    {
      "cell_type": "markdown",
      "source": [
        "`reshape`를 사용한 결과는 데이터의 성질이 엉망이 되어버린 반면, `swapaxes`를 사용한 결과는 우리가 원하는대로 데이터의 성질이 잘 보존된 것을 볼 수 있습니다. \n",
        "\n",
        "2차원 배열에서는 전치(transpose)도 같은 결과가 나옵니다. \n",
        "\n",
        "```\n",
        "a.T, a.T.shape\n",
        "```"
      ],
      "metadata": {
        "id": "DT2Z0P377EHZ"
      }
    },
    {
      "cell_type": "code",
      "source": [
        "a.T, a.T.shape"
      ],
      "metadata": {
        "id": "_qw-3gFY4pHP",
        "colab": {
          "base_uri": "https://localhost:8080/"
        },
        "outputId": "d3611aca-8ae3-4c1f-9808-e6f402985f28"
      },
      "execution_count": 11,
      "outputs": [
        {
          "output_type": "execute_result",
          "data": {
            "text/plain": [
              "(array([[[ 0,  4,  8],\n",
              "         [12, 16, 20]],\n",
              " \n",
              "        [[ 1,  5,  9],\n",
              "         [13, 17, 21]],\n",
              " \n",
              "        [[ 2,  6, 10],\n",
              "         [14, 18, 22]],\n",
              " \n",
              "        [[ 3,  7, 11],\n",
              "         [15, 19, 23]]]), (4, 2, 3))"
            ]
          },
          "metadata": {},
          "execution_count": 11
        }
      ]
    },
    {
      "cell_type": "markdown",
      "source": [
        "이제 데이터의 성질을 보존한다는 것이 무엇인지 감이 오셨나요? 우리가 다루게 될 데이터는 각 차원에 따라 데이터의 값이 유의미하게 담겨져 있기 때문에 데이터 형태 변환 시 주의해서 때에 따라 적절한 함수를 사용해야 합니다. "
      ],
      "metadata": {
        "id": "7mr1oVEv789t"
      }
    },
    {
      "cell_type": "markdown",
      "source": [
        "* `np.expand_dims(a, axis)` : 축 axis에 차원을 추가합니다.\n",
        "\n",
        "데이터 분석에서 유용히 쓰이는 함수가 바로 `np.expand_dim` 입니다. 개수와 값이 똑같은 데이터라도 1차원, 2차원, 3차원까지 변경할 수 있습니다. \n",
        "\n",
        "```\n",
        "a = np.arange(5)\n",
        "print(a, a.shape)\n",
        "a = np.expand_dims(a,1) \n",
        "print(a, a.shape)\n",
        "a = np.expand_dims(a,2)\n",
        "print(a, a.shape)\n",
        "```"
      ],
      "metadata": {
        "id": "yoXcKhYAK6Yx"
      }
    },
    {
      "cell_type": "code",
      "source": [
        "a = np.arange(5)\n",
        "print(a, a.shape)\n",
        "a = np.expand_dims(a,1) \n",
        "print(a, a.shape)\n",
        "a = np.expand_dims(a,2)\n",
        "print(a, a.shape)"
      ],
      "metadata": {
        "id": "fw50dt30LYCP",
        "colab": {
          "base_uri": "https://localhost:8080/"
        },
        "outputId": "0f6f26b3-c0ea-41fb-f767-e2584f06493c"
      },
      "execution_count": 12,
      "outputs": [
        {
          "output_type": "stream",
          "name": "stdout",
          "text": [
            "[0 1 2 3 4] (5,)\n",
            "[[0]\n",
            " [1]\n",
            " [2]\n",
            " [3]\n",
            " [4]] (5, 1)\n",
            "[[[0]]\n",
            "\n",
            " [[1]]\n",
            "\n",
            " [[2]]\n",
            "\n",
            " [[3]]\n",
            "\n",
            " [[4]]] (5, 1, 1)\n"
          ]
        }
      ]
    },
    {
      "cell_type": "markdown",
      "metadata": {
        "id": "kPCJJesPK2kU"
      },
      "source": [
        "---\n",
        "### **(2) 배열 쌓기**\n",
        "---\n",
        "\n",
        "| 함수 | 설명 |\n",
        "|--|--|\n",
        "| `np.append(a1,a2)` | `a1`에 `a2`를 결합|\n",
        "| `np.concatenate([a1, a2, a3 ...])` | 배열 리스트를 모두 결합|\n",
        "| `np.stack([a1, a2, a3 ...])` | 배열을 쌓습니다. |\n",
        "| `np.hstack([a1, a2, a3 ...])` | 배열을 수평으로 쌓습니다. |\n",
        "| `np.vstack([a1, a2, a3 ...])` | 배열을 수직으로 쌓습니다. |\n",
        "| `np.dtack([a1, a2, a3 ...])` | 배열을 새로운 방향으로 쌓습니다. |\n",
        "\n",
        "배열과 배열을 결합하는 함수는 여러개가 있습니다. 사실 어떻게 사용하냐에 각 함수가 똑같은 결과를 도출할 수도 있습니다. 이번 수업에서는 `concatenate`를 사용해 배열을 쌓아보도록 하겠습니다.\n",
        "\n",
        "아래 그림을 보고 `concatenate` 코드를 작성해 봅시다.\n",
        "\n",
        "<p align='center'>\n",
        "<img src=https://github.com/yebiny/SkillTreePython-DataAnalysis/blob/main/imgs/ch0104-03.png?raw=true width=680>\n",
        "</p>\n",
        "\n",
        "```\n",
        "a = np.arange(1, 7).reshape(2,3)\n",
        "print(a,a.shape)\n",
        "a1 = np.concatenate([a,a], axis=0)\n",
        "print(a1,a1.shape)\n",
        "a2 = np.concatenate([a,a], axis=1)\n",
        "print(a2,a2.shape)\n",
        "```"
      ]
    },
    {
      "cell_type": "code",
      "source": [
        "a = np.arange(1, 7).reshape(2,3)\n",
        "print(a,a.shape)\n",
        "a1 = np.concatenate([a,a], axis=0)\n",
        "print(a1,a1.shape)\n",
        "a2 = np.concatenate([a,a], axis=1)\n",
        "print(a2,a2.shape)"
      ],
      "metadata": {
        "id": "jhM_gLNyK2kU",
        "colab": {
          "base_uri": "https://localhost:8080/"
        },
        "outputId": "cc492824-e533-4294-c32f-d4f9227109c1"
      },
      "execution_count": 13,
      "outputs": [
        {
          "output_type": "stream",
          "name": "stdout",
          "text": [
            "[[1 2 3]\n",
            " [4 5 6]] (2, 3)\n",
            "[[1 2 3]\n",
            " [4 5 6]\n",
            " [1 2 3]\n",
            " [4 5 6]] (4, 3)\n",
            "[[1 2 3 1 2 3]\n",
            " [4 5 6 4 5 6]] (2, 6)\n"
          ]
        }
      ]
    },
    {
      "cell_type": "markdown",
      "source": [
        "#### **| 연습문제**\n",
        "\n",
        "연습을 위해 아래와 같이 3차원 배열을 생성하세요 \n",
        "\n",
        "```\n",
        "a = np.arange(12).reshape(2,2,3)\n",
        "b = np.arange(100,106).reshape(1,2,3)\n",
        "print(a, a.shape)\n",
        "print(b, b.shape)\n",
        "```"
      ],
      "metadata": {
        "id": "hzWZ5G7mo2PR"
      }
    },
    {
      "cell_type": "code",
      "source": [
        "a = np.arange(12).reshape(2,2,3)\n",
        "b = np.arange(100,106).reshape(1,2,3)\n",
        "print(a, a.shape)\n",
        "print(b, b.shape)"
      ],
      "metadata": {
        "id": "peNsBPQcrggt",
        "colab": {
          "base_uri": "https://localhost:8080/"
        },
        "outputId": "1003cdb6-efed-43fa-c08c-bbb9af29c758"
      },
      "execution_count": 30,
      "outputs": [
        {
          "output_type": "stream",
          "name": "stdout",
          "text": [
            "[[[ 0  1  2]\n",
            "  [ 3  4  5]]\n",
            "\n",
            " [[ 6  7  8]\n",
            "  [ 9 10 11]]] (2, 2, 3)\n",
            "[[[100 101 102]\n",
            "  [103 104 105]]] (1, 2, 3)\n"
          ]
        }
      ]
    },
    {
      "cell_type": "markdown",
      "source": [
        "**연습 01**\n",
        "\n",
        "`concatenate`를 이용해 아래와 같은 배열을 출력하세요.\n",
        "\n",
        "```\n",
        "array([[[ 0,  1,  2,  0,  1,  2],\n",
        "        [ 3,  4,  5,  3,  4,  5]],\n",
        "\n",
        "       [[ 6,  7,  8,  6,  7,  8],\n",
        "        [ 9, 10, 11,  9, 10, 11]]])\n",
        "```"
      ],
      "metadata": {
        "id": "ey_R7ZgXnHdp"
      }
    },
    {
      "cell_type": "code",
      "source": [
        "temp_a = np.concatenate([a[0],a[0]], axis=1)\n",
        "temp_a2 = np.concatenate([a[1],a[1]], axis=1)\n",
        "new_a = np.concatenate([[temp_a], [temp_a2]], axis = 0)\n",
        "new_a"
      ],
      "metadata": {
        "id": "XUKKRTSJAsMa",
        "colab": {
          "base_uri": "https://localhost:8080/"
        },
        "outputId": "288bfe23-b6c2-44f7-d26c-5599b92d4cec"
      },
      "execution_count": 44,
      "outputs": [
        {
          "output_type": "execute_result",
          "data": {
            "text/plain": [
              "array([[[ 0,  1,  2,  0,  1,  2],\n",
              "        [ 3,  4,  5,  3,  4,  5]],\n",
              "\n",
              "       [[ 6,  7,  8,  6,  7,  8],\n",
              "        [ 9, 10, 11,  9, 10, 11]]])"
            ]
          },
          "metadata": {},
          "execution_count": 44
        }
      ]
    },
    {
      "cell_type": "markdown",
      "source": [
        "**연습 02**\n",
        "\n",
        "`concatenate`를 이용해 아래와 같은 배열을 출력하세요.\n",
        "\n",
        "```\n",
        "array([[[100, 101, 102],\n",
        "        [103, 104, 105],\n",
        "        [100, 101, 102],\n",
        "        [103, 104, 105]]])\n",
        "```"
      ],
      "metadata": {
        "id": "bAPBtnKmEhVb"
      }
    },
    {
      "cell_type": "code",
      "source": [
        "new_b = np.concatenate([b,b], axis = 1)\n",
        "new_b"
      ],
      "metadata": {
        "id": "MaS05VHtEhVb",
        "colab": {
          "base_uri": "https://localhost:8080/"
        },
        "outputId": "a3539920-ed01-4636-cbdf-98b0f213a882"
      },
      "execution_count": 82,
      "outputs": [
        {
          "output_type": "execute_result",
          "data": {
            "text/plain": [
              "array([[[100, 101, 102],\n",
              "        [103, 104, 105],\n",
              "        [100, 101, 102],\n",
              "        [103, 104, 105]]])"
            ]
          },
          "metadata": {},
          "execution_count": 82
        }
      ]
    },
    {
      "cell_type": "markdown",
      "source": [
        "**연습 03**\n",
        "\n",
        "`concatenate`를 이용해 아래와 같은 배열을 출력하세요.\n",
        "\n",
        "```\n",
        "array([[[100, 101, 102],\n",
        "        [103, 104, 105]],\n",
        "\n",
        "       [[  0,   1,   2],\n",
        "        [  3,   4,   5]],\n",
        "\n",
        "       [[  6,   7,   8],\n",
        "        [  9,  10,  11]],\n",
        "\n",
        "       [[100, 101, 102],\n",
        "        [103, 104, 105]]])\n",
        "```"
      ],
      "metadata": {
        "id": "ibj-2c6dE2XM"
      }
    },
    {
      "cell_type": "code",
      "source": [
        "c = np.concatenate([b,a,b],axis=0)\n",
        "c"
      ],
      "metadata": {
        "id": "PsVk-FDYBuEK",
        "colab": {
          "base_uri": "https://localhost:8080/"
        },
        "outputId": "f8a0ae6f-0fcb-4f57-b613-efb2d42db0d9"
      },
      "execution_count": 81,
      "outputs": [
        {
          "output_type": "execute_result",
          "data": {
            "text/plain": [
              "array([[[100, 101, 102],\n",
              "        [103, 104, 105]],\n",
              "\n",
              "       [[  0,   1,   2],\n",
              "        [  3,   4,   5]],\n",
              "\n",
              "       [[  6,   7,   8],\n",
              "        [  9,  10,  11]],\n",
              "\n",
              "       [[100, 101, 102],\n",
              "        [103, 104, 105]]])"
            ]
          },
          "metadata": {},
          "execution_count": 81
        }
      ]
    },
    {
      "cell_type": "markdown",
      "metadata": {
        "id": "aYhpkL3KLGkS"
      },
      "source": [
        "---\n",
        "### **(3) 배열 분할**\n",
        "---\n",
        "\n",
        "분할은 `split`함수를 이용합니다. `split`함수의 `axis`를 이용해서 어느 축으로 분할 할지 정의할 수 있습니다. 한쪽 방향으로만 분할하는 `vsplit`과 `hsplit`이 존재하며 상황에 따라 적절히 사용할 수 있습니다.\n",
        "\n",
        "* `np.split(a, [n1, n2, ...], axis=axis)` : `axis` 방향으로 배열 `a`를 `n1`.. 기점에서 분할 합니다 .\n",
        "\n",
        "* `np.vsplit(a, [n1, n2, ...])`: 수직 방향으로 배열 `a`를 `n1`.. 기점에서 분할 합니다 .\n",
        "\n",
        "* `np.hplit(a, [n1, n2, ...])` : 수평 방향으로 배열 `a`를 `n1`.. 기점에서 분할 합니다 .\n",
        "\n",
        "아래 그림을 보고 `split` 코드를 작성해 봅시다.\n",
        "\n",
        "<p align='center'>\n",
        "<img src=https://github.com/yebiny/SkillTreePython-DataAnalysis/blob/main/imgs/ch0104-04.png?raw=true width=380>\n",
        "</p>\n",
        "\n"
      ]
    },
    {
      "cell_type": "markdown",
      "source": [
        "* 배열 `a`를 생성합니다.\n",
        "\n",
        "```\n",
        "a =np.arange(1,13).reshape(4,3)\n",
        "a, a.shape\n",
        "```"
      ],
      "metadata": {
        "id": "0ERT5QnFJAY3"
      }
    },
    {
      "cell_type": "code",
      "source": [
        "a =np.arange(1,13).reshape(4,3)\n",
        "a, a.shape"
      ],
      "metadata": {
        "id": "LhaIghGQLGkT",
        "colab": {
          "base_uri": "https://localhost:8080/"
        },
        "outputId": "4844cf8e-3ab2-4dba-e3cb-587e0f1c1a6d"
      },
      "execution_count": 83,
      "outputs": [
        {
          "output_type": "execute_result",
          "data": {
            "text/plain": [
              "(array([[ 1,  2,  3],\n",
              "        [ 4,  5,  6],\n",
              "        [ 7,  8,  9],\n",
              "        [10, 11, 12]]), (4, 3))"
            ]
          },
          "metadata": {},
          "execution_count": 83
        }
      ]
    },
    {
      "cell_type": "markdown",
      "source": [
        "* 수직방향으로 분할해 봅니다.\n",
        "\n",
        "```\n",
        "a1, a2 = np.split(a, [1], axis=0)\n",
        "print(a1)\n",
        "print(a2)\n",
        "a1, a2 = np.vsplit(a, [1])\n",
        "print(a1)\n",
        "print(a2)\n",
        "```"
      ],
      "metadata": {
        "id": "3Up5CYbXGXMP"
      }
    },
    {
      "cell_type": "code",
      "source": [
        "a1, a2 = np.split(a, [1], axis=0)\n",
        "print(a1)\n",
        "print(a2)\n",
        "\n",
        "print('-----------')\n",
        "a1, a2 = np.vsplit(a, [1])\n",
        "print(a1)\n",
        "print(a2)"
      ],
      "metadata": {
        "id": "eYN6dZWJGBsb",
        "colab": {
          "base_uri": "https://localhost:8080/"
        },
        "outputId": "fcb78ffc-5c6c-4df6-f26b-c6eb2c7b01a8"
      },
      "execution_count": 85,
      "outputs": [
        {
          "output_type": "stream",
          "name": "stdout",
          "text": [
            "[[1 2 3]]\n",
            "[[ 4  5  6]\n",
            " [ 7  8  9]\n",
            " [10 11 12]]\n",
            "-----------\n",
            "[[1 2 3]]\n",
            "[[ 4  5  6]\n",
            " [ 7  8  9]\n",
            " [10 11 12]]\n"
          ]
        }
      ]
    },
    {
      "cell_type": "markdown",
      "source": [
        "* 수평 방향으로 분할해 봅니다.\n",
        "\n",
        "```\n",
        "a1, a2 = np.split(a, [2], axis=1)\n",
        "print(a1)\n",
        "print(a2)\n",
        "a1, a2 = np.hsplit(a, [2])\n",
        "print(a1)\n",
        "print(a2)\n",
        "```"
      ],
      "metadata": {
        "id": "GrsFQtvuJI7i"
      }
    },
    {
      "cell_type": "code",
      "source": [
        "a1, a2 = np.split(a, [2], axis=1)\n",
        "print(a1)\n",
        "print(a2)\n",
        "\n",
        "print('-----------')\n",
        "a1, a2 = np.hsplit(a, [2])\n",
        "print(a1)\n",
        "print(a2)"
      ],
      "metadata": {
        "id": "OsMberzGGJUy",
        "colab": {
          "base_uri": "https://localhost:8080/"
        },
        "outputId": "1c66ceb7-ad4c-4bba-e00f-28b0ec479297"
      },
      "execution_count": 86,
      "outputs": [
        {
          "output_type": "stream",
          "name": "stdout",
          "text": [
            "[[ 1  2]\n",
            " [ 4  5]\n",
            " [ 7  8]\n",
            " [10 11]]\n",
            "[[ 3]\n",
            " [ 6]\n",
            " [ 9]\n",
            " [12]]\n",
            "-----------\n",
            "[[ 1  2]\n",
            " [ 4  5]\n",
            " [ 7  8]\n",
            " [10 11]]\n",
            "[[ 3]\n",
            " [ 6]\n",
            " [ 9]\n",
            " [12]]\n"
          ]
        }
      ]
    },
    {
      "cell_type": "markdown",
      "source": [
        "## 문제풀이\n",
        "---\n"
      ],
      "metadata": {
        "id": "1Zo86GIRD8iE"
      }
    },
    {
      "cell_type": "markdown",
      "metadata": {
        "id": "d9o7kBXoNlE3"
      },
      "source": [
        "**예제 01**\n",
        "\n",
        "모든 요소가 1이고 `(3,3,2)`  `shape`를 가지는 3차원 배열을 생성하고 `a01`로 바인딩하세요. 이 배열과 배열의 형태를 출력하세요.\n",
        "\n"
      ]
    },
    {
      "cell_type": "code",
      "metadata": {
        "id": "Gwir0bafNlE9",
        "colab": {
          "base_uri": "https://localhost:8080/"
        },
        "outputId": "04222a19-b6c2-4eca-95a1-40637faa4f01"
      },
      "source": [
        "a01 = np.ones([3,3,2])\n",
        "a01"
      ],
      "execution_count": 183,
      "outputs": [
        {
          "output_type": "execute_result",
          "data": {
            "text/plain": [
              "array([[[1., 1.],\n",
              "        [1., 1.],\n",
              "        [1., 1.]],\n",
              "\n",
              "       [[1., 1.],\n",
              "        [1., 1.],\n",
              "        [1., 1.]],\n",
              "\n",
              "       [[1., 1.],\n",
              "        [1., 1.],\n",
              "        [1., 1.]]])"
            ]
          },
          "metadata": {},
          "execution_count": 183
        }
      ]
    },
    {
      "cell_type": "markdown",
      "source": [
        "**예제 02**\n",
        "\n",
        "`a01`을  `shape`가 `(3,6)`인 2차원 배열로 바꾸고 배열과 배열의  `shape`를 출력하세요."
      ],
      "metadata": {
        "id": "SACkvDRySMNc"
      }
    },
    {
      "cell_type": "code",
      "source": [
        "a01 =  a01.reshape(3,6)\n",
        "a01, a01.shape"
      ],
      "metadata": {
        "id": "YJVWViH7SMNc",
        "colab": {
          "base_uri": "https://localhost:8080/"
        },
        "outputId": "42782f62-44a3-4833-e77e-2e82320ce5b9"
      },
      "execution_count": 184,
      "outputs": [
        {
          "output_type": "execute_result",
          "data": {
            "text/plain": [
              "(array([[1., 1., 1., 1., 1., 1.],\n",
              "        [1., 1., 1., 1., 1., 1.],\n",
              "        [1., 1., 1., 1., 1., 1.]]), (3, 6))"
            ]
          },
          "metadata": {},
          "execution_count": 184
        }
      ]
    },
    {
      "cell_type": "markdown",
      "source": [
        "**예제 03**\n",
        "\n",
        "`a01`을 transpose 하고 배열과 배열의  `shape`를 출력하세요."
      ],
      "metadata": {
        "id": "cTtCSNxFmxsL"
      }
    },
    {
      "cell_type": "code",
      "source": [
        "a01 = a01.T\n",
        "a01, a01.shape"
      ],
      "metadata": {
        "id": "X2FslwXL_hSE",
        "colab": {
          "base_uri": "https://localhost:8080/"
        },
        "outputId": "b49a570e-6cb3-477b-b689-27e09d8ab82f"
      },
      "execution_count": 185,
      "outputs": [
        {
          "output_type": "execute_result",
          "data": {
            "text/plain": [
              "(array([[1., 1., 1.],\n",
              "        [1., 1., 1.],\n",
              "        [1., 1., 1.],\n",
              "        [1., 1., 1.],\n",
              "        [1., 1., 1.],\n",
              "        [1., 1., 1.]]), (6, 3))"
            ]
          },
          "metadata": {},
          "execution_count": 185
        }
      ]
    },
    {
      "cell_type": "markdown",
      "source": [
        "**예제 04**\n",
        "\n",
        "`a01`의 `shape`를 늘려 `(3,8)`인 2차원 배열로 변경하고 배열과 배열의  `shape`를 출력하세요. 어떤 일이 일어나는지 간단히 설명하세요."
      ],
      "metadata": {
        "id": "nKLke2__XUlc"
      }
    },
    {
      "cell_type": "code",
      "source": [
        "a01 = np.resize(a, (3,8))\n",
        "a01, a01.shape\n",
        "\n",
        "# 안의 값들이 모두 달라진다."
      ],
      "metadata": {
        "id": "ZpgAgpL_XUln",
        "colab": {
          "base_uri": "https://localhost:8080/"
        },
        "outputId": "ad2c4de5-9ae1-4bb6-9071-f187d0f0c495"
      },
      "execution_count": 186,
      "outputs": [
        {
          "output_type": "execute_result",
          "data": {
            "text/plain": [
              "(array([[0, 1, 2, 3, 4, 5, 6, 7],\n",
              "        [0, 1, 2, 3, 4, 5, 6, 7],\n",
              "        [0, 1, 2, 3, 4, 5, 6, 7]]), (3, 8))"
            ]
          },
          "metadata": {},
          "execution_count": 186
        }
      ]
    },
    {
      "cell_type": "markdown",
      "source": [
        "**예제 05**\n",
        "\n",
        "`a01`의 `shape`를 `expand_dims`를 이용해 `(1,3,8)`인 3차원 배열로 변경하고  배열과 배열의  `shape`를 출력하세요."
      ],
      "metadata": {
        "id": "R8o5gYtyXgNs"
      }
    },
    {
      "cell_type": "code",
      "source": [
        "a01 = np.expand_dims(a01, 0)\n",
        "a01, a01.shape"
      ],
      "metadata": {
        "id": "3E5DjaJJXgNt",
        "colab": {
          "base_uri": "https://localhost:8080/"
        },
        "outputId": "4db58d34-d51a-4e99-e710-3bd50a6b7b9d"
      },
      "execution_count": 187,
      "outputs": [
        {
          "output_type": "execute_result",
          "data": {
            "text/plain": [
              "(array([[[0, 1, 2, 3, 4, 5, 6, 7],\n",
              "         [0, 1, 2, 3, 4, 5, 6, 7],\n",
              "         [0, 1, 2, 3, 4, 5, 6, 7]]]), (1, 3, 8))"
            ]
          },
          "metadata": {},
          "execution_count": 187
        }
      ]
    },
    {
      "cell_type": "markdown",
      "metadata": {
        "id": "G7NVMtnXXl40"
      },
      "source": [
        "아래 그림과 같은 2차원 배열 `a`, `b`, `c`를  생성하세요\n",
        "\n",
        "<p align='center'>\n",
        "<img src=https://github.com/yebiny/SkillTreePython-DataAnalysis/blob/main/imgs/ch0104-05.png?raw=true width=360>\n",
        "</p>\n"
      ]
    },
    {
      "cell_type": "code",
      "metadata": {
        "id": "v5NNZzWHXl40",
        "colab": {
          "base_uri": "https://localhost:8080/"
        },
        "outputId": "cd441846-8b34-4831-f727-4f5a97462d83"
      },
      "source": [
        "a = np.ones((3,2))\n",
        "b = np.array(\n",
        "    [[2],\n",
        "    [2],\n",
        "    [2]]\n",
        ")\n",
        "c = np.array(\n",
        "    [[3,3],\n",
        "    [3,3]]\n",
        ")\n",
        "a.shape, b.shape, c.shape"
      ],
      "execution_count": 194,
      "outputs": [
        {
          "output_type": "execute_result",
          "data": {
            "text/plain": [
              "((3, 2), (3, 1), (2, 2))"
            ]
          },
          "metadata": {},
          "execution_count": 194
        }
      ]
    },
    {
      "cell_type": "markdown",
      "source": [
        "**예제 06**\n",
        "\n",
        "`a`와 `b`를 합쳐 `shape`가 `(3,3)`인 배열을 만드세요."
      ],
      "metadata": {
        "id": "6whR9VwAYZ4G"
      }
    },
    {
      "cell_type": "code",
      "source": [
        "new_06 = np.concatenate([a,b], axis = 1)\n",
        "new_06, new_06.shape"
      ],
      "metadata": {
        "id": "MLveMkxzYZ4G",
        "colab": {
          "base_uri": "https://localhost:8080/"
        },
        "outputId": "15bd87dd-10ad-48ad-a717-9c2ed6ccaf52"
      },
      "execution_count": 195,
      "outputs": [
        {
          "output_type": "execute_result",
          "data": {
            "text/plain": [
              "(array([[1., 1., 2.],\n",
              "        [1., 1., 2.],\n",
              "        [1., 1., 2.]]), (3, 3))"
            ]
          },
          "metadata": {},
          "execution_count": 195
        }
      ]
    },
    {
      "cell_type": "markdown",
      "source": [
        "**예제 07**\n",
        "\n",
        "\n",
        "`a`와 `c`를 합쳐 `shape`가 `(5,2)`인 배열을 만드세요."
      ],
      "metadata": {
        "id": "9u_P0i8VYmIg"
      }
    },
    {
      "cell_type": "code",
      "source": [
        "new_07 = np.concatenate([a,c], axis = 0)\n",
        "new_07, new_07.shape"
      ],
      "metadata": {
        "id": "l_kU8G1hYmIh",
        "colab": {
          "base_uri": "https://localhost:8080/"
        },
        "outputId": "62673afe-c699-4944-a9d0-6f5ee8e1a05b"
      },
      "execution_count": 197,
      "outputs": [
        {
          "output_type": "execute_result",
          "data": {
            "text/plain": [
              "(array([[1., 1.],\n",
              "        [1., 1.],\n",
              "        [1., 1.],\n",
              "        [3., 3.],\n",
              "        [3., 3.]]), (5, 2))"
            ]
          },
          "metadata": {},
          "execution_count": 197
        }
      ]
    },
    {
      "cell_type": "markdown",
      "source": [
        "**예제 08**\n",
        "\n",
        "\n",
        "`a`,`b`, `a` 를 합쳐 `shape`가 `(3,5)`인 배열을 만들고 `a08`로 바인딩하세요."
      ],
      "metadata": {
        "id": "PAe1brWaMick"
      }
    },
    {
      "cell_type": "code",
      "source": [
        "a08 = np.concatenate([a,b,a], axis = 1)\n",
        "a08, a08.shape"
      ],
      "metadata": {
        "id": "NDWaTP0AMicp",
        "colab": {
          "base_uri": "https://localhost:8080/"
        },
        "outputId": "8c35e983-ca89-4ba1-b99a-4c237e5118ee"
      },
      "execution_count": 199,
      "outputs": [
        {
          "output_type": "execute_result",
          "data": {
            "text/plain": [
              "(array([[1., 1., 2., 1., 1.],\n",
              "        [1., 1., 2., 1., 1.],\n",
              "        [1., 1., 2., 1., 1.]]), (3, 5))"
            ]
          },
          "metadata": {},
          "execution_count": 199
        }
      ]
    },
    {
      "cell_type": "markdown",
      "source": [
        "**예제 09**\n",
        "\n",
        "`a08`을 세개의 배열 `[1,1,2,1,1]`가 나오도록 분할하세요."
      ],
      "metadata": {
        "id": "eW1GNomvYyw8"
      }
    },
    {
      "cell_type": "code",
      "source": [
        "a08_1, a08_2, a08_3 = np.split(a08, [1,2], axis = 0)\n",
        "a08_1, a08_2, a08_3"
      ],
      "metadata": {
        "id": "1jkXdrfoYyw8",
        "colab": {
          "base_uri": "https://localhost:8080/"
        },
        "outputId": "ad5c07e9-85ac-43a7-81cd-9a3253e67baf"
      },
      "execution_count": 202,
      "outputs": [
        {
          "output_type": "execute_result",
          "data": {
            "text/plain": [
              "(array([[1., 1., 2., 1., 1.]]),\n",
              " array([[1., 1., 2., 1., 1.]]),\n",
              " array([[1., 1., 2., 1., 1.]]))"
            ]
          },
          "metadata": {},
          "execution_count": 202
        }
      ]
    },
    {
      "cell_type": "markdown",
      "source": [
        "**예제 10**\n",
        "\n",
        "아래 그림을 설명하는 코드를 차례대로 작성하세요.\n",
        "\n",
        "<p align='center'>\n",
        "<img src=https://github.com/yebiny/SkillTreePython-DataAnalysis/blob/main/imgs/ch0104-06.png?raw=true width=300>\n",
        "</p>\n"
      ],
      "metadata": {
        "id": "mtnrRAfiRSsZ"
      }
    },
    {
      "cell_type": "code",
      "source": [
        "a07 = np.arange(6).reshape(2,3)\n",
        "print(a07)\n",
        "a07 = a07.T\n",
        "print(a07)"
      ],
      "metadata": {
        "id": "CKT2UkrIXjMO",
        "colab": {
          "base_uri": "https://localhost:8080/"
        },
        "outputId": "c104596a-8fa5-4126-85c6-57227e82a358"
      },
      "execution_count": 204,
      "outputs": [
        {
          "output_type": "stream",
          "name": "stdout",
          "text": [
            "[[0 1 2]\n",
            " [3 4 5]]\n",
            "[[0 3]\n",
            " [1 4]\n",
            " [2 5]]\n"
          ]
        }
      ]
    },
    {
      "cell_type": "markdown",
      "metadata": {
        "id": "y6MXM4bwQRHf"
      },
      "source": [
        "**예제 11**\n",
        "\n",
        "\n",
        "아래 그림을 설명하는 코드를 차례대로 작성하세요.\n",
        "\n",
        "<p align='center'>\n",
        "<img src=https://github.com/yebiny/SkillTreePython-DataAnalysis/blob/main/imgs/ch0104-07.png?raw=true width=300>\n",
        "</p>\n"
      ]
    },
    {
      "cell_type": "code",
      "metadata": {
        "id": "Q3DiVbMKQRHh",
        "colab": {
          "base_uri": "https://localhost:8080/"
        },
        "outputId": "e16b65cb-2eed-4dce-c940-dc1f4f0651da"
      },
      "source": [
        "a11 = np.arange(12).reshape(4,3)\n",
        "# print(a11)\n",
        "a11, a11_1, a11_2 = np.split(a11, [2,3], axis = 0)\n",
        "new_a11 = np.concatenate([a11, a11_2, a11_1], axis = 0)\n",
        "new_a11"
      ],
      "execution_count": 212,
      "outputs": [
        {
          "output_type": "execute_result",
          "data": {
            "text/plain": [
              "array([[ 0,  1,  2],\n",
              "       [ 3,  4,  5],\n",
              "       [ 9, 10, 11],\n",
              "       [ 6,  7,  8]])"
            ]
          },
          "metadata": {},
          "execution_count": 212
        }
      ]
    },
    {
      "cell_type": "markdown",
      "metadata": {
        "id": "7A3h9vPqRAuh"
      },
      "source": [
        "**예제 12**\n",
        "\n",
        "\n",
        "아래 그림을 설명하는 코드를 차례대로 작성하세요.\n",
        "\n",
        "<p align='center'>\n",
        "<img src=https://github.com/yebiny/SkillTreePython-DataAnalysis/blob/main/imgs/ch0104-08.png?raw=true width=560>\n",
        "</p>\n"
      ]
    },
    {
      "cell_type": "code",
      "metadata": {
        "id": "EjHswZepRAuh",
        "colab": {
          "base_uri": "https://localhost:8080/"
        },
        "outputId": "0196f753-0248-4a09-d85f-80e1b8312524"
      },
      "source": [
        "a12_1 = np.arange(6).reshape(2,3)\n",
        "a12_2 = np.arange(6,12).reshape(2,3)\n",
        "\n",
        "a12_3 = np.concatenate([a12_1,a12_2], axis = 1)\n",
        "print(a12_3)\n",
        "\n",
        "a12_1 = a12_1.T\n",
        "a12_2 = a12_2.T\n",
        "\n",
        "a12_4 = np.concatenate([a12_1,a12_2], axis = 1)\n",
        "print(a12_4)\n"
      ],
      "execution_count": 219,
      "outputs": [
        {
          "output_type": "stream",
          "name": "stdout",
          "text": [
            "[[ 0  1  2  6  7  8]\n",
            " [ 3  4  5  9 10 11]]\n",
            "[[ 0  3  6  9]\n",
            " [ 1  4  7 10]\n",
            " [ 2  5  8 11]]\n"
          ]
        }
      ]
    },
    {
      "cell_type": "markdown",
      "metadata": {
        "id": "O-AZHlQMQ5jI"
      },
      "source": [
        "**예제 13**\n",
        "\n",
        "아래 그림을 설명하는 코드를 차례대로 작성하세요.\n",
        "\n",
        "<p align='center'>\n",
        "<img src=https://github.com/yebiny/SkillTreePython-DataAnalysis/blob/main/imgs/ch0104-09.png?raw=true width=440>\n",
        "</p>"
      ]
    },
    {
      "cell_type": "code",
      "metadata": {
        "id": "-Y2ZsVFdQ5jJ",
        "colab": {
          "base_uri": "https://localhost:8080/"
        },
        "outputId": "af533b13-ed75-4bbf-c07f-891ae4532010"
      },
      "source": [
        "a13_1 = np.array([ [0,1],[2,3] ])\n",
        "a13_2 = np.array([ [4,5],[6,7] ])\n",
        "\n",
        "a13_1 = a13_1.reshape(1,2,2)\n",
        "a13_2 = a13_2.reshape(1,2,2)\n",
        "\n",
        "a13 = np.concatenate([a13_1,a13_2], axis = 0)\n",
        "a13, a13.shape"
      ],
      "execution_count": 228,
      "outputs": [
        {
          "output_type": "execute_result",
          "data": {
            "text/plain": [
              "(array([[[0, 1],\n",
              "         [2, 3]],\n",
              " \n",
              "        [[4, 5],\n",
              "         [6, 7]]]), (2, 2, 2))"
            ]
          },
          "metadata": {},
          "execution_count": 228
        }
      ]
    },
    {
      "cell_type": "markdown",
      "metadata": {
        "id": "dAc67rCtUMdH"
      },
      "source": [
        "**예제 14**\n",
        "\n",
        "아래 그림을 설명하는 코드를 차례대로 작성하세요.\n",
        "\n",
        "<p align='center'>\n",
        "<img src=https://github.com/yebiny/SkillTreePython-DataAnalysis/blob/main/imgs/ch0104-10.png?raw=true width=440>\n",
        "</p>"
      ]
    },
    {
      "cell_type": "code",
      "metadata": {
        "id": "hQRgmmV4UMdJ",
        "colab": {
          "base_uri": "https://localhost:8080/"
        },
        "outputId": "6504b5d5-9332-45cc-d7d3-d3e2923cefc9"
      },
      "source": [
        "a14_1 = np.array([ [0,1],[2,3] ])\n",
        "a14_2 = np.array([ [4,5],[6,7] ])\n",
        "\n",
        "a14_1 = a14_1.reshape(2,1,2)\n",
        "a14_2 = a14_2.reshape(2,1,2)\n",
        "\n",
        "a14 = np.concatenate([a14_1,a14_2], axis = 1)\n",
        "a14, a14.shape"
      ],
      "execution_count": 230,
      "outputs": [
        {
          "output_type": "execute_result",
          "data": {
            "text/plain": [
              "(array([[[0, 1],\n",
              "         [4, 5]],\n",
              " \n",
              "        [[2, 3],\n",
              "         [6, 7]]]), (2, 2, 2))"
            ]
          },
          "metadata": {},
          "execution_count": 230
        }
      ]
    },
    {
      "cell_type": "markdown",
      "metadata": {
        "id": "jx_t_a6dYl22"
      },
      "source": [
        "**예제 15**\n",
        "\n",
        "\n",
        "아래 그림을 설명하는 코드를 차례대로 작성하세요. 여기서 알수 있는 사실을 간단히 정리하세요.\n",
        "\n",
        "<p align='center'>\n",
        "<img src=https://github.com/yebiny/SkillTreePython-DataAnalysis/blob/main/imgs/ch0104-11.png?raw=true width=240>\n",
        "</p>"
      ]
    },
    {
      "cell_type": "code",
      "metadata": {
        "id": "xZYEuN8hYl22",
        "colab": {
          "base_uri": "https://localhost:8080/"
        },
        "outputId": "1336bcd0-6ab0-426b-9eff-705a9311764a"
      },
      "source": [
        "a15_1 = np.arange(3).reshape(1,3)\n",
        "a15_2 = np.arange(3,6).reshape(1,3)\n",
        "a15 = np.stack([a15_1,a15_2], axis = -1)\n",
        "a15, a15.shape\n",
        "\n",
        "# stack을 사용하면 2차원이 3차원으로 변환되어 배열을 쌓고, axis=-1 == axis=2와 같은 기능을 한다."
      ],
      "execution_count": 252,
      "outputs": [
        {
          "output_type": "execute_result",
          "data": {
            "text/plain": [
              "(array([[[0, 3],\n",
              "         [1, 4],\n",
              "         [2, 5]]]), (1, 3, 2))"
            ]
          },
          "metadata": {},
          "execution_count": 252
        }
      ]
    },
    {
      "cell_type": "code",
      "source": [
        ""
      ],
      "metadata": {
        "id": "VgxXvLfYjQn9"
      },
      "execution_count": null,
      "outputs": []
    }
  ]
}