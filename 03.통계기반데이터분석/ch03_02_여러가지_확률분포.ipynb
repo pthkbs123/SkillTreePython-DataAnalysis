{
  "nbformat": 4,
  "nbformat_minor": 0,
  "metadata": {
    "colab": {
      "name": "ch03_02_여러가지_확률분포.ipynb",
      "provenance": [],
      "collapsed_sections": []
    },
    "kernelspec": {
      "name": "python3",
      "display_name": "Python 3"
    },
    "language_info": {
      "name": "python"
    }
  },
  "cells": [
    {
      "cell_type": "markdown",
      "metadata": {
        "id": "view-in-github"
      },
      "source": [
        "<a href=\"https://colab.research.google.com/github/yebiny/SkillTreePython-DataAnalysis/blob/main/03.%ED%86%B5%EA%B3%84%EA%B8%B0%EB%B0%98%EB%8D%B0%EC%9D%B4%ED%84%B0%EB%B6%84%EC%84%9D/ch03_02_%EC%97%AC%EB%9F%AC%EA%B0%80%EC%A7%80_%ED%99%95%EB%A5%A0%EB%B6%84%ED%8F%AC.ipynb\" target=\"_parent\"><img src=\"https://colab.research.google.com/assets/colab-badge.svg\" alt=\"Open In Colab\"/></a>"
      ]
    },
    {
      "cell_type": "markdown",
      "source": [
        "# ch03.02. 여러가지 확률 분포\n",
        "---\n",
        "* 날짜: 2022-05-04\n",
        "* 이름: 박태현\n",
        "\n",
        "## 학습내용\n",
        "    * 연속형 확률변수 -> 확률 밀도 함수 -> 연속형 확률 분포\n",
        "      - 균등 분포*\n",
        "      - 정규 분포\n",
        "      - 지수 분포*\n",
        "      - 감마 분포\n",
        "      - 베타 분포*\n",
        "      - 카이제곱 분포\n",
        "    * 이산형 확률변수 -> 확률 질량 함수 -> 이산형 확률 분포\n",
        "      - 베르누이 분포\n",
        "      - 이항분포\n",
        "      - 카테고리 확률 분포\n",
        "      - 포아송 분포\n",
        "      - 기하 분포\n",
        "      - 음이항 분포\n",
        "      - 초기하 분포\n"
      ],
      "metadata": {
        "id": "wWpXZc2fi39U"
      }
    },
    {
      "cell_type": "code",
      "source": [
        "import numpy as np\n",
        "import matplotlib.pyplot as plt\n",
        "import pandas as pd\n",
        "import scipy as sp\n",
        "from scipy import stats\n",
        "from scipy.stats import *"
      ],
      "metadata": {
        "id": "uYLRSgCqw4YZ"
      },
      "execution_count": 7,
      "outputs": []
    },
    {
      "cell_type": "markdown",
      "source": [
        "## 연속형 확률 분포\n",
        "---\n",
        "\n"
      ],
      "metadata": {
        "id": "i76b_rugaaQh"
      }
    },
    {
      "cell_type": "markdown",
      "source": [
        "### **| 정규분포**\n",
        "\n",
        "\\begin{align}\n",
        "\\mathcal{N}(x; \\mu, \\sigma^2) = \\dfrac{1}{\\sqrt{2\\pi\\sigma^2}} \\exp \\left(-\\dfrac{(x-\\mu)^2}{2\\sigma^2}\\right)\n",
        "\\end{align}\n",
        "\n",
        "```\n",
        "sp.stats.norm(mu, std)\n",
        "```"
      ],
      "metadata": {
        "id": "1-OKBt9jah1A"
      }
    },
    {
      "cell_type": "code",
      "source": [
        "mu, std = 0, 1\n",
        "norm = sp.stats.norm(mu, std)"
      ],
      "metadata": {
        "id": "O_8p6vLnan54"
      },
      "execution_count": 34,
      "outputs": []
    },
    {
      "cell_type": "markdown",
      "source": [
        "* 확률 분포\n"
      ],
      "metadata": {
        "id": "K1g-lUcoav1y"
      }
    },
    {
      "cell_type": "code",
      "source": [
        "norm.pdf([-1,0,1])\n",
        "\n",
        "# X = [-1,0,1]\n",
        "# P_X = norm.pdf(X) # 위와 같은 코드"
      ],
      "metadata": {
        "id": "if7zfSErayZP",
        "colab": {
          "base_uri": "https://localhost:8080/"
        },
        "outputId": "6e733c91-2ab9-4cef-e053-36d03cd5971f"
      },
      "execution_count": 35,
      "outputs": [
        {
          "output_type": "execute_result",
          "data": {
            "text/plain": [
              "array([0.24197072, 0.39894228, 0.24197072])"
            ]
          },
          "metadata": {},
          "execution_count": 35
        }
      ]
    },
    {
      "cell_type": "code",
      "source": [
        "X = np.linspace(-5,5,10)\n",
        "P_X = norm.pdf(X)\n",
        "print(P_X)"
      ],
      "metadata": {
        "colab": {
          "base_uri": "https://localhost:8080/"
        },
        "id": "3zzRA9Ueii7S",
        "outputId": "dd04727f-56d6-404a-befc-79b2f2a39ead"
      },
      "execution_count": 36,
      "outputs": [
        {
          "output_type": "stream",
          "name": "stdout",
          "text": [
            "[1.48671951e-06 2.07440309e-04 8.42153448e-03 9.94771388e-02\n",
            " 3.41892294e-01 3.41892294e-01 9.94771388e-02 8.42153448e-03\n",
            " 2.07440309e-04 1.48671951e-06]\n"
          ]
        }
      ]
    },
    {
      "cell_type": "markdown",
      "source": [
        "* 누적 확률 분포\n"
      ],
      "metadata": {
        "id": "GXf2Mnfie-1t"
      }
    },
    {
      "cell_type": "code",
      "source": [
        "F_X = norm.cdf(X)\n",
        "print(F_X)"
      ],
      "metadata": {
        "id": "3XzNesNhe-1z",
        "colab": {
          "base_uri": "https://localhost:8080/"
        },
        "outputId": "c54f2b87-b50b-4352-e232-6822807ef68a"
      },
      "execution_count": 37,
      "outputs": [
        {
          "output_type": "stream",
          "name": "stdout",
          "text": [
            "[2.86651572e-07 5.03521029e-05 2.73660179e-03 4.77903523e-02\n",
            " 2.89257361e-01 7.10742639e-01 9.52209648e-01 9.97263398e-01\n",
            " 9.99949648e-01 9.99999713e-01]\n"
          ]
        }
      ]
    },
    {
      "cell_type": "markdown",
      "source": [
        "* 표본 추출\n",
        "\n"
      ],
      "metadata": {
        "id": "yqKfsYtznOxw"
      }
    },
    {
      "cell_type": "code",
      "source": [
        "rvs = norm.rvs(1000, random_state = 0)\n",
        "plt.hist(rvs)"
      ],
      "metadata": {
        "id": "qCNrdRXEnOxw",
        "colab": {
          "base_uri": "https://localhost:8080/",
          "height": 361
        },
        "outputId": "107a65b5-ff99-4dbe-facc-ab988a68de6d"
      },
      "execution_count": 38,
      "outputs": [
        {
          "output_type": "execute_result",
          "data": {
            "text/plain": [
              "(array([  9.,  20.,  70., 146., 217., 239., 160.,  86.,  38.,  15.]),\n",
              " array([-3.04614305, -2.46559324, -1.88504342, -1.3044936 , -0.72394379,\n",
              "        -0.14339397,  0.43715585,  1.01770566,  1.59825548,  2.1788053 ,\n",
              "         2.75935511]),\n",
              " <a list of 10 Patch objects>)"
            ]
          },
          "metadata": {},
          "execution_count": 38
        },
        {
          "output_type": "display_data",
          "data": {
            "text/plain": [
              "<Figure size 432x288 with 1 Axes>"
            ],
            "image/png": "[encoded data removed]"
          },
          "metadata": {
            "needs_background": "light"
          }
        }
      ]
    },
    {
      "cell_type": "markdown",
      "source": [
        "#### **예제 01. 파라미터 변경-평균**\n",
        "\n",
        "* 표준편차 `1`, 평균이 각각 `0.5, 1, 2, 4`인 확률분포와 확률누적분포를 그리세요."
      ],
      "metadata": {
        "id": "rKj9hDWacrgX"
      }
    },
    {
      "cell_type": "code",
      "source": [
        "mus = [0.5, 1, 2, 4]\n",
        "std = 1\n",
        "X = np.linspace(-10, 10, 100)\n",
        "\n",
        "fig, axis = plt.subplots(1, 2, figsize = (10,4))\n",
        "axes = axis.flatten()\n",
        "\n",
        "for mu in mus : \n",
        "  norm = sp.stats.norm(mu, std)\n",
        "  P_X = norm.pdf(X) # 확률 밀도 함수\n",
        "  F_X = norm.cdf(X) # 누적 밀도 함수\n",
        "\n",
        "  axes[0].plot(X,P_X) # X에 대한 확률 값 그래프\n",
        "  axes[1].plot(X,F_X) # X에 대한 누적 값 그래프\n",
        "  axes[0].set_xlim(-5,8) # 범위 조절\n",
        "  axes[1].set_xlim(-5,8)\n",
        "\n",
        "axes[0].legend(mus) # 라벨링\n",
        "axes[1].legend(mus)"
      ],
      "metadata": {
        "id": "XbHcwBmscrgX",
        "colab": {
          "base_uri": "https://localhost:8080/",
          "height": 283
        },
        "outputId": "6e9d75de-846b-4e4c-cf59-fa2ad033bb25"
      },
      "execution_count": 54,
      "outputs": [
        {
          "output_type": "execute_result",
          "data": {
            "text/plain": [
              "<matplotlib.legend.Legend at 0x7f38b2b47190>"
            ]
          },
          "metadata": {},
          "execution_count": 54
        },
        {
          "output_type": "display_data",
          "data": {
            "text/plain": [
              "<Figure size 720x288 with 2 Axes>"
            ],
            "image/png": "[encoded data removed]"
          },
          "metadata": {
            "needs_background": "light"
          }
        }
      ]
    },
    {
      "cell_type": "markdown",
      "source": [
        "#### **예제 02. 파라미터 변경-표준편차**\n",
        "\n",
        "* 평균 `0`, 표준편차가 각각 `0.5, 1, 2, 4`인 확률분포와 확률누적분포를 그리세요."
      ],
      "metadata": {
        "id": "68PJGdS4bhKx"
      }
    },
    {
      "cell_type": "code",
      "source": [
        "mu = 0\n",
        "stds = [0.5, 1, 2, 4]\n",
        "X = np.linspace(-10, 10, 100)\n",
        "\n",
        "fig, axis = plt.subplots(1, 2, figsize = (10,4))\n",
        "axes = axis.flatten()\n",
        "\n",
        "for std in stds : \n",
        "  norm = sp.stats.norm(mu, std)\n",
        "  P_X = norm.pdf(X) # 확률 밀도 함수\n",
        "  F_X = norm.cdf(X) # 누적 밀도 함수\n",
        "\n",
        "  axes[0].plot(X,P_X) # X에 대한 확률 값 그래프\n",
        "  axes[1].plot(X,F_X) # X에 대한 누적 값 그래프\n",
        "  axes[0].set_xlim(-5,8) # 범위 조절\n",
        "  axes[1].set_xlim(-5,8)\n",
        "\n",
        "axes[0].legend(stds) # 라벨링\n",
        "axes[1].legend(stds)"
      ],
      "metadata": {
        "id": "ar0jleVqaquI",
        "colab": {
          "base_uri": "https://localhost:8080/",
          "height": 283
        },
        "outputId": "7df18a3f-6184-409a-a9c9-5cc3c689e15b"
      },
      "execution_count": 57,
      "outputs": [
        {
          "output_type": "execute_result",
          "data": {
            "text/plain": [
              "<matplotlib.legend.Legend at 0x7f38b2f4b990>"
            ]
          },
          "metadata": {},
          "execution_count": 57
        },
        {
          "output_type": "display_data",
          "data": {
            "text/plain": [
              "<Figure size 720x288 with 2 Axes>"
            ],
            "image/png": "[encoded data removed]"
          },
          "metadata": {
            "needs_background": "light"
          }
        }
      ]
    },
    {
      "cell_type": "markdown",
      "source": [
        "#### **예제 03. 손의 길이**\n",
        "\n",
        "성인 손의 길이의 평균은 15.2cm 이고 표준편차는 2.5cm를 따른다고 합니다. 1000명을 표본으로 뽑고 히스토 그램을 그리세요."
      ],
      "metadata": {
        "id": "IM5omP40m7QE"
      }
    },
    {
      "cell_type": "code",
      "source": [
        "mu = 15.2\n",
        "stds = 2.5\n",
        "X = np.arange(1000)\n",
        "\n",
        "\n",
        "norm = sp.stats.norm(mu, std)\n",
        "_ = plt.hist(norm.rvs(1000))"
      ],
      "metadata": {
        "id": "Ogc5cyhtnIuA",
        "colab": {
          "base_uri": "https://localhost:8080/",
          "height": 265
        },
        "outputId": "92b0d3b0-a479-42f8-b844-948b71ac0ddd"
      },
      "execution_count": 65,
      "outputs": [
        {
          "output_type": "display_data",
          "data": {
            "text/plain": [
              "<Figure size 432x288 with 1 Axes>"
            ],
            "image/png": "[encoded data removed]"
          },
          "metadata": {
            "needs_background": "light"
          }
        }
      ]
    },
    {
      "cell_type": "markdown",
      "source": [
        "### **| 카이제곱 분포**\n",
        "\n",
        "\\begin{align}\n",
        "\\chi^2(x; \\nu) = \\frac{x^{(\\nu/2-1)} e^{-x/2}}{2^{\\nu/2} \\Gamma\\left(\\frac{\\nu}{2}\\right)}\n",
        "\\end{align}\n",
        "\n",
        "```\n",
        "sp.stats.chi2(df=df)\n",
        "```"
      ],
      "metadata": {
        "id": "3-ZZ9iGbgpQN"
      }
    },
    {
      "cell_type": "code",
      "source": [
        "chi = sp.stats.chi2(df=1)"
      ],
      "metadata": {
        "id": "RU7CmupYgpQN"
      },
      "execution_count": 66,
      "outputs": []
    },
    {
      "cell_type": "markdown",
      "source": [
        "* 확률 분포\n"
      ],
      "metadata": {
        "id": "PCozJCXVgpQN"
      }
    },
    {
      "cell_type": "code",
      "source": [
        "P_C = chi.pdf(1)"
      ],
      "metadata": {
        "id": "s3y8Xi8ugpQN"
      },
      "execution_count": 69,
      "outputs": []
    },
    {
      "cell_type": "markdown",
      "source": [
        "* 누적 확률 분포\n"
      ],
      "metadata": {
        "id": "Q2KLFkCkgpQO"
      }
    },
    {
      "cell_type": "code",
      "source": [
        "C_C = chi.cdf(1)"
      ],
      "metadata": {
        "id": "Ga1U8gwjgpQO"
      },
      "execution_count": 70,
      "outputs": []
    },
    {
      "cell_type": "markdown",
      "source": [
        "* 표본 추출\n"
      ],
      "metadata": {
        "id": "zlxOZPKVn78e"
      }
    },
    {
      "cell_type": "code",
      "source": [
        "norm.rvs(100)"
      ],
      "metadata": {
        "id": "RXHpaI2Cn78f",
        "colab": {
          "base_uri": "https://localhost:8080/"
        },
        "outputId": "d15413e6-3f74-4ac0-cdda-fe4d7b6388fc"
      },
      "execution_count": 71,
      "outputs": [
        {
          "output_type": "execute_result",
          "data": {
            "text/plain": [
              "array([16.99530941, 16.00797199, 14.65171176, 15.81981271, 19.70747026,\n",
              "       19.97779218, 17.2002473 , 12.96994361, 13.85850271, 17.42308893,\n",
              "        9.12561792, 17.45473124, 15.58454511, 20.56561921, 15.84304663,\n",
              "       15.54184762, 11.49235954, 22.26525492, 11.72736597, 14.1478364 ,\n",
              "       19.34826924, 14.95164967,  8.0158463 , 12.17375586, 11.6595137 ,\n",
              "       15.4231786 , 14.38634977, 12.47922761, 17.69238527,  8.59710675,\n",
              "       15.78852967, 16.08125479,  9.80941553, 19.70463164, 22.48808442,\n",
              "       17.12318341, 22.37872763, 11.88130424, 14.41977567, 13.60760831,\n",
              "       17.45656444, 10.60289274, 19.11722108, 22.95205183,  8.071533  ,\n",
              "       15.35539796, 16.18259386, 12.58074455, 20.83940424, 10.64484703,\n",
              "       14.94718746, 21.65766087, 12.02723959, 17.28702713, 14.24940294,\n",
              "       10.28895114, 11.82571287, 13.53576474, 18.07874372, 12.92881147,\n",
              "       14.10036442, 13.67174806, 14.44384287, 12.61071607, 11.3754908 ,\n",
              "       17.31811923, 18.54652593, 16.57972408, 11.10125968, 18.98113512,\n",
              "       17.47969194, 16.97817263,  7.55051427,  6.75292322, 12.76355577,\n",
              "       14.55408157, 15.67821894, 12.23675812, 20.21618341, 14.83106433,\n",
              "       13.07628461, 13.97733265, 19.99316627, 12.31042595, 23.71397928,\n",
              "       11.13137991, 18.95196334, 10.341892  , 15.36059642, 12.10440944,\n",
              "       15.46076648, 12.07490375, 15.76761965,  9.2799957 ,  8.99426747,\n",
              "       14.27031144, 19.37760808, 14.23158673, 14.5897623 , 21.66344955])"
            ]
          },
          "metadata": {},
          "execution_count": 71
        }
      ]
    },
    {
      "cell_type": "markdown",
      "source": [
        "#### **예제 01. 파라미터 변경-자유도**\n",
        "\n",
        "* 자유도(df) 값이 각각 `1,2,3,4`인 카이제곱분포와 누적 확률 분포를 그리세요."
      ],
      "metadata": {
        "id": "zPzWqeCThJss"
      }
    },
    {
      "cell_type": "code",
      "source": [
        "dfs = [1,2,3,4]\n",
        "\n",
        "X = np.linspace(-5, 10, 100)\n",
        "\n",
        "fig, axis = plt.subplots(1, 2, figsize = (10,4))\n",
        "axes = axis.flatten()\n",
        "\n",
        "for df in dfs : \n",
        "  chi = sp.stats.chi2(df=df)\n",
        "  P_X = chi.pdf(X) # 확률 밀도 함수\n",
        "  F_X = chi.cdf(X) # 누적 밀도 함수\n",
        "\n",
        "  axes[0].plot(X,P_X) # X에 대한 확률 값 그래프\n",
        "  axes[1].plot(X,F_X) # X에 대한 누적 값 그래프\n",
        "\n",
        "axes[0].legend(dfs) # 라벨링\n",
        "axes[1].legend(dfs)"
      ],
      "metadata": {
        "id": "oLJOwFs0hJss",
        "colab": {
          "base_uri": "https://localhost:8080/",
          "height": 283
        },
        "outputId": "40c711dd-ad0f-4ca5-b328-a963f7538a37"
      },
      "execution_count": 80,
      "outputs": [
        {
          "output_type": "execute_result",
          "data": {
            "text/plain": [
              "<matplotlib.legend.Legend at 0x7f38b2711cd0>"
            ]
          },
          "metadata": {},
          "execution_count": 80
        },
        {
          "output_type": "display_data",
          "data": {
            "text/plain": [
              "<Figure size 720x288 with 2 Axes>"
            ],
            "image/png": "[encoded data removed]"
          },
          "metadata": {
            "needs_background": "light"
          }
        }
      ]
    },
    {
      "cell_type": "markdown",
      "source": [
        "### **| 감마분포**\n",
        "\n",
        "\\begin{align}\n",
        "\\text{Gam}(x;a,b) = \\frac{1}{\\Gamma(a)} b^a x^{a-1}e^{-bx}\n",
        "\\end{align}\n",
        "\n",
        "```\n",
        "sp.stats.gamma(a=a, b=1)\n",
        "```"
      ],
      "metadata": {
        "id": "I4cJJ7BikOwC"
      }
    },
    {
      "cell_type": "code",
      "source": [
        "gam = sp.stats.gamma(a= 1)"
      ],
      "metadata": {
        "id": "ai3TmH9kkOwC"
      },
      "execution_count": 84,
      "outputs": []
    },
    {
      "cell_type": "markdown",
      "source": [
        "* 확률 분포"
      ],
      "metadata": {
        "id": "NcMJTjsZkOwC"
      }
    },
    {
      "cell_type": "code",
      "source": [
        "P_G = gam.pdf(1)\n",
        "P_G"
      ],
      "metadata": {
        "id": "NzelXp2kkOwC",
        "colab": {
          "base_uri": "https://localhost:8080/"
        },
        "outputId": "5424562c-28ae-423e-f2e1-f3245047b1e3"
      },
      "execution_count": 87,
      "outputs": [
        {
          "output_type": "execute_result",
          "data": {
            "text/plain": [
              "0.36787944117144233"
            ]
          },
          "metadata": {},
          "execution_count": 87
        }
      ]
    },
    {
      "cell_type": "markdown",
      "source": [
        "* 누적 확률 분포\n"
      ],
      "metadata": {
        "id": "YpsnR4AMkOwD"
      }
    },
    {
      "cell_type": "code",
      "source": [
        "F_G = gam.cdf(1)\n",
        "F_G"
      ],
      "metadata": {
        "id": "6xuAfh80kOwD",
        "colab": {
          "base_uri": "https://localhost:8080/"
        },
        "outputId": "a929d09a-ba6f-4a1f-d107-d7642069a7c0"
      },
      "execution_count": 88,
      "outputs": [
        {
          "output_type": "execute_result",
          "data": {
            "text/plain": [
              "0.6321205588285577"
            ]
          },
          "metadata": {},
          "execution_count": 88
        }
      ]
    },
    {
      "cell_type": "markdown",
      "source": [
        "* 표본 추출"
      ],
      "metadata": {
        "id": "sapQZAdtoYSX"
      }
    },
    {
      "cell_type": "code",
      "source": [
        "C_G = gam.rvs(100)\n",
        "C_G"
      ],
      "metadata": {
        "id": "jxd1q3o_oYSY",
        "colab": {
          "base_uri": "https://localhost:8080/"
        },
        "outputId": "d79f0088-104c-4166-d310-60acbf8690f5"
      },
      "execution_count": 89,
      "outputs": [
        {
          "output_type": "execute_result",
          "data": {
            "text/plain": [
              "array([3.13059536, 0.67868246, 0.58001929, 1.45675103, 0.93724558,\n",
              "       0.4461644 , 1.25491145, 0.21615333, 1.21522552, 0.47797556,\n",
              "       1.40443903, 0.57095048, 0.57630407, 0.03195248, 0.09635854,\n",
              "       0.1646002 , 1.11265405, 1.07595526, 0.55437186, 1.82384196,\n",
              "       0.54331349, 0.3586707 , 0.23613875, 1.4860044 , 0.04941188,\n",
              "       0.41132302, 0.15853352, 0.79194462, 1.10460289, 0.85488947,\n",
              "       1.259576  , 0.76070718, 0.41738522, 0.86003226, 2.77268233,\n",
              "       0.30683607, 3.38931081, 0.06512871, 2.34543421, 1.63112899,\n",
              "       0.51014228, 3.19562859, 0.36051592, 0.07036048, 0.60683287,\n",
              "       1.00696939, 0.29942409, 0.90523464, 0.37691847, 4.32638834,\n",
              "       0.58425071, 1.36675124, 1.31274071, 0.92918235, 0.52350642,\n",
              "       0.72211636, 1.7747015 , 1.99577905, 0.07268779, 3.55391431,\n",
              "       1.88472604, 2.18639347, 0.83243651, 1.85549467, 0.29371582,\n",
              "       0.65275386, 0.03610066, 0.30964764, 0.66358962, 0.70881587,\n",
              "       0.02668427, 0.1621968 , 0.14288924, 1.12809489, 1.27230603,\n",
              "       0.20499687, 1.87753787, 0.8144568 , 0.49302177, 0.39072616,\n",
              "       0.67737579, 3.89708436, 0.07179324, 0.84529758, 0.50713608,\n",
              "       0.97872422, 0.61218724, 0.01133643, 0.9274881 , 0.11304161,\n",
              "       1.19205437, 1.04515638, 0.43860775, 0.03120911, 0.40077028,\n",
              "       0.11713959, 0.48759919, 3.37005212, 1.54025397, 0.01969554])"
            ]
          },
          "metadata": {},
          "execution_count": 89
        }
      ]
    },
    {
      "cell_type": "markdown",
      "source": [
        "#### **예제 01. 파라미터 변경-a**\n",
        "\n",
        "* a 값이 각각 `1,2,4,8`인 감마 분포와 누적 확률 분포를 그리세요."
      ],
      "metadata": {
        "id": "BxtZ4WMcmb_r"
      }
    },
    {
      "cell_type": "code",
      "source": [
        "A = [1,2,4,8]\n",
        "\n",
        "X = np.linspace(-5, 10, 100)\n",
        "\n",
        "fig, axis = plt.subplots(1, 2, figsize = (10,4))\n",
        "axes = axis.flatten()\n",
        "\n",
        "for a_s in A : \n",
        "  gam = sp.stats.gamma(a= a_s)\n",
        "  P_G = gam.pdf(X) # 확률 밀도 함수\n",
        "  F_G = gam.cdf(X) # 누적 밀도 함수\n",
        "\n",
        "  axes[0].plot(X,P_G) # X에 대한 확률 값 그래프\n",
        "  \n",
        "  axes[1].plot(X,F_G) # X에 대한 누적 값 그래프\n",
        "\n",
        "axes[0].legend(A) # 라벨링\n",
        "axes[1].legend(A)"
      ],
      "metadata": {
        "id": "VU-dYTDCmb_r",
        "colab": {
          "base_uri": "https://localhost:8080/",
          "height": 283
        },
        "outputId": "15189a18-9942-40da-8a37-e0dc26ebccf1"
      },
      "execution_count": 90,
      "outputs": [
        {
          "output_type": "execute_result",
          "data": {
            "text/plain": [
              "<matplotlib.legend.Legend at 0x7f38b2291a50>"
            ]
          },
          "metadata": {},
          "execution_count": 90
        },
        {
          "output_type": "display_data",
          "data": {
            "text/plain": [
              "<Figure size 720x288 with 2 Axes>"
            ],
            "image/png": "[encoded data removed]"
          },
          "metadata": {
            "needs_background": "light"
          }
        }
      ]
    },
    {
      "cell_type": "markdown",
      "source": [
        "###균등분포"
      ],
      "metadata": {
        "id": "IaCTnlBmw_L_"
      }
    },
    {
      "cell_type": "code",
      "source": [
        "test1 = sp.stats.uniform(1)\n",
        "test1"
      ],
      "metadata": {
        "colab": {
          "base_uri": "https://localhost:8080/"
        },
        "id": "N_qlUJf0xKiH",
        "outputId": "36530c13-d588-4f4b-91b6-2ca101f30c53"
      },
      "execution_count": 91,
      "outputs": [
        {
          "output_type": "execute_result",
          "data": {
            "text/plain": [
              "<scipy.stats._distn_infrastructure.rv_frozen at 0x7f38b2b69890>"
            ]
          },
          "metadata": {},
          "execution_count": 91
        }
      ]
    },
    {
      "cell_type": "code",
      "source": [
        "P_U = test1.pdf(X)\n",
        "\n",
        "_ = plt.plot(X,P_U)"
      ],
      "metadata": {
        "colab": {
          "base_uri": "https://localhost:8080/",
          "height": 265
        },
        "id": "Zxqf_isHyc3H",
        "outputId": "5bcd390a-c01f-436a-fecb-1c1a0451bd0e"
      },
      "execution_count": 96,
      "outputs": [
        {
          "output_type": "display_data",
          "data": {
            "text/plain": [
              "<Figure size 432x288 with 1 Axes>"
            ],
            "image/png": "[encoded data removed]"
          },
          "metadata": {
            "needs_background": "light"
          }
        }
      ]
    },
    {
      "cell_type": "markdown",
      "source": [
        "###지수분포"
      ],
      "metadata": {
        "id": "TLJE229TxAsw"
      }
    },
    {
      "cell_type": "code",
      "source": [
        "test2 = sp.stats.expon(1)\n",
        "test2"
      ],
      "metadata": {
        "colab": {
          "base_uri": "https://localhost:8080/"
        },
        "id": "czrQDISrxLCw",
        "outputId": "68847a23-65a0-4db6-d467-cb43b6906ca5"
      },
      "execution_count": 93,
      "outputs": [
        {
          "output_type": "execute_result",
          "data": {
            "text/plain": [
              "<scipy.stats._distn_infrastructure.rv_frozen at 0x7f38b2974690>"
            ]
          },
          "metadata": {},
          "execution_count": 93
        }
      ]
    },
    {
      "cell_type": "code",
      "source": [
        "P_E = test2.pdf(X)\n",
        "\n",
        "_ = plt.plot(X,P_E)"
      ],
      "metadata": {
        "colab": {
          "base_uri": "https://localhost:8080/",
          "height": 265
        },
        "id": "kSzK8Gd0ymKw",
        "outputId": "ed3af024-de79-4433-cd34-75a58af48085"
      },
      "execution_count": 97,
      "outputs": [
        {
          "output_type": "display_data",
          "data": {
            "text/plain": [
              "<Figure size 432x288 with 1 Axes>"
            ],
            "image/png": "[encoded data removed]"
          },
          "metadata": {
            "needs_background": "light"
          }
        }
      ]
    },
    {
      "cell_type": "markdown",
      "source": [
        "###베타분포"
      ],
      "metadata": {
        "id": "icdGNLFlxFm_"
      }
    },
    {
      "cell_type": "code",
      "source": [
        "test3 = sp.stats.beta(a = 3, b = 2)"
      ],
      "metadata": {
        "id": "WNRt5_FYxLhP"
      },
      "execution_count": 104,
      "outputs": []
    },
    {
      "cell_type": "code",
      "source": [
        "P_B = test3.pdf(X)\n",
        "\n",
        "_ = plt.plot(X,P_B)"
      ],
      "metadata": {
        "colab": {
          "base_uri": "https://localhost:8080/",
          "height": 265
        },
        "id": "TyK4D8TKypf-",
        "outputId": "f44dc915-edca-427a-c7cb-472357112b0e"
      },
      "execution_count": 105,
      "outputs": [
        {
          "output_type": "display_data",
          "data": {
            "text/plain": [
              "<Figure size 432x288 with 1 Axes>"
            ],
            "image/png": "[encoded data removed]"
          },
          "metadata": {
            "needs_background": "light"
          }
        }
      ]
    },
    {
      "cell_type": "markdown",
      "source": [
        "## 이산형 확률 분포\n",
        "---"
      ],
      "metadata": {
        "id": "u_bkL0sQxRLB"
      }
    },
    {
      "cell_type": "markdown",
      "source": [
        "### |  **베르누이 분포**\n",
        "\n",
        "\\begin{split}\n",
        "\\begin{align}\n",
        "\\text{Bern}(x;\\mu) = \n",
        "\\begin{cases} \n",
        "\\mu   & \\text{if }x=1, \\\\\n",
        "1-\\mu & \\text{if }x=0\n",
        "\\end{cases}\n",
        "\\end{align}\n",
        "\\end{split}\n",
        "\n",
        "* 기본사용\n",
        "\n",
        "```\n",
        "mu = 0.5\n",
        "rv = sp.stats.bernoulli(mu)\n",
        "```"
      ],
      "metadata": {
        "id": "DZR4Ztbb2Hi_"
      }
    },
    {
      "cell_type": "code",
      "source": [
        ""
      ],
      "metadata": {
        "id": "IWbIlD-p2HrT"
      },
      "execution_count": null,
      "outputs": []
    },
    {
      "cell_type": "markdown",
      "source": [
        "* 확률 분포\n"
      ],
      "metadata": {
        "id": "yBSPcMFQ21KV"
      }
    },
    {
      "cell_type": "code",
      "source": [
        ""
      ],
      "metadata": {
        "id": "iAeMmd4U2bsO"
      },
      "execution_count": null,
      "outputs": []
    },
    {
      "cell_type": "markdown",
      "source": [
        "* 누적 확률 분포\n"
      ],
      "metadata": {
        "id": "5SxoR2Zx8md8"
      }
    },
    {
      "cell_type": "code",
      "source": [
        ""
      ],
      "metadata": {
        "id": "K60MYhgC8md9"
      },
      "execution_count": null,
      "outputs": []
    },
    {
      "cell_type": "markdown",
      "source": [
        "* 표본 추출"
      ],
      "metadata": {
        "id": "rJYDT6oQ2ttl"
      }
    },
    {
      "cell_type": "code",
      "source": [
        ""
      ],
      "metadata": {
        "id": "SInJdkhz2Tnu"
      },
      "execution_count": null,
      "outputs": []
    },
    {
      "cell_type": "markdown",
      "source": [
        "#### **예제 01. 동전 던지기**\n",
        "\n",
        "동전을 던져서 앞면이 나온 확률\n",
        "\n"
      ],
      "metadata": {
        "id": "u2x8LQa74A_V"
      }
    },
    {
      "cell_type": "code",
      "source": [
        ""
      ],
      "metadata": {
        "id": "2ZzCyh9q3O7D"
      },
      "execution_count": null,
      "outputs": []
    },
    {
      "cell_type": "markdown",
      "source": [
        "#### **예제 02. 주사위 굴리기**\n",
        "\n",
        "주사위 던져서 6이 나온 확률\n"
      ],
      "metadata": {
        "id": "SdLG6-us4Ws9"
      }
    },
    {
      "cell_type": "code",
      "source": [
        ""
      ],
      "metadata": {
        "id": "HUuwegja4Ws-"
      },
      "execution_count": null,
      "outputs": []
    },
    {
      "cell_type": "markdown",
      "source": [
        "#### **예제 03. 같은 생일**\n",
        "\n",
        "두 사람의 생일 월(月)이 같을 확률\n"
      ],
      "metadata": {
        "id": "zbGZCly_4cok"
      }
    },
    {
      "cell_type": "code",
      "source": [
        ""
      ],
      "metadata": {
        "id": "674nneQn4cok"
      },
      "execution_count": null,
      "outputs": []
    },
    {
      "cell_type": "markdown",
      "source": [
        "#### **예제 04. 주머니 공**\n",
        "주머니에 5개의 공이 들어있고 3개는 빨강, 2개는 하양이다. 공 2개를 뽑았을 때 색깔이 모두 다를 확률은?"
      ],
      "metadata": {
        "id": "7q4TvtJM45nM"
      }
    },
    {
      "cell_type": "code",
      "source": [
        ""
      ],
      "metadata": {
        "id": "McDZjQD845nS"
      },
      "execution_count": null,
      "outputs": []
    },
    {
      "cell_type": "markdown",
      "source": [
        "### |  **이항분포**\n",
        "\n",
        "\\begin{align}\n",
        "\\text{Bin}(x;N,\\mu) = \\binom N x \\; \\mu^x(1-\\mu)^{N-x}\n",
        "\\end{align}\n",
        "\n",
        "\n",
        "```\n",
        "sp.stats.binom(N, mu)\n",
        "```"
      ],
      "metadata": {
        "id": "qvyEmd6IxTQq"
      }
    },
    {
      "cell_type": "code",
      "source": [
        ""
      ],
      "metadata": {
        "id": "zzxF40t6XjoK"
      },
      "execution_count": null,
      "outputs": []
    },
    {
      "cell_type": "markdown",
      "source": [
        "* 확률 분포\n"
      ],
      "metadata": {
        "id": "Ae04eAmT6uKh"
      }
    },
    {
      "cell_type": "code",
      "source": [
        ""
      ],
      "metadata": {
        "id": "aUNhvBEO6uKh"
      },
      "execution_count": null,
      "outputs": []
    },
    {
      "cell_type": "markdown",
      "source": [
        "* 누적 확률  분포"
      ],
      "metadata": {
        "id": "c78f-pb4fga9"
      }
    },
    {
      "cell_type": "code",
      "source": [
        ""
      ],
      "metadata": {
        "id": "liw4-4MJfhQl"
      },
      "execution_count": null,
      "outputs": []
    },
    {
      "cell_type": "markdown",
      "source": [
        "* 확률 변수 표본 추출\n"
      ],
      "metadata": {
        "id": "BfFaFXrz6uKb"
      }
    },
    {
      "cell_type": "code",
      "source": [
        ""
      ],
      "metadata": {
        "id": "Y-wueBTg6uKh"
      },
      "execution_count": null,
      "outputs": []
    },
    {
      "cell_type": "markdown",
      "source": [
        "#### **예제 01. 동전 던지기**\n",
        "\n",
        "* 동전을 1번 던졌을 때 앞면이 나온 횟수의 확률분포\n",
        "\n"
      ],
      "metadata": {
        "id": "mfOJS2Ij63lL"
      }
    },
    {
      "cell_type": "code",
      "source": [
        ""
      ],
      "metadata": {
        "id": "iIZ2aPI90p0_"
      },
      "execution_count": null,
      "outputs": []
    },
    {
      "cell_type": "markdown",
      "source": [
        "* 동전을 10번 던졌을 때 앞면이 나온 횟수의 확률분포\n"
      ],
      "metadata": {
        "id": "Dl3kr5v5aN2R"
      }
    },
    {
      "cell_type": "code",
      "source": [
        ""
      ],
      "metadata": {
        "id": "lLX3TRHMaGFI"
      },
      "execution_count": null,
      "outputs": []
    },
    {
      "cell_type": "markdown",
      "source": [
        "#### **예제 02. 주사위 굴리기**\n",
        "\n",
        "* 주사위를 1번 던져서 짝수가 나온 횟수의 분포"
      ],
      "metadata": {
        "id": "BgCrd71ay0xo"
      }
    },
    {
      "cell_type": "code",
      "source": [
        ""
      ],
      "metadata": {
        "id": "FGt6Yv-hy0xp"
      },
      "execution_count": null,
      "outputs": []
    },
    {
      "cell_type": "markdown",
      "source": [
        "* 주사위를 6번 던져서 짝수가 나온 횟수의 분포"
      ],
      "metadata": {
        "id": "pQfzCX3C1O7e"
      }
    },
    {
      "cell_type": "code",
      "source": [
        ""
      ],
      "metadata": {
        "id": "dLTDN71b1O7f"
      },
      "execution_count": null,
      "outputs": []
    },
    {
      "cell_type": "markdown",
      "source": [
        "* 주사위를 20번 던져서 짝수가 나온 횟수의 분포"
      ],
      "metadata": {
        "id": "fYk90ripZv-p"
      }
    },
    {
      "cell_type": "code",
      "source": [
        ""
      ],
      "metadata": {
        "id": "BBKpHijjZv-u"
      },
      "execution_count": null,
      "outputs": []
    },
    {
      "cell_type": "markdown",
      "source": [
        "* 주사위를 1번 던져서 6이 나온 횟수의 분포"
      ],
      "metadata": {
        "id": "vTgdAm2_yFfp"
      }
    },
    {
      "cell_type": "code",
      "source": [
        ""
      ],
      "metadata": {
        "id": "BjL3tbaPxycR"
      },
      "execution_count": null,
      "outputs": []
    },
    {
      "cell_type": "markdown",
      "source": [
        "* 주사위를 6번 던져서 6이 나온 횟수의 분포"
      ],
      "metadata": {
        "id": "yugdY-bMyf9w"
      }
    },
    {
      "cell_type": "code",
      "source": [
        ""
      ],
      "metadata": {
        "id": "5tOC9IWYyf9w"
      },
      "execution_count": null,
      "outputs": []
    },
    {
      "cell_type": "markdown",
      "source": [
        "* 주사위를 20번 던져서 6이 나온 횟수의 분포"
      ],
      "metadata": {
        "id": "C2uBhXRr8ACU"
      }
    },
    {
      "cell_type": "code",
      "source": [
        ""
      ],
      "metadata": {
        "id": "Ylmr1SNR8ACU"
      },
      "execution_count": null,
      "outputs": []
    },
    {
      "cell_type": "markdown",
      "source": [
        "### **| 카테고리 확률분포**\n",
        "\n",
        "\\begin{split} \n",
        "\\begin{align}\n",
        "\\text{Cat}(x;\\mu) = \n",
        "\\begin{cases}\n",
        "\\mu_1 & \\text{if } x = (1, 0, 0, \\cdots, 0) \\\\\n",
        "\\mu_2 & \\text{if } x = (0, 1, 0, \\cdots, 0) \\\\\n",
        "\\mu_3 & \\text{if } x = (0, 0, 1, \\cdots, 0) \\\\\n",
        "\\vdots & \\vdots \\\\\n",
        "\\mu_K & \\text{if } x = (0, 0, 0, \\cdots, 1) \\\\\n",
        "\\end{cases}\n",
        "\\end{align}\n",
        "\\end{split}\n",
        "\n",
        "\n",
        "```\n",
        "sp.stats.multinomial(1, mu)\n",
        "```"
      ],
      "metadata": {
        "id": "80kMNBkH_zez"
      }
    },
    {
      "cell_type": "code",
      "source": [
        ""
      ],
      "metadata": {
        "id": "uU5fIlSRABLp"
      },
      "execution_count": null,
      "outputs": []
    },
    {
      "cell_type": "markdown",
      "source": [
        "* 확률 분포\n"
      ],
      "metadata": {
        "id": "NPVTGlV3QkX3"
      }
    },
    {
      "cell_type": "code",
      "source": [
        ""
      ],
      "metadata": {
        "id": "rl4lQtsdQkX3"
      },
      "execution_count": null,
      "outputs": []
    },
    {
      "cell_type": "markdown",
      "source": [
        "* 표본 추출\n"
      ],
      "metadata": {
        "id": "B0fGcCvTACrJ"
      }
    },
    {
      "cell_type": "code",
      "source": [
        ""
      ],
      "metadata": {
        "id": "7pIEzR11ACrK"
      },
      "execution_count": null,
      "outputs": []
    },
    {
      "cell_type": "markdown",
      "source": [
        "#### **예제 01.공정하지 않은 주사위**\n",
        "\n",
        "* 주사위의 짝수 면이 나올 확률이 홀수 면이 나올 확률의 2배일 때 확률분포를 그래세요."
      ],
      "metadata": {
        "id": "qTi5CXlcVkgb"
      }
    },
    {
      "cell_type": "code",
      "source": [
        ""
      ],
      "metadata": {
        "id": "j9LKA4bcVkgh"
      },
      "execution_count": null,
      "outputs": []
    },
    {
      "cell_type": "markdown",
      "source": [
        "#### **예제 02. 주머니 공**\n",
        "\n",
        "주머니 안에 빨간색 5개, 노란색, 3개 초록색 2개 공이 들어 있을 때 공 한개를 뽑을 때 나오는 색깔의 확률 분포를 그리세요."
      ],
      "metadata": {
        "id": "4sA7w4hPPDR3"
      }
    },
    {
      "cell_type": "code",
      "source": [
        ""
      ],
      "metadata": {
        "id": "KY8dsIRHPbXm"
      },
      "execution_count": null,
      "outputs": []
    },
    {
      "cell_type": "markdown",
      "source": [
        "#### **예제 03. 선호 자리**\n",
        "\n",
        "교실에 5개의 자리가 있고 학생이 x번째 자리에 앉을 확률이 $f(X=x)=\\frac{1}{2^{(x+1)}}$ 로 주어졌습니다. 확률 분포를 그리세요."
      ],
      "metadata": {
        "id": "nY1r7_HTXbAM"
      }
    },
    {
      "cell_type": "code",
      "source": [
        ""
      ],
      "metadata": {
        "id": "1cbAe4SvXbAM"
      },
      "execution_count": null,
      "outputs": []
    }
  ]
}