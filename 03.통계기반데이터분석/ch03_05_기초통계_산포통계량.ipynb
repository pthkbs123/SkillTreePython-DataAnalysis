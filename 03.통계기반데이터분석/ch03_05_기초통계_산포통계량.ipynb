{
  "nbformat": 4,
  "nbformat_minor": 0,
  "metadata": {
    "colab": {
      "name": "ch03_05_기초통계_산포통계량.ipynb",
      "provenance": [],
      "collapsed_sections": [],
      "include_colab_link": true
    },
    "kernelspec": {
      "name": "python3",
      "display_name": "Python 3"
    },
    "language_info": {
      "name": "python"
    }
  },
  "cells": [
    {
      "cell_type": "markdown",
      "metadata": {
        "id": "view-in-github",
        "colab_type": "text"
      },
      "source": [
        "<a href=\"https://colab.research.google.com/github/pthkbs123/SkillTreePython-DataAnalysis/blob/main/03.%ED%86%B5%EA%B3%84%EA%B8%B0%EB%B0%98%EB%8D%B0%EC%9D%B4%ED%84%B0%EB%B6%84%EC%84%9D/ch03_05_%EA%B8%B0%EC%B4%88%ED%86%B5%EA%B3%84_%EC%82%B0%ED%8F%AC%ED%86%B5%EA%B3%84%EB%9F%89.ipynb\" target=\"_parent\"><img src=\"https://colab.research.google.com/assets/colab-badge.svg\" alt=\"Open In Colab\"/></a>"
      ]
    },
    {
      "cell_type": "markdown",
      "source": [
        "# ch03.05. 기초통계 - 산포통계량\n",
        "---\n",
        "* 날짜: 2022-05-09\n",
        "* 이름: 박태현\n",
        "\n",
        "## 학습내용\n",
        "    * 산포 통계량\n",
        "      - 분산\n",
        "      - 표준편차\n",
        "      - 변동계수\n",
        "      - 스케일링\n",
        "      - 범위와 사분위 범위"
      ],
      "metadata": {
        "id": "wWpXZc2fi39U"
      }
    },
    {
      "cell_type": "code",
      "source": [
        "import numpy as np\n",
        "import matplotlib.pyplot as plt\n",
        "import pandas as pd\n",
        "import seaborn as sns"
      ],
      "metadata": {
        "id": "uYLRSgCqw4YZ"
      },
      "execution_count": 2,
      "outputs": []
    },
    {
      "cell_type": "markdown",
      "source": [
        "##  산포 통계\n",
        "---\n",
        "\n",
        "* 산포란 데이터가 얼마나 퍼져있는지를 의미\n",
        "\n",
        "* 따라서 산포 통계량이란 데이터의 산포를 나타내는 통계량이라 할 수 있다."
      ],
      "metadata": {
        "id": "rx3G1AI_nCTw"
      }
    },
    {
      "cell_type": "markdown",
      "source": [
        "### **| 데이터 생성**\n",
        "\n",
        "```\n",
        "# 아래의 함수는 정규분포를 따르는 랜덤한 실수를 반환합니다.\n",
        "np.random.normal(loc, scale, size)\n",
        "# loc = 평균\n",
        "# scale = 표준편차\n",
        "# size = 추출할 데이터(표본)의 크기\n",
        "```\n"
      ],
      "metadata": {
        "id": "Qamnn6ffuxFL"
      }
    },
    {
      "cell_type": "markdown",
      "source": [
        "* 평균 0, 표준편차 1인 정규분포 데이터 1000개를 생성하기"
      ],
      "metadata": {
        "id": "T8BAXON4vIxO"
      }
    },
    {
      "cell_type": "code",
      "source": [
        "# 넘파이 랜덤 시드 0으로 설정\n",
        "np.random.seed(0)\n",
        "# 넘파이 배열 `a1`로 바인딩\n",
        "a1 = np.random.normal(0, 1, 1000)\n",
        "# 판다스 시리즈 `s1`로 바인딩\n",
        "s1 = pd.Series(np.random.normal(0, 1, 1000))\n"
      ],
      "metadata": {
        "id": "QGUgicvFFpBp"
      },
      "execution_count": 10,
      "outputs": []
    },
    {
      "cell_type": "markdown",
      "source": [
        "* 평균 0, 표준편차 3인 정규분포 데이터 1000개를 생성하기"
      ],
      "metadata": {
        "id": "AS6fAssFvJdi"
      }
    },
    {
      "cell_type": "code",
      "source": [
        "# 넘파이 랜덤 시드 0으로 설정\n",
        "np.random.seed(0)\n",
        "# 넘파이 배열 `a3`로 바인딩\n",
        "a3 = np.random.normal(0, 3, 1000)\n",
        "# 판다스 시리즈 `s3`로 바인딩\n",
        "s3 = pd.Series(np.random.normal(0, 3, 1000))\n"
      ],
      "metadata": {
        "id": "4L4smlIDvPA5"
      },
      "execution_count": 11,
      "outputs": []
    },
    {
      "cell_type": "markdown",
      "source": [
        "* `a1`와 `a3`의 분포 그리기"
      ],
      "metadata": {
        "id": "tiM7-w9kvR7W"
      }
    },
    {
      "cell_type": "code",
      "source": [
        "plt.subplot(2,1,1)\n",
        "plt.hist(a1)\n",
        "plt.subplot(2,1,2)\n",
        "plt.hist(a3)"
      ],
      "metadata": {
        "id": "gz9cjV1FwGQH",
        "colab": {
          "base_uri": "https://localhost:8080/",
          "height": 357
        },
        "outputId": "acf372a6-d0a8-44b9-d69c-0c36c403b025"
      },
      "execution_count": 12,
      "outputs": [
        {
          "output_type": "execute_result",
          "data": {
            "text/plain": [
              "(array([  9.,  20.,  70., 146., 217., 239., 160.,  86.,  38.,  15.]),\n",
              " array([-9.13842916, -7.39677971, -5.65513026, -3.91348081, -2.17183136,\n",
              "        -0.43018191,  1.31146754,  3.05311699,  4.79476644,  6.53641589,\n",
              "         8.27806534]),\n",
              " <a list of 10 Patch objects>)"
            ]
          },
          "metadata": {},
          "execution_count": 12
        },
        {
          "output_type": "display_data",
          "data": {
            "text/plain": [
              "<Figure size 432x288 with 2 Axes>"
            ],
            "image/png": "[encoded data removed]"
          },
          "metadata": {
            "needs_background": "light"
          }
        }
      ]
    },
    {
      "cell_type": "markdown",
      "metadata": {
        "id": "YUHtaUMySASi"
      },
      "source": [
        "### **| 분산**\n",
        "\n",
        "\\begin{align}\n",
        "var(x) = \\frac{\\sum^{n}_{i=1}(x_i-\\mu)^2}{n-1} \n",
        "\\end{align}\n",
        "\\begin{align}\n",
        " & \\\\\n",
        " & x_i :? \\\\\n",
        " & \\mu : ?\\\\\n",
        " & n : ?\\\\ \n",
        "\\end{align}\n",
        "\n",
        "\n",
        "```\n",
        "np.var(a, ddof) \n",
        "a.var(ddof)\n",
        "s.var(ddof)\n",
        "```"
      ]
    },
    {
      "cell_type": "markdown",
      "source": [
        "* `a1`과 `a3`의 분산을 계산"
      ],
      "metadata": {
        "id": "XsFgISoBwYFX"
      }
    },
    {
      "cell_type": "code",
      "execution_count": 19,
      "metadata": {
        "id": "SXfmaEFfSASj",
        "colab": {
          "base_uri": "https://localhost:8080/"
        },
        "outputId": "8cd416d9-8777-4628-bfc2-2651418c3b83"
      },
      "outputs": [
        {
          "output_type": "execute_result",
          "data": {
            "text/plain": [
              "(0.9742344563121542, 8.768110106809388)"
            ]
          },
          "metadata": {},
          "execution_count": 19
        }
      ],
      "source": [
        "ddof = 1\n",
        "\n",
        "a1.var(), a3.var()"
      ]
    },
    {
      "cell_type": "markdown",
      "metadata": {
        "id": "Nx5x3UnTSASk"
      },
      "source": [
        "### **| 표준편차**\n",
        "\n",
        "\n",
        "\\begin{align}\n",
        "std(x)= \\sqrt{var(x)} = \n",
        "\\sqrt{\\frac{\\sum^{n}_{i=1}(x_i-\\mu)^2}{n-1}} \n",
        "\\end{align}\n",
        "\\begin{align}\n",
        " & \\\\\n",
        " & x_i : ? \\\\\n",
        " & \\mu : ?\\\\\n",
        " & n : ?\\\\ \n",
        "\\end{align}\n",
        "\n",
        "\n",
        "```\n",
        "np.std(a, ddof) \n",
        "a.std(ddof)\n",
        "s.std(ddof)\n",
        "```"
      ]
    },
    {
      "cell_type": "markdown",
      "source": [
        "* `a1`과 `a3`의 표준편차 계산"
      ],
      "metadata": {
        "id": "JS7Nh7HIwx3l"
      }
    },
    {
      "cell_type": "code",
      "execution_count": 20,
      "metadata": {
        "id": "dXnFgMtnwx3m",
        "colab": {
          "base_uri": "https://localhost:8080/"
        },
        "outputId": "5b815157-f45d-4e3b-b9ae-71e09fad6ba3"
      },
      "outputs": [
        {
          "output_type": "execute_result",
          "data": {
            "text/plain": [
              "(0.9870331586690257, 2.9610994760070772)"
            ]
          },
          "metadata": {},
          "execution_count": 20
        }
      ],
      "source": [
        "a1.std(), a3.std()"
      ]
    },
    {
      "cell_type": "markdown",
      "source": [
        "* `a1`의 분산과 `a1`의 표준편차제곱을 비교"
      ],
      "metadata": {
        "id": "KTIXQnIkw9iQ"
      }
    },
    {
      "cell_type": "code",
      "source": [
        "a1.var(), (a1.std() ** 2)"
      ],
      "metadata": {
        "id": "R7gkCYF1xC06",
        "colab": {
          "base_uri": "https://localhost:8080/"
        },
        "outputId": "90c6e7c8-c09e-40d7-8ac4-7b3cc286dbff"
      },
      "execution_count": 21,
      "outputs": [
        {
          "output_type": "execute_result",
          "data": {
            "text/plain": [
              "(0.9742344563121542, 0.9742344563121541)"
            ]
          },
          "metadata": {},
          "execution_count": 21
        }
      ]
    },
    {
      "cell_type": "markdown",
      "source": [
        "### **| 변동계수**\n",
        "\n",
        "분산 혹은 표준편차를 스케일에 영향을 받지 않도록 데이터를 스케일링 한 후 분산 혹은 표준편차를 계산\n",
        "\n",
        "\n",
        "\\begin{align}\n",
        "변동계수 = \\frac{var(x) \\ or \\ std(x) }{Scale(x)} \n",
        "\\end{align}\n"
      ],
      "metadata": {
        "id": "G6ilAY14xkFc"
      }
    },
    {
      "cell_type": "markdown",
      "metadata": {
        "id": "KY2wlX1ASASl"
      },
      "source": [
        "#### **변동계수의 필요성**"
      ]
    },
    {
      "cell_type": "markdown",
      "source": [
        "* `a1`의 모든 요소에 10을 곱한 배열 `a10`을 생성"
      ],
      "metadata": {
        "id": "QFH6d7L9xSK9"
      }
    },
    {
      "cell_type": "code",
      "execution_count": 22,
      "metadata": {
        "scrolled": true,
        "id": "m5lYDjtESASm"
      },
      "outputs": [],
      "source": [
        "a10 = a1 * 10"
      ]
    },
    {
      "cell_type": "markdown",
      "source": [
        "* `a1`과 `a10`의 분산 계산"
      ],
      "metadata": {
        "id": "2MWKjJX0xki1"
      }
    },
    {
      "cell_type": "code",
      "source": [
        "a1.var(), a10.var()"
      ],
      "metadata": {
        "id": "sgoJOUH3xopo",
        "colab": {
          "base_uri": "https://localhost:8080/"
        },
        "outputId": "c59c0fff-1977-438f-da41-ad6b1f256998"
      },
      "execution_count": 25,
      "outputs": [
        {
          "output_type": "execute_result",
          "data": {
            "text/plain": [
              "(0.9742344563121542, 97.42344563121542)"
            ]
          },
          "metadata": {},
          "execution_count": 25
        }
      ]
    },
    {
      "cell_type": "markdown",
      "metadata": {
        "id": "MdTQTl-ZSASo"
      },
      "source": [
        "#### **스케일링: min-max**\n",
        "\n",
        "**min-max scaling** : 최대값을 1로, 최소값을 0으로 스켕일링 하는  기법.\n",
        "\n",
        "\\begin{align}\n",
        "minmax(x)=\\frac{x-min(x)}{max(x)-min(x)}\n",
        "\\end{align}\n",
        "\n",
        "\\begin{align}\n",
        " & \\\\\n",
        " & x : ? \\\\\n",
        " & min(x) : ?\\\\\n",
        " & max(x) : ?\\\\ \n",
        "\\end{align}\n",
        "\n"
      ]
    },
    {
      "cell_type": "markdown",
      "source": [
        "* min-max 함수 생성"
      ],
      "metadata": {
        "id": "ZtfohRLysjzk"
      }
    },
    {
      "cell_type": "code",
      "source": [
        "def minmax(x):\n",
        "  return x - x.min() / x.max() - x.min()"
      ],
      "metadata": {
        "id": "59mzhjd5r4j2"
      },
      "execution_count": 26,
      "outputs": []
    },
    {
      "cell_type": "markdown",
      "source": [
        "* `a1`을 min-max scaling 하여 `a1_minmax` 로 바인딩"
      ],
      "metadata": {
        "id": "y2-9KhEksc2A"
      }
    },
    {
      "cell_type": "code",
      "execution_count": 27,
      "metadata": {
        "id": "xTMzYDPHSASo"
      },
      "outputs": [],
      "source": [
        "a1_minmax = minmax(a1)"
      ]
    },
    {
      "cell_type": "markdown",
      "source": [
        "* `a10`을 min-max scaling 하여 `a10_minmax` 로 바인딩"
      ],
      "metadata": {
        "id": "k_Ci-tvAyC1W"
      }
    },
    {
      "cell_type": "code",
      "execution_count": 28,
      "metadata": {
        "id": "ceA7GBikyC1W"
      },
      "outputs": [],
      "source": [
        "a10_minmax = minmax(a10)"
      ]
    },
    {
      "cell_type": "markdown",
      "source": [
        "* `a1`과 `a1_minmax`의 분포를 (1x2) 플롯에 그려 비교하기"
      ],
      "metadata": {
        "id": "hpHAqKBZyIee"
      }
    },
    {
      "cell_type": "code",
      "source": [
        "plt.subplot(211)\n",
        "plt.hist(a1)\n",
        "plt.subplot(212)\n",
        "plt.hist(a1_minmax)"
      ],
      "metadata": {
        "id": "ZHJYrPCSyO4a",
        "colab": {
          "base_uri": "https://localhost:8080/",
          "height": 357
        },
        "outputId": "3011e6c9-7994-41f8-85a1-6faa74d4a5a8"
      },
      "execution_count": 30,
      "outputs": [
        {
          "output_type": "execute_result",
          "data": {
            "text/plain": [
              "(array([  9.,  20.,  70., 146., 217., 239., 160.,  86.,  38.,  15.]),\n",
              " array([1.10393296, 1.68448278, 2.26503259, 2.84558241, 3.42613223,\n",
              "        4.00668204, 4.58723186, 5.16778168, 5.74833149, 6.32888131,\n",
              "        6.90943113]),\n",
              " <a list of 10 Patch objects>)"
            ]
          },
          "metadata": {},
          "execution_count": 30
        },
        {
          "output_type": "display_data",
          "data": {
            "text/plain": [
              "<Figure size 432x288 with 2 Axes>"
            ],
            "image/png": "[encoded data removed]"
          },
          "metadata": {
            "needs_background": "light"
          }
        }
      ]
    },
    {
      "cell_type": "markdown",
      "source": [
        "* `a10`과 `a10_minmax`의 분포를 (1x2) 플롯에 그려 비교하기"
      ],
      "metadata": {
        "id": "ZfJ52b-iysv1"
      }
    },
    {
      "cell_type": "code",
      "source": [
        "plt.subplot(211)\n",
        "plt.hist(a10)\n",
        "plt.subplot(212)\n",
        "plt.hist(a10_minmax)"
      ],
      "metadata": {
        "id": "vrBzYymhysv1",
        "colab": {
          "base_uri": "https://localhost:8080/",
          "height": 357
        },
        "outputId": "093d95c0-e91d-4547-cbf5-e8127303fc18"
      },
      "execution_count": 31,
      "outputs": [
        {
          "output_type": "execute_result",
          "data": {
            "text/plain": [
              "(array([  9.,  20.,  70., 146., 217., 239., 160.,  86.,  38.,  15.]),\n",
              " array([ 1.10393296,  6.90943113, 12.7149293 , 18.52042747, 24.32592563,\n",
              "        30.1314238 , 35.93692197, 41.74242014, 47.54791831, 53.35341648,\n",
              "        59.15891465]),\n",
              " <a list of 10 Patch objects>)"
            ]
          },
          "metadata": {},
          "execution_count": 31
        },
        {
          "output_type": "display_data",
          "data": {
            "text/plain": [
              "<Figure size 432x288 with 2 Axes>"
            ],
            "image/png": "[encoded data removed]"
          },
          "metadata": {
            "needs_background": "light"
          }
        }
      ]
    },
    {
      "cell_type": "markdown",
      "source": [
        "* `a1`과 `a10` 두 데이터의 스케일링 전, 후 데이터가 가지는 값의 범위를 요약하기"
      ],
      "metadata": {
        "id": "GxWolaowzd7X"
      }
    },
    {
      "cell_type": "code",
      "source": [
        "a1.max() - a1.min(), a10.max() - a10.min()"
      ],
      "metadata": {
        "id": "dLdhab_DznRS",
        "colab": {
          "base_uri": "https://localhost:8080/"
        },
        "outputId": "7643540d-a4fa-4ed1-e447-a0c0119555a9"
      },
      "execution_count": 32,
      "outputs": [
        {
          "output_type": "execute_result",
          "data": {
            "text/plain": [
              "(5.805498168821509, 58.05498168821509)"
            ]
          },
          "metadata": {},
          "execution_count": 32
        }
      ]
    },
    {
      "cell_type": "markdown",
      "source": [
        "* 스케일링 후 `a1_minmax`, `a10_minmax`의 분산 구하기"
      ],
      "metadata": {
        "id": "hBPs1JzyzuM9"
      }
    },
    {
      "cell_type": "code",
      "source": [
        "a1_minmax.var(), a10_minmax.var()"
      ],
      "metadata": {
        "id": "11gRv_kUzztl",
        "colab": {
          "base_uri": "https://localhost:8080/"
        },
        "outputId": "99cc330f-03a5-425d-8674-21e227f81c32"
      },
      "execution_count": 33,
      "outputs": [
        {
          "output_type": "execute_result",
          "data": {
            "text/plain": [
              "(0.9742344563121543, 97.42344563121542)"
            ]
          },
          "metadata": {},
          "execution_count": 33
        }
      ]
    },
    {
      "cell_type": "markdown",
      "metadata": {
        "id": "URGjKjGdsoqV"
      },
      "source": [
        "#### **스케일링: z-score**\n",
        "\n",
        "**standard(z-socre) scaling** : 최대값을 1로, 최소값을 0으로 스켕일링 하는  기법.\n",
        "\n",
        "\\begin{align}\n",
        "\\\\\n",
        "standard(x)=\\frac{x-\\mu}{\\sigma}\n",
        "\\end{align}\n",
        "\\begin{align}\n",
        " & \\\\\n",
        " & x : ? \\\\\n",
        " & \\mu : ?\\\\\n",
        " & \\sigma : ?\\\\ \n",
        "\\end{align}\n"
      ]
    },
    {
      "cell_type": "markdown",
      "source": [
        "* standard 함수 생성"
      ],
      "metadata": {
        "id": "-m5HGk_QsoqV"
      }
    },
    {
      "cell_type": "code",
      "source": [
        "def standard(x) : \n",
        "  return x - x.mean() / x.std()"
      ],
      "metadata": {
        "id": "jLIfy5MYsoqW"
      },
      "execution_count": 34,
      "outputs": []
    },
    {
      "cell_type": "markdown",
      "source": [
        "* `a1`을 standard 하여 `a1_standard` 로 바인딩"
      ],
      "metadata": {
        "id": "MLhSVJcJz_Ie"
      }
    },
    {
      "cell_type": "code",
      "execution_count": 35,
      "metadata": {
        "id": "phcra2xpz_If"
      },
      "outputs": [],
      "source": [
        "a1_standard = standard(a1)"
      ]
    },
    {
      "cell_type": "markdown",
      "source": [
        "* `a10`을 standard 하여 `a10_standard` 로 바인딩"
      ],
      "metadata": {
        "id": "CXVTHP-2z_If"
      }
    },
    {
      "cell_type": "code",
      "execution_count": 36,
      "metadata": {
        "id": "7xBnlZmIz_If"
      },
      "outputs": [],
      "source": [
        "a10_standard = standard(a10)"
      ]
    },
    {
      "cell_type": "markdown",
      "source": [
        "* `a1`과 `a10_standard`의 분포를 (1x2) 플롯에 그려 비교하기"
      ],
      "metadata": {
        "id": "G-zv1Y9Wz_If"
      }
    },
    {
      "cell_type": "code",
      "source": [
        "plt.subplot(211)\n",
        "plt.hist(a1)\n",
        "plt.subplot(212)\n",
        "plt.hist(a1_standard)"
      ],
      "metadata": {
        "id": "vl70HGvqz_If",
        "colab": {
          "base_uri": "https://localhost:8080/",
          "height": 357
        },
        "outputId": "6d56da4c-d80d-443b-922a-c664ccbb1335"
      },
      "execution_count": 37,
      "outputs": [
        {
          "output_type": "execute_result",
          "data": {
            "text/plain": [
              "(array([  9.,  20.,  70., 146., 217., 239., 160.,  86.,  38.,  15.]),\n",
              " array([-3.0002918 , -2.41974198, -1.83919217, -1.25864235, -0.67809253,\n",
              "        -0.09754272,  0.4830071 ,  1.06355692,  1.64410673,  2.22465655,\n",
              "         2.80520637]),\n",
              " <a list of 10 Patch objects>)"
            ]
          },
          "metadata": {},
          "execution_count": 37
        },
        {
          "output_type": "display_data",
          "data": {
            "text/plain": [
              "<Figure size 432x288 with 2 Axes>"
            ],
            "image/png": "[encoded data removed]"
          },
          "metadata": {
            "needs_background": "light"
          }
        }
      ]
    },
    {
      "cell_type": "markdown",
      "source": [
        "* `a10`과 `a10_standard`의 분포를 (1x2) 플롯에 그려 비교하기"
      ],
      "metadata": {
        "id": "PE9kVQfkz_If"
      }
    },
    {
      "cell_type": "code",
      "source": [
        "plt.subplot(211)\n",
        "plt.hist(a10)\n",
        "plt.subplot(212)\n",
        "plt.hist(a10_standard)"
      ],
      "metadata": {
        "id": "t5G7ewP2z_Ig",
        "colab": {
          "base_uri": "https://localhost:8080/",
          "height": 357
        },
        "outputId": "6db64377-26bc-43b7-e144-11a9eacda1a0"
      },
      "execution_count": 38,
      "outputs": [
        {
          "output_type": "execute_result",
          "data": {
            "text/plain": [
              "(array([  9.,  20.,  70., 146., 217., 239., 160.,  86.,  38.,  15.]),\n",
              " array([-30.41557929, -24.61008113, -18.80458296, -12.99908479,\n",
              "         -7.19358662,  -1.38808845,   4.41740972,  10.22290789,\n",
              "         16.02840606,  21.83390422,  27.63940239]),\n",
              " <a list of 10 Patch objects>)"
            ]
          },
          "metadata": {},
          "execution_count": 38
        },
        {
          "output_type": "display_data",
          "data": {
            "text/plain": [
              "<Figure size 432x288 with 2 Axes>"
            ],
            "image/png": "[encoded data removed]"
          },
          "metadata": {
            "needs_background": "light"
          }
        }
      ]
    },
    {
      "cell_type": "markdown",
      "source": [
        "* `a1`과 `a10` 두 데이터의 스케일링 전, 후 데이터가 가지는 값의 범위를 요약하기"
      ],
      "metadata": {
        "id": "UhZ-Wploz_Ig"
      }
    },
    {
      "cell_type": "code",
      "source": [
        "a1.max() - a1.min(), a10.max() - a10.min()"
      ],
      "metadata": {
        "id": "wHVML9Zpz_Ig",
        "colab": {
          "base_uri": "https://localhost:8080/"
        },
        "outputId": "04e49e25-5750-4d6d-88c3-b540f0370f06"
      },
      "execution_count": 39,
      "outputs": [
        {
          "output_type": "execute_result",
          "data": {
            "text/plain": [
              "(5.805498168821509, 58.05498168821509)"
            ]
          },
          "metadata": {},
          "execution_count": 39
        }
      ]
    },
    {
      "cell_type": "markdown",
      "source": [
        "* 스케일링 후 `a1_standard`, `a10_standard`의 분산 구하기"
      ],
      "metadata": {
        "id": "Za5xe-lDz_Ig"
      }
    },
    {
      "cell_type": "code",
      "source": [
        "a1_standard.var(), a10_standard.var()"
      ],
      "metadata": {
        "id": "xjgMc74tz_Ig",
        "colab": {
          "base_uri": "https://localhost:8080/"
        },
        "outputId": "f4f83d8f-6774-4cc5-f4ec-01813b28a350"
      },
      "execution_count": 40,
      "outputs": [
        {
          "output_type": "execute_result",
          "data": {
            "text/plain": [
              "(0.9742344563121542, 97.42344563121542)"
            ]
          },
          "metadata": {},
          "execution_count": 40
        }
      ]
    },
    {
      "cell_type": "markdown",
      "metadata": {
        "id": "Af9cq1EnSASr"
      },
      "source": [
        "### **| 범위와 사분위 범위**\n",
        "\n",
        "<p align='center'>\n",
        "<img src=https://github.com/yebiny/SkillTreePython-DataAnalysis/blob/main/imgs/ch0305-01.png?raw=true?raw=true width=800>\n",
        "</p>\n"
      ]
    },
    {
      "cell_type": "markdown",
      "source": [
        "* `a10` 의 분포 그리기"
      ],
      "metadata": {
        "id": "h-PX4Us32keF"
      }
    },
    {
      "cell_type": "code",
      "execution_count": 41,
      "metadata": {
        "id": "zwnSE67dSASr",
        "colab": {
          "base_uri": "https://localhost:8080/",
          "height": 361
        },
        "outputId": "4c787d4a-e784-4314-efab-652d84726e6b"
      },
      "outputs": [
        {
          "output_type": "execute_result",
          "data": {
            "text/plain": [
              "(array([  9.,  20.,  70., 146., 217., 239., 160.,  86.,  38.,  15.]),\n",
              " array([-30.46143055, -24.65593238, -18.85043421, -13.04493604,\n",
              "         -7.23943787,  -1.4339397 ,   4.37155846,  10.17705663,\n",
              "         15.9825548 ,  21.78805297,  27.59355114]),\n",
              " <a list of 10 Patch objects>)"
            ]
          },
          "metadata": {},
          "execution_count": 41
        },
        {
          "output_type": "display_data",
          "data": {
            "text/plain": [
              "<Figure size 432x288 with 1 Axes>"
            ],
            "image/png": "[encoded data removed]"
          },
          "metadata": {
            "needs_background": "light"
          }
        }
      ],
      "source": [
        "plt.hist(a10)"
      ]
    },
    {
      "cell_type": "markdown",
      "source": [
        "#### **범위**\n",
        "\n",
        "\\begin{align}\n",
        "\\\\\n",
        "범위 = max(x)-min(x)\n",
        "\\end{align}\n",
        "\n",
        "```\n",
        "np.ptp(x)\n",
        "```"
      ],
      "metadata": {
        "id": "_RZq1F5xzdbT"
      }
    },
    {
      "cell_type": "markdown",
      "source": [
        "* `a10`의 범위 구하기"
      ],
      "metadata": {
        "id": "E21v3wDg3nZy"
      }
    },
    {
      "cell_type": "code",
      "execution_count": 45,
      "metadata": {
        "id": "XC2V_offSASr",
        "colab": {
          "base_uri": "https://localhost:8080/"
        },
        "outputId": "c2869987-08b7-4001-860c-f2f65fcbcf53"
      },
      "outputs": [
        {
          "output_type": "execute_result",
          "data": {
            "text/plain": [
              "(58.05498168821509, 58.05498168821509)"
            ]
          },
          "metadata": {},
          "execution_count": 45
        }
      ],
      "source": [
        "# np.ptp 사용\n",
        "np.ptp(a10)\n",
        "# max-min 사용\n",
        "np.ptp(a10), a10.max() - a10.min()"
      ]
    },
    {
      "cell_type": "markdown",
      "source": [
        "\n",
        "#### **사분위 범위**\n",
        "\n",
        "\\begin{align}\n",
        "\\\\\n",
        "사분위 범위 = 3사분위수 - 1사분위수 = 하위 75 \\% 수 - 하위 25\\% 수\n",
        "\\end{align}\n",
        "\n",
        "```\n",
        "np.quantile(x, percent)\n",
        "```"
      ],
      "metadata": {
        "id": "LgpC0EN1zjmc"
      }
    },
    {
      "cell_type": "markdown",
      "source": [
        "* `a10`의 사분위 범위 구하기"
      ],
      "metadata": {
        "id": "x3nqHdR54ILX"
      }
    },
    {
      "cell_type": "code",
      "execution_count": 47,
      "metadata": {
        "id": "Y857hyZ3SASr",
        "colab": {
          "base_uri": "https://localhost:8080/"
        },
        "outputId": "9bc3761f-3602-48c8-8ae0-e6f76b78f9ae"
      },
      "outputs": [
        {
          "output_type": "execute_result",
          "data": {
            "text/plain": [
              "13.053706612482689"
            ]
          },
          "metadata": {},
          "execution_count": 47
        }
      ],
      "source": [
        "np.quantile(a10, 0.75) - np.quantile(a10, 0.25)"
      ]
    },
    {
      "cell_type": "code",
      "source": [
        ""
      ],
      "metadata": {
        "id": "me6k3_RaPMn4"
      },
      "execution_count": null,
      "outputs": []
    }
  ]
}