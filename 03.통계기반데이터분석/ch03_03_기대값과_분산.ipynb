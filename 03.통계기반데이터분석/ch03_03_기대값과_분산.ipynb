{
  "nbformat": 4,
  "nbformat_minor": 0,
  "metadata": {
    "colab": {
      "name": "ch03_03_기대값과_분산.ipynb",
      "provenance": [],
      "collapsed_sections": [],
      "include_colab_link": true
    },
    "kernelspec": {
      "name": "python3",
      "display_name": "Python 3"
    },
    "language_info": {
      "name": "python"
    }
  },
  "cells": [
    {
      "cell_type": "markdown",
      "metadata": {
        "id": "view-in-github",
        "colab_type": "text"
      },
      "source": [
        "<a href=\"https://colab.research.google.com/github/pthkbs123/SkillTreePython-DataAnalysis/blob/main/03.%ED%86%B5%EA%B3%84%EA%B8%B0%EB%B0%98%EB%8D%B0%EC%9D%B4%ED%84%B0%EB%B6%84%EC%84%9D/ch03_03_%EA%B8%B0%EB%8C%80%EA%B0%92%EA%B3%BC_%EB%B6%84%EC%82%B0.ipynb\" target=\"_parent\"><img src=\"https://colab.research.google.com/assets/colab-badge.svg\" alt=\"Open In Colab\"/></a>"
      ]
    },
    {
      "cell_type": "markdown",
      "source": [
        "# ch04.03. 기대값과 분산\n",
        "---\n",
        "* 날짜: 2022-05-06\n",
        "* 이름: 박태현\n",
        "\n",
        "## 학습내용\n",
        "    - 기대값\n",
        "    - 분산\n",
        "    - 공분산\n",
        "    - 상관계수"
      ],
      "metadata": {
        "id": "wWpXZc2fi39U"
      }
    },
    {
      "cell_type": "code",
      "source": [
        "import numpy as np\n",
        "import matplotlib.pyplot as plt\n",
        "import pandas as pd"
      ],
      "metadata": {
        "id": "uYLRSgCqw4YZ"
      },
      "execution_count": 1,
      "outputs": []
    },
    {
      "cell_type": "markdown",
      "source": [
        "### **| 기댓값**\n",
        "\n",
        "\\begin{align}\n",
        "\\mu_X = \\text{E}[X] = \\sum_{x_i \\in \\Omega} x_ip(x_i) \n",
        "\\end{align}\n"
      ],
      "metadata": {
        "id": "PHt4dICKZZhS"
      }
    },
    {
      "cell_type": "code",
      "source": [
        "def E(X, P = []) : # X , P는 numpy 배열\n",
        "\n",
        "  if not len(P) :\n",
        "    P = np.array([1/len(X)] * len(X))\n",
        "\n",
        "  return np.sum(X * P)"
      ],
      "metadata": {
        "id": "y0hVzVL1ZeBh"
      },
      "execution_count": 10,
      "outputs": []
    },
    {
      "cell_type": "code",
      "source": [
        "X = np.array([1,2])\n",
        "P = np.array([0.5,0.5])\n",
        "\n",
        "E(X), E(X,P)"
      ],
      "metadata": {
        "id": "RQXXbHF7od0n",
        "colab": {
          "base_uri": "https://localhost:8080/"
        },
        "outputId": "13707427-381d-4a3d-e65c-b48bb5a20399"
      },
      "execution_count": 118,
      "outputs": [
        {
          "output_type": "execute_result",
          "data": {
            "text/plain": [
              "(1.5, 1.5)"
            ]
          },
          "metadata": {},
          "execution_count": 118
        }
      ]
    },
    {
      "cell_type": "markdown",
      "source": [
        "#### **예제 01. 공정한 주사위**\n",
        "\n"
      ],
      "metadata": {
        "id": "82a3GtBCNjto"
      }
    },
    {
      "cell_type": "code",
      "source": [
        "X = np.arange(1,7)\n",
        "E(X)"
      ],
      "metadata": {
        "id": "i0hS4O76OIFP",
        "colab": {
          "base_uri": "https://localhost:8080/"
        },
        "outputId": "5108969b-ed6a-4b1d-d049-811835fe2f2b"
      },
      "execution_count": 119,
      "outputs": [
        {
          "output_type": "execute_result",
          "data": {
            "text/plain": [
              "3.5"
            ]
          },
          "metadata": {},
          "execution_count": 119
        }
      ]
    },
    {
      "cell_type": "markdown",
      "source": [
        "#### **예제 02. 공정하지 않은 주사위**\n",
        "\n",
        "짝수가 나올 확률이 홀수가 나올 확률의 두배인 주사위의 기대값을 구하세요."
      ],
      "metadata": {
        "id": "PhvhttZg2JyB"
      }
    },
    {
      "cell_type": "code",
      "source": [
        "X = np.arange(1,7)\n",
        "P = np.array([1/9,2/9,1/9,2/9,1/9,2/9])\n",
        "\n",
        "E(X,P)"
      ],
      "metadata": {
        "id": "tdyZ-8JGaCVY",
        "colab": {
          "base_uri": "https://localhost:8080/"
        },
        "outputId": "bece3a8e-bf43-47f0-efa9-2bffec3c92fc"
      },
      "execution_count": 120,
      "outputs": [
        {
          "output_type": "execute_result",
          "data": {
            "text/plain": [
              "3.666666666666666"
            ]
          },
          "metadata": {},
          "execution_count": 120
        }
      ]
    },
    {
      "cell_type": "markdown",
      "source": [
        "#### **예제 03. 기대값의 성질**\n",
        "\n",
        "X, Y, c 가 아래와 같이 주어졌을 때,\n",
        "```\n",
        "X = np.array([1,2,3,4])\n",
        "Y = np.array([10,20,30,40])\n",
        "c = np.array([4])\n",
        "```\n",
        "\n",
        "다음을 구하세요\n",
        "```\n",
        "E(X)\n",
        "E(Y)\n",
        "E(c)\n",
        "E(X+Y)\n",
        "E(X)+E(Y)\n",
        "E(4X+3)\n",
        "4E(X)+3\n",
        "```"
      ],
      "metadata": {
        "id": "2EgD8eUs5A9g"
      }
    },
    {
      "cell_type": "code",
      "source": [
        "X = np.array([1,2,3,4])\n",
        "Y = np.array([10,20,30,40])\n",
        "c = np.array([4])\n",
        "\n",
        "print( E(X), E(Y), E(c), E(X+Y), E(X)+E(Y), E(4*X+3), 4*E(X)+3 )"
      ],
      "metadata": {
        "id": "mnLuZkE_5Jln",
        "colab": {
          "base_uri": "https://localhost:8080/"
        },
        "outputId": "354e0588-c4af-458d-f538-6341220d4507"
      },
      "execution_count": 30,
      "outputs": [
        {
          "output_type": "stream",
          "name": "stdout",
          "text": [
            "2.5 25.0 4.0 27.5 27.5 13.0 13.0\n"
          ]
        }
      ]
    },
    {
      "cell_type": "markdown",
      "source": [
        "#### **예제 04. 시험 성적**\n",
        "\n",
        "학생 네명의 시험 성적이 다음과 같을 때 총합점수의 평균(국어+수학) 을 두가지 방법으로 구하세요.\n",
        "\n",
        "```\n",
        "X_국어 = np.array([60,70,90,100])\n",
        "X_수학 = np.array([70,30,50,50])\n",
        "```"
      ],
      "metadata": {
        "id": "T7VzCEPR6nGn"
      }
    },
    {
      "cell_type": "code",
      "source": [
        "X_국어 = np.array([60,70,90,100])\n",
        "X_수학 = np.array([70,30,50,50])\n",
        "\n",
        "a = X_국어\n",
        "b = X_수학\n",
        "\n",
        "print((a+b).mean(), E(a+b)) # 가중치가 없으므로 산술평균을 사용해도 된다."
      ],
      "metadata": {
        "id": "GNTcSS3x6nGs",
        "colab": {
          "base_uri": "https://localhost:8080/"
        },
        "outputId": "73c1c388-b6e0-4014-c198-12bf76bc3804"
      },
      "execution_count": 35,
      "outputs": [
        {
          "output_type": "stream",
          "name": "stdout",
          "text": [
            "130.0 130.0\n"
          ]
        }
      ]
    },
    {
      "cell_type": "markdown",
      "source": [
        "### **| 분산**\n",
        "\n",
        "\\begin{align}\n",
        "V(X) = E[(X-E[X])^2]\n",
        "\\end{align}\n"
      ],
      "metadata": {
        "id": "NGufv-OobGkx"
      }
    },
    {
      "cell_type": "code",
      "source": [
        "def V(X, P = []):\n",
        "  if not len(P) :\n",
        "    P = np.array([1/len(X)] * len(X))\n",
        "  return E( (X - E(X,P)) ** 2 )"
      ],
      "metadata": {
        "id": "IbFnU_2xbGky"
      },
      "execution_count": 22,
      "outputs": []
    },
    {
      "cell_type": "code",
      "source": [
        "X = np.array([1,2,3])\n",
        "P = np.array([1/10, 1/10, 8/10])\n",
        "\n",
        "print(E(X), V(X))\n",
        "print(E(X,P), V(X,P))"
      ],
      "metadata": {
        "id": "XWKrxRrn27Tf",
        "colab": {
          "base_uri": "https://localhost:8080/"
        },
        "outputId": "79721832-f2f9-4692-9a77-e9f88f08b570"
      },
      "execution_count": 23,
      "outputs": [
        {
          "output_type": "stream",
          "name": "stdout",
          "text": [
            "2.0 0.6666666666666666\n",
            "2.7 1.156666666666667\n"
          ]
        }
      ]
    },
    {
      "cell_type": "markdown",
      "source": [
        "#### **예제 01. 동전 던지기**\n",
        "\n",
        "두개의 동전을 던졌을 때 앞면이 나온 횟수를 확률 변수 X라 정의합니다.\n",
        "\n",
        "다음을 구하세요.\n",
        "\n",
        "```\n",
        "X\n",
        "P\n",
        "E(X)\n",
        "V(X)\n",
        "```\n"
      ],
      "metadata": {
        "id": "bJgbzis26zAO"
      }
    },
    {
      "cell_type": "code",
      "source": [
        "X = np.array([0,1,2])\n",
        "P = np.array([1/4,1/2,1/4])\n",
        "\n",
        "print(E(X,P), V(X,P))"
      ],
      "metadata": {
        "id": "LS31msHr6zAO",
        "colab": {
          "base_uri": "https://localhost:8080/"
        },
        "outputId": "98740d04-fed8-44fb-bba1-8ca6759eb8fc"
      },
      "execution_count": 24,
      "outputs": [
        {
          "output_type": "stream",
          "name": "stdout",
          "text": [
            "1.0 0.6666666666666666\n"
          ]
        }
      ]
    },
    {
      "cell_type": "markdown",
      "source": [
        "#### **예제 02. 분산의 성질**\n",
        "\n",
        "\n",
        "X,Y 가 아래와 같이 주어졌을 때\n",
        "\n",
        "```\n",
        "X = np.array([1,2,3,4,5,6,7,8,9])\n",
        "c = np.array([10])\n",
        "```\n",
        "\n",
        "다음을 구하세요.\n",
        "\n",
        "```\n",
        "V(X)\n",
        "V(c)\n",
        "V(2X)\n",
        "V(2X-2)\n",
        "4 x V(X)\n",
        "```"
      ],
      "metadata": {
        "id": "JRcCsinm-aiD"
      }
    },
    {
      "cell_type": "code",
      "source": [
        "X = np.array([1,2,3,4,5,6,7,8,9])\n",
        "c = np.array([10])\n",
        "\n",
        "print( V(X), V(c), V(2*X), V(2*X-2), 4*V(X) )"
      ],
      "metadata": {
        "id": "FFP0aEUY-aiI",
        "colab": {
          "base_uri": "https://localhost:8080/"
        },
        "outputId": "cef6981a-35c8-4166-a056-d853c45e0669"
      },
      "execution_count": 25,
      "outputs": [
        {
          "output_type": "stream",
          "name": "stdout",
          "text": [
            "6.666666666666666 0.0 26.666666666666664 26.666666666666664 26.666666666666664\n"
          ]
        }
      ]
    },
    {
      "cell_type": "markdown",
      "source": [
        "#### **예제 03. 시험 성적**\n",
        "\n",
        "학생 네명의 시험 성적이 다음과 같습니다.\n",
        "```\n",
        "X_국어 = np.array([60,70,90,100])\n",
        "X_수학 = np.array([70,30,50,50])\n",
        "```\n",
        "\n",
        "다음을 구하세요.\n",
        "```\n",
        "V(X_국어)\n",
        "V(X_수학)\n",
        "V(5*X_국어)\n",
        "5*5*V(X_국어)\n",
        "```\n"
      ],
      "metadata": {
        "id": "0VQG51pJ3Ega"
      }
    },
    {
      "cell_type": "code",
      "source": [
        "X_국어 = np.array([60,70,90,100])\n",
        "X_수학 = np.array([70,30,50,50])\n",
        "\n",
        "print( V(X_국어), V(X_국어), V(5*X_국어), 5*5*V(X_국어) )"
      ],
      "metadata": {
        "id": "Yjxcmy1B3Egb",
        "colab": {
          "base_uri": "https://localhost:8080/"
        },
        "outputId": "b8e965b4-1afb-461d-ff1b-fe0dd86c67ce"
      },
      "execution_count": 66,
      "outputs": [
        {
          "output_type": "stream",
          "name": "stdout",
          "text": [
            "250.0 250.0 6250.0 6250.0\n"
          ]
        }
      ]
    },
    {
      "cell_type": "markdown",
      "source": [
        "### **| 공분산**\n",
        "\n",
        "\n",
        "\\begin{align}\n",
        "\\text{Cov}(X, Y) = \\text{E}[(X - \\text{E}[X])(Y - \\text{E}[Y])]\n",
        "\\tag{7.5.3}\n",
        "\\end{align}"
      ],
      "metadata": {
        "id": "uu3r4i3_fs62"
      }
    },
    {
      "cell_type": "code",
      "source": [
        "def Cov (X,Y, PX = [], PY = []) :\n",
        "  if not len(PX): PX = np.array([1/len(X)]*len(X))\n",
        "  if not len(PY): PY = np.array([1/len(Y)]*len(Y)) \n",
        "\n",
        "  return E( (X - E(X, PX)) * (Y - E(Y, PY)) )"
      ],
      "metadata": {
        "id": "3h694jZJfvGt"
      },
      "execution_count": 124,
      "outputs": []
    },
    {
      "cell_type": "code",
      "source": [
        "X = np.array([10,20,30,40])\n",
        "Y = np.array([40,30,20,10])\n",
        "Z = np.array([10,20,10,20])\n",
        "\n",
        "Cov(X,Y), Cov(X,Z)"
      ],
      "metadata": {
        "id": "0RjM7m0Okpj_",
        "colab": {
          "base_uri": "https://localhost:8080/"
        },
        "outputId": "f31f3a2e-4401-40e4-c943-9cb75205b3b7"
      },
      "execution_count": 125,
      "outputs": [
        {
          "output_type": "execute_result",
          "data": {
            "text/plain": [
              "(-125.0, 25.0)"
            ]
          },
          "metadata": {},
          "execution_count": 125
        }
      ]
    },
    {
      "cell_type": "markdown",
      "source": [
        "### **| 상관계수**\n",
        "\n",
        "\n",
        "* 피어슨(Pearson) 상관계수\n",
        "\n",
        "\\begin{align}\n",
        "\\rho[X,Y] =  \\dfrac{\\text{Cov}[X, Y]}{\\sqrt{\\text{V}[X] \\cdot \\text{V}[Y]}}\n",
        "\\end{align}\n",
        "\n",
        "\\begin{align}\n",
        "-1 \\leq \\rho \\leq 1\n",
        "\\end{align}\n",
        "\n",
        "\n"
      ],
      "metadata": {
        "id": "Vn_-yEAmfwjD"
      }
    },
    {
      "cell_type": "code",
      "source": [
        "def p(X,Y, PX = [], PY = []): \n",
        "  if not len(PX): PX = np.array([1/len(X)]*len(X))\n",
        "  if not len(PY): PY = np.array([1/len(Y)]*len(Y)) \n",
        "\n",
        "  return Cov(X,Y, PX, PY) / np.sqrt( V(X,PX)* V(Y,PY) )"
      ],
      "metadata": {
        "id": "cDkhhX-hjRVl"
      },
      "execution_count": 126,
      "outputs": []
    },
    {
      "cell_type": "code",
      "source": [
        "p(X,Y)"
      ],
      "metadata": {
        "id": "UUnwQS71kBG_",
        "colab": {
          "base_uri": "https://localhost:8080/"
        },
        "outputId": "dbecfee1-de1d-4b07-8ed9-a1a92d7424fc"
      },
      "execution_count": 127,
      "outputs": [
        {
          "output_type": "execute_result",
          "data": {
            "text/plain": [
              "-1.0"
            ]
          },
          "metadata": {},
          "execution_count": 127
        }
      ]
    },
    {
      "cell_type": "markdown",
      "source": [
        "#### **예제 01. 두 뽑기의 확률**\n",
        "\n",
        "두 뽑기 A, B에서 나오는 숫자들의 확률이 아래와 같을 때 X와Y의 공분산과 상관계수를 구하세요.\n",
        "```\n",
        "X = [0,1,2]\n",
        "P(X) = [1/5, 2/5, 2/5]\n",
        "Y - [0, 1, 2]\n",
        "P(Y) = [1/5, 3/5, 1/5]\n",
        "```"
      ],
      "metadata": {
        "id": "k2fH0nowszcq"
      }
    },
    {
      "cell_type": "code",
      "source": [
        "X = np.array([0, 1, 2])\n",
        "P_X = np.array([1/5, 2/5, 2/5])\n",
        "Y = np.array([0, 1, 2])\n",
        "P_Y = np.array([1/5, 3/5, 1/5])\n",
        "\n",
        "print(Cov(X,Y, P_X, P_Y), p(X,Y, P_X, P_Y))"
      ],
      "metadata": {
        "id": "eN3AX__Ru_4u",
        "colab": {
          "base_uri": "https://localhost:8080/"
        },
        "outputId": "caa4cb21-7670-4d37-83d1-52861b02dcf9"
      },
      "execution_count": 128,
      "outputs": [
        {
          "output_type": "stream",
          "name": "stdout",
          "text": [
            "0.6666666666666666 0.9712858623572641\n"
          ]
        }
      ]
    },
    {
      "cell_type": "markdown",
      "source": [
        "#### **예제 02. 표본 그리기 1**\n",
        "\n",
        "아래 코드는 표본을 10000개 추출 합니다.\n",
        "\n",
        "\n",
        "\n",
        "```\n",
        "x, y = np.random.multivariate_normal([0, 0], [[1, a], [a, 1]], 10000).T\n",
        "x.shape, y.shape\n",
        "```\n",
        "\n",
        "1. a 값이 `-1,0.7,0.3,0.01,-0.3,-0.7,-1` 일 때 x, y의 표본쌍 7개의 스캐터 플롯을 그리고, \n",
        "2. 각 경우에 x, y의 상관계수를 구하세요.\n"
      ],
      "metadata": {
        "id": "SzWRwbA2ob00"
      }
    },
    {
      "cell_type": "code",
      "source": [
        "a = [-1, 0.7, 0.3, 0.01, -0.3, -0.7, -1]\n",
        "plt.figure(figsize=(15,8))\n",
        "for i, a in zip(range(len(a)), a):\n",
        "  x, y = np.random.multivariate_normal([0, 0], [[1, a], [a, 1]], 10000).T\n",
        "  x.shape, y.shape\n",
        "  plt.subplot(1,7,i+1)\n",
        "  plt.scatter(x,y)\n",
        "  print(f'a = {a}, p = {p(x,y)}')\n",
        "\n",
        "plt.show()"
      ],
      "metadata": {
        "id": "G3rJmkC5n_Eo",
        "colab": {
          "base_uri": "https://localhost:8080/",
          "height": 612
        },
        "outputId": "a1538cbf-09d8-4a57-fd4e-2b50d556a1f4"
      },
      "execution_count": 148,
      "outputs": [
        {
          "output_type": "stream",
          "name": "stdout",
          "text": [
            "a = -1, p = -0.9999999999999999\n",
            "a = 0.7, p = 0.7031326309744202\n",
            "a = 0.3, p = 0.29409532667240473\n",
            "a = 0.01, p = 0.007297032561315838\n",
            "a = -0.3, p = -0.3037787696576054\n",
            "a = -0.7, p = -0.7107646129187326\n",
            "a = -1, p = -1.0\n"
          ]
        },
        {
          "output_type": "display_data",
          "data": {
            "text/plain": [
              "<Figure size 1080x576 with 7 Axes>"
            ],
            "image/png": "[encoded data removed]"
          },
          "metadata": {
            "needs_background": "light"
          }
        }
      ]
    },
    {
      "cell_type": "markdown",
      "source": [
        "#### **예제 03. 표본 그리기 2**\n",
        "\n",
        "아래 코드는 표본을 10000개 추출 합니다.\n",
        "\n",
        "\n",
        "\n",
        "```\n",
        "x, y = np.random.multivariate_normal([0, 0], [[1, 1], [1, 1]], 10000).T\n",
        "x.shape, y.shape\n",
        "```\n",
        "\n",
        "\n",
        "1. x 표본은 그대로 두고, y 표본에 `1, 0.7, 0.3, 0.01, -0.3, -0.7, -1`을 각각 곱해서 각 표본쌍의 스캐터 플롯 7개를 그리세요.\n",
        "2. 7가지 경우에 대한 x, y 상관계수를 구하세요.\n"
      ],
      "metadata": {
        "id": "HsCNgtJzq2x6"
      }
    },
    {
      "cell_type": "code",
      "source": [
        "a = [1, 0.7, 0.3, 0.01, -0.3, -0.7, -1]\n",
        "plt.figure(figsize=(20,2.8))\n",
        "for i, a in zip(range(len(a)), a):\n",
        "  x, y = np.random.multivariate_normal([0, 0], [[1, 1], [1, 1]], 10000).T\n",
        "  plt.subplot(1,7,i+1)\n",
        "  plt.scatter(x,y*a, marker = '.')\n",
        "  print(f'a = {a}, p = {p(x,y)}')\n",
        "\n",
        "plt.show()"
      ],
      "metadata": {
        "id": "PhPtD0Nif3rF",
        "colab": {
          "base_uri": "https://localhost:8080/",
          "height": 329
        },
        "outputId": "6992effc-aaf1-4bdb-974f-1113d2cf37d1"
      },
      "execution_count": 156,
      "outputs": [
        {
          "output_type": "stream",
          "name": "stdout",
          "text": [
            "a = 1, p = 1.0000000000000002\n",
            "a = 0.7, p = 1.0\n",
            "a = 0.3, p = 1.0000000000000002\n",
            "a = 0.01, p = 1.0\n",
            "a = -0.3, p = 1.0\n",
            "a = -0.7, p = 1.0000000000000002\n",
            "a = -1, p = 1.0\n"
          ]
        },
        {
          "output_type": "display_data",
          "data": {
            "text/plain": [
              "<Figure size 1440x201.6 with 7 Axes>"
            ],
            "image/png": "[encoded data removed]"
          },
          "metadata": {
            "needs_background": "light"
          }
        }
      ]
    }
  ]
}