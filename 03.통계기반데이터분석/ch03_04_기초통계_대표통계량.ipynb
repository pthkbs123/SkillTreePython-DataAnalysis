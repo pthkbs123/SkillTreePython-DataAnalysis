{
  "nbformat": 4,
  "nbformat_minor": 0,
  "metadata": {
    "colab": {
      "name": "ch03_04_기초통계_대표통계량.ipynb",
      "provenance": [],
      "collapsed_sections": [],
      "include_colab_link": true
    },
    "kernelspec": {
      "name": "python3",
      "display_name": "Python 3"
    },
    "language_info": {
      "name": "python"
    }
  },
  "cells": [
    {
      "cell_type": "markdown",
      "metadata": {
        "id": "view-in-github",
        "colab_type": "text"
      },
      "source": [
        "<a href=\"https://colab.research.google.com/github/pthkbs123/SkillTreePython-DataAnalysis/blob/main/03.%ED%86%B5%EA%B3%84%EA%B8%B0%EB%B0%98%EB%8D%B0%EC%9D%B4%ED%84%B0%EB%B6%84%EC%84%9D/ch03_04_%EA%B8%B0%EC%B4%88%ED%86%B5%EA%B3%84_%EB%8C%80%ED%91%9C%ED%86%B5%EA%B3%84%EB%9F%89.ipynb\" target=\"_parent\"><img src=\"https://colab.research.google.com/assets/colab-badge.svg\" alt=\"Open In Colab\"/></a>"
      ]
    },
    {
      "cell_type": "markdown",
      "source": [
        "# ch03.04. 기초통계 - 대표통계량\n",
        "---\n",
        "* 날짜: 2022-05-09\n",
        "* 이름: 박태현\n",
        "\n",
        "## 학습내용\n",
        "    - 최빈값\n",
        "    - 중앙값\n",
        "    - 산술 평균\n",
        "    - 조화 평균\n",
        "    - 절사 평균\n"
      ],
      "metadata": {
        "id": "wWpXZc2fi39U"
      }
    },
    {
      "cell_type": "code",
      "source": [
        "import numpy as np\n",
        "import pandas as pd\n",
        "import matplotlib.pyplot as plt\n",
        "import seaborn as sns"
      ],
      "metadata": {
        "id": "uYLRSgCqw4YZ"
      },
      "execution_count": null,
      "outputs": []
    },
    {
      "cell_type": "markdown",
      "source": [
        "## 대표 통계 - 수치자료형\n",
        "---"
      ],
      "metadata": {
        "id": "HFfrNCQzwC8p"
      }
    },
    {
      "cell_type": "markdown",
      "source": [
        "### **| 데이터 생성**\n",
        "\n",
        "```\n",
        "# 아래 함수는 랜덤한 정수를 반환합니다.\n",
        "np.random.randint(low, hight, shape)\n",
        "# low = 최소값\n",
        "# hight = 최대값\n",
        "# shape = 추출할 데이터의 크기\n",
        "```"
      ],
      "metadata": {
        "id": "FyMW-z9A5Dym"
      }
    },
    {
      "cell_type": "markdown",
      "source": [
        "* 최소값 1, 최대값 100인 데이터 1000개 생성하기"
      ],
      "metadata": {
        "id": "C61Z7FkB5dhN"
      }
    },
    {
      "cell_type": "code",
      "source": [
        "# 넘파이 랜덤 시드 0으로 설정\n",
        "np.random.seed(0)\n",
        "ran = np.random.randint(1, 100, 1000)\n",
        "# 넘파이 배열 `a`로 바인딩\n",
        "a = np.array(ran)\n",
        "# 판다스 시리즈 `s`로 바인딩\n",
        "s = pd.Series(ran)\n",
        "\n",
        "a,s"
      ],
      "metadata": {
        "id": "QGUgicvFFpBp",
        "colab": {
          "base_uri": "https://localhost:8080/"
        },
        "outputId": "75787a37-baef-4a11-a93b-f92206f03f58"
      },
      "execution_count": null,
      "outputs": [
        {
          "output_type": "execute_result",
          "data": {
            "text/plain": [
              "(array([45, 48, 65, 68, 68, 10, 84, 22, 37, 88, 71, 89, 89, 13, 59, 66, 40,\n",
              "        88, 47, 89, 82, 38, 26, 78, 73, 10, 21, 81, 70, 80, 48, 65, 83, 89,\n",
              "        50, 30, 20, 20, 15, 40, 33, 66, 10, 58, 33, 32, 75, 24, 36, 76, 56,\n",
              "        29, 35,  1,  1, 37, 54,  6, 39, 18, 80,  5, 43, 59, 32,  2, 66, 42,\n",
              "        58, 36, 12, 47, 83, 92,  1, 15, 54, 13, 43, 85, 76, 69,  7, 69, 48,\n",
              "         4, 77, 53, 79, 16, 21, 59, 24, 80, 14, 86, 49, 50, 70, 42, 36, 65,\n",
              "        96, 70, 95,  1, 51, 37, 35, 49, 94,  4, 99, 43, 78, 22, 74,  1, 11,\n",
              "        44, 59, 24, 60,  3, 99, 63, 36, 95, 68, 83, 47, 21, 82, 51, 28, 15,\n",
              "        42, 59, 66, 37, 11, 87, 44, 12,  3, 52, 81, 33, 55,  1, 39, 20, 47,\n",
              "        43, 57, 61, 78, 31, 25,  3,  4, 95, 99, 14, 41, 73, 20, 96, 73, 27,\n",
              "        67, 53, 68, 62, 15, 97,  5, 68, 12, 87, 78, 76, 57, 17, 25, 30, 22,\n",
              "        26, 81, 61, 62, 84, 34, 33, 71, 86, 32, 14, 72, 57, 25, 80, 42, 19,\n",
              "        41, 55, 80, 12, 39, 94,  2, 96, 45, 89, 25, 68, 83,  4, 77, 36, 87,\n",
              "        62, 70, 88, 44, 33, 12, 85, 11, 55, 38, 29,  3, 28, 84, 90, 24, 54,\n",
              "        52, 47, 21, 54, 30, 68, 36, 40, 10, 74, 42, 24,  4, 47, 91, 51,  4,\n",
              "        32, 10, 11, 28, 46, 72, 40, 62, 86, 98, 45, 35, 35, 89, 34,  6, 37,\n",
              "         1, 76, 35, 70, 54, 81, 63,  9, 62,  2, 82, 36, 92, 41, 37, 49, 26,\n",
              "        68, 36, 31, 30, 34, 19, 18, 94, 85,  3, 70, 13, 45, 67, 92, 86, 40,\n",
              "        40, 76, 23, 31, 18, 71, 72, 19, 93, 44, 84, 50, 42, 94, 47, 22, 74,\n",
              "        90, 97, 92, 74, 29, 82, 59,  1, 87, 64, 17, 37, 95, 25, 64, 68, 52,\n",
              "         9, 57, 92, 94, 88, 33, 20, 73, 72, 88, 14, 59, 82, 56, 65, 76, 93,\n",
              "        37, 26, 33, 43, 15, 87, 29, 21, 83, 69, 23, 84,  8, 73, 62, 14,  6,\n",
              "         1,  9, 80, 80, 54, 12,  5, 40, 93, 46, 27, 75, 53, 50, 92, 52, 19,\n",
              "        35, 52, 31, 54, 59, 44, 56, 19, 46, 88, 66, 71, 54, 49, 95, 60, 81,\n",
              "        27, 36, 59, 50, 74, 45, 14, 71, 39, 40,  9, 14,  8, 81, 23, 80, 90,\n",
              "         9,  7, 82, 72, 85, 90, 67, 61, 17, 57, 24, 25,  5, 50, 88, 31, 55,\n",
              "        26, 21, 98, 58, 24, 28, 30, 34, 54, 52, 87,  8, 10, 55,  1, 84, 37,\n",
              "        82, 21,  4, 43, 66, 21, 37, 69, 81, 48, 11, 95, 92, 44, 64, 32, 21,\n",
              "        71, 10, 61, 92, 36, 84, 77, 19, 75, 99, 98, 44,  4, 13, 59,  2,  1,\n",
              "        40, 25, 59, 37, 70,  7,  4, 99, 41, 61, 34, 29, 69, 27, 97, 52, 74,\n",
              "        54, 70, 34,  8, 95, 73, 85,  8, 68, 86, 92, 68, 85, 72, 84, 96,  1,\n",
              "         6, 92, 31, 74, 84,  8, 22, 93,  9, 44, 47,  1, 52, 39, 90, 75, 99,\n",
              "        88, 97, 84, 27, 79, 33, 71, 98, 45, 60, 58, 51, 46,  5, 58, 94, 92,\n",
              "        18, 36, 67, 21, 46, 58, 80, 37, 63,  5, 78, 31, 88, 99, 36, 74, 91,\n",
              "        56, 27, 23, 77, 80, 99, 91, 52, 47, 81, 62, 61, 48,  1, 11, 76, 14,\n",
              "        72, 95,  7, 46, 31, 16, 42, 39, 54, 44, 83,  8, 93, 66, 42, 67, 93,\n",
              "        79, 92, 32, 94, 51, 47, 94, 34, 13, 97, 81, 67, 73, 11, 91, 28, 57,\n",
              "        66, 65, 70, 89, 35, 80,  4, 61, 38, 44, 84, 89, 71, 21,  7, 29,  7,\n",
              "        67, 93, 93, 70, 74, 55, 78, 22, 32, 82, 36,  9, 26, 22, 46, 87, 17,\n",
              "        26, 38,  2,  6, 71, 13, 91, 75, 55, 79, 63, 73, 72, 46,  6, 48, 60,\n",
              "        43, 68, 11, 58, 92, 90,  4, 79, 83, 70, 59,  5, 18, 70, 64, 95, 25,\n",
              "         4, 70, 41, 37, 59, 50, 56, 25, 34, 19, 98, 79,  8, 54, 47, 34, 82,\n",
              "        30, 13, 47, 33, 35, 88, 26, 47, 53, 65, 77, 74, 19,  5,  8,  4, 49,\n",
              "        77, 38, 49, 83, 52, 50, 72, 91, 50, 30,  4, 75, 85, 66, 21, 81, 43,\n",
              "        29, 27, 88, 53, 49, 67, 10,  3, 90, 91, 69, 11, 13, 98, 38, 40, 33,\n",
              "        34, 27, 90, 51, 89, 83, 21, 95, 29, 73, 19, 26, 25, 40, 29, 25, 19,\n",
              "        68, 45, 84, 46, 55,  1, 11, 68,  7, 92, 58, 71, 20, 35, 51, 21, 44,\n",
              "         1, 67, 98, 13, 16, 34, 24, 13,  6, 39,  2, 11,  7,  7, 39, 76, 86,\n",
              "        51, 52,  3, 77, 30, 10, 73,  6, 54, 66, 44, 80, 63, 77, 48, 77, 22,\n",
              "        19, 90, 14, 95, 93, 86,  7, 49, 41, 27, 31,  6, 16, 64, 38, 60, 96,\n",
              "        97, 81, 33, 63, 11, 13, 94, 65, 30, 91, 23, 20,  6, 37, 84,  6, 93,\n",
              "        77, 27, 84, 13,  8, 53, 81, 30,  1, 88, 80, 75,  4, 62, 68, 17, 74,\n",
              "        85, 57, 63, 57, 49, 18, 58, 10, 63, 80, 79, 34,  5, 17, 72, 63, 24,\n",
              "        92,  8, 23, 99, 31, 81, 28, 48, 12, 88, 79, 31, 91, 35, 55, 82, 36,\n",
              "        72, 60, 38, 69, 54, 14, 20,  9, 97, 82, 70,  2, 30,  6, 81, 41, 23,\n",
              "        31, 20,  5, 21, 75, 68, 87, 61, 94, 42, 41, 61, 82, 52, 41, 60, 95,\n",
              "        30, 98, 95, 38, 89, 17, 40, 30, 66, 24, 73,  1, 88, 38, 64, 27, 90,\n",
              "        90,  7, 89, 80, 42, 18, 81, 44, 70, 20, 23, 12, 12, 34,  8, 27, 49,\n",
              "        72, 55, 97, 83, 88, 22,  3,  9, 11,  6, 39, 39, 66, 60]), 0      45\n",
              " 1      48\n",
              " 2      65\n",
              " 3      68\n",
              " 4      68\n",
              "        ..\n",
              " 995     6\n",
              " 996    39\n",
              " 997    39\n",
              " 998    66\n",
              " 999    60\n",
              " Length: 1000, dtype: int64)"
            ]
          },
          "metadata": {},
          "execution_count": 8
        }
      ]
    },
    {
      "cell_type": "markdown",
      "source": [
        "* 데이터 분포 그리기"
      ],
      "metadata": {
        "id": "MNH_qxNE7ihh"
      }
    },
    {
      "cell_type": "code",
      "source": [
        "plt.subplot(2,1,1)\n",
        "plt.plot(a)\n",
        "\n",
        "plt.subplot(2,1,2)\n",
        "plt.plot(s)"
      ],
      "metadata": {
        "id": "gz9cjV1FwGQH",
        "colab": {
          "base_uri": "https://localhost:8080/",
          "height": 284
        },
        "outputId": "293b78b0-eb7a-43ed-a6c4-19e9f1ef94b0"
      },
      "execution_count": null,
      "outputs": [
        {
          "output_type": "execute_result",
          "data": {
            "text/plain": [
              "[<matplotlib.lines.Line2D at 0x7f967860c910>]"
            ]
          },
          "metadata": {},
          "execution_count": 13
        },
        {
          "output_type": "display_data",
          "data": {
            "text/plain": [
              "<Figure size 432x288 with 2 Axes>"
            ],
            "image/png": "[encoded data removed]"
          },
          "metadata": {
            "needs_background": "light"
          }
        }
      ]
    },
    {
      "cell_type": "markdown",
      "source": [
        "### **| 중앙값**\n",
        "```\n",
        "np.median(a)\n",
        "s.median()\n",
        "```"
      ],
      "metadata": {
        "id": "B7iX0zzqFl7P"
      }
    },
    {
      "cell_type": "markdown",
      "source": [
        "* 중앙값 계산"
      ],
      "metadata": {
        "id": "qp29xCkV72Xv"
      }
    },
    {
      "cell_type": "code",
      "source": [
        "mid_a = np.median(a)\n",
        "mid_s = s.median()\n",
        "\n",
        "mid_a, mid_s"
      ],
      "metadata": {
        "id": "4axJO9zWFpEm",
        "colab": {
          "base_uri": "https://localhost:8080/"
        },
        "outputId": "d343be28-1a02-4de5-d3ff-c56ef2c1274d"
      },
      "execution_count": null,
      "outputs": [
        {
          "output_type": "execute_result",
          "data": {
            "text/plain": [
              "(49.0, 49.0)"
            ]
          },
          "metadata": {},
          "execution_count": 14
        }
      ]
    },
    {
      "cell_type": "markdown",
      "source": [
        "### **| 산술평균**\n",
        "\n",
        "가장 보편적으로 사용되는 평균\n",
        "\n",
        "\\begin{align}\n",
        "\\mu = \\frac{\\sum^n_{i=1}x_i}{n}\n",
        "\\end{align}\n",
        "\n",
        "\\begin{align}\n",
        " & \\\\\n",
        " & x_i :? \\\\\n",
        " & n : ?\\\\ \n",
        "\\end{align}\n",
        "\n",
        "```\n",
        "np.mean(a)\n",
        "s.mean()\n",
        "```"
      ],
      "metadata": {
        "id": "DgEXAIV-Dezx"
      }
    },
    {
      "cell_type": "markdown",
      "source": [
        "* 평균 계산"
      ],
      "metadata": {
        "id": "Eyj9kkzd8Yve"
      }
    },
    {
      "cell_type": "code",
      "source": [
        "mean_a = np.mean(a)\n",
        "mean_s = s.mean()\n",
        "\n",
        "mean_a, mean_s"
      ],
      "metadata": {
        "id": "JOkkVco_Dj7Q",
        "colab": {
          "base_uri": "https://localhost:8080/"
        },
        "outputId": "94ee6168-43f3-4fd4-bf9e-dc85da93a56e"
      },
      "execution_count": null,
      "outputs": [
        {
          "output_type": "execute_result",
          "data": {
            "text/plain": [
              "(49.723, 49.723)"
            ]
          },
          "metadata": {},
          "execution_count": 16
        }
      ]
    },
    {
      "cell_type": "markdown",
      "metadata": {
        "id": "3sVibZeXD7XB"
      },
      "source": [
        "### **| 조화 평균**\n",
        "\n",
        "비율 및 변화율에 등에 대한 평균을 계산할 때 사용\n",
        "\n",
        "\\begin{align}\n",
        "\\mu_{harmonic} = \\frac{n}{\\sum^n_{i=1}\\frac{1}{x_i}}\n",
        "\\end{align}\n",
        "\n",
        "\\begin{align}\n",
        " & \\\\\n",
        " & x_i :? \\\\\n",
        " & n : ?\\\\ \n",
        "\\end{align}"
      ]
    },
    {
      "cell_type": "markdown",
      "source": [
        "* 함수 `harmonic` 생성"
      ],
      "metadata": {
        "id": "I_bo0Xpn8lvJ"
      }
    },
    {
      "cell_type": "code",
      "execution_count": null,
      "metadata": {
        "id": "bbvOee7xD7XB"
      },
      "outputs": [],
      "source": [
        "def harm(x) : \n",
        "  num = len(x)\n",
        "  under = (1/x).sum()\n",
        "  return num / under\n"
      ]
    },
    {
      "cell_type": "markdown",
      "source": [
        "* 조화 평균 계산"
      ],
      "metadata": {
        "id": "98ULxx_-8xJL"
      }
    },
    {
      "cell_type": "code",
      "source": [
        "harm(a), harm(s)"
      ],
      "metadata": {
        "id": "e2eFFgrY8ylD",
        "colab": {
          "base_uri": "https://localhost:8080/"
        },
        "outputId": "3f57a80c-eeb3-4570-c5dd-045379301854"
      },
      "execution_count": null,
      "outputs": [
        {
          "output_type": "execute_result",
          "data": {
            "text/plain": [
              "(16.869083648783032, 16.869083648783032)"
            ]
          },
          "metadata": {},
          "execution_count": 23
        }
      ]
    },
    {
      "cell_type": "markdown",
      "source": [
        "### **| 절사 평균**\n",
        "\n",
        "데이터에서 $\\alpha$ 개를 제거한 후 평균을 내는 방법\n",
        "\n",
        "\\begin{align}\n",
        "\\mu_{cut}=\\frac{\\sum^{|n(1-\\alpha)|}_{i=|n\\alpha|} x_i}{ |n(1-\\alpha)|-|n\\alpha| }\n",
        "\\end{align}\n",
        "\n",
        "\\begin{align}\n",
        " & \\\\\n",
        " & x_i :? \\\\\n",
        " & n : ?\\\\ \n",
        " & \\alpha : ?\n",
        "\\end{align}\n",
        "\n",
        "```\n",
        "from scipy.stats import trim_mean\n",
        "trim_mean(x, alpha) \n",
        "```\n"
      ],
      "metadata": {
        "id": "pfvnB5ljFiPP"
      }
    },
    {
      "cell_type": "markdown",
      "source": [
        "* alpha 비율 0.1일 때 절사 평균 계산"
      ],
      "metadata": {
        "id": "HJvDmFFs88l1"
      }
    },
    {
      "cell_type": "code",
      "source": [
        "from scipy.stats import trim_mean\n",
        "\n",
        "alpha = 0.1\n",
        "trim_mean(a, alpha), trim_mean(s,alpha)"
      ],
      "metadata": {
        "id": "byF7axwMyb1J",
        "colab": {
          "base_uri": "https://localhost:8080/"
        },
        "outputId": "2f4ff694-a78a-4e2b-f9a1-c75f5d96c6cf"
      },
      "execution_count": null,
      "outputs": [
        {
          "output_type": "execute_result",
          "data": {
            "text/plain": [
              "(49.81125, 49.81125)"
            ]
          },
          "metadata": {},
          "execution_count": 25
        }
      ]
    },
    {
      "cell_type": "markdown",
      "source": [
        "## 대표 통계 - 범주자료형\n",
        "---"
      ],
      "metadata": {
        "id": "JPdOBwZwwkcF"
      }
    },
    {
      "cell_type": "markdown",
      "source": [
        "### **| 데이터 생성**\n",
        "\n",
        "```\n",
        "# 아래 함수는 리스트 안의 요소를 랜덤하게 반환합니다.\n",
        "np.random.choice(list, shape)\n",
        "# list = 카테고리가 들어있는 리스트\n",
        "# shape = 추출할 데이터의 크기\n",
        "```"
      ],
      "metadata": {
        "id": "ns3PTnjU9WXN"
      }
    },
    {
      "cell_type": "markdown",
      "source": [
        "* `A, B, C` 세개의 카테고리에서 데이터 1000개 생성하기"
      ],
      "metadata": {
        "id": "s-N5kc3F9WXT"
      }
    },
    {
      "cell_type": "code",
      "execution_count": null,
      "metadata": {
        "id": "KmNsIamiD7XG"
      },
      "outputs": [],
      "source": [
        "# 넘파이 랜덤 시드 0으로 설정\n",
        "np.random.seed(0)\n",
        "# 넘파이 배열 `a`로 바인딩\n",
        "a = np.random.choice(['A', 'B', 'C'], 1000)\n",
        "# 판다스 시리즈 `s`로 바인딩\n",
        "s = pd.Series(a)"
      ]
    },
    {
      "cell_type": "markdown",
      "source": [
        "* 데이터 분포 그리기"
      ],
      "metadata": {
        "id": "VNsc3MM0GTpR"
      }
    },
    {
      "cell_type": "code",
      "source": [
        "plt.subplot(2,1,1)\n",
        "plt.plot(s)\n",
        "plt.subplot(2,1,2)\n",
        "plt.plot(a)"
      ],
      "metadata": {
        "id": "ZKn5mFBdwPfr",
        "colab": {
          "base_uri": "https://localhost:8080/",
          "height": 283
        },
        "outputId": "c6bedc97-3bb4-461b-ffd1-778585338dd8"
      },
      "execution_count": null,
      "outputs": [
        {
          "output_type": "execute_result",
          "data": {
            "text/plain": [
              "[<matplotlib.lines.Line2D at 0x7f9675efab90>]"
            ]
          },
          "metadata": {},
          "execution_count": 107
        },
        {
          "output_type": "display_data",
          "data": {
            "text/plain": [
              "<Figure size 432x288 with 2 Axes>"
            ],
            "image/png": "[encoded data removed]"
          },
          "metadata": {
            "needs_background": "light"
          }
        }
      ]
    },
    {
      "cell_type": "markdown",
      "metadata": {
        "id": "6xsxy1RoD7XG"
      },
      "source": [
        "### **| 최빈값**\n",
        "\n",
        "```\n",
        "s.value_counts()\n",
        "\n",
        "from scipy.stats import mode\n",
        "mode(a)\n",
        "```"
      ]
    },
    {
      "cell_type": "markdown",
      "source": [
        "* `value_counts()` 사용하기"
      ],
      "metadata": {
        "id": "OV3eC4UtGl38"
      }
    },
    {
      "cell_type": "code",
      "execution_count": null,
      "metadata": {
        "id": "Ilz_bakbD7XH",
        "colab": {
          "base_uri": "https://localhost:8080/",
          "height": 35
        },
        "outputId": "0885b2a9-e4b0-493b-ca98-d9b51c074e53"
      },
      "outputs": [
        {
          "output_type": "execute_result",
          "data": {
            "text/plain": [
              "'A'"
            ],
            "application/vnd.google.colaboratory.intrinsic+json": {
              "type": "string"
            }
          },
          "metadata": {},
          "execution_count": 110
        }
      ],
      "source": [
        "s.value_counts()\n",
        "s[0]"
      ]
    },
    {
      "cell_type": "markdown",
      "source": [
        "* 사이파이 함수 `mode` 사용하기"
      ],
      "metadata": {
        "id": "nxipy7_cGqAn"
      }
    },
    {
      "cell_type": "code",
      "source": [
        "from scipy.stats import mode\n",
        "mode(a)"
      ],
      "metadata": {
        "id": "F3JjvNqAtcUk",
        "colab": {
          "base_uri": "https://localhost:8080/"
        },
        "outputId": "2dbd3505-ccdf-4001-98f4-006d18d8e091"
      },
      "execution_count": null,
      "outputs": [
        {
          "output_type": "execute_result",
          "data": {
            "text/plain": [
              "ModeResult(mode=array(['A'], dtype='<U1'), count=array([337]))"
            ]
          },
          "metadata": {},
          "execution_count": 109
        }
      ]
    },
    {
      "cell_type": "markdown",
      "source": [
        "## 예제\n",
        "---"
      ],
      "metadata": {
        "id": "z6JYAMB_4Xq7"
      }
    },
    {
      "cell_type": "markdown",
      "source": [
        "#### **예제 01**\n",
        "\n",
        "1. 평균이 200만원이고 표준편차가 50만원인 정규분포를 따르는 데이터를 아래 넘파이 함수를 이용해 100개 생성하세요.\n",
        "```\n",
        "np.random.normal(mu, std, n)\n",
        "```\n",
        "\n",
        "2. 위에서 생성한 데이터의 히스토그램을 그리세요\n",
        "\n",
        "3. 10억원의 소득을 가지는 데이터 한개를 위 데이터에 추가하세요.\n",
        "\n",
        "4. 데이터의 히스토그램을 그리세요\n",
        "\n",
        "5. 10억원의 소득을 추가하기 전과 후의 데이터의 산술평균을 비교하세요.\n",
        "\n",
        "5. 10억원의 소득을 추가하기 전과 후의 데이터의 절사평균(alpha=0.1)을 비교하세요."
      ],
      "metadata": {
        "id": "S0gYqvK22tij"
      }
    },
    {
      "cell_type": "code",
      "execution_count": null,
      "metadata": {
        "id": "to3bS7CBD7XD",
        "colab": {
          "base_uri": "https://localhost:8080/",
          "height": 357
        },
        "outputId": "b53f0895-5bb3-4ced-b57b-54747db6c1e1"
      },
      "outputs": [
        {
          "output_type": "execute_result",
          "data": {
            "text/plain": [
              "(array([ 1.,  5.,  7., 13., 17., 18., 16., 11.,  7.,  5.]),\n",
              " array([ 72.35050921,  96.46423141, 120.57795361, 144.69167581,\n",
              "        168.805398  , 192.9191202 , 217.0328424 , 241.1465646 ,\n",
              "        265.2602868 , 289.374009  , 313.4877312 ]),\n",
              " <a list of 10 Patch objects>)"
            ]
          },
          "metadata": {},
          "execution_count": 84
        },
        {
          "output_type": "display_data",
          "data": {
            "text/plain": [
              "<Figure size 432x288 with 1 Axes>"
            ],
            "image/png": "[encoded data removed]"
          },
          "metadata": {
            "needs_background": "light"
          }
        }
      ],
      "source": [
        "mu = 200\n",
        "std = 50\n",
        "n = 100\n",
        "np.random.seed(0)\n",
        "test = np.random.normal(mu, std, n)\n",
        "\n",
        "plt.hist(test)"
      ]
    },
    {
      "cell_type": "code",
      "source": [
        "test2 = np.append(test, np.array([10000]))\n",
        "plt.hist(test2)"
      ],
      "metadata": {
        "colab": {
          "base_uri": "https://localhost:8080/",
          "height": 357
        },
        "id": "Lb8Rs5txZiB1",
        "outputId": "5f5b53f2-6a34-42c0-e614-4170ba7051f1"
      },
      "execution_count": null,
      "outputs": [
        {
          "output_type": "execute_result",
          "data": {
            "text/plain": [
              "(array([100.,   0.,   0.,   0.,   0.,   0.,   0.,   0.,   0.,   1.]),\n",
              " array([   72.35050921,  1065.11545829,  2057.88040737,  3050.64535645,\n",
              "         4043.41030552,  5036.1752546 ,  6028.94020368,  7021.70515276,\n",
              "         8014.47010184,  9007.23505092, 10000.        ]),\n",
              " <a list of 10 Patch objects>)"
            ]
          },
          "metadata": {},
          "execution_count": 86
        },
        {
          "output_type": "display_data",
          "data": {
            "text/plain": [
              "<Figure size 432x288 with 1 Axes>"
            ],
            "image/png": "[encoded data removed]"
          },
          "metadata": {
            "needs_background": "light"
          }
        }
      ]
    },
    {
      "cell_type": "code",
      "source": [
        "test.mean(), test2.mean()"
      ],
      "metadata": {
        "colab": {
          "base_uri": "https://localhost:8080/"
        },
        "id": "XXD-clyRaUDg",
        "outputId": "f50d8ecb-5103-4aaa-aece-dd6727d2b3f9"
      },
      "execution_count": null,
      "outputs": [
        {
          "output_type": "execute_result",
          "data": {
            "text/plain": [
              "(202.99040077672424, 299.9904958185389)"
            ]
          },
          "metadata": {},
          "execution_count": 87
        }
      ]
    },
    {
      "cell_type": "code",
      "source": [
        "trim_mean(test, alpha), trim_mean(test2,alpha)"
      ],
      "metadata": {
        "colab": {
          "base_uri": "https://localhost:8080/"
        },
        "id": "4cEt4_6_akOf",
        "outputId": "ea02164c-1514-4cbc-8dbf-e8323787ac89"
      },
      "execution_count": null,
      "outputs": [
        {
          "output_type": "execute_result",
          "data": {
            "text/plain": [
              "(202.85297236081595, 203.7364246735192)"
            ]
          },
          "metadata": {},
          "execution_count": 88
        }
      ]
    },
    {
      "cell_type": "markdown",
      "source": [
        "#### **예제 02**\n",
        "\n",
        "타이타닉 데이터셋을 가져오고, 각 변수들의 대표값을 정리하세요."
      ],
      "metadata": {
        "id": "vC9QE_7R5njn"
      }
    },
    {
      "cell_type": "code",
      "source": [
        "import pandas as pd\n",
        "import numpy as np\n",
        "\n",
        "df = pd.read_csv('/content/titanic.csv')\n",
        "df.head()"
      ],
      "metadata": {
        "id": "mOw2b43-51ZF",
        "colab": {
          "base_uri": "https://localhost:8080/",
          "height": 206
        },
        "outputId": "f5910541-6ef0-4c59-a3c0-790ba6f14370"
      },
      "execution_count": null,
      "outputs": [
        {
          "output_type": "execute_result",
          "data": {
            "text/plain": [
              "   PassengerId  Survived  Pclass  \\\n",
              "0            1         0       3   \n",
              "1            2         1       1   \n",
              "2            3         1       3   \n",
              "3            4         1       1   \n",
              "4            5         0       3   \n",
              "\n",
              "                                                Name     Sex   Age  SibSp  \\\n",
              "0                            Braund, Mr. Owen Harris    male  22.0      1   \n",
              "1  Cumings, Mrs. John Bradley (Florence Briggs Th...  female  38.0      1   \n",
              "2                             Heikkinen, Miss. Laina  female  26.0      0   \n",
              "3       Futrelle, Mrs. Jacques Heath (Lily May Peel)  female  35.0      1   \n",
              "4                           Allen, Mr. William Henry    male  35.0      0   \n",
              "\n",
              "   Parch            Ticket     Fare Cabin Embarked  \n",
              "0      0         A/5 21171   7.2500   NaN        S  \n",
              "1      0          PC 17599  71.2833   C85        C  \n",
              "2      0  STON/O2. 3101282   7.9250   NaN        S  \n",
              "3      0            113803  53.1000  C123        S  \n",
              "4      0            373450   8.0500   NaN        S  "
            ],
            "text/html": [
              "\n",
              "  <div id=\"df-efe26c51-a68d-4e4b-9290-1da85f59a937\">\n",
              "    <div class=\"colab-df-container\">\n",
              "      <div>\n",
              "<style scoped>\n",
              "    .dataframe tbody tr th:only-of-type {\n",
              "        vertical-align: middle;\n",
              "    }\n",
              "\n",
              "    .dataframe tbody tr th {\n",
              "        vertical-align: top;\n",
              "    }\n",
              "\n",
              "    .dataframe thead th {\n",
              "        text-align: right;\n",
              "    }\n",
              "</style>\n",
              "<table border=\"1\" class=\"dataframe\">\n",
              "  <thead>\n",
              "    <tr style=\"text-align: right;\">\n",
              "      <th></th>\n",
              "      <th>PassengerId</th>\n",
              "      <th>Survived</th>\n",
              "      <th>Pclass</th>\n",
              "      <th>Name</th>\n",
              "      <th>Sex</th>\n",
              "      <th>Age</th>\n",
              "      <th>SibSp</th>\n",
              "      <th>Parch</th>\n",
              "      <th>Ticket</th>\n",
              "      <th>Fare</th>\n",
              "      <th>Cabin</th>\n",
              "      <th>Embarked</th>\n",
              "    </tr>\n",
              "  </thead>\n",
              "  <tbody>\n",
              "    <tr>\n",
              "      <th>0</th>\n",
              "      <td>1</td>\n",
              "      <td>0</td>\n",
              "      <td>3</td>\n",
              "      <td>Braund, Mr. Owen Harris</td>\n",
              "      <td>male</td>\n",
              "      <td>22.0</td>\n",
              "      <td>1</td>\n",
              "      <td>0</td>\n",
              "      <td>A/5 21171</td>\n",
              "      <td>7.2500</td>\n",
              "      <td>NaN</td>\n",
              "      <td>S</td>\n",
              "    </tr>\n",
              "    <tr>\n",
              "      <th>1</th>\n",
              "      <td>2</td>\n",
              "      <td>1</td>\n",
              "      <td>1</td>\n",
              "      <td>Cumings, Mrs. John Bradley (Florence Briggs Th...</td>\n",
              "      <td>female</td>\n",
              "      <td>38.0</td>\n",
              "      <td>1</td>\n",
              "      <td>0</td>\n",
              "      <td>PC 17599</td>\n",
              "      <td>71.2833</td>\n",
              "      <td>C85</td>\n",
              "      <td>C</td>\n",
              "    </tr>\n",
              "    <tr>\n",
              "      <th>2</th>\n",
              "      <td>3</td>\n",
              "      <td>1</td>\n",
              "      <td>3</td>\n",
              "      <td>Heikkinen, Miss. Laina</td>\n",
              "      <td>female</td>\n",
              "      <td>26.0</td>\n",
              "      <td>0</td>\n",
              "      <td>0</td>\n",
              "      <td>STON/O2. 3101282</td>\n",
              "      <td>7.9250</td>\n",
              "      <td>NaN</td>\n",
              "      <td>S</td>\n",
              "    </tr>\n",
              "    <tr>\n",
              "      <th>3</th>\n",
              "      <td>4</td>\n",
              "      <td>1</td>\n",
              "      <td>1</td>\n",
              "      <td>Futrelle, Mrs. Jacques Heath (Lily May Peel)</td>\n",
              "      <td>female</td>\n",
              "      <td>35.0</td>\n",
              "      <td>1</td>\n",
              "      <td>0</td>\n",
              "      <td>113803</td>\n",
              "      <td>53.1000</td>\n",
              "      <td>C123</td>\n",
              "      <td>S</td>\n",
              "    </tr>\n",
              "    <tr>\n",
              "      <th>4</th>\n",
              "      <td>5</td>\n",
              "      <td>0</td>\n",
              "      <td>3</td>\n",
              "      <td>Allen, Mr. William Henry</td>\n",
              "      <td>male</td>\n",
              "      <td>35.0</td>\n",
              "      <td>0</td>\n",
              "      <td>0</td>\n",
              "      <td>373450</td>\n",
              "      <td>8.0500</td>\n",
              "      <td>NaN</td>\n",
              "      <td>S</td>\n",
              "    </tr>\n",
              "  </tbody>\n",
              "</table>\n",
              "</div>\n",
              "      <button class=\"colab-df-convert\" onclick=\"convertToInteractive('df-efe26c51-a68d-4e4b-9290-1da85f59a937')\"\n",
              "              title=\"Convert this dataframe to an interactive table.\"\n",
              "              style=\"display:none;\">\n",
              "        \n",
              "  <svg xmlns=\"http://www.w3.org/2000/svg\" height=\"24px\"viewBox=\"0 0 24 24\"\n",
              "       width=\"24px\">\n",
              "    <path d=\"M0 0h24v24H0V0z\" fill=\"none\"/>\n",
              "    <path d=\"M18.56 5.44l.94 2.06.94-2.06 2.06-.94-2.06-.94-.94-2.06-.94 2.06-2.06.94zm-11 1L8.5 8.5l.94-2.06 2.06-.94-2.06-.94L8.5 2.5l-.94 2.06-2.06.94zm10 10l.94 2.06.94-2.06 2.06-.94-2.06-.94-.94-2.06-.94 2.06-2.06.94z\"/><path d=\"M17.41 7.96l-1.37-1.37c-.4-.4-.92-.59-1.43-.59-.52 0-1.04.2-1.43.59L10.3 9.45l-7.72 7.72c-.78.78-.78 2.05 0 2.83L4 21.41c.39.39.9.59 1.41.59.51 0 1.02-.2 1.41-.59l7.78-7.78 2.81-2.81c.8-.78.8-2.07 0-2.86zM5.41 20L4 18.59l7.72-7.72 1.47 1.35L5.41 20z\"/>\n",
              "  </svg>\n",
              "      </button>\n",
              "      \n",
              "  <style>\n",
              "    .colab-df-container {\n",
              "      display:flex;\n",
              "      flex-wrap:wrap;\n",
              "      gap: 12px;\n",
              "    }\n",
              "\n",
              "    .colab-df-convert {\n",
              "      background-color: #E8F0FE;\n",
              "      border: none;\n",
              "      border-radius: 50%;\n",
              "      cursor: pointer;\n",
              "      display: none;\n",
              "      fill: #1967D2;\n",
              "      height: 32px;\n",
              "      padding: 0 0 0 0;\n",
              "      width: 32px;\n",
              "    }\n",
              "\n",
              "    .colab-df-convert:hover {\n",
              "      background-color: #E2EBFA;\n",
              "      box-shadow: 0px 1px 2px rgba(60, 64, 67, 0.3), 0px 1px 3px 1px rgba(60, 64, 67, 0.15);\n",
              "      fill: #174EA6;\n",
              "    }\n",
              "\n",
              "    [theme=dark] .colab-df-convert {\n",
              "      background-color: #3B4455;\n",
              "      fill: #D2E3FC;\n",
              "    }\n",
              "\n",
              "    [theme=dark] .colab-df-convert:hover {\n",
              "      background-color: #434B5C;\n",
              "      box-shadow: 0px 1px 3px 1px rgba(0, 0, 0, 0.15);\n",
              "      filter: drop-shadow(0px 1px 2px rgba(0, 0, 0, 0.3));\n",
              "      fill: #FFFFFF;\n",
              "    }\n",
              "  </style>\n",
              "\n",
              "      <script>\n",
              "        const buttonEl =\n",
              "          document.querySelector('#df-efe26c51-a68d-4e4b-9290-1da85f59a937 button.colab-df-convert');\n",
              "        buttonEl.style.display =\n",
              "          google.colab.kernel.accessAllowed ? 'block' : 'none';\n",
              "\n",
              "        async function convertToInteractive(key) {\n",
              "          const element = document.querySelector('#df-efe26c51-a68d-4e4b-9290-1da85f59a937');\n",
              "          const dataTable =\n",
              "            await google.colab.kernel.invokeFunction('convertToInteractive',\n",
              "                                                     [key], {});\n",
              "          if (!dataTable) return;\n",
              "\n",
              "          const docLinkHtml = 'Like what you see? Visit the ' +\n",
              "            '<a target=\"_blank\" href=https://colab.research.google.com/notebooks/data_table.ipynb>data table notebook</a>'\n",
              "            + ' to learn more about interactive tables.';\n",
              "          element.innerHTML = '';\n",
              "          dataTable['output_type'] = 'display_data';\n",
              "          await google.colab.output.renderOutput(dataTable, element);\n",
              "          const docLink = document.createElement('div');\n",
              "          docLink.innerHTML = docLinkHtml;\n",
              "          element.appendChild(docLink);\n",
              "        }\n",
              "      </script>\n",
              "    </div>\n",
              "  </div>\n",
              "  "
            ]
          },
          "metadata": {},
          "execution_count": 91
        }
      ]
    },
    {
      "cell_type": "code",
      "source": [
        "df['PassengerId'].median()"
      ],
      "metadata": {
        "colab": {
          "base_uri": "https://localhost:8080/"
        },
        "id": "1zY8Xeo1a1R_",
        "outputId": "e8491af7-0e69-4ef5-e348-c60a14ccf378"
      },
      "execution_count": null,
      "outputs": [
        {
          "output_type": "execute_result",
          "data": {
            "text/plain": [
              "446.0"
            ]
          },
          "metadata": {},
          "execution_count": 93
        }
      ]
    },
    {
      "cell_type": "code",
      "source": [
        "df['Survived'].mean()"
      ],
      "metadata": {
        "colab": {
          "base_uri": "https://localhost:8080/"
        },
        "id": "WTy9KMAhbMGn",
        "outputId": "8cf6f928-99b6-4c6d-83f2-a43ae95547f5"
      },
      "execution_count": null,
      "outputs": [
        {
          "output_type": "execute_result",
          "data": {
            "text/plain": [
              "0.3838383838383838"
            ]
          },
          "metadata": {},
          "execution_count": 95
        }
      ]
    },
    {
      "cell_type": "code",
      "source": [
        "mode(df['Pclass'])"
      ],
      "metadata": {
        "colab": {
          "base_uri": "https://localhost:8080/"
        },
        "id": "G6l84YT2bXpA",
        "outputId": "99116906-9b2b-467d-b8f3-52c876ad63a1"
      },
      "execution_count": null,
      "outputs": [
        {
          "output_type": "execute_result",
          "data": {
            "text/plain": [
              "ModeResult(mode=array([3]), count=array([491]))"
            ]
          },
          "metadata": {},
          "execution_count": 97
        }
      ]
    },
    {
      "cell_type": "code",
      "source": [
        "mode(df['Sex'])"
      ],
      "metadata": {
        "colab": {
          "base_uri": "https://localhost:8080/"
        },
        "id": "3uirBegXbiqo",
        "outputId": "019f2681-87af-4423-c07a-a6ccdc6bfbef"
      },
      "execution_count": null,
      "outputs": [
        {
          "output_type": "execute_result",
          "data": {
            "text/plain": [
              "ModeResult(mode=array(['male'], dtype=object), count=array([577]))"
            ]
          },
          "metadata": {},
          "execution_count": 98
        }
      ]
    },
    {
      "cell_type": "code",
      "source": [
        "df['Age'].mean()"
      ],
      "metadata": {
        "colab": {
          "base_uri": "https://localhost:8080/"
        },
        "id": "3Rz5EUG5bp6g",
        "outputId": "f93c0dc8-ae81-4244-e322-2b428f9f2e5f"
      },
      "execution_count": null,
      "outputs": [
        {
          "output_type": "execute_result",
          "data": {
            "text/plain": [
              "29.69911764705882"
            ]
          },
          "metadata": {},
          "execution_count": 99
        }
      ]
    },
    {
      "cell_type": "code",
      "source": [
        "Parch_df =  df['Parch'].value_counts()\n",
        "Parch_df[0]"
      ],
      "metadata": {
        "colab": {
          "base_uri": "https://localhost:8080/"
        },
        "id": "XyQvMK1mbsYw",
        "outputId": "2c400ee5-c179-4ff3-a86a-80f95f1a5dfd"
      },
      "execution_count": null,
      "outputs": [
        {
          "output_type": "execute_result",
          "data": {
            "text/plain": [
              "678"
            ]
          },
          "metadata": {},
          "execution_count": 111
        }
      ]
    },
    {
      "cell_type": "code",
      "source": [
        "df['Fare'].mean()"
      ],
      "metadata": {
        "colab": {
          "base_uri": "https://localhost:8080/"
        },
        "id": "D-HF5JZ-bvSX",
        "outputId": "0da07165-c40d-42fa-8873-26d625e4d595"
      },
      "execution_count": null,
      "outputs": [
        {
          "output_type": "execute_result",
          "data": {
            "text/plain": [
              "32.2042079685746"
            ]
          },
          "metadata": {},
          "execution_count": 103
        }
      ]
    },
    {
      "cell_type": "code",
      "source": [
        "mode(df['Cabin'])"
      ],
      "metadata": {
        "colab": {
          "base_uri": "https://localhost:8080/"
        },
        "id": "gsC9P-y6b7Qv",
        "outputId": "7fe58d50-f680-42db-b9b2-3f4f1bbc3376"
      },
      "execution_count": null,
      "outputs": [
        {
          "output_type": "execute_result",
          "data": {
            "text/plain": [
              "ModeResult(mode=array(['C23 C25 C27'], dtype=object), count=array([4]))"
            ]
          },
          "metadata": {},
          "execution_count": 104
        }
      ]
    },
    {
      "cell_type": "code",
      "source": [
        "mode(df['Embarked'])"
      ],
      "metadata": {
        "colab": {
          "base_uri": "https://localhost:8080/"
        },
        "id": "caRmMPxYb_Z3",
        "outputId": "8770cc6d-2a20-497a-9a41-f7765a22d61c"
      },
      "execution_count": null,
      "outputs": [
        {
          "output_type": "execute_result",
          "data": {
            "text/plain": [
              "ModeResult(mode=array(['S'], dtype=object), count=array([644]))"
            ]
          },
          "metadata": {},
          "execution_count": 105
        }
      ]
    },
    {
      "cell_type": "code",
      "source": [
        ""
      ],
      "metadata": {
        "id": "CF4k2-_5cET3"
      },
      "execution_count": null,
      "outputs": []
    }
  ]
}