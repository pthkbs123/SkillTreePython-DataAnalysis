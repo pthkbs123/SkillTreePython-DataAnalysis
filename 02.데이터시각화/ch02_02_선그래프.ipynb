{
  "nbformat": 4,
  "nbformat_minor": 0,
  "metadata": {
    "colab": {
      "name": "ch02_02_선그래프.ipynb",
      "provenance": [],
      "collapsed_sections": [],
      "include_colab_link": true
    },
    "kernelspec": {
      "name": "python3",
      "display_name": "Python 3"
    },
    "language_info": {
      "name": "python"
    }
  },
  "cells": [
    {
      "cell_type": "markdown",
      "metadata": {
        "id": "view-in-github",
        "colab_type": "text"
      },
      "source": [
        "<a href=\"https://colab.research.google.com/github/pthkbs123/SkillTreePython-DataAnalysis/blob/main/02.%EB%8D%B0%EC%9D%B4%ED%84%B0%EC%8B%9C%EA%B0%81%ED%99%94/ch02_02_%EC%84%A0%EA%B7%B8%EB%9E%98%ED%94%84.ipynb\" target=\"_parent\"><img src=\"https://colab.research.google.com/assets/colab-badge.svg\" alt=\"Open In Colab\"/></a>"
      ]
    },
    {
      "cell_type": "markdown",
      "source": [
        "# Ch02.02. 선그래프\n",
        "\n",
        "---\n",
        "* 날짜: 2022-04-15\n",
        "* 이름: 박태현\n"
      ],
      "metadata": {
        "id": "ylXjSLUxXHxm"
      }
    },
    {
      "cell_type": "markdown",
      "source": [
        "\n",
        "##  개념정리 \n",
        "---\n",
        "\n",
        "```\n",
        "import numpy as np\n",
        "import pandas as pd\n",
        "import matplotlib.pyplot as plt\n",
        "import seaborn as sns\n",
        "\n",
        "plt.rcParams['figure.figsize'] = [6, 4]\n",
        "plt.style.use('seaborn-white')\n",
        "sns.set_style('white')\n",
        "```"
      ],
      "metadata": {
        "id": "CfIEbA8ZWulm"
      }
    },
    {
      "cell_type": "code",
      "source": [
        "import numpy as np\n",
        "import pandas as pd\n",
        "import matplotlib.pyplot as plt\n",
        "import seaborn as sns\n",
        "\n",
        "plt.rcParams['figure.figsize'] = [6, 4] # 디폴트 사이즈\n",
        "plt.style.use('seaborn-white')\n",
        "sns.set_style('white')"
      ],
      "metadata": {
        "id": "jJObbvG3thvK"
      },
      "execution_count": 1,
      "outputs": []
    },
    {
      "cell_type": "markdown",
      "source": [
        "### **01. Matplotlib 으로 그리기**\n",
        "---"
      ],
      "metadata": {
        "id": "QzMXKYm0F-CE"
      }
    },
    {
      "cell_type": "markdown",
      "source": [
        "#### **| 기본사용**\n",
        "\n",
        "```\n",
        "xs = ['Jan', 'Fab', 'Mar', 'Apr', 'May', 'Jun']\n",
        "nums = [35, 40, 35, 40, 55, 45]\n",
        "plt.bar(xs, nums)\n",
        "plt.show()\n",
        "```"
      ],
      "metadata": {
        "id": "etnS7PCoF-CE"
      }
    },
    {
      "cell_type": "code",
      "source": [
        "xs = ['Jan', 'Fab', 'Mar', 'Apr', 'May', 'Jun']\n",
        "nums = [35, 40, 35, 40, 55, 45]\n",
        "plt.bar(xs, nums)\n",
        "plt.show()"
      ],
      "metadata": {
        "id": "9VND05j315g8",
        "colab": {
          "base_uri": "https://localhost:8080/",
          "height": 262
        },
        "outputId": "8dbd3636-510a-4a90-8039-c4fdb29c8667"
      },
      "execution_count": 2,
      "outputs": [
        {
          "output_type": "display_data",
          "data": {
            "text/plain": [
              "<Figure size 432x288 with 1 Axes>"
            ],
            "image/png": "[encoded data removed]"
          },
          "metadata": {
            "needs_background": "light"
          }
        }
      ]
    },
    {
      "cell_type": "markdown",
      "source": [
        "#### **| 옵션**\n",
        "\n",
        "```\n",
        "plt.plot(data, \n",
        "        color=색,\n",
        "        linestyle=선스타일,\n",
        "        marker=마커,\n",
        "        markerfacecolor=마커색\n",
        "        markersize=마커사이즈\n",
        "        alpha=투명도 (0~1),\n",
        "        label = 레이블,\n",
        "```"
      ],
      "metadata": {
        "id": "IKDL5iKI7yV2"
      }
    },
    {
      "cell_type": "code",
      "source": [
        ""
      ],
      "metadata": {
        "id": "-gYm396gtfwi"
      },
      "execution_count": null,
      "outputs": []
    },
    {
      "cell_type": "markdown",
      "source": [
        "### **02. Seaborn 으로 그리기**\n",
        "---\n",
        "\n"
      ],
      "metadata": {
        "id": "ggjMd8im8gJx"
      }
    },
    {
      "cell_type": "markdown",
      "source": [
        "#### **| 기본사용**\n",
        "\n",
        "```\n",
        "sns.lineplot(x=xs, y=nums)\n",
        "plt.show()\n",
        "```"
      ],
      "metadata": {
        "id": "WCVykkIPXTmq"
      }
    },
    {
      "cell_type": "code",
      "source": [
        "sns.lineplot(x=xs, y=nums)\n",
        "plt.show()"
      ],
      "metadata": {
        "id": "caplckbRZt0Q",
        "colab": {
          "base_uri": "https://localhost:8080/",
          "height": 262
        },
        "outputId": "505b43c5-57e2-4f3c-dd20-f4ab7dd65027"
      },
      "execution_count": 3,
      "outputs": [
        {
          "output_type": "display_data",
          "data": {
            "text/plain": [
              "<Figure size 432x288 with 1 Axes>"
            ],
            "image/png": "[encoded data removed]"
          },
          "metadata": {
            "needs_background": "light"
          }
        }
      ]
    },
    {
      "cell_type": "markdown",
      "source": [
        "#### **| DataFrame 사용**\n",
        "---\n",
        "\n"
      ],
      "metadata": {
        "id": "GCPmXaIIyLcr"
      }
    },
    {
      "cell_type": "markdown",
      "source": [
        "* 데이터 프레임을 만들어 줍니다.\n",
        "\n"
      ],
      "metadata": {
        "id": "3cKlgwTJOzBJ"
      }
    },
    {
      "cell_type": "code",
      "source": [
        ""
      ],
      "metadata": {
        "id": "so1ANfnzO4Jh"
      },
      "execution_count": null,
      "outputs": []
    },
    {
      "cell_type": "markdown",
      "source": [
        "* 데이터프레임에서 기본적으로 플롯을 제공합니다.\n",
        "\n",
        "\n",
        "```\n",
        "df.plot(x=x,y=y)\n",
        "```\n",
        "\n"
      ],
      "metadata": {
        "id": "j5x-0qTTgqK2"
      }
    },
    {
      "cell_type": "code",
      "source": [
        "df.plot(x=x,y=y)"
      ],
      "metadata": {
        "id": "v4RUwYz5yPRs"
      },
      "execution_count": null,
      "outputs": []
    },
    {
      "cell_type": "markdown",
      "source": [
        "* 데이터프레임 기반으로 seaborn을 사용합니다.\n",
        "\n",
        "\n",
        "```\n",
        "sns.lineplot(data=df,x=x, y=y')\n",
        "```\n"
      ],
      "metadata": {
        "id": "ycx-4x4Ag94u"
      }
    },
    {
      "cell_type": "code",
      "source": [
        "sns.lineplot(data = df, x = 'Month', y = 'Count')"
      ],
      "metadata": {
        "id": "B8MgiEHyyjUt"
      },
      "execution_count": null,
      "outputs": []
    },
    {
      "cell_type": "markdown",
      "source": [
        "\n",
        "## 실습\n"
      ],
      "metadata": {
        "id": "9BldG-nOgeoQ"
      }
    },
    {
      "cell_type": "markdown",
      "source": [
        "### **01. 플롯 분할**\n",
        "---"
      ],
      "metadata": {
        "id": "Sm_irK939Amm"
      }
    },
    {
      "cell_type": "code",
      "source": [
        "x = np.linspace(-5, 5, 1000) # -5부터 5까지 1000개 데이터\n",
        "def func2(a) :\n",
        "\n",
        "  y = a*(x**2)\n",
        "\n",
        "  return y\n",
        "\n",
        "# 왼쪽\n",
        "plt.subplot(1,2, 1) # 형의 갯수, 열의 갯수, 위치\n",
        "plt.plot(x,func2(1))\n",
        "plt.plot(x, func2(2))\n",
        "\n",
        "# 오른쪽\n",
        "plt.subplot(1,2, 2)\n",
        "plt.plot(x, func2(-1))\n",
        "plt.plot(x, func2(-2))\n",
        "\n",
        "plt.show()"
      ],
      "metadata": {
        "id": "_Cp1_lyXiS3u",
        "colab": {
          "base_uri": "https://localhost:8080/",
          "height": 262
        },
        "outputId": "51ea3fd6-73ca-4cf0-cbd8-192ac856b10c"
      },
      "execution_count": 13,
      "outputs": [
        {
          "output_type": "display_data",
          "data": {
            "text/plain": [
              "<Figure size 432x288 with 2 Axes>"
            ],
            "image/png": "[encoded data removed]"
          },
          "metadata": {
            "needs_background": "light"
          }
        }
      ]
    },
    {
      "cell_type": "markdown",
      "source": [
        "### **02. 눈금 공유**\n",
        "---\n",
        "\n"
      ],
      "metadata": {
        "id": "Pk-MkgTJiS7v"
      }
    },
    {
      "cell_type": "code",
      "source": [
        "t = np.arange(0.01, 5, 0.01)\n",
        "s1 = np.sin(t * np.pi)\n",
        "s2 = np.sin(t ** np.pi)\n",
        "\n",
        "s3 = np.exp(-t)\n",
        "\n",
        "ax1 = plt.subplot(3,1,1)\n",
        "plt.plot(t, s1)\n",
        "plt.tick_params('x', labelbottom = False) # 눈금 지우기\n",
        "\n",
        "ax2 = plt.subplot(3,1,2, sharex = ax1)\n",
        "plt.plot(t, s2)\n",
        "plt.tick_params('x', labelbottom = False) # 눈금 지우기\n",
        "\n",
        "ax3 = plt.subplot(3,1,3, sharey = ax1) # 축공유\n",
        "plt.plot(t, s3)``\n",
        "\n"
      ],
      "metadata": {
        "id": "Zs8x4qd4idwG",
        "colab": {
          "base_uri": "https://localhost:8080/",
          "height": 281
        },
        "outputId": "b40118d6-089e-4a91-ca7e-8dfb2f1a2a03"
      },
      "execution_count": 32,
      "outputs": [
        {
          "output_type": "execute_result",
          "data": {
            "text/plain": [
              "[<matplotlib.lines.Line2D at 0x7f8ce2ee4f90>]"
            ]
          },
          "metadata": {},
          "execution_count": 32
        },
        {
          "output_type": "display_data",
          "data": {
            "text/plain": [
              "<Figure size 432x288 with 3 Axes>"
            ],
            "image/png": "[encoded data removed]"
          },
          "metadata": {
            "needs_background": "light"
          }
        }
      ]
    },
    {
      "cell_type": "markdown",
      "source": [
        "\n",
        "## 과제\n"
      ],
      "metadata": {
        "id": "IseqXyJH6Esi"
      }
    },
    {
      "cell_type": "markdown",
      "source": [
        "### **01. 로그함수와 지수함수 그리기**\n",
        "---"
      ],
      "metadata": {
        "id": "0G36B3KIj_L3"
      }
    },
    {
      "cell_type": "code",
      "source": [
        "x = np.linspace(-5, 5, 1000) # -5부터 5까지 -1000개 데이터\n",
        "def Expo() :\n",
        "\n",
        "  y = np.exp(x)\n",
        "\n",
        "  return y\n",
        "def Log() :\n",
        "\n",
        "  y = np.log(x)\n",
        "\n",
        "  return y\n",
        "\n",
        "plt.plot(x,Expo(), label = 'Exp')\n",
        "plt.plot(x,Log(), label = 'Log')\n",
        "plt.plot(x,x) \n",
        "\n",
        "plt.xlabel('X-Axis', size = 14)\n",
        "plt.ylabel('Y-Axis', size = 14)\n",
        "plt.axis((-5, 5, -5, 5))\n",
        "\n",
        "plt.legend()"
      ],
      "metadata": {
        "id": "T_GEEO9KlN_3",
        "colab": {
          "base_uri": "https://localhost:8080/",
          "height": 335
        },
        "outputId": "e516f12f-306b-4789-fc3e-dd4e15860bc6"
      },
      "execution_count": 66,
      "outputs": [
        {
          "output_type": "stream",
          "name": "stderr",
          "text": [
            "/usr/local/lib/python3.7/dist-packages/ipykernel_launcher.py:9: RuntimeWarning: invalid value encountered in log\n",
            "  if __name__ == '__main__':\n"
          ]
        },
        {
          "output_type": "execute_result",
          "data": {
            "text/plain": [
              "<matplotlib.legend.Legend at 0x7f8ce2e5f210>"
            ]
          },
          "metadata": {},
          "execution_count": 66
        },
        {
          "output_type": "display_data",
          "data": {
            "text/plain": [
              "<Figure size 432x288 with 1 Axes>"
            ],
            "image/png": "[encoded data removed]"
          },
          "metadata": {
            "needs_background": "light"
          }
        }
      ]
    },
    {
      "cell_type": "markdown",
      "source": [
        "### **02. 랜덤값 비교하기**\n",
        "---\n",
        "\n",
        "- 넘파이로 표준정규분포를 따르는 50개의 데이터를 총 세개 추출하세요.\n",
        "- 세개의 데이터를 3 x 1 플롯으로 그리세요\n",
        "- 세개의 플롯의 눈금을 모두 공유하세요."
      ],
      "metadata": {
        "id": "3LEMXnUslODw"
      }
    },
    {
      "cell_type": "code",
      "source": [
        "np.random.seed(seed=42)\n",
        "\n",
        "dn1 = np.random.randn(50)\n",
        "dn2 = np.random.randn(50)\n",
        "dn3 = np.random.randn(50)\n",
        "\n",
        "ax1 = plt.subplot(3,1,1)\n",
        "plt.tick_params('x', labelbottom = False)\n",
        "plt.tick_params('y', labelleft = False)\n",
        "plt.plot(dn1)\n",
        "\n",
        "ax1 = plt.subplot(3,1,2, sharex = ax1, sharey = ax1)\n",
        "plt.tick_params('x', labelbottom = False)\n",
        "plt.plot(dn2)\n",
        "\n",
        "ax1 = plt.subplot(3,1,3, sharex = ax1, sharey = ax1)\n",
        "plt.tick_params('y', labelleft = False)\n",
        "plt.plot(dn3)\n",
        "\n",
        "\n",
        "\n",
        "plt.show()"
      ],
      "metadata": {
        "id": "Vvfpj_MTlXPf",
        "colab": {
          "base_uri": "https://localhost:8080/",
          "height": 262
        },
        "outputId": "c0feb750-142b-49f2-eb99-45de31a61f72"
      },
      "execution_count": 101,
      "outputs": [
        {
          "output_type": "display_data",
          "data": {
            "text/plain": [
              "<Figure size 432x288 with 3 Axes>"
            ],
            "image/png": "[encoded data removed]"
          },
          "metadata": {
            "needs_background": "light"
          }
        }
      ]
    },
    {
      "cell_type": "code",
      "source": [
        ""
      ],
      "metadata": {
        "id": "AzHiEKIG5ZvH"
      },
      "execution_count": 73,
      "outputs": []
    },
    {
      "cell_type": "markdown",
      "source": [
        "### **03. flights 데이터**\n",
        "---\n",
        "\n",
        "- "
      ],
      "metadata": {
        "id": "V3L9slR4-CEB"
      }
    },
    {
      "cell_type": "code",
      "source": [
        "df = sns.load_dataset('flights')\n",
        "df"
      ],
      "metadata": {
        "colab": {
          "base_uri": "https://localhost:8080/",
          "height": 424
        },
        "id": "dmNV4oVd-JbQ",
        "outputId": "d52bfdf1-7a44-41a5-a2f1-01248c195213"
      },
      "execution_count": 142,
      "outputs": [
        {
          "output_type": "execute_result",
          "data": {
            "text/plain": [
              "     year month  passengers\n",
              "0    1949   Jan         112\n",
              "1    1949   Feb         118\n",
              "2    1949   Mar         132\n",
              "3    1949   Apr         129\n",
              "4    1949   May         121\n",
              "..    ...   ...         ...\n",
              "139  1960   Aug         606\n",
              "140  1960   Sep         508\n",
              "141  1960   Oct         461\n",
              "142  1960   Nov         390\n",
              "143  1960   Dec         432\n",
              "\n",
              "[144 rows x 3 columns]"
            ],
            "text/html": [
              "\n",
              "  <div id=\"df-52089e4d-2432-42bc-81da-232ae278d0d9\">\n",
              "    <div class=\"colab-df-container\">\n",
              "      <div>\n",
              "<style scoped>\n",
              "    .dataframe tbody tr th:only-of-type {\n",
              "        vertical-align: middle;\n",
              "    }\n",
              "\n",
              "    .dataframe tbody tr th {\n",
              "        vertical-align: top;\n",
              "    }\n",
              "\n",
              "    .dataframe thead th {\n",
              "        text-align: right;\n",
              "    }\n",
              "</style>\n",
              "<table border=\"1\" class=\"dataframe\">\n",
              "  <thead>\n",
              "    <tr style=\"text-align: right;\">\n",
              "      <th></th>\n",
              "      <th>year</th>\n",
              "      <th>month</th>\n",
              "      <th>passengers</th>\n",
              "    </tr>\n",
              "  </thead>\n",
              "  <tbody>\n",
              "    <tr>\n",
              "      <th>0</th>\n",
              "      <td>1949</td>\n",
              "      <td>Jan</td>\n",
              "      <td>112</td>\n",
              "    </tr>\n",
              "    <tr>\n",
              "      <th>1</th>\n",
              "      <td>1949</td>\n",
              "      <td>Feb</td>\n",
              "      <td>118</td>\n",
              "    </tr>\n",
              "    <tr>\n",
              "      <th>2</th>\n",
              "      <td>1949</td>\n",
              "      <td>Mar</td>\n",
              "      <td>132</td>\n",
              "    </tr>\n",
              "    <tr>\n",
              "      <th>3</th>\n",
              "      <td>1949</td>\n",
              "      <td>Apr</td>\n",
              "      <td>129</td>\n",
              "    </tr>\n",
              "    <tr>\n",
              "      <th>4</th>\n",
              "      <td>1949</td>\n",
              "      <td>May</td>\n",
              "      <td>121</td>\n",
              "    </tr>\n",
              "    <tr>\n",
              "      <th>...</th>\n",
              "      <td>...</td>\n",
              "      <td>...</td>\n",
              "      <td>...</td>\n",
              "    </tr>\n",
              "    <tr>\n",
              "      <th>139</th>\n",
              "      <td>1960</td>\n",
              "      <td>Aug</td>\n",
              "      <td>606</td>\n",
              "    </tr>\n",
              "    <tr>\n",
              "      <th>140</th>\n",
              "      <td>1960</td>\n",
              "      <td>Sep</td>\n",
              "      <td>508</td>\n",
              "    </tr>\n",
              "    <tr>\n",
              "      <th>141</th>\n",
              "      <td>1960</td>\n",
              "      <td>Oct</td>\n",
              "      <td>461</td>\n",
              "    </tr>\n",
              "    <tr>\n",
              "      <th>142</th>\n",
              "      <td>1960</td>\n",
              "      <td>Nov</td>\n",
              "      <td>390</td>\n",
              "    </tr>\n",
              "    <tr>\n",
              "      <th>143</th>\n",
              "      <td>1960</td>\n",
              "      <td>Dec</td>\n",
              "      <td>432</td>\n",
              "    </tr>\n",
              "  </tbody>\n",
              "</table>\n",
              "<p>144 rows × 3 columns</p>\n",
              "</div>\n",
              "      <button class=\"colab-df-convert\" onclick=\"convertToInteractive('df-52089e4d-2432-42bc-81da-232ae278d0d9')\"\n",
              "              title=\"Convert this dataframe to an interactive table.\"\n",
              "              style=\"display:none;\">\n",
              "        \n",
              "  <svg xmlns=\"http://www.w3.org/2000/svg\" height=\"24px\"viewBox=\"0 0 24 24\"\n",
              "       width=\"24px\">\n",
              "    <path d=\"M0 0h24v24H0V0z\" fill=\"none\"/>\n",
              "    <path d=\"M18.56 5.44l.94 2.06.94-2.06 2.06-.94-2.06-.94-.94-2.06-.94 2.06-2.06.94zm-11 1L8.5 8.5l.94-2.06 2.06-.94-2.06-.94L8.5 2.5l-.94 2.06-2.06.94zm10 10l.94 2.06.94-2.06 2.06-.94-2.06-.94-.94-2.06-.94 2.06-2.06.94z\"/><path d=\"M17.41 7.96l-1.37-1.37c-.4-.4-.92-.59-1.43-.59-.52 0-1.04.2-1.43.59L10.3 9.45l-7.72 7.72c-.78.78-.78 2.05 0 2.83L4 21.41c.39.39.9.59 1.41.59.51 0 1.02-.2 1.41-.59l7.78-7.78 2.81-2.81c.8-.78.8-2.07 0-2.86zM5.41 20L4 18.59l7.72-7.72 1.47 1.35L5.41 20z\"/>\n",
              "  </svg>\n",
              "      </button>\n",
              "      \n",
              "  <style>\n",
              "    .colab-df-container {\n",
              "      display:flex;\n",
              "      flex-wrap:wrap;\n",
              "      gap: 12px;\n",
              "    }\n",
              "\n",
              "    .colab-df-convert {\n",
              "      background-color: #E8F0FE;\n",
              "      border: none;\n",
              "      border-radius: 50%;\n",
              "      cursor: pointer;\n",
              "      display: none;\n",
              "      fill: #1967D2;\n",
              "      height: 32px;\n",
              "      padding: 0 0 0 0;\n",
              "      width: 32px;\n",
              "    }\n",
              "\n",
              "    .colab-df-convert:hover {\n",
              "      background-color: #E2EBFA;\n",
              "      box-shadow: 0px 1px 2px rgba(60, 64, 67, 0.3), 0px 1px 3px 1px rgba(60, 64, 67, 0.15);\n",
              "      fill: #174EA6;\n",
              "    }\n",
              "\n",
              "    [theme=dark] .colab-df-convert {\n",
              "      background-color: #3B4455;\n",
              "      fill: #D2E3FC;\n",
              "    }\n",
              "\n",
              "    [theme=dark] .colab-df-convert:hover {\n",
              "      background-color: #434B5C;\n",
              "      box-shadow: 0px 1px 3px 1px rgba(0, 0, 0, 0.15);\n",
              "      filter: drop-shadow(0px 1px 2px rgba(0, 0, 0, 0.3));\n",
              "      fill: #FFFFFF;\n",
              "    }\n",
              "  </style>\n",
              "\n",
              "      <script>\n",
              "        const buttonEl =\n",
              "          document.querySelector('#df-52089e4d-2432-42bc-81da-232ae278d0d9 button.colab-df-convert');\n",
              "        buttonEl.style.display =\n",
              "          google.colab.kernel.accessAllowed ? 'block' : 'none';\n",
              "\n",
              "        async function convertToInteractive(key) {\n",
              "          const element = document.querySelector('#df-52089e4d-2432-42bc-81da-232ae278d0d9');\n",
              "          const dataTable =\n",
              "            await google.colab.kernel.invokeFunction('convertToInteractive',\n",
              "                                                     [key], {});\n",
              "          if (!dataTable) return;\n",
              "\n",
              "          const docLinkHtml = 'Like what you see? Visit the ' +\n",
              "            '<a target=\"_blank\" href=https://colab.research.google.com/notebooks/data_table.ipynb>data table notebook</a>'\n",
              "            + ' to learn more about interactive tables.';\n",
              "          element.innerHTML = '';\n",
              "          dataTable['output_type'] = 'display_data';\n",
              "          await google.colab.output.renderOutput(dataTable, element);\n",
              "          const docLink = document.createElement('div');\n",
              "          docLink.innerHTML = docLinkHtml;\n",
              "          element.appendChild(docLink);\n",
              "        }\n",
              "      </script>\n",
              "    </div>\n",
              "  </div>\n",
              "  "
            ]
          },
          "metadata": {},
          "execution_count": 142
        }
      ]
    },
    {
      "cell_type": "code",
      "source": [
        "df01 = df['passengers'].groupby(df['month']).sum()\n",
        "\n",
        "df01"
      ],
      "metadata": {
        "colab": {
          "base_uri": "https://localhost:8080/"
        },
        "id": "CgauwTxK-vQA",
        "outputId": "578cd550-2373-4a83-f5c1-9e47be302a1d"
      },
      "execution_count": 147,
      "outputs": [
        {
          "output_type": "execute_result",
          "data": {
            "text/plain": [
              "month\n",
              "Jan    2901\n",
              "Feb    2820\n",
              "Mar    3242\n",
              "Apr    3205\n",
              "May    3262\n",
              "Jun    3740\n",
              "Jul    4216\n",
              "Aug    4213\n",
              "Sep    3629\n",
              "Oct    3199\n",
              "Nov    2794\n",
              "Dec    3142\n",
              "Name: passengers, dtype: int64"
            ]
          },
          "metadata": {},
          "execution_count": 147
        }
      ]
    },
    {
      "cell_type": "code",
      "source": [
        "df02 = df['passengers'].groupby(df['year']).sum()\n",
        "\n",
        "df02"
      ],
      "metadata": {
        "colab": {
          "base_uri": "https://localhost:8080/"
        },
        "id": "y6aCkxyTCX4B",
        "outputId": "8a83191f-4834-4e2e-fcd8-725449952d9d"
      },
      "execution_count": 150,
      "outputs": [
        {
          "output_type": "execute_result",
          "data": {
            "text/plain": [
              "year\n",
              "1949    1520\n",
              "1950    1676\n",
              "1951    2042\n",
              "1952    2364\n",
              "1953    2700\n",
              "1954    2867\n",
              "1955    3408\n",
              "1956    3939\n",
              "1957    4421\n",
              "1958    4572\n",
              "1959    5140\n",
              "1960    5714\n",
              "Name: passengers, dtype: int64"
            ]
          },
          "metadata": {},
          "execution_count": 150
        }
      ]
    },
    {
      "cell_type": "code",
      "source": [
        "plt.plot(df01, marker = 'o', linestyle = '--' , color = 'green')\n",
        "\n",
        "plt.xlabel('Month', size = 14, labelpad=15)\n",
        "plt.ylabel('Passengers', size = 14, labelpad=15)\n",
        "plt.grid(True)\n",
        "\n",
        "plt.legend()"
      ],
      "metadata": {
        "colab": {
          "base_uri": "https://localhost:8080/",
          "height": 364
        },
        "id": "hfz9gg7z-RyA",
        "outputId": "947e286b-c138-4d35-da83-0689d36d0d54"
      },
      "execution_count": 165,
      "outputs": [
        {
          "output_type": "stream",
          "name": "stderr",
          "text": [
            "/usr/local/lib/python3.7/dist-packages/matplotlib/axes/_base.py:348: FutureWarning: Support for multi-dimensional indexing (e.g. `obj[:, None]`) is deprecated and will be removed in a future version.  Convert to a numpy array before indexing instead.\n",
            "  x = x[:, np.newaxis]\n",
            "No handles with labels found to put in legend.\n"
          ]
        },
        {
          "output_type": "execute_result",
          "data": {
            "text/plain": [
              "<matplotlib.legend.Legend at 0x7f8cda8004d0>"
            ]
          },
          "metadata": {},
          "execution_count": 165
        },
        {
          "output_type": "display_data",
          "data": {
            "text/plain": [
              "<Figure size 432x288 with 1 Axes>"
            ],
            "image/png": "[encoded data removed]"
          },
          "metadata": {
            "needs_background": "light"
          }
        }
      ]
    },
    {
      "cell_type": "code",
      "source": [
        "plt.plot(df02, marker = 'o' , linestyle = ':')\n",
        "\n",
        "plt.xlabel('Month', size = 14, labelpad=15)\n",
        "plt.ylabel('Passengers', size = 14, labelpad=15)\n",
        "plt.grid(True)\n",
        "\n",
        "plt.legend()"
      ],
      "metadata": {
        "colab": {
          "base_uri": "https://localhost:8080/",
          "height": 328
        },
        "id": "c7DyLoJu-gfI",
        "outputId": "d5cac845-c470-4fea-e5e3-b98e38bb2675"
      },
      "execution_count": 170,
      "outputs": [
        {
          "output_type": "stream",
          "name": "stderr",
          "text": [
            "No handles with labels found to put in legend.\n"
          ]
        },
        {
          "output_type": "execute_result",
          "data": {
            "text/plain": [
              "<matplotlib.legend.Legend at 0x7f8cda681d50>"
            ]
          },
          "metadata": {},
          "execution_count": 170
        },
        {
          "output_type": "display_data",
          "data": {
            "text/plain": [
              "<Figure size 432x288 with 1 Axes>"
            ],
            "image/png": "[encoded data removed]"
          },
          "metadata": {
            "needs_background": "light"
          }
        }
      ]
    },
    {
      "cell_type": "code",
      "source": [
        ""
      ],
      "metadata": {
        "id": "BP6EBuEwA8Ih"
      },
      "execution_count": null,
      "outputs": []
    }
  ]
}