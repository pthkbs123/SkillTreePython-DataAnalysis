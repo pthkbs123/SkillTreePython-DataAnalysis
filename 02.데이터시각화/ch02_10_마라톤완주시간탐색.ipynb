{
  "nbformat": 4,
  "nbformat_minor": 0,
  "metadata": {
    "colab": {
      "name": "ch02_10_마라톤완주시간탐색.ipynb",
      "provenance": [],
      "collapsed_sections": [],
      "authorship_tag": "ABX9TyOoKkj5KiWb/bRH1EQEoNLG",
      "include_colab_link": true
    },
    "kernelspec": {
      "name": "python3",
      "display_name": "Python 3"
    },
    "language_info": {
      "name": "python"
    }
  },
  "cells": [
    {
      "cell_type": "markdown",
      "metadata": {
        "id": "view-in-github",
        "colab_type": "text"
      },
      "source": [
        "<a href=\"https://colab.research.google.com/github/yebiny/SkillTreePython-DataAnalysis/blob/main/02.%EB%8D%B0%EC%9D%B4%ED%84%B0%EC%8B%9C%EA%B0%81%ED%99%94/ch02_10_%EB%A7%88%EB%9D%BC%ED%86%A4%EC%99%84%EC%A3%BC%EC%8B%9C%EA%B0%84%ED%83%90%EC%83%89.ipynb\" target=\"_parent\"><img src=\"https://colab.research.google.com/assets/colab-badge.svg\" alt=\"Open In Colab\"/></a>"
      ]
    },
    {
      "cell_type": "markdown",
      "source": [
        "# Ch02.10. 마라톤 완주 시간 탐색\n",
        "\n",
        "---\n",
        "\n",
        "* 날짜:\n",
        "* 이름:\n"
      ],
      "metadata": {
        "id": "ylXjSLUxXHxm"
      }
    },
    {
      "cell_type": "code",
      "execution_count": null,
      "metadata": {
        "id": "TyVLPbux1Yu7"
      },
      "outputs": [],
      "source": [
        ""
      ]
    }
  ]
}