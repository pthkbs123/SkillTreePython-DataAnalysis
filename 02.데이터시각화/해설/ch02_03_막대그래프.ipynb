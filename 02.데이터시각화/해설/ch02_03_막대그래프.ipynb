{
  "nbformat": 4,
  "nbformat_minor": 0,
  "metadata": {
    "colab": {
      "name": "ch02_03_막대그래프.ipynb",
      "provenance": [],
      "collapsed_sections": [],
      "authorship_tag": "ABX9TyMBEdpf/IeTEyNA5bxbsvBK",
      "include_colab_link": true
    },
    "kernelspec": {
      "name": "python3",
      "display_name": "Python 3"
    },
    "language_info": {
      "name": "python"
    }
  },
  "cells": [
    {
      "cell_type": "markdown",
      "metadata": {
        "id": "view-in-github",
        "colab_type": "text"
      },
      "source": [
        "<a href=\"https://colab.research.google.com/github/yebiny/SkillTreePython-DataAnalysis/blob/main/02.%EB%8D%B0%EC%9D%B4%ED%84%B0%EC%8B%9C%EA%B0%81%ED%99%94/%ED%95%B4%EC%84%A4/ch02_03_%EB%A7%89%EB%8C%80%EA%B7%B8%EB%9E%98%ED%94%84.ipynb\" target=\"_parent\"><img src=\"https://colab.research.google.com/assets/colab-badge.svg\" alt=\"Open In Colab\"/></a>"
      ]
    },
    {
      "cell_type": "markdown",
      "source": [
        "# Ch02.03. 막대그래프\n",
        "\n",
        "---\n",
        "* 날짜:\n",
        "* 이름:\n",
        "\n",
        "```\n",
        "import numpy as np\n",
        "import pandas as pd\n",
        "import matplotlib.pyplot as plt\n",
        "import seaborn as sns\n",
        "\n",
        "plt.rcParams['figure.figsize'] = [6, 4]\n",
        "plt.style.use('seaborn-white')\n",
        "sns.set_style('white')\n",
        "```\n"
      ],
      "metadata": {
        "id": "ylXjSLUxXHxm"
      }
    },
    {
      "cell_type": "code",
      "execution_count": null,
      "metadata": {
        "id": "TyVLPbux1Yu7"
      },
      "outputs": [],
      "source": [
        "import numpy as np\n",
        "import pandas as pd\n",
        "import matplotlib.pyplot as plt\n",
        "import seaborn as sns\n",
        "\n",
        "plt.rcParams['figure.figsize'] = [6, 4]\n",
        "plt.style.use('seaborn-white')\n",
        "sns.set_style('white')"
      ]
    },
    {
      "cell_type": "markdown",
      "source": [
        "\n",
        "## **개념정리**\n",
        "---\n",
        "\n",
        "\n"
      ],
      "metadata": {
        "id": "Ldw0qcLPfPTx"
      }
    },
    {
      "cell_type": "markdown",
      "source": [
        "### (1) Matplotlib 으로 그리기\n"
      ],
      "metadata": {
        "id": "xeLdvlaAfPTx"
      }
    },
    {
      "cell_type": "markdown",
      "source": [
        "#### **| 기본사용**\n",
        "\n",
        "```\n",
        "xs = ['Jan', 'Fab', 'Mar', 'Apr', 'May', 'Jun']\n",
        "nums = [35, 40, 35, 40, 55, 45]\n",
        "plt.bar(xs, nums)\n",
        "plt.show()\n",
        "```"
      ],
      "metadata": {
        "id": "etnS7PCoF-CE"
      }
    },
    {
      "cell_type": "code",
      "source": [
        "xs = ['Jan', 'Fab', 'Mar', 'Apr', 'May', 'Jun']\n",
        "nums = [35, 40, 35, 40, 55, 45]\n",
        "plt.bar(xs, nums)\n",
        "plt.show()"
      ],
      "metadata": {
        "colab": {
          "base_uri": "https://localhost:8080/",
          "height": 262
        },
        "id": "9VND05j315g8",
        "outputId": "77886060-5be2-406a-9482-f03db96d7ab3"
      },
      "execution_count": null,
      "outputs": [
        {
          "output_type": "display_data",
          "data": {
            "text/plain": [
              "<Figure size 432x288 with 1 Axes>"
            ],
            "image/png": "[encoded data removed]"
          },
          "metadata": {}
        }
      ]
    },
    {
      "cell_type": "markdown",
      "source": [
        "#### **| 옵션**\n",
        "\n",
        "```\n",
        "plt.bar(xs, nums, \n",
        "        color = '색깔'\n",
        "        edgecolor='테두리색'\n",
        "        width/ height=바의 너비/높이\n",
        "        linewidth=테두리두께\n",
        "        align=눈금위치('center'/'edge'), \n",
        "        tick_label=[])\n",
        "```"
      ],
      "metadata": {
        "id": "_tsJqPsZcSU3"
      }
    },
    {
      "cell_type": "code",
      "source": [
        "plt.bar(xs, nums, \n",
        "        color = 'red',\n",
        "        edgecolor='black',\n",
        "        width=0.8,\n",
        "        linewidth=2,\n",
        "        alpha=0.6\n",
        "        )\n",
        "plt.plot(xs, nums, marker='o')\n",
        "plt.show()"
      ],
      "metadata": {
        "colab": {
          "base_uri": "https://localhost:8080/",
          "height": 262
        },
        "id": "PgrriT6kayt2",
        "outputId": "aa7a21ea-8d99-43b4-ee18-887592b50b9f"
      },
      "execution_count": null,
      "outputs": [
        {
          "output_type": "display_data",
          "data": {
            "text/plain": [
              "<Figure size 432x288 with 1 Axes>"
            ],
            "image/png": "[encoded data removed]"
          },
          "metadata": {}
        }
      ]
    },
    {
      "cell_type": "markdown",
      "source": [
        "#### **| 수평 막대그래프**\n"
      ],
      "metadata": {
        "id": "k2kKU7ucc1Ev"
      }
    },
    {
      "cell_type": "markdown",
      "source": [
        "```\n",
        "plt.barh(xs, nums)\n",
        "```"
      ],
      "metadata": {
        "id": "mdudOY6cc1Ev"
      }
    },
    {
      "cell_type": "code",
      "source": [
        "plt.barh(xs, nums)\n",
        "plt.show()"
      ],
      "metadata": {
        "colab": {
          "base_uri": "https://localhost:8080/",
          "height": 262
        },
        "outputId": "5d4a9f98-5253-48c3-8def-5fb126e5134a",
        "id": "XbSAmW-cc1Ev"
      },
      "execution_count": null,
      "outputs": [
        {
          "output_type": "display_data",
          "data": {
            "text/plain": [
              "<Figure size 432x288 with 1 Axes>"
            ],
            "image/png": "[encoded data removed]"
          },
          "metadata": {}
        }
      ]
    },
    {
      "cell_type": "markdown",
      "source": [
        "### (2) Seaborn 으로 그리기\n",
        "\n",
        "\n"
      ],
      "metadata": {
        "id": "ggjMd8im8gJx"
      }
    },
    {
      "cell_type": "markdown",
      "source": [
        "#### **| 기본사용**\n",
        "\n",
        "```\n",
        "sns.barplot(x=xs, y=nums)\n",
        "```"
      ],
      "metadata": {
        "id": "WCVykkIPXTmq"
      }
    },
    {
      "cell_type": "code",
      "source": [
        "sns.barplot(x=xs, y=nums)\n",
        "plt.show()"
      ],
      "metadata": {
        "id": "caplckbRZt0Q",
        "colab": {
          "base_uri": "https://localhost:8080/",
          "height": 262
        },
        "outputId": "828d7f23-9116-4a47-b5a6-b9d42c3054b9"
      },
      "execution_count": null,
      "outputs": [
        {
          "output_type": "display_data",
          "data": {
            "text/plain": [
              "<Figure size 432x288 with 1 Axes>"
            ],
            "image/png": "[encoded data removed]"
          },
          "metadata": {}
        }
      ]
    },
    {
      "cell_type": "markdown",
      "source": [
        "#### **| 옵션**\n",
        "\n",
        "```\n",
        "seaborn.barplot(x=None, y=None, \n",
        "                color=None, \n",
        "                palette=None, # 컬러맵\n",
        "                saturation=0.75, # 밝기\n",
        "                )\n",
        "```"
      ],
      "metadata": {
        "id": "kwbkAOvYI7kH"
      }
    },
    {
      "cell_type": "code",
      "source": [
        "sns.barplot(x=xs, y=nums, palette='Blues')\n",
        "plt.show()"
      ],
      "metadata": {
        "colab": {
          "base_uri": "https://localhost:8080/",
          "height": 262
        },
        "outputId": "2bb43c8f-6fb2-4b59-dbd3-25cff90acb03",
        "id": "HV1wyyrqI7kH"
      },
      "execution_count": null,
      "outputs": [
        {
          "output_type": "display_data",
          "data": {
            "text/plain": [
              "<Figure size 432x288 with 1 Axes>"
            ],
            "image/png": "[encoded data removed]"
          },
          "metadata": {}
        }
      ]
    },
    {
      "cell_type": "markdown",
      "source": [
        "#### **| 수평 막대그래프**\n"
      ],
      "metadata": {
        "id": "7RhgMjm3H17N"
      }
    },
    {
      "cell_type": "markdown",
      "source": [
        "```\n",
        "sns.barplot(x=nums, y=xs)\n",
        "```"
      ],
      "metadata": {
        "id": "KLPJpZ79H17O"
      }
    },
    {
      "cell_type": "code",
      "source": [
        "sns.barplot(x=nums, y=xs, palette='pastel')\n",
        "plt.show()"
      ],
      "metadata": {
        "colab": {
          "base_uri": "https://localhost:8080/",
          "height": 262
        },
        "outputId": "b3cd3d17-d124-4bd1-a847-f86e2c3e7f9f",
        "id": "FxAMCcz2H17O"
      },
      "execution_count": null,
      "outputs": [
        {
          "output_type": "display_data",
          "data": {
            "text/plain": [
              "<Figure size 432x288 with 1 Axes>"
            ],
            "image/png": "[encoded data removed]"
          },
          "metadata": {}
        }
      ]
    },
    {
      "cell_type": "markdown",
      "source": [
        "#### **| DataFrame 사용**\n",
        "\n"
      ],
      "metadata": {
        "id": "GCPmXaIIyLcr"
      }
    },
    {
      "cell_type": "markdown",
      "source": [
        "* 데이터 프레임을 만들어 줍니다.\n",
        "\n"
      ],
      "metadata": {
        "id": "3cKlgwTJOzBJ"
      }
    },
    {
      "cell_type": "code",
      "source": [
        "df = pd.DataFrame([xs, nums]).T\n",
        "df.columns=['Month', 'Count']\n",
        "df"
      ],
      "metadata": {
        "colab": {
          "base_uri": "https://localhost:8080/",
          "height": 238
        },
        "id": "so1ANfnzO4Jh",
        "outputId": "700ad5d2-0559-4095-fe66-8780d6e20ad0"
      },
      "execution_count": null,
      "outputs": [
        {
          "output_type": "execute_result",
          "data": {
            "text/plain": [
              "  Month Count\n",
              "0   Jan    35\n",
              "1   Fab    40\n",
              "2   Mar    35\n",
              "3   Apr    40\n",
              "4   May    55\n",
              "5   Jun    45"
            ],
            "text/html": [
              "\n",
              "  <div id=\"df-b3df27ff-a0ae-4d10-af16-69ec399a0626\">\n",
              "    <div class=\"colab-df-container\">\n",
              "      <div>\n",
              "<style scoped>\n",
              "    .dataframe tbody tr th:only-of-type {\n",
              "        vertical-align: middle;\n",
              "    }\n",
              "\n",
              "    .dataframe tbody tr th {\n",
              "        vertical-align: top;\n",
              "    }\n",
              "\n",
              "    .dataframe thead th {\n",
              "        text-align: right;\n",
              "    }\n",
              "</style>\n",
              "<table border=\"1\" class=\"dataframe\">\n",
              "  <thead>\n",
              "    <tr style=\"text-align: right;\">\n",
              "      <th></th>\n",
              "      <th>Month</th>\n",
              "      <th>Count</th>\n",
              "    </tr>\n",
              "  </thead>\n",
              "  <tbody>\n",
              "    <tr>\n",
              "      <th>0</th>\n",
              "      <td>Jan</td>\n",
              "      <td>35</td>\n",
              "    </tr>\n",
              "    <tr>\n",
              "      <th>1</th>\n",
              "      <td>Fab</td>\n",
              "      <td>40</td>\n",
              "    </tr>\n",
              "    <tr>\n",
              "      <th>2</th>\n",
              "      <td>Mar</td>\n",
              "      <td>35</td>\n",
              "    </tr>\n",
              "    <tr>\n",
              "      <th>3</th>\n",
              "      <td>Apr</td>\n",
              "      <td>40</td>\n",
              "    </tr>\n",
              "    <tr>\n",
              "      <th>4</th>\n",
              "      <td>May</td>\n",
              "      <td>55</td>\n",
              "    </tr>\n",
              "    <tr>\n",
              "      <th>5</th>\n",
              "      <td>Jun</td>\n",
              "      <td>45</td>\n",
              "    </tr>\n",
              "  </tbody>\n",
              "</table>\n",
              "</div>\n",
              "      <button class=\"colab-df-convert\" onclick=\"convertToInteractive('df-b3df27ff-a0ae-4d10-af16-69ec399a0626')\"\n",
              "              title=\"Convert this dataframe to an interactive table.\"\n",
              "              style=\"display:none;\">\n",
              "        \n",
              "  <svg xmlns=\"http://www.w3.org/2000/svg\" height=\"24px\"viewBox=\"0 0 24 24\"\n",
              "       width=\"24px\">\n",
              "    <path d=\"M0 0h24v24H0V0z\" fill=\"none\"/>\n",
              "    <path d=\"M18.56 5.44l.94 2.06.94-2.06 2.06-.94-2.06-.94-.94-2.06-.94 2.06-2.06.94zm-11 1L8.5 8.5l.94-2.06 2.06-.94-2.06-.94L8.5 2.5l-.94 2.06-2.06.94zm10 10l.94 2.06.94-2.06 2.06-.94-2.06-.94-.94-2.06-.94 2.06-2.06.94z\"/><path d=\"M17.41 7.96l-1.37-1.37c-.4-.4-.92-.59-1.43-.59-.52 0-1.04.2-1.43.59L10.3 9.45l-7.72 7.72c-.78.78-.78 2.05 0 2.83L4 21.41c.39.39.9.59 1.41.59.51 0 1.02-.2 1.41-.59l7.78-7.78 2.81-2.81c.8-.78.8-2.07 0-2.86zM5.41 20L4 18.59l7.72-7.72 1.47 1.35L5.41 20z\"/>\n",
              "  </svg>\n",
              "      </button>\n",
              "      \n",
              "  <style>\n",
              "    .colab-df-container {\n",
              "      display:flex;\n",
              "      flex-wrap:wrap;\n",
              "      gap: 12px;\n",
              "    }\n",
              "\n",
              "    .colab-df-convert {\n",
              "      background-color: #E8F0FE;\n",
              "      border: none;\n",
              "      border-radius: 50%;\n",
              "      cursor: pointer;\n",
              "      display: none;\n",
              "      fill: #1967D2;\n",
              "      height: 32px;\n",
              "      padding: 0 0 0 0;\n",
              "      width: 32px;\n",
              "    }\n",
              "\n",
              "    .colab-df-convert:hover {\n",
              "      background-color: #E2EBFA;\n",
              "      box-shadow: 0px 1px 2px rgba(60, 64, 67, 0.3), 0px 1px 3px 1px rgba(60, 64, 67, 0.15);\n",
              "      fill: #174EA6;\n",
              "    }\n",
              "\n",
              "    [theme=dark] .colab-df-convert {\n",
              "      background-color: #3B4455;\n",
              "      fill: #D2E3FC;\n",
              "    }\n",
              "\n",
              "    [theme=dark] .colab-df-convert:hover {\n",
              "      background-color: #434B5C;\n",
              "      box-shadow: 0px 1px 3px 1px rgba(0, 0, 0, 0.15);\n",
              "      filter: drop-shadow(0px 1px 2px rgba(0, 0, 0, 0.3));\n",
              "      fill: #FFFFFF;\n",
              "    }\n",
              "  </style>\n",
              "\n",
              "      <script>\n",
              "        const buttonEl =\n",
              "          document.querySelector('#df-b3df27ff-a0ae-4d10-af16-69ec399a0626 button.colab-df-convert');\n",
              "        buttonEl.style.display =\n",
              "          google.colab.kernel.accessAllowed ? 'block' : 'none';\n",
              "\n",
              "        async function convertToInteractive(key) {\n",
              "          const element = document.querySelector('#df-b3df27ff-a0ae-4d10-af16-69ec399a0626');\n",
              "          const dataTable =\n",
              "            await google.colab.kernel.invokeFunction('convertToInteractive',\n",
              "                                                     [key], {});\n",
              "          if (!dataTable) return;\n",
              "\n",
              "          const docLinkHtml = 'Like what you see? Visit the ' +\n",
              "            '<a target=\"_blank\" href=https://colab.research.google.com/notebooks/data_table.ipynb>data table notebook</a>'\n",
              "            + ' to learn more about interactive tables.';\n",
              "          element.innerHTML = '';\n",
              "          dataTable['output_type'] = 'display_data';\n",
              "          await google.colab.output.renderOutput(dataTable, element);\n",
              "          const docLink = document.createElement('div');\n",
              "          docLink.innerHTML = docLinkHtml;\n",
              "          element.appendChild(docLink);\n",
              "        }\n",
              "      </script>\n",
              "    </div>\n",
              "  </div>\n",
              "  "
            ]
          },
          "metadata": {},
          "execution_count": 17
        }
      ]
    },
    {
      "cell_type": "markdown",
      "source": [
        "* 데이터프레임에서 기본적으로 플롯을 제공합니다.\n",
        "\n",
        "\n",
        "```\n",
        "df.plot.bar(x=x,y=y)\n",
        "```\n",
        "\n",
        "\n"
      ],
      "metadata": {
        "id": "j5x-0qTTgqK2"
      }
    },
    {
      "cell_type": "code",
      "source": [
        "df.plot.bar(x='Month',y='Count')"
      ],
      "metadata": {
        "colab": {
          "base_uri": "https://localhost:8080/",
          "height": 304
        },
        "id": "v4RUwYz5yPRs",
        "outputId": "f7acfe46-9c1c-4de1-bd7e-7dc11be3f7c1"
      },
      "execution_count": null,
      "outputs": [
        {
          "output_type": "execute_result",
          "data": {
            "text/plain": [
              "<matplotlib.axes._subplots.AxesSubplot at 0x7f650d6bb690>"
            ]
          },
          "metadata": {},
          "execution_count": 18
        },
        {
          "output_type": "display_data",
          "data": {
            "text/plain": [
              "<Figure size 432x288 with 1 Axes>"
            ],
            "image/png": "[encoded data removed]"
          },
          "metadata": {}
        }
      ]
    },
    {
      "cell_type": "markdown",
      "source": [
        "* 데이터프레임 기반으로 seaborn을 사용합니다.\n",
        "\n",
        "\n",
        "```\n",
        "sns.barplot(data=df,x=x, y=y)\n",
        "```\n"
      ],
      "metadata": {
        "id": "ycx-4x4Ag94u"
      }
    },
    {
      "cell_type": "code",
      "source": [
        "sns.barplot(data=df, x='Month', y='Count')"
      ],
      "metadata": {
        "colab": {
          "base_uri": "https://localhost:8080/",
          "height": 294
        },
        "outputId": "c6e39c18-102d-4534-e773-0553eccdc5e0",
        "id": "B8MgiEHyyjUt"
      },
      "execution_count": null,
      "outputs": [
        {
          "output_type": "execute_result",
          "data": {
            "text/plain": [
              "<matplotlib.axes._subplots.AxesSubplot at 0x7f650c526550>"
            ]
          },
          "metadata": {},
          "execution_count": 19
        },
        {
          "output_type": "display_data",
          "data": {
            "text/plain": [
              "<Figure size 432x288 with 1 Axes>"
            ],
            "image/png": "[encoded data removed]"
          },
          "metadata": {}
        }
      ]
    },
    {
      "cell_type": "markdown",
      "source": [
        "\n",
        "## **실습**\n",
        "\n",
        "\n",
        "---\n",
        "\n",
        "\n"
      ],
      "metadata": {
        "id": "9BldG-nOgeoQ"
      }
    },
    {
      "cell_type": "markdown",
      "source": [
        "### (1) 과일 데이터 시각화\n",
        "\n",
        "\n",
        "```\n",
        "np.random.seed(42)\n",
        "fruits=['apple', 'banana','orange']\n",
        "fresh = np.random.randint(1,10,3)\n",
        "qual = np.random.randint(1,10,3)\n",
        "price = np.random.randint(1000,1500,3)\n",
        "sale = np.random.randint(700,1200,3)\n",
        "```"
      ],
      "metadata": {
        "id": "Sm_irK939Amm"
      }
    },
    {
      "cell_type": "code",
      "source": [
        "np.random.seed(42)\n",
        "fruits=['apple', 'banana','orange']\n",
        "fresh = np.random.randint(1,10,3)\n",
        "qual = np.random.randint(1,10,3)\n",
        "price = np.random.randint(1000,1500,3)\n",
        "sale = np.random.randint(700,1200,3)"
      ],
      "metadata": {
        "id": "GHa1oGTdZuvO"
      },
      "execution_count": null,
      "outputs": []
    },
    {
      "cell_type": "code",
      "source": [
        "width=0.2\n",
        "idx=np.arange(3)\n",
        "plt.figure(figsize=(8,6))\n",
        "\n",
        "plt.subplot(2,1,1)\n",
        "plt.bar(idx, price, width=width, label='price')\n",
        "plt.bar(idx+width, sale, width=width, label='sale')\n",
        "plt.xticks(idx+width/2, fruits)\n",
        "plt.legend()\n",
        "\n",
        "plt.subplot(2,1,2)\n",
        "plt.bar(idx, fresh, width=width, label='fresh') \n",
        "plt.bar(idx+width, qual, width=width, label='quality')\n",
        "plt.xticks(idx+width/2, fruits)\n",
        "plt.legend()\n",
        "\n",
        "plt.show()"
      ],
      "metadata": {
        "colab": {
          "base_uri": "https://localhost:8080/",
          "height": 372
        },
        "id": "q8-aaS3YOaGC",
        "outputId": "9db45ccd-d431-4b4c-d18d-f626c48bd7b2"
      },
      "execution_count": null,
      "outputs": [
        {
          "output_type": "display_data",
          "data": {
            "text/plain": [
              "<Figure size 576x432 with 2 Axes>"
            ],
            "image/png": "[encoded data removed]"
          },
          "metadata": {}
        }
      ]
    },
    {
      "cell_type": "markdown",
      "source": [
        "### (2) **kwargs 이용한 옵션적용\n",
        "\n",
        "\n"
      ],
      "metadata": {
        "id": "rRP4A2x7UfBH"
      }
    },
    {
      "cell_type": "code",
      "source": [
        "style = dict( width=width, \n",
        "              alpha=.6, \n",
        "              linewidth=3, \n",
        "              edgecolor='black',\n",
        "              )\n",
        "\n",
        "plt.bar(idx, price, label='price', **style)\n",
        "plt.bar(idx+width, sale, label='sale', **style)\n",
        "plt.xticks(idx+width/2, fruits)\n",
        "plt.legend()\n",
        "plt.show()"
      ],
      "metadata": {
        "colab": {
          "base_uri": "https://localhost:8080/",
          "height": 262
        },
        "id": "ibAFGPka4OAF",
        "outputId": "704b7a5e-be57-48e7-c769-5fcede06f42a"
      },
      "execution_count": null,
      "outputs": [
        {
          "output_type": "display_data",
          "data": {
            "text/plain": [
              "<Figure size 432x288 with 1 Axes>"
            ],
            "image/png": "[encoded data removed]"
          },
          "metadata": {}
        }
      ]
    },
    {
      "cell_type": "markdown",
      "source": [
        "\n",
        "## 과제\n"
      ],
      "metadata": {
        "id": "dWjmJj6NgznX"
      }
    },
    {
      "cell_type": "markdown",
      "source": [
        "### (1) 막대그래프를 이용한 flight 데이터 시각화\n",
        "\n",
        "```\n",
        "df=sns.load_dataset('flights')\n",
        "```\n",
        "\n",
        " `seaborn`의 `load_dataset`을 이용해 `flights` 데이터를 불러온 후 아래와 같은 플롯을 그리세요.\n",
        "\n",
        "![](https://github.com/yebiny/SkillTreePython-DataAnalysis/blob/main/imgs/ch0203-01.png?raw=true)\n",
        "\n",
        "\n",
        "\n"
      ],
      "metadata": {
        "id": "zYnrjxbfDyAt"
      }
    },
    {
      "cell_type": "code",
      "source": [
        "df = sns.load_dataset('flights')"
      ],
      "metadata": {
        "id": "aTj8nudQrJej"
      },
      "execution_count": null,
      "outputs": []
    },
    {
      "cell_type": "code",
      "source": [
        "df1 = df[df.year==1950]\n",
        "df2 = df[df.year==1955]\n",
        "df3 = df[df.year==1960]\n",
        "df1"
      ],
      "metadata": {
        "colab": {
          "base_uri": "https://localhost:8080/",
          "height": 426
        },
        "id": "NWL8pIMps5s0",
        "outputId": "44178604-9de2-4597-db07-1e0d34df460f"
      },
      "execution_count": null,
      "outputs": [
        {
          "output_type": "execute_result",
          "data": {
            "text/plain": [
              "    year month  passengers\n",
              "12  1950   Jan         115\n",
              "13  1950   Feb         126\n",
              "14  1950   Mar         141\n",
              "15  1950   Apr         135\n",
              "16  1950   May         125\n",
              "17  1950   Jun         149\n",
              "18  1950   Jul         170\n",
              "19  1950   Aug         170\n",
              "20  1950   Sep         158\n",
              "21  1950   Oct         133\n",
              "22  1950   Nov         114\n",
              "23  1950   Dec         140"
            ],
            "text/html": [
              "\n",
              "  <div id=\"df-64582f87-180f-4688-ba8a-fc8d7c0b4d24\">\n",
              "    <div class=\"colab-df-container\">\n",
              "      <div>\n",
              "<style scoped>\n",
              "    .dataframe tbody tr th:only-of-type {\n",
              "        vertical-align: middle;\n",
              "    }\n",
              "\n",
              "    .dataframe tbody tr th {\n",
              "        vertical-align: top;\n",
              "    }\n",
              "\n",
              "    .dataframe thead th {\n",
              "        text-align: right;\n",
              "    }\n",
              "</style>\n",
              "<table border=\"1\" class=\"dataframe\">\n",
              "  <thead>\n",
              "    <tr style=\"text-align: right;\">\n",
              "      <th></th>\n",
              "      <th>year</th>\n",
              "      <th>month</th>\n",
              "      <th>passengers</th>\n",
              "    </tr>\n",
              "  </thead>\n",
              "  <tbody>\n",
              "    <tr>\n",
              "      <th>12</th>\n",
              "      <td>1950</td>\n",
              "      <td>Jan</td>\n",
              "      <td>115</td>\n",
              "    </tr>\n",
              "    <tr>\n",
              "      <th>13</th>\n",
              "      <td>1950</td>\n",
              "      <td>Feb</td>\n",
              "      <td>126</td>\n",
              "    </tr>\n",
              "    <tr>\n",
              "      <th>14</th>\n",
              "      <td>1950</td>\n",
              "      <td>Mar</td>\n",
              "      <td>141</td>\n",
              "    </tr>\n",
              "    <tr>\n",
              "      <th>15</th>\n",
              "      <td>1950</td>\n",
              "      <td>Apr</td>\n",
              "      <td>135</td>\n",
              "    </tr>\n",
              "    <tr>\n",
              "      <th>16</th>\n",
              "      <td>1950</td>\n",
              "      <td>May</td>\n",
              "      <td>125</td>\n",
              "    </tr>\n",
              "    <tr>\n",
              "      <th>17</th>\n",
              "      <td>1950</td>\n",
              "      <td>Jun</td>\n",
              "      <td>149</td>\n",
              "    </tr>\n",
              "    <tr>\n",
              "      <th>18</th>\n",
              "      <td>1950</td>\n",
              "      <td>Jul</td>\n",
              "      <td>170</td>\n",
              "    </tr>\n",
              "    <tr>\n",
              "      <th>19</th>\n",
              "      <td>1950</td>\n",
              "      <td>Aug</td>\n",
              "      <td>170</td>\n",
              "    </tr>\n",
              "    <tr>\n",
              "      <th>20</th>\n",
              "      <td>1950</td>\n",
              "      <td>Sep</td>\n",
              "      <td>158</td>\n",
              "    </tr>\n",
              "    <tr>\n",
              "      <th>21</th>\n",
              "      <td>1950</td>\n",
              "      <td>Oct</td>\n",
              "      <td>133</td>\n",
              "    </tr>\n",
              "    <tr>\n",
              "      <th>22</th>\n",
              "      <td>1950</td>\n",
              "      <td>Nov</td>\n",
              "      <td>114</td>\n",
              "    </tr>\n",
              "    <tr>\n",
              "      <th>23</th>\n",
              "      <td>1950</td>\n",
              "      <td>Dec</td>\n",
              "      <td>140</td>\n",
              "    </tr>\n",
              "  </tbody>\n",
              "</table>\n",
              "</div>\n",
              "      <button class=\"colab-df-convert\" onclick=\"convertToInteractive('df-64582f87-180f-4688-ba8a-fc8d7c0b4d24')\"\n",
              "              title=\"Convert this dataframe to an interactive table.\"\n",
              "              style=\"display:none;\">\n",
              "        \n",
              "  <svg xmlns=\"http://www.w3.org/2000/svg\" height=\"24px\"viewBox=\"0 0 24 24\"\n",
              "       width=\"24px\">\n",
              "    <path d=\"M0 0h24v24H0V0z\" fill=\"none\"/>\n",
              "    <path d=\"M18.56 5.44l.94 2.06.94-2.06 2.06-.94-2.06-.94-.94-2.06-.94 2.06-2.06.94zm-11 1L8.5 8.5l.94-2.06 2.06-.94-2.06-.94L8.5 2.5l-.94 2.06-2.06.94zm10 10l.94 2.06.94-2.06 2.06-.94-2.06-.94-.94-2.06-.94 2.06-2.06.94z\"/><path d=\"M17.41 7.96l-1.37-1.37c-.4-.4-.92-.59-1.43-.59-.52 0-1.04.2-1.43.59L10.3 9.45l-7.72 7.72c-.78.78-.78 2.05 0 2.83L4 21.41c.39.39.9.59 1.41.59.51 0 1.02-.2 1.41-.59l7.78-7.78 2.81-2.81c.8-.78.8-2.07 0-2.86zM5.41 20L4 18.59l7.72-7.72 1.47 1.35L5.41 20z\"/>\n",
              "  </svg>\n",
              "      </button>\n",
              "      \n",
              "  <style>\n",
              "    .colab-df-container {\n",
              "      display:flex;\n",
              "      flex-wrap:wrap;\n",
              "      gap: 12px;\n",
              "    }\n",
              "\n",
              "    .colab-df-convert {\n",
              "      background-color: #E8F0FE;\n",
              "      border: none;\n",
              "      border-radius: 50%;\n",
              "      cursor: pointer;\n",
              "      display: none;\n",
              "      fill: #1967D2;\n",
              "      height: 32px;\n",
              "      padding: 0 0 0 0;\n",
              "      width: 32px;\n",
              "    }\n",
              "\n",
              "    .colab-df-convert:hover {\n",
              "      background-color: #E2EBFA;\n",
              "      box-shadow: 0px 1px 2px rgba(60, 64, 67, 0.3), 0px 1px 3px 1px rgba(60, 64, 67, 0.15);\n",
              "      fill: #174EA6;\n",
              "    }\n",
              "\n",
              "    [theme=dark] .colab-df-convert {\n",
              "      background-color: #3B4455;\n",
              "      fill: #D2E3FC;\n",
              "    }\n",
              "\n",
              "    [theme=dark] .colab-df-convert:hover {\n",
              "      background-color: #434B5C;\n",
              "      box-shadow: 0px 1px 3px 1px rgba(0, 0, 0, 0.15);\n",
              "      filter: drop-shadow(0px 1px 2px rgba(0, 0, 0, 0.3));\n",
              "      fill: #FFFFFF;\n",
              "    }\n",
              "  </style>\n",
              "\n",
              "      <script>\n",
              "        const buttonEl =\n",
              "          document.querySelector('#df-64582f87-180f-4688-ba8a-fc8d7c0b4d24 button.colab-df-convert');\n",
              "        buttonEl.style.display =\n",
              "          google.colab.kernel.accessAllowed ? 'block' : 'none';\n",
              "\n",
              "        async function convertToInteractive(key) {\n",
              "          const element = document.querySelector('#df-64582f87-180f-4688-ba8a-fc8d7c0b4d24');\n",
              "          const dataTable =\n",
              "            await google.colab.kernel.invokeFunction('convertToInteractive',\n",
              "                                                     [key], {});\n",
              "          if (!dataTable) return;\n",
              "\n",
              "          const docLinkHtml = 'Like what you see? Visit the ' +\n",
              "            '<a target=\"_blank\" href=https://colab.research.google.com/notebooks/data_table.ipynb>data table notebook</a>'\n",
              "            + ' to learn more about interactive tables.';\n",
              "          element.innerHTML = '';\n",
              "          dataTable['output_type'] = 'display_data';\n",
              "          await google.colab.output.renderOutput(dataTable, element);\n",
              "          const docLink = document.createElement('div');\n",
              "          docLink.innerHTML = docLinkHtml;\n",
              "          element.appendChild(docLink);\n",
              "        }\n",
              "      </script>\n",
              "    </div>\n",
              "  </div>\n",
              "  "
            ]
          },
          "metadata": {},
          "execution_count": 113
        }
      ]
    },
    {
      "cell_type": "code",
      "source": [
        "# 3년간 평균\n",
        "x_mean = np.mean(np.array([df1.passengers, df2.passengers, df3.passengers]), axis=0)"
      ],
      "metadata": {
        "id": "c2vCumoeEpg2"
      },
      "execution_count": null,
      "outputs": []
    },
    {
      "cell_type": "code",
      "source": [
        "width = 0.25\n",
        "idx = np.arange(12)\n",
        "\n",
        "plt.figure(figsize=(12,6))\n",
        "# 막대그래프 작성\n",
        "plt.bar(idx-width, df1.passengers , width=width, label='1950')\n",
        "plt.bar(idx, df2.passengers , width=width, label='1955')\n",
        "plt.bar(idx+width, df3.passengers , width=width, label='1960')\n",
        "# 선그래프 작성\n",
        "plt.plot(x_mean, marker='o', color='k', markerfacecolor='r', label='mean of each year(1950, 1955, 1960)')\n",
        "\n",
        "# 기타 세팅\n",
        "plt.xticks(idx, df1.month)\n",
        "plt.legend(loc='upper left')\n",
        "plt.title('Number of passengers each month')\n",
        "\n",
        "plt.show()"
      ],
      "metadata": {
        "colab": {
          "base_uri": "https://localhost:8080/",
          "height": 346
        },
        "id": "rMu5aj0Mrs96",
        "outputId": "a5d64ce7-224c-45a0-c47e-eb386436c4bc"
      },
      "execution_count": null,
      "outputs": [
        {
          "output_type": "display_data",
          "data": {
            "text/plain": [
              "<Figure size 864x432 with 1 Axes>"
            ],
            "image/png": "[encoded data removed]"
          },
          "metadata": {}
        }
      ]
    },
    {
      "cell_type": "code",
      "source": [
        ""
      ],
      "metadata": {
        "id": "NV2TYoi_CntQ"
      },
      "execution_count": null,
      "outputs": []
    }
  ]
}