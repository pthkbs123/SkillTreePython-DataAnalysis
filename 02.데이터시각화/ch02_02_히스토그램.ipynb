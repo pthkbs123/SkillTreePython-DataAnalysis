{
  "nbformat": 4,
  "nbformat_minor": 0,
  "metadata": {
    "colab": {
      "name": "ch02_02_히스토그램.ipynb",
      "provenance": [],
      "collapsed_sections": [],
      "toc_visible": true,
      "authorship_tag": "ABX9TyNUcE42h0bp8/X4ZBU1gODG",
      "include_colab_link": true
    },
    "kernelspec": {
      "name": "python3",
      "display_name": "Python 3"
    },
    "language_info": {
      "name": "python"
    }
  },
  "cells": [
    {
      "cell_type": "markdown",
      "metadata": {
        "id": "view-in-github",
        "colab_type": "text"
      },
      "source": [
        "<a href=\"https://colab.research.google.com/github/yebiny/SkillTreePython-DataAnalysis/blob/main/02.%EB%8D%B0%EC%9D%B4%ED%84%B0%EC%8B%9C%EA%B0%81%ED%99%94/ch02_02_%ED%9E%88%EC%8A%A4%ED%86%A0%EA%B7%B8%EB%9E%A8.ipynb\" target=\"_parent\"><img src=\"https://colab.research.google.com/assets/colab-badge.svg\" alt=\"Open In Colab\"/></a>"
      ]
    },
    {
      "cell_type": "markdown",
      "source": [
        "# Ch02.02 히스토그램\n",
        "\n",
        "---\n",
        "* 날짜:\n",
        "* 이름:\n"
      ],
      "metadata": {
        "id": "ylXjSLUxXHxm"
      }
    },
    {
      "cell_type": "markdown",
      "source": [
        "\n",
        "## 개념정리\n",
        "\n",
        "\n",
        "```\n",
        "import numpy as np\n",
        "import pandas as pd\n",
        "import matplotlib.pyplot as plt\n",
        "import seaborn as sns\n",
        "\n",
        "plt.rcParams['figure.figsize'] = [6, 4]\n",
        "plt.style.use('seaborn-white')\n",
        "sns.set_style('white')\n",
        "\n",
        "```"
      ],
      "metadata": {
        "id": "CfIEbA8ZWulm"
      }
    },
    {
      "cell_type": "code",
      "execution_count": null,
      "metadata": {
        "id": "TyVLPbux1Yu7"
      },
      "outputs": [],
      "source": [
        ""
      ]
    },
    {
      "cell_type": "markdown",
      "source": [
        "### **01. Matplotlib 으로 그리기**\n",
        "---"
      ],
      "metadata": {
        "id": "1wP4Ssy682M_"
      }
    },
    {
      "cell_type": "markdown",
      "source": [
        "```\n",
        "x = np.random.randn(5000) # 표준정규분포\n",
        "plt.hist(x)\n",
        "plt.show()\n",
        "```"
      ],
      "metadata": {
        "id": "iTQGsPm68SBn"
      }
    },
    {
      "cell_type": "code",
      "source": [
        ""
      ],
      "metadata": {
        "id": "9VND05j315g8"
      },
      "execution_count": null,
      "outputs": []
    },
    {
      "cell_type": "markdown",
      "source": [
        "#### **| 옵션**\n",
        "\n",
        "```\n",
        "plt.hist(data, \n",
        "        bins = 구간개수,\n",
        "        color=색,\n",
        "        edgecolor=테두리 색, \n",
        "        alpha=투명도 (0~1),\n",
        "        density=정규화 여부 (True/False),\n",
        "        cumulative=누적여부 (True/Fasle),  \n",
        "        histtype = 플롯 형식 {'bar', 'barstacked', 'step', 'stepfilled' } default: 'bar'\n",
        "        label = 레이블,\n",
        "        align=눈금 위치 {'left', 'mid', 'right'}, default: 'mid'\n",
        "```"
      ],
      "metadata": {
        "id": "IKDL5iKI7yV2"
      }
    },
    {
      "cell_type": "code",
      "source": [
        ""
      ],
      "metadata": {
        "id": "c8372IBS2HvO"
      },
      "execution_count": null,
      "outputs": []
    },
    {
      "cell_type": "markdown",
      "source": [
        "#### **| 다중 데이터**"
      ],
      "metadata": {
        "id": "pDDjq1gjA3R-"
      }
    },
    {
      "cell_type": "markdown",
      "source": [
        "```\n",
        "x1 = np.random.randint(1, 7, (50)) # 1-6까지 랜덤정수\n",
        "x2 = np.random.randint(1, 7, (50)) \n",
        "plt.hist([x1, x2], bins=[1,2,3,4,5,6], label=['x1','x2'])\n",
        "plt.legend()\n",
        "plt.show()\n",
        "```"
      ],
      "metadata": {
        "id": "4HLHipvYVXpX"
      }
    },
    {
      "cell_type": "code",
      "source": [
        ""
      ],
      "metadata": {
        "id": "BefgeEDr5QdE"
      },
      "execution_count": null,
      "outputs": []
    },
    {
      "cell_type": "markdown",
      "source": [
        "### **02. Seaborn 으로 그리기**\n",
        "---\n",
        "\n"
      ],
      "metadata": {
        "id": "ggjMd8im8gJx"
      }
    },
    {
      "cell_type": "markdown",
      "source": [
        "```\n",
        "sns.histplot(x)\n",
        "plt.show()\n",
        "```"
      ],
      "metadata": {
        "id": "WCVykkIPXTmq"
      }
    },
    {
      "cell_type": "code",
      "source": [
        ""
      ],
      "metadata": {
        "id": "caplckbRZt0Q"
      },
      "execution_count": null,
      "outputs": []
    },
    {
      "cell_type": "markdown",
      "source": [
        "#### **| 옵션**\n",
        "\n",
        "```\n",
        "seaborn.histplot(data=None, \n",
        "                 bins='auto', # 구간개수\n",
        "                 cumulative=False, # 누적여부\n",
        "                 element='bars', # 플롯형식 {“bars”, “step”, “poly”},\n",
        "                 multiple='layer' # 다중데이터 플롯형식{“layer”, “dodge”, “stack”, “fill”},\n",
        "                 fill=True, # 색칠 여부\n",
        "                 shrink=1, # 너비 감소\n",
        "                 kde=False, # kde선\n",
        "                 color=None, # 색깔\n",
        "                 log_scale=None # 로그스케일)\n",
        "```"
      ],
      "metadata": {
        "id": "TP2JTc1NJChB"
      }
    },
    {
      "cell_type": "code",
      "source": [
        ""
      ],
      "metadata": {
        "id": "K8htQ6kwJyIJ"
      },
      "execution_count": null,
      "outputs": []
    },
    {
      "cell_type": "markdown",
      "source": [
        "#### **| 다중 데이터**"
      ],
      "metadata": {
        "id": "bWRCEHGQCdzN"
      }
    },
    {
      "cell_type": "code",
      "source": [
        ""
      ],
      "metadata": {
        "id": "ufpGpPv2LpRA"
      },
      "execution_count": null,
      "outputs": []
    },
    {
      "cell_type": "markdown",
      "source": [
        "\n",
        "## 실습\n"
      ],
      "metadata": {
        "id": "9BldG-nOgeoQ"
      }
    },
    {
      "cell_type": "markdown",
      "source": [
        "### **01. 정규분포 여러개 그리기**\n",
        "---"
      ],
      "metadata": {
        "id": "Sm_irK939Amm"
      }
    },
    {
      "cell_type": "markdown",
      "source": [
        "```\n",
        "x1 = np.random.normal(0, 1, 5000)\n",
        "x2 = np.random.normal(0, 3, 5000)\n",
        "x3 = np.random.normal(10, 3, 5000)\n",
        "\n",
        "plt.hist(x1, label='x1')\n",
        "plt.hist(x2, label='x2')\n",
        "plt.hist(x3, label='x3')\n",
        "plt.legend()\n",
        "plt.show()\n",
        "```"
      ],
      "metadata": {
        "id": "qIQCIOyqVg33"
      }
    },
    {
      "cell_type": "code",
      "source": [
        ""
      ],
      "metadata": {
        "id": "J95P_pcz4C1G"
      },
      "execution_count": null,
      "outputs": []
    },
    {
      "cell_type": "markdown",
      "source": [
        "#### **| 옵션 적용**\n",
        "\n",
        "```\n",
        "plt.hist(x1, label='x1',\n",
        "         bins = 30,\n",
        "         density=True,\n",
        "         alpha=0.5,\n",
        "         edgecolor='none')\n",
        "```"
      ],
      "metadata": {
        "id": "rRP4A2x7UfBH"
      }
    },
    {
      "cell_type": "code",
      "source": [
        ""
      ],
      "metadata": {
        "id": "ibAFGPka4OAF"
      },
      "execution_count": null,
      "outputs": []
    },
    {
      "cell_type": "markdown",
      "source": [
        "#### **| **kwargs 사용해서 그리기**\n",
        "\n"
      ],
      "metadata": {
        "id": "Y5p8KpJUUrDP"
      }
    },
    {
      "cell_type": "code",
      "source": [
        ""
      ],
      "metadata": {
        "id": "T-DgX8Pj4QNV"
      },
      "execution_count": null,
      "outputs": []
    },
    {
      "cell_type": "markdown",
      "source": [
        "### **02. 다중 플롯 그리기**\n",
        "---"
      ],
      "metadata": {
        "id": "S2lc2RdHCXiT"
      }
    },
    {
      "cell_type": "markdown",
      "source": [
        "#### **| histtypes 확인하기**\n",
        "\n",
        "```\n",
        "histtypes=['bar', 'barstacked', 'step', 'stepfilled']\n",
        "```"
      ],
      "metadata": {
        "id": "k0pEOu_jCaT_"
      }
    },
    {
      "cell_type": "code",
      "source": [
        ""
      ],
      "metadata": {
        "id": "IhXyEFpWMRkn"
      },
      "execution_count": null,
      "outputs": []
    },
    {
      "cell_type": "markdown",
      "source": [
        "#### **| 타입별 플롯 네개 그리기**\n",
        "\n"
      ],
      "metadata": {
        "id": "bHsdZTy8CtQl"
      }
    },
    {
      "cell_type": "code",
      "source": [
        ""
      ],
      "metadata": {
        "id": "Y05b-dKdCtQl"
      },
      "execution_count": null,
      "outputs": []
    },
    {
      "cell_type": "markdown",
      "source": [
        "#### **| 객체지향 사용하기**\n",
        "\n",
        "```\n",
        "fig, ax = plt.subplots(2,2, figsize=(6,6))\n",
        "```"
      ],
      "metadata": {
        "id": "fThvoNgdWDfw"
      }
    },
    {
      "cell_type": "code",
      "source": [
        ""
      ],
      "metadata": {
        "id": "7XPz0YJwCSJO"
      },
      "execution_count": null,
      "outputs": []
    },
    {
      "cell_type": "markdown",
      "source": [
        "### **03. 아이리스 데이터 시각화**\n",
        "---"
      ],
      "metadata": {
        "id": "QGviht0yPmHr"
      }
    },
    {
      "cell_type": "markdown",
      "source": [
        "#### **| 데이터 불러오기**\n",
        "\n",
        "```\n",
        "           꽃받침 길이   꽃받침 너비   꽃의 길이  꽃의 너비\n",
        " 샘플1      \n",
        " 샘플2 \n",
        " ...\n",
        " 샘플150\n",
        "```\n",
        "\n",
        "\n",
        "```\n",
        "from sklearn.datasets import load_iris\n",
        "iris = load_iris()\n",
        "```\n",
        "\n",
        "\n",
        "* `.feature_names` : 변수 이름\n",
        "* `.target_names` : 타겟 이름\n",
        "* `.data` : 데이터 \n",
        "* `.target` : 타겟\n"
      ],
      "metadata": {
        "id": "yC_WoKqD0n1H"
      }
    },
    {
      "cell_type": "code",
      "source": [
        ""
      ],
      "metadata": {
        "id": "EkZtNVJCp253"
      },
      "execution_count": null,
      "outputs": []
    },
    {
      "cell_type": "markdown",
      "source": [
        "#### **| 타겟별 개수 시각화**\n"
      ],
      "metadata": {
        "id": "lLTOynxdTC_f"
      }
    },
    {
      "cell_type": "code",
      "execution_count": null,
      "metadata": {
        "id": "phwxbzsygU6-"
      },
      "outputs": [],
      "source": [
        ""
      ]
    },
    {
      "cell_type": "markdown",
      "source": [
        "\n",
        "## 과제\n"
      ],
      "metadata": {
        "id": "P-ZNWdUxYGqn"
      }
    },
    {
      "cell_type": "markdown",
      "source": [
        "### **01. 실습01의 내용을 seaborn histplot을 이용해 수행하기**\n",
        "---"
      ],
      "metadata": {
        "id": "zYnrjxbfDyAt"
      }
    },
    {
      "cell_type": "code",
      "source": [
        ""
      ],
      "metadata": {
        "id": "eWyG8WlAEDRV"
      },
      "execution_count": null,
      "outputs": []
    },
    {
      "cell_type": "markdown",
      "source": [
        "### **02. 실습02의 내용을 seaborn histplot을 이용해 수행하기**\n",
        "---"
      ],
      "metadata": {
        "id": "kpS3mRQcEDVw"
      }
    },
    {
      "cell_type": "code",
      "source": [
        ""
      ],
      "metadata": {
        "id": "jHOIHMZiETfH"
      },
      "execution_count": null,
      "outputs": []
    },
    {
      "cell_type": "markdown",
      "source": [
        "### **03. 아이리스 데이터 시각화**\n",
        "---\n",
        "\n",
        "\n",
        "* 4개의 변수에 대한 히스토그램을 4 x 1 figure에 그려주세요.\n",
        "* `kde` 선을 추가해 주세요."
      ],
      "metadata": {
        "id": "Enwz_K4DUqjW"
      }
    },
    {
      "cell_type": "code",
      "source": [
        ""
      ],
      "metadata": {
        "id": "kjElsYUYUqjb"
      },
      "execution_count": null,
      "outputs": []
    },
    {
      "cell_type": "markdown",
      "source": [
        "### **04. 캘리포니아 집값 데이터 시각화**\n",
        "---\n",
        "\n",
        "* `/content/sample_data/california_housing_test.csv`을 불러오세요.\n",
        "* 9개의 변수에 대한 히스토그램을 3 x 3 figure에 그려주세요.\n",
        "* `kde` 선을 추가해 주세요."
      ],
      "metadata": {
        "id": "FGUSYEG-ETnb"
      }
    },
    {
      "cell_type": "code",
      "source": [
        ""
      ],
      "metadata": {
        "id": "4kcuIAIBEbHW"
      },
      "execution_count": null,
      "outputs": []
    }
  ]
}