{
  "nbformat": 4,
  "nbformat_minor": 0,
  "metadata": {
    "colab": {
      "name": "ch05_02_기초수학-다변수함수와벡터함수.ipynb",
      "provenance": [],
      "collapsed_sections": [],
      "authorship_tag": "ABX9TyMCdNaSmgk720rAxAGxu66a",
      "include_colab_link": true
    },
    "kernelspec": {
      "name": "python3",
      "display_name": "Python 3"
    },
    "language_info": {
      "name": "python"
    }
  },
  "cells": [
    {
      "cell_type": "markdown",
      "metadata": {
        "id": "view-in-github",
        "colab_type": "text"
      },
      "source": [
        "<a href=\"https://colab.research.google.com/github/yebiny/SkillTreePython-DataAnalysis/blob/main/05.%EB%A8%B8%EC%8B%A0%EB%9F%AC%EB%8B%9D%EA%B8%B0%EB%B0%98%EB%8D%B0%EC%9D%B4%ED%84%B0%EB%B6%84%EC%84%9D/ch05_02_%EA%B8%B0%EC%B4%88%EC%88%98%ED%95%99_%EB%8B%A4%EB%B3%80%EC%88%98%ED%95%A8%EC%88%98%EC%99%80%EB%B2%A1%ED%84%B0%ED%95%A8%EC%88%98.ipynb\" target=\"_parent\"><img src=\"https://colab.research.google.com/assets/colab-badge.svg\" alt=\"Open In Colab\"/></a>"
      ]
    },
    {
      "cell_type": "markdown",
      "source": [
        "# ch05.02. 기초수학 - 다변수함수와 벡터함수\n",
        "---\n",
        "* 날짜:\n",
        "* 이름:\n",
        "\n",
        "## 학습내용\n",
        "    - 스칼라 함수와 벡터 함수에 대해 이해한다.\n",
        "    - 일변수 함수와 다변수 함수에 대해 이해한다.\n",
        "\n",
        "## 라이브러리 임포트\n",
        "\n",
        "```\n",
        "import numpy as np\n",
        "import matplotlib.pyplot as plt\n",
        "plt.rcParams['font.size'] = 15\n",
        "plt.rcParams['xtick.labelsize'] = 8\n",
        "plt.rcParams['ytick.labelsize'] = 8\n",
        "```\n"
      ],
      "metadata": {
        "id": "wWpXZc2fi39U"
      }
    },
    {
      "cell_type": "code",
      "source": [
        ""
      ],
      "metadata": {
        "id": "Yy0fwqVsVbYr"
      },
      "execution_count": null,
      "outputs": []
    },
    {
      "cell_type": "markdown",
      "source": [
        "### 일변수 스칼라 함수\n",
        "---\n",
        "\n",
        "하나의 인풋(=스칼라, 일변수), 하나의 아웃풋(=스칼라, 스칼라함수)\n",
        "\n",
        "\\begin{align}\n",
        "y = f(x)\n",
        "\\end{align}"
      ],
      "metadata": {
        "id": "EIE07iGQavd4"
      }
    },
    {
      "cell_type": "markdown",
      "source": [
        "#### **예제 01**\n",
        "\n",
        "\\begin{align}\n",
        "f(x) = x^2+2x+1\n",
        "\\end{align}"
      ],
      "metadata": {
        "id": "cy8PU7rTc4ze"
      }
    },
    {
      "cell_type": "markdown",
      "source": [
        "* 함수 생성하기"
      ],
      "metadata": {
        "id": "BuanVaJAqq7q"
      }
    },
    {
      "cell_type": "code",
      "source": [
        ""
      ],
      "metadata": {
        "id": "W2naYkAEc4zf"
      },
      "execution_count": null,
      "outputs": []
    },
    {
      "cell_type": "markdown",
      "source": [
        "* 인풋 정의 (-10~10, 100개)"
      ],
      "metadata": {
        "id": "uc3pTOX8l3g8"
      }
    },
    {
      "cell_type": "code",
      "source": [
        ""
      ],
      "metadata": {
        "id": "2zCHVTZakAXC"
      },
      "execution_count": null,
      "outputs": []
    },
    {
      "cell_type": "markdown",
      "source": [
        "* 2d플롯으로 시각화"
      ],
      "metadata": {
        "id": "A8iKXj5dqq7v"
      }
    },
    {
      "cell_type": "code",
      "source": [
        ""
      ],
      "metadata": {
        "id": "_PBE4yzIdBan"
      },
      "execution_count": null,
      "outputs": []
    },
    {
      "cell_type": "markdown",
      "source": [
        "* 그래프 설명\n",
        "  * x가 가질수 있는 값 : \n",
        "  * f(x)가 가질 수 있는 값: \n",
        "  * 그래프의 특징 : "
      ],
      "metadata": {
        "id": "WCNRO_tfe75J"
      }
    },
    {
      "cell_type": "markdown",
      "source": [
        "#### **예제 02**\n",
        "\n",
        "\\begin{align}\n",
        "f(x) = cosin(x)\n",
        "\\end{align}"
      ],
      "metadata": {
        "id": "5SVLahVzdTiH"
      }
    },
    {
      "cell_type": "markdown",
      "source": [
        "* 함수 생성하기"
      ],
      "metadata": {
        "id": "igPciMCpqsoJ"
      }
    },
    {
      "cell_type": "code",
      "source": [
        ""
      ],
      "metadata": {
        "id": "yLPUXLgUdTiH"
      },
      "execution_count": null,
      "outputs": []
    },
    {
      "cell_type": "markdown",
      "source": [
        "* 인풋 정의 (-10~10, 100개)"
      ],
      "metadata": {
        "id": "aHPZkPF7l2pP"
      }
    },
    {
      "cell_type": "code",
      "source": [
        ""
      ],
      "metadata": {
        "id": "zkYUybS2jUjW"
      },
      "execution_count": null,
      "outputs": []
    },
    {
      "cell_type": "markdown",
      "source": [
        "* 2d플롯으로 시각화"
      ],
      "metadata": {
        "id": "5eJQnfuFqsoK"
      }
    },
    {
      "cell_type": "code",
      "source": [
        ""
      ],
      "metadata": {
        "id": "3HPxfokyjRJ2"
      },
      "execution_count": null,
      "outputs": []
    },
    {
      "cell_type": "markdown",
      "source": [
        "* 그래프 설명\n",
        "  * x가 가질수 있는 값 (인풋) :\n",
        "  * f(x)가 가질 수 있는 값 (아웃풋) : \n",
        "  * 그래프의 특징 :"
      ],
      "metadata": {
        "id": "u6rRA1HVfVq5"
      }
    },
    {
      "cell_type": "markdown",
      "source": [
        "### 다변수 스칼라 함수\n",
        "---\n",
        "\n",
        "여러개의 인풋(=다변수), 하나의 아웃풋(=스칼라, 스칼라함수)\n",
        "\n",
        "\n",
        "\\begin{align}\n",
        "y = f(𝐱)\\\\\n",
        "\\end{align}\n",
        "\n"
      ],
      "metadata": {
        "id": "U6BPVn4McFlv"
      }
    },
    {
      "cell_type": "markdown",
      "source": [
        "#### **예제 03**\n",
        "\n",
        "\\begin{align}\n",
        "f(x, y) = x+y\n",
        "\\end{align}"
      ],
      "metadata": {
        "id": "5oBqnDU6cFlw"
      }
    },
    {
      "cell_type": "markdown",
      "source": [
        "* 함수 생성하기"
      ],
      "metadata": {
        "id": "eJtGWtl1qTkM"
      }
    },
    {
      "cell_type": "code",
      "source": [
        ""
      ],
      "metadata": {
        "id": "mieTpYWRcd2n"
      },
      "execution_count": null,
      "outputs": []
    },
    {
      "cell_type": "markdown",
      "source": [
        "* 인풋 정의 (x, y, 모두 -15~20 값)"
      ],
      "metadata": {
        "id": "p06JFex9habv"
      }
    },
    {
      "cell_type": "code",
      "source": [
        ""
      ],
      "metadata": {
        "id": "1xENARbghcPP"
      },
      "execution_count": null,
      "outputs": []
    },
    {
      "cell_type": "markdown",
      "source": [
        "* 3d플롯으로 시각화"
      ],
      "metadata": {
        "id": "jiwFG-NhqTkN"
      }
    },
    {
      "cell_type": "code",
      "source": [
        ""
      ],
      "metadata": {
        "id": "5quWOXGDchhe"
      },
      "execution_count": null,
      "outputs": []
    },
    {
      "cell_type": "markdown",
      "source": [
        "* 그래프 설명\n",
        "  * x, y가 가질수 있는 값 (인풋) : \n",
        "  * f(x)가 가질 수 있는 값 (아웃풋) : \n",
        "  * 그래프의 특징 :"
      ],
      "metadata": {
        "id": "Rz-Ss9hdqNgb"
      }
    },
    {
      "cell_type": "markdown",
      "source": [
        "#### **예제 04**\n",
        "\n",
        "\\begin{align}\n",
        "f(x, y) = (x-5)^2+(y-5)^2 \n",
        "\\end{align}"
      ],
      "metadata": {
        "id": "Qtm2Yz8ZqYxC"
      }
    },
    {
      "cell_type": "markdown",
      "source": [
        "* 함수 생성하기"
      ],
      "metadata": {
        "id": "pLEzUmdLqVtC"
      }
    },
    {
      "cell_type": "code",
      "source": [
        ""
      ],
      "metadata": {
        "id": "ycVBNnLN6KY5"
      },
      "execution_count": null,
      "outputs": []
    },
    {
      "cell_type": "markdown",
      "source": [
        "* 인풋 정의(x, y 모두 -15~20 사이 값)"
      ],
      "metadata": {
        "id": "ZaAhxhemmBXm"
      }
    },
    {
      "cell_type": "code",
      "source": [
        ""
      ],
      "metadata": {
        "id": "PqagR3l8mBXm"
      },
      "execution_count": null,
      "outputs": []
    },
    {
      "cell_type": "markdown",
      "source": [
        "* 3d플롯으로 시각화"
      ],
      "metadata": {
        "id": "xLcnH7ihqVtC"
      }
    },
    {
      "cell_type": "code",
      "source": [
        ""
      ],
      "metadata": {
        "id": "xd42USTH6PHY"
      },
      "execution_count": null,
      "outputs": []
    },
    {
      "cell_type": "markdown",
      "source": [
        "* 그래프 설명\n",
        "  * x, y가 가질수 있는 값 (인풋) : \n",
        "  * f(x)가 가질 수 있는 값 (아웃풋) : \n",
        "  * 그래프의 특징 : "
      ],
      "metadata": {
        "id": "h3NzdZDCqypj"
      }
    },
    {
      "cell_type": "markdown",
      "source": [
        "#### **예제 05**\n",
        "\n",
        "\\begin{align}\n",
        "f(x_1, x_2) = 50(x_2-x_1^2)^2+(2-x_1)^2\n",
        "\\end{align}"
      ],
      "metadata": {
        "id": "DL9-84KGdppu"
      }
    },
    {
      "cell_type": "markdown",
      "source": [
        "* 함수 생성하기"
      ],
      "metadata": {
        "id": "5F4WYFmXqRFK"
      }
    },
    {
      "cell_type": "code",
      "source": [
        ""
      ],
      "metadata": {
        "id": "mWJxpoZzX8ja"
      },
      "execution_count": null,
      "outputs": []
    },
    {
      "cell_type": "markdown",
      "source": [
        "* 인풋 정의 (x: -2 ~ 2 20개, y: -1~3 20개)"
      ],
      "metadata": {
        "id": "0p0UF8M1ubMR"
      }
    },
    {
      "cell_type": "code",
      "source": [
        ""
      ],
      "metadata": {
        "id": "qHm1vKZUubMS"
      },
      "execution_count": null,
      "outputs": []
    },
    {
      "cell_type": "markdown",
      "source": [
        "* 3d플롯으로 시각화"
      ],
      "metadata": {
        "id": "cz9vfQafubMS"
      }
    },
    {
      "cell_type": "code",
      "source": [
        ""
      ],
      "metadata": {
        "id": "2yf13Sf7ubMS"
      },
      "execution_count": null,
      "outputs": []
    },
    {
      "cell_type": "markdown",
      "source": [
        "* $x_1$, $x_2$의 범위를 둘다 -4부터 4로 변경하여 다시 그려보세요."
      ],
      "metadata": {
        "id": "2UxpoaUqmo_1"
      }
    },
    {
      "cell_type": "code",
      "source": [
        ""
      ],
      "metadata": {
        "id": "5GSJJ36umo_6"
      },
      "execution_count": null,
      "outputs": []
    },
    {
      "cell_type": "markdown",
      "source": [
        "* 그래프 설명\n",
        "  * x, y가 가질수 있는 값 (인풋) : \n",
        "  * f(x)가 가질 수 있는 값 (아웃풋) :\n",
        "  * 그래프의 특징 :"
      ],
      "metadata": {
        "id": "zljmkxMiuwAJ"
      }
    },
    {
      "cell_type": "markdown",
      "source": [
        "## 일변수 벡터함수\n",
        "---\n",
        "\n",
        "하나의 인풋(=스칼라, 일변수), 여러개의 아웃풋(=스칼라, 스칼라함수)\n",
        "\n",
        "\n",
        "\n",
        "\n",
        "\\begin{align}\n",
        "f(x) = (f_1(x), f_2(x), ..., f_n(x))^T\n",
        "\\end{align}"
      ],
      "metadata": {
        "id": "lgagsxgLah4g"
      }
    },
    {
      "cell_type": "markdown",
      "source": [
        "#### **예제 06**\n",
        "\n",
        "\\begin{align}\n",
        "f(x) = \\begin{pmatrix}\n",
        "h(x)\\\\ \n",
        "g(x)\\\\ \n",
        "\\end{pmatrix}  = \\begin{pmatrix}\n",
        "x^2\\\\ \n",
        "5x\\\\ \n",
        "\\end{pmatrix}\n",
        "\\end{align}"
      ],
      "metadata": {
        "id": "uFbUdm3JfGo0"
      }
    },
    {
      "cell_type": "markdown",
      "source": [
        "* 함수 $f(x)$ 생성하기"
      ],
      "metadata": {
        "id": "qgQxeExFlpwU"
      }
    },
    {
      "cell_type": "code",
      "source": [
        ""
      ],
      "metadata": {
        "id": "BHiL9y7JfGo0"
      },
      "execution_count": null,
      "outputs": []
    },
    {
      "cell_type": "markdown",
      "source": [
        "* 인풋 정의 (-10~10 20개)"
      ],
      "metadata": {
        "id": "3j7vhJzmxddA"
      }
    },
    {
      "cell_type": "code",
      "source": [
        ""
      ],
      "metadata": {
        "id": "uKFHUw4ixddF"
      },
      "execution_count": null,
      "outputs": []
    },
    {
      "cell_type": "markdown",
      "source": [
        "* 2d플롯으로 시각화"
      ],
      "metadata": {
        "id": "3yF1eCohxddF"
      }
    },
    {
      "cell_type": "code",
      "source": [
        ""
      ],
      "metadata": {
        "id": "PbM9mKjTxddG"
      },
      "execution_count": null,
      "outputs": []
    },
    {
      "cell_type": "markdown",
      "source": [
        "* 그래프 설명\n",
        "  * x가 가질수 있는 값 (인풋) : \n",
        "  * g(x)가 가질 수 있는 값 (첫번째 아웃풋) : \n",
        "  * h(x)가 가질수 있는 값 (두번째 아웃풋): "
      ],
      "metadata": {
        "id": "HfRJBGlOpem7"
      }
    },
    {
      "cell_type": "markdown",
      "source": [
        "#### **예제 07**\n",
        "\n",
        "\\begin{align}\n",
        "f(t) = \\begin{pmatrix}\n",
        "x(t)\\\\ \n",
        "y(t)\\\\ \n",
        "z(t)\\\\ \\end{pmatrix} = \\begin{pmatrix}\n",
        "sin(6t)\\\\\n",
        "\\frac{t}{4}\\\\\n",
        "\\frac{t^2}{2}\\\\\n",
        "\\end{pmatrix}\n",
        "\\end{align}"
      ],
      "metadata": {
        "id": "tgj2YdBEby5X"
      }
    },
    {
      "cell_type": "markdown",
      "source": [
        "* 함수 생성하기"
      ],
      "metadata": {
        "id": "7AuSB-VnqOUb"
      }
    },
    {
      "cell_type": "code",
      "source": [
        ""
      ],
      "metadata": {
        "id": "GdpDi721VNir"
      },
      "execution_count": null,
      "outputs": []
    },
    {
      "cell_type": "markdown",
      "source": [
        "* 인풋 정의 (-1~3 200개)"
      ],
      "metadata": {
        "id": "L_1MxZO-1spz"
      }
    },
    {
      "cell_type": "code",
      "source": [
        ""
      ],
      "metadata": {
        "id": "aqpl1beF1sp5"
      },
      "execution_count": null,
      "outputs": []
    },
    {
      "cell_type": "markdown",
      "source": [
        "* 3d플롯으로 시각화"
      ],
      "metadata": {
        "id": "9iEdZUc61sp5"
      }
    },
    {
      "cell_type": "code",
      "source": [
        ""
      ],
      "metadata": {
        "id": "FKdKYinC1sp5"
      },
      "execution_count": null,
      "outputs": []
    },
    {
      "cell_type": "markdown",
      "source": [
        "* 그래프 설명\n",
        "  * t가 가질수 있는 값 (인풋) : \n",
        "  * x(t)가 가질 수 있는 값 (첫번째 아웃풋) : \n",
        "  * y(t)가 가질 수 있는 값 (두번째 아웃풋) : \n",
        "  * z(t)가 가질 수 있는 값 (세번째 아웃풋) : "
      ],
      "metadata": {
        "id": "GXs3L7Hh1P3z"
      }
    },
    {
      "cell_type": "markdown",
      "source": [
        "#### **예제 08**\n",
        "\n",
        "\\begin{align}\n",
        "\\tau(t) = \\begin{pmatrix}\n",
        "x(t)\\\\ \n",
        "y(t)\\\\ \n",
        "z(t)\\\\ \\end{pmatrix} = \\begin{pmatrix}\n",
        "cos(t)\\\\\n",
        "sin(t)\\\\\n",
        "t\\\\\n",
        "\\end{pmatrix}\n",
        "\\end{align}"
      ],
      "metadata": {
        "id": "8G0YOu_bLNo-"
      }
    },
    {
      "cell_type": "markdown",
      "source": [
        "* 함수 생성하기"
      ],
      "metadata": {
        "id": "NSCpf1A9LNo_"
      }
    },
    {
      "cell_type": "code",
      "source": [
        ""
      ],
      "metadata": {
        "id": "idnymZ4uLNo_"
      },
      "execution_count": null,
      "outputs": []
    },
    {
      "cell_type": "markdown",
      "source": [
        "* 인풋 정의(-10 ~ 10 사이 200개)"
      ],
      "metadata": {
        "id": "gQtX27cyLNo_"
      }
    },
    {
      "cell_type": "code",
      "source": [
        ""
      ],
      "metadata": {
        "id": "NRnxHHIILNo_"
      },
      "execution_count": null,
      "outputs": []
    },
    {
      "cell_type": "markdown",
      "source": [
        "* 3d플롯으로 시각화"
      ],
      "metadata": {
        "id": "N6Q3-WZRLNo_"
      }
    },
    {
      "cell_type": "code",
      "source": [
        ""
      ],
      "metadata": {
        "id": "1ukwtkrKLNo_"
      },
      "execution_count": null,
      "outputs": []
    },
    {
      "cell_type": "markdown",
      "source": [
        "* 그래프 설명\n",
        "  * t가 가질수 있는 값 (인풋) : \n",
        "  * cos(t)가 가질 수 있는 값 (첫번째 아웃풋) : \n",
        "  * sing(t)가 가질 수 있는 값 (두번째 아웃풋) : \n"
      ],
      "metadata": {
        "id": "rc8C_kAaqNar"
      }
    },
    {
      "cell_type": "markdown",
      "source": [
        "## 다변수 벡터함수\n",
        "---\n",
        "여러개의 인풋(=스칼라, 일변수), 여러개의 아웃풋(=스칼라, 스칼라함수)\n",
        "\n",
        "\\begin{align}\n",
        "f(𝐱) = (f_1(𝐱), f_2(𝐱), ..., f_n(𝐱))^T\n",
        "\\end{align}"
      ],
      "metadata": {
        "id": "9TXxekdqadwA"
      }
    },
    {
      "cell_type": "markdown",
      "source": [
        "#### **예제 09**\n",
        "\n",
        "\n",
        "\\begin{align}\n",
        "f(x,y) = \\begin{pmatrix}\n",
        "x^2\\\\ \n",
        "y^2\\\\ \n",
        "xy\\\\ \\end{pmatrix}\n",
        "\\end{align}"
      ],
      "metadata": {
        "id": "fng2B2Ujo8eb"
      }
    },
    {
      "cell_type": "markdown",
      "source": [
        "* 함수 생성하기"
      ],
      "metadata": {
        "id": "xlPzdQ8jp-A6"
      }
    },
    {
      "cell_type": "code",
      "source": [
        ""
      ],
      "metadata": {
        "id": "obX6DFCoo8eg"
      },
      "execution_count": null,
      "outputs": []
    },
    {
      "cell_type": "markdown",
      "source": [
        "* 인풋 정의 (x,y 모두 -0.5 ~ 1 사이 50개)"
      ],
      "metadata": {
        "id": "2eiiUG_jCiij"
      }
    },
    {
      "cell_type": "code",
      "source": [
        ""
      ],
      "metadata": {
        "id": "II5kEgCcCiij"
      },
      "execution_count": null,
      "outputs": []
    },
    {
      "cell_type": "markdown",
      "source": [
        "* 3d플롯으로 시각화"
      ],
      "metadata": {
        "id": "uW_NHFLMCiik"
      }
    },
    {
      "cell_type": "code",
      "source": [
        ""
      ],
      "metadata": {
        "id": "1Bvr0Lz-Ciik"
      },
      "execution_count": null,
      "outputs": []
    },
    {
      "cell_type": "markdown",
      "source": [
        "#### **예제 10**\n",
        "\n",
        "\n",
        "\\begin{align}\n",
        "f(u,v) = \\begin{pmatrix}\n",
        "u\\\\ \n",
        "v\\\\ \n",
        "1+u^2+\\frac{v}{1+v^2}\\\\ \\end{pmatrix}, \\ \\ \\ \\ \\ 0 \\leq u, v \\leq1\n",
        "\\end{align}"
      ],
      "metadata": {
        "id": "px0VYD-yeefm"
      }
    },
    {
      "cell_type": "markdown",
      "source": [
        "* 함수 생성하기"
      ],
      "metadata": {
        "id": "oeif_cz_qMUD"
      }
    },
    {
      "cell_type": "code",
      "source": [
        ""
      ],
      "metadata": {
        "id": "yWhHA9H0aSTX"
      },
      "execution_count": null,
      "outputs": []
    },
    {
      "cell_type": "markdown",
      "source": [
        "* 인풋 정의 (u, v 모두 0 ~ 1 사이 50개)"
      ],
      "metadata": {
        "id": "LRt2k7gWHCPp"
      }
    },
    {
      "cell_type": "code",
      "source": [
        ""
      ],
      "metadata": {
        "id": "hyFoL5qaHCPv"
      },
      "execution_count": null,
      "outputs": []
    },
    {
      "cell_type": "markdown",
      "source": [
        "* 3d플롯으로 시각화"
      ],
      "metadata": {
        "id": "Z3ZuM_YnHCPv"
      }
    },
    {
      "cell_type": "code",
      "source": [
        ""
      ],
      "metadata": {
        "id": "8m54tKjnHCPv"
      },
      "execution_count": null,
      "outputs": []
    }
  ]
}