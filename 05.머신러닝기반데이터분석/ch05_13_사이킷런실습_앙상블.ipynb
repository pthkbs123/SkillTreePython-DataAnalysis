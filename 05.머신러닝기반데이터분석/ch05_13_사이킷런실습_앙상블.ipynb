{
  "nbformat": 4,
  "nbformat_minor": 0,
  "metadata": {
    "colab": {
      "name": "ch05_13_사이킷런실습_앙상블.ipynb",
      "provenance": [],
      "collapsed_sections": [],
      "include_colab_link": true
    },
    "kernelspec": {
      "name": "python3",
      "display_name": "Python 3"
    },
    "language_info": {
      "name": "python"
    }
  },
  "cells": [
    {
      "cell_type": "markdown",
      "metadata": {
        "id": "view-in-github",
        "colab_type": "text"
      },
      "source": [
        "<a href=\"https://colab.research.google.com/github/pthkbs123/SkillTreePython-DataAnalysis/blob/main/05.%EB%A8%B8%EC%8B%A0%EB%9F%AC%EB%8B%9D%EA%B8%B0%EB%B0%98%EB%8D%B0%EC%9D%B4%ED%84%B0%EB%B6%84%EC%84%9D/ch05_13_%EC%82%AC%EC%9D%B4%ED%82%B7%EB%9F%B0%EC%8B%A4%EC%8A%B5_%EC%95%99%EC%83%81%EB%B8%94.ipynb\" target=\"_parent\"><img src=\"https://colab.research.google.com/assets/colab-badge.svg\" alt=\"Open In Colab\"/></a>"
      ]
    },
    {
      "cell_type": "markdown",
      "metadata": {
        "id": "wWpXZc2fi39U"
      },
      "source": [
        "# ch05.13. 사이킷런 실습 - 앙상블\n",
        "\n",
        "---\n",
        "* 날짜: 2022-05-30\n",
        "* 이름: 박태현\n",
        "\n",
        "## 학습내용\n",
        "    - 모델 앙상블에 대한 개념을 이해한다.\n",
        "    - 배깅(bagging) : 부트스트랩(bootstrp) 샘플링을 통한 분류 앙상블 기법을 이해한다.\n",
        "    - 부스팅 기반의 에이다부스트(AdaBoost) 알고리즘을 이해한다.\n",
        "\n",
        "## 학습자료\n",
        "- [머신러닝 교과서 with파이썬, 사이킷런, 텐서플로](http://www.kyobobook.co.kr/product/detailViewKor.laf?mallGb=KOR&ejkGb=KOR&barcode=9791165215187)\n",
        "- 7장. 다양한 모델을 결합한 앙상블 학습"
      ]
    },
    {
      "cell_type": "markdown",
      "source": [
        "```\n",
        "import numpy as np\n",
        "import pandas as pd\n",
        "import matplotlib.pyplot as plt\n",
        "import seaborn as sns\n",
        "```"
      ],
      "metadata": {
        "id": "5wOHBjrdadYj"
      }
    },
    {
      "cell_type": "code",
      "source": [
        "import numpy as np\n",
        "import pandas as pd\n",
        "import matplotlib.pyplot as plt\n",
        "import seaborn as sns"
      ],
      "metadata": {
        "id": "r-6d-c4I26dq"
      },
      "execution_count": 1,
      "outputs": []
    },
    {
      "cell_type": "code",
      "source": [
        "from matplotlib.colors import ListedColormap\n",
        "\n",
        "def draw_decision_region(model, X, y, \n",
        "                         X_test=[], y_test=[], \n",
        "                         features=[], labels=[], title=''): # 결정경계\n",
        "\n",
        "  colors = ('orangered', 'dodgerblue', 'limegreen', 'fuchsia', 'blueviolet')\n",
        "  cmap = ListedColormap(colors[:len(np.unique( y))])\n",
        "\n",
        "  x0mn, x0mx = X[:,0].min() -1, X[:,0].max() +1\n",
        "  x1mn, x1mx = X[:,1].min() -1, X[:,1].max() +1\n",
        "  x0 = np.arange(x0mn, x0mx, 0.02)\n",
        "  x1 = np.arange(x1mn, x1mx, 0.02)\n",
        "  #print('* arange', x0.shape, x1.shape)\n",
        "  X0, X1 = np.meshgrid(x0, x1)\n",
        "  #print('* meshgrid', x0.shape, x1.shape)\n",
        "  x0, x1 = X0.ravel(), X1.ravel()\n",
        "  #print('* ravel', x0.shape, x1.shape)\n",
        "  x_every = np.array([x0, x1]).T\n",
        "  #print('* concat', x_set.shape)\n",
        "  y_pred = model.predict(x_every)\n",
        "  #print('* y_pred', y_pred.shape)\n",
        "  Y_pred = y_pred.reshape(X0.shape)\n",
        "  #print('* y_pred', y_pred.shape)\n",
        "\n",
        "  if not len(labels): labels=[i for i in range(len(np.unique(y)))]\n",
        "  plt.contourf(X0, X1, Y_pred, alpha=0.4, cmap=cmap )\n",
        "  for idx, c in enumerate(np.unique(y)):\n",
        "    plt.scatter(x = X[y == c, 0], \n",
        "                y = X[y == c, 1],\n",
        "                alpha=0.8,\n",
        "                c=colors[idx],\n",
        "                label=labels[idx],\n",
        "                marker='x',\n",
        "                linewidth=2)\n",
        "  if len(X_test):\n",
        "    for idx, c in enumerate(np.unique(y_test)):\n",
        "      plt.scatter(x = X_test[y_test == c, 0], \n",
        "                  y = X_test[y_test == c, 1],\n",
        "                  alpha=0.8,\n",
        "                  c=colors[idx],\n",
        "                  marker='o',\n",
        "                  edgecolor='k',\n",
        "                  linewidth=2)\n",
        "  \n",
        "  if features:\n",
        "    plt.xlabel(features[0])\n",
        "    plt.ylabel(features[1])\n",
        "  if title:\n",
        "    plt.title(title)\n",
        "  plt.legend()"
      ],
      "metadata": {
        "id": "uaw6hKD1Nzv7"
      },
      "execution_count": 2,
      "outputs": []
    },
    {
      "cell_type": "markdown",
      "source": [
        "## 데이터 소개 : 와인 데이터셋\n",
        "---\n",
        "\n",
        "\n",
        "```\n",
        "df_wine = pd.read_csv('https://archive.ics.uci.edu/ml/'\n",
        "                      'machine-learning-databases/wine/wine.data',\n",
        "                      header=None)\n",
        "df_wine.columns = ['Class label', 'Alcohol', 'Malic acid', 'Ash',\n",
        "                   'Alcalinity of ash', 'Magnesium', 'Total phenols',\n",
        "                   'Flavanoids', 'Nonflavanoid phenols', 'Proanthocyanins',\n",
        "                   'Color intensity', 'Hue', 'OD280/OD315 of diluted wines',\n",
        "                   'Proline']\n",
        "```"
      ],
      "metadata": {
        "id": "JlU3-2s3as9w"
      }
    },
    {
      "cell_type": "markdown",
      "source": [
        "#### 데이터 가져오기"
      ],
      "metadata": {
        "id": "Bolf_EdCfHie"
      }
    },
    {
      "cell_type": "code",
      "source": [
        "df_wine = pd.read_csv('https://archive.ics.uci.edu/ml/'\n",
        "                      'machine-learning-databases/wine/wine.data',\n",
        "                      header=None)\n",
        "df_wine.columns = ['Class label', 'Alcohol', 'Malic acid', 'Ash',\n",
        "                   'Alcalinity of ash', 'Magnesium', 'Total phenols',\n",
        "                   'Flavanoids', 'Nonflavanoid phenols', 'Proanthocyanins',\n",
        "                   'Color intensity', 'Hue', 'OD280/OD315 of diluted wines',\n",
        "                   'Proline']\n",
        "\n",
        "print(df_wine.shape)\n",
        "df_wine.head()"
      ],
      "metadata": {
        "id": "6fvpM0djI89V",
        "colab": {
          "base_uri": "https://localhost:8080/",
          "height": 225
        },
        "outputId": "ebfba542-aec9-4e34-a352-c7ef64f6538d"
      },
      "execution_count": 3,
      "outputs": [
        {
          "output_type": "stream",
          "name": "stdout",
          "text": [
            "(178, 14)\n"
          ]
        },
        {
          "output_type": "execute_result",
          "data": {
            "text/plain": [
              "   Class label  Alcohol  Malic acid   Ash  Alcalinity of ash  Magnesium  \\\n",
              "0            1    14.23        1.71  2.43               15.6        127   \n",
              "1            1    13.20        1.78  2.14               11.2        100   \n",
              "2            1    13.16        2.36  2.67               18.6        101   \n",
              "3            1    14.37        1.95  2.50               16.8        113   \n",
              "4            1    13.24        2.59  2.87               21.0        118   \n",
              "\n",
              "   Total phenols  Flavanoids  Nonflavanoid phenols  Proanthocyanins  \\\n",
              "0           2.80        3.06                  0.28             2.29   \n",
              "1           2.65        2.76                  0.26             1.28   \n",
              "2           2.80        3.24                  0.30             2.81   \n",
              "3           3.85        3.49                  0.24             2.18   \n",
              "4           2.80        2.69                  0.39             1.82   \n",
              "\n",
              "   Color intensity   Hue  OD280/OD315 of diluted wines  Proline  \n",
              "0             5.64  1.04                          3.92     1065  \n",
              "1             4.38  1.05                          3.40     1050  \n",
              "2             5.68  1.03                          3.17     1185  \n",
              "3             7.80  0.86                          3.45     1480  \n",
              "4             4.32  1.04                          2.93      735  "
            ],
            "text/html": [
              "\n",
              "  <div id=\"df-620cde53-6b38-4aee-bf32-814a9bb0be61\">\n",
              "    <div class=\"colab-df-container\">\n",
              "      <div>\n",
              "<style scoped>\n",
              "    .dataframe tbody tr th:only-of-type {\n",
              "        vertical-align: middle;\n",
              "    }\n",
              "\n",
              "    .dataframe tbody tr th {\n",
              "        vertical-align: top;\n",
              "    }\n",
              "\n",
              "    .dataframe thead th {\n",
              "        text-align: right;\n",
              "    }\n",
              "</style>\n",
              "<table border=\"1\" class=\"dataframe\">\n",
              "  <thead>\n",
              "    <tr style=\"text-align: right;\">\n",
              "      <th></th>\n",
              "      <th>Class label</th>\n",
              "      <th>Alcohol</th>\n",
              "      <th>Malic acid</th>\n",
              "      <th>Ash</th>\n",
              "      <th>Alcalinity of ash</th>\n",
              "      <th>Magnesium</th>\n",
              "      <th>Total phenols</th>\n",
              "      <th>Flavanoids</th>\n",
              "      <th>Nonflavanoid phenols</th>\n",
              "      <th>Proanthocyanins</th>\n",
              "      <th>Color intensity</th>\n",
              "      <th>Hue</th>\n",
              "      <th>OD280/OD315 of diluted wines</th>\n",
              "      <th>Proline</th>\n",
              "    </tr>\n",
              "  </thead>\n",
              "  <tbody>\n",
              "    <tr>\n",
              "      <th>0</th>\n",
              "      <td>1</td>\n",
              "      <td>14.23</td>\n",
              "      <td>1.71</td>\n",
              "      <td>2.43</td>\n",
              "      <td>15.6</td>\n",
              "      <td>127</td>\n",
              "      <td>2.80</td>\n",
              "      <td>3.06</td>\n",
              "      <td>0.28</td>\n",
              "      <td>2.29</td>\n",
              "      <td>5.64</td>\n",
              "      <td>1.04</td>\n",
              "      <td>3.92</td>\n",
              "      <td>1065</td>\n",
              "    </tr>\n",
              "    <tr>\n",
              "      <th>1</th>\n",
              "      <td>1</td>\n",
              "      <td>13.20</td>\n",
              "      <td>1.78</td>\n",
              "      <td>2.14</td>\n",
              "      <td>11.2</td>\n",
              "      <td>100</td>\n",
              "      <td>2.65</td>\n",
              "      <td>2.76</td>\n",
              "      <td>0.26</td>\n",
              "      <td>1.28</td>\n",
              "      <td>4.38</td>\n",
              "      <td>1.05</td>\n",
              "      <td>3.40</td>\n",
              "      <td>1050</td>\n",
              "    </tr>\n",
              "    <tr>\n",
              "      <th>2</th>\n",
              "      <td>1</td>\n",
              "      <td>13.16</td>\n",
              "      <td>2.36</td>\n",
              "      <td>2.67</td>\n",
              "      <td>18.6</td>\n",
              "      <td>101</td>\n",
              "      <td>2.80</td>\n",
              "      <td>3.24</td>\n",
              "      <td>0.30</td>\n",
              "      <td>2.81</td>\n",
              "      <td>5.68</td>\n",
              "      <td>1.03</td>\n",
              "      <td>3.17</td>\n",
              "      <td>1185</td>\n",
              "    </tr>\n",
              "    <tr>\n",
              "      <th>3</th>\n",
              "      <td>1</td>\n",
              "      <td>14.37</td>\n",
              "      <td>1.95</td>\n",
              "      <td>2.50</td>\n",
              "      <td>16.8</td>\n",
              "      <td>113</td>\n",
              "      <td>3.85</td>\n",
              "      <td>3.49</td>\n",
              "      <td>0.24</td>\n",
              "      <td>2.18</td>\n",
              "      <td>7.80</td>\n",
              "      <td>0.86</td>\n",
              "      <td>3.45</td>\n",
              "      <td>1480</td>\n",
              "    </tr>\n",
              "    <tr>\n",
              "      <th>4</th>\n",
              "      <td>1</td>\n",
              "      <td>13.24</td>\n",
              "      <td>2.59</td>\n",
              "      <td>2.87</td>\n",
              "      <td>21.0</td>\n",
              "      <td>118</td>\n",
              "      <td>2.80</td>\n",
              "      <td>2.69</td>\n",
              "      <td>0.39</td>\n",
              "      <td>1.82</td>\n",
              "      <td>4.32</td>\n",
              "      <td>1.04</td>\n",
              "      <td>2.93</td>\n",
              "      <td>735</td>\n",
              "    </tr>\n",
              "  </tbody>\n",
              "</table>\n",
              "</div>\n",
              "      <button class=\"colab-df-convert\" onclick=\"convertToInteractive('df-620cde53-6b38-4aee-bf32-814a9bb0be61')\"\n",
              "              title=\"Convert this dataframe to an interactive table.\"\n",
              "              style=\"display:none;\">\n",
              "        \n",
              "  <svg xmlns=\"http://www.w3.org/2000/svg\" height=\"24px\"viewBox=\"0 0 24 24\"\n",
              "       width=\"24px\">\n",
              "    <path d=\"M0 0h24v24H0V0z\" fill=\"none\"/>\n",
              "    <path d=\"M18.56 5.44l.94 2.06.94-2.06 2.06-.94-2.06-.94-.94-2.06-.94 2.06-2.06.94zm-11 1L8.5 8.5l.94-2.06 2.06-.94-2.06-.94L8.5 2.5l-.94 2.06-2.06.94zm10 10l.94 2.06.94-2.06 2.06-.94-2.06-.94-.94-2.06-.94 2.06-2.06.94z\"/><path d=\"M17.41 7.96l-1.37-1.37c-.4-.4-.92-.59-1.43-.59-.52 0-1.04.2-1.43.59L10.3 9.45l-7.72 7.72c-.78.78-.78 2.05 0 2.83L4 21.41c.39.39.9.59 1.41.59.51 0 1.02-.2 1.41-.59l7.78-7.78 2.81-2.81c.8-.78.8-2.07 0-2.86zM5.41 20L4 18.59l7.72-7.72 1.47 1.35L5.41 20z\"/>\n",
              "  </svg>\n",
              "      </button>\n",
              "      \n",
              "  <style>\n",
              "    .colab-df-container {\n",
              "      display:flex;\n",
              "      flex-wrap:wrap;\n",
              "      gap: 12px;\n",
              "    }\n",
              "\n",
              "    .colab-df-convert {\n",
              "      background-color: #E8F0FE;\n",
              "      border: none;\n",
              "      border-radius: 50%;\n",
              "      cursor: pointer;\n",
              "      display: none;\n",
              "      fill: #1967D2;\n",
              "      height: 32px;\n",
              "      padding: 0 0 0 0;\n",
              "      width: 32px;\n",
              "    }\n",
              "\n",
              "    .colab-df-convert:hover {\n",
              "      background-color: #E2EBFA;\n",
              "      box-shadow: 0px 1px 2px rgba(60, 64, 67, 0.3), 0px 1px 3px 1px rgba(60, 64, 67, 0.15);\n",
              "      fill: #174EA6;\n",
              "    }\n",
              "\n",
              "    [theme=dark] .colab-df-convert {\n",
              "      background-color: #3B4455;\n",
              "      fill: #D2E3FC;\n",
              "    }\n",
              "\n",
              "    [theme=dark] .colab-df-convert:hover {\n",
              "      background-color: #434B5C;\n",
              "      box-shadow: 0px 1px 3px 1px rgba(0, 0, 0, 0.15);\n",
              "      filter: drop-shadow(0px 1px 2px rgba(0, 0, 0, 0.3));\n",
              "      fill: #FFFFFF;\n",
              "    }\n",
              "  </style>\n",
              "\n",
              "      <script>\n",
              "        const buttonEl =\n",
              "          document.querySelector('#df-620cde53-6b38-4aee-bf32-814a9bb0be61 button.colab-df-convert');\n",
              "        buttonEl.style.display =\n",
              "          google.colab.kernel.accessAllowed ? 'block' : 'none';\n",
              "\n",
              "        async function convertToInteractive(key) {\n",
              "          const element = document.querySelector('#df-620cde53-6b38-4aee-bf32-814a9bb0be61');\n",
              "          const dataTable =\n",
              "            await google.colab.kernel.invokeFunction('convertToInteractive',\n",
              "                                                     [key], {});\n",
              "          if (!dataTable) return;\n",
              "\n",
              "          const docLinkHtml = 'Like what you see? Visit the ' +\n",
              "            '<a target=\"_blank\" href=https://colab.research.google.com/notebooks/data_table.ipynb>data table notebook</a>'\n",
              "            + ' to learn more about interactive tables.';\n",
              "          element.innerHTML = '';\n",
              "          dataTable['output_type'] = 'display_data';\n",
              "          await google.colab.output.renderOutput(dataTable, element);\n",
              "          const docLink = document.createElement('div');\n",
              "          docLink.innerHTML = docLinkHtml;\n",
              "          element.appendChild(docLink);\n",
              "        }\n",
              "      </script>\n",
              "    </div>\n",
              "  </div>\n",
              "  "
            ]
          },
          "metadata": {},
          "execution_count": 3
        }
      ]
    },
    {
      "cell_type": "markdown",
      "source": [
        "#### 학습을 위한 데이터 처리\n",
        "* 와인 클래스 2와 클래스 3만 사용 (1은 제거)\n",
        "* 두개의 특성 Alcohol과 'OD280/OD315 of diluted wines'만 사용"
      ],
      "metadata": {
        "id": "kuSG3RGgeu33"
      }
    },
    {
      "cell_type": "code",
      "source": [
        "# 클래스 라벨이 1인 데이터 제거\n",
        "mask = df_wine['Class label'] != 1\n",
        "df_wine = df_wine[mask]\n",
        "# X,y를 구분(X는 두 개 피쳐만 사용)\n",
        "X = df_wine[['Alcohol', 'OD280/OD315 of diluted wines']].values\n",
        "y = df_wine['Class label'].values\n",
        "X.shape, y.shape"
      ],
      "metadata": {
        "id": "9VLdlmwRemzJ",
        "colab": {
          "base_uri": "https://localhost:8080/"
        },
        "outputId": "1d79ee7a-5405-4ee2-8d0d-5b1fde7ebbea"
      },
      "execution_count": 4,
      "outputs": [
        {
          "output_type": "execute_result",
          "data": {
            "text/plain": [
              "((119, 2), (119,))"
            ]
          },
          "metadata": {},
          "execution_count": 4
        }
      ]
    },
    {
      "cell_type": "markdown",
      "source": [
        "#### 전처리"
      ],
      "metadata": {
        "id": "GbTUQ5MKe8qy"
      }
    },
    {
      "cell_type": "code",
      "source": [
        "from sklearn.preprocessing import LabelEncoder\n",
        "# 라벨 인코딩 (1,2) -> (0,1)\n",
        "le = LabelEncoder()\n",
        "y = le.fit_transform(y)\n",
        "\n",
        "from sklearn.model_selection import train_test_split\n",
        "X_train,X_test,y_train,y_test = train_test_split(X,y,\n",
        "                                                 test_size = 0.2,\n",
        "                                                 stratify = y,\n",
        "                                                 random_state = 1)\n",
        "X_train.shape,X_test.shape,y_train.shape,y_test.shape"
      ],
      "metadata": {
        "id": "L2E2OJA22Ey8",
        "colab": {
          "base_uri": "https://localhost:8080/"
        },
        "outputId": "91b16a5a-578e-4c85-9cc7-6937a9ccda74"
      },
      "execution_count": 5,
      "outputs": [
        {
          "output_type": "execute_result",
          "data": {
            "text/plain": [
              "((95, 2), (24, 2), (95,), (24,))"
            ]
          },
          "metadata": {},
          "execution_count": 5
        }
      ]
    },
    {
      "cell_type": "markdown",
      "source": [
        "#### 분포 시각화"
      ],
      "metadata": {
        "id": "njMXgtFKhOg_"
      }
    },
    {
      "cell_type": "code",
      "source": [
        "# 속성이 2개이므로 2차원. 속성1, 속성2 산점도(x)\n",
        "feature1 = X[:,0]\n",
        "feature2 = X[:,1]\n",
        "sns.scatterplot(x=feature1, y=feature2, hue = y)\n",
        "plt.xlabel('Alcohol')\n",
        "plt.ylabel('OD280/OD315 of diluted wines')\n",
        "plt.show()\n",
        "# 클래스별 갯수(counterplot)\n",
        "sns.countplot(x=y)\n",
        "plt.show()"
      ],
      "metadata": {
        "id": "pg2Nrja14kMG",
        "colab": {
          "base_uri": "https://localhost:8080/",
          "height": 527
        },
        "outputId": "e8ff8ffe-5b5f-48a7-a65e-56035964cd9f"
      },
      "execution_count": 6,
      "outputs": [
        {
          "output_type": "display_data",
          "data": {
            "text/plain": [
              "<Figure size 432x288 with 1 Axes>"
            ],
            "image/png": "[encoded data removed]"
          },
          "metadata": {
            "needs_background": "light"
          }
        },
        {
          "output_type": "display_data",
          "data": {
            "text/plain": [
              "<Figure size 432x288 with 1 Axes>"
            ],
            "image/png": "[encoded data removed]"
          },
          "metadata": {
            "needs_background": "light"
          }
        }
      ]
    },
    {
      "cell_type": "markdown",
      "source": [
        "## 다수결 투표 방식을 사용한 예측\n",
        "---\n",
        "\n",
        "<p align='center'>\n",
        "<img src=https://git.io/Jtskl?raw=true width=600>\n",
        "</p>\n",
        "\n",
        "앙상블의 기본 개념."
      ],
      "metadata": {
        "id": "pLfB7doqhstw"
      }
    },
    {
      "cell_type": "markdown",
      "source": [
        "#### 모델 구성"
      ],
      "metadata": {
        "id": "_xtitwy5ip2N"
      }
    },
    {
      "cell_type": "code",
      "source": [
        "from sklearn.ensemble import VotingClassifier\n",
        "from sklearn.linear_model import LogisticRegression\n",
        "from sklearn.tree import DecisionTreeClassifier\n",
        "from sklearn.neighbors import KNeighborsClassifier\n",
        "\n",
        "lr = LogisticRegression(random_state=1,\n",
        "                        penalty='l2')\n",
        "tree = DecisionTreeClassifier(max_depth=1,\n",
        "                              criterion='entropy',\n",
        "                              random_state=1)\n",
        "knn = KNeighborsClassifier(n_neighbors=1,\n",
        "                           p = 2,\n",
        "                           metric='minkowski')\n",
        "\n",
        "voting = VotingClassifier(estimators =  [('logistic',lr),\n",
        "                                        ('tree', tree),\n",
        "                                        ('knn',knn)],\n",
        "                          voting = 'soft', # (hard,soft)\n",
        "                          )\n",
        "models = ['lr', 'tree', 'knn', 'voting']"
      ],
      "metadata": {
        "id": "9vo8wYOV15pu"
      },
      "execution_count": 7,
      "outputs": []
    },
    {
      "cell_type": "markdown",
      "source": [
        "#### k-겹 교차검증"
      ],
      "metadata": {
        "id": "-zHul1AJivjn"
      }
    },
    {
      "cell_type": "code",
      "source": [
        "from sklearn.model_selection import cross_val_score\n",
        "print('10-겹 교차검증')\n",
        "for model in models : \n",
        "  scores = cross_val_score(\n",
        "      estimator=eval(model),\n",
        "      X = X_train,\n",
        "      y = y_train,\n",
        "      cv = 10,\n",
        "      scoring = 'accuracy')\n",
        "  print(f'{model} ACC : {scores.mean():.2f} (+/- {scores.std():.2f}) ')"
      ],
      "metadata": {
        "id": "9R8Mz0T2iVeQ",
        "colab": {
          "base_uri": "https://localhost:8080/"
        },
        "outputId": "4d2f9c31-68f8-4340-a539-ca269b33d47c"
      },
      "execution_count": 8,
      "outputs": [
        {
          "output_type": "stream",
          "name": "stdout",
          "text": [
            "10-겹 교차검증\n",
            "lr ACC : 0.88 (+/- 0.13) \n",
            "tree ACC : 0.88 (+/- 0.09) \n",
            "knn ACC : 0.91 (+/- 0.11) \n",
            "voting ACC : 0.93 (+/- 0.11) \n"
          ]
        }
      ]
    },
    {
      "cell_type": "markdown",
      "source": [
        "#### 스코어 계산"
      ],
      "metadata": {
        "id": "aWos6Ygfi0b2"
      }
    },
    {
      "cell_type": "code",
      "source": [
        "for model in models :\n",
        "  # 학습\n",
        "  eval(model).fit(X_train,y_train)\n",
        "  # 평가\n",
        "  train_score = eval(model).score(X_train, y_train)\n",
        "  test_score = eval(model).score(X_test, y_test)\n",
        "\n",
        "  print(f'{model} Train ACC : {train_score:.2f}, Test ACC : {test_score:.2f} ')"
      ],
      "metadata": {
        "id": "D_kPxOwciVeK",
        "colab": {
          "base_uri": "https://localhost:8080/"
        },
        "outputId": "c6d5c6c6-4b8e-4890-bcea-69341c3203c8"
      },
      "execution_count": 9,
      "outputs": [
        {
          "output_type": "stream",
          "name": "stdout",
          "text": [
            "lr Train ACC : 0.89, Test ACC : 0.92 \n",
            "tree Train ACC : 0.92, Test ACC : 0.88 \n",
            "knn Train ACC : 1.00, Test ACC : 0.92 \n",
            "voting Train ACC : 0.96, Test ACC : 0.92 \n"
          ]
        }
      ]
    },
    {
      "cell_type": "markdown",
      "source": [
        "#### 모델 별 분류경계 시각화"
      ],
      "metadata": {
        "id": "RAHgDTWXjBP9"
      }
    },
    {
      "cell_type": "code",
      "source": [
        "plt.figure(figsize = (10,6))\n",
        "for i, model in enumerate(models):\n",
        "  plt.subplot(2,2,i+1)\n",
        "  draw_decision_region(eval(model),\n",
        "                       X_train, y_train,\n",
        "                       X_test, y_test,\n",
        "                       title = model)\n",
        "plt.show()"
      ],
      "metadata": {
        "id": "HiYF_qtgiVeR",
        "colab": {
          "base_uri": "https://localhost:8080/",
          "height": 390
        },
        "outputId": "0d04ced2-8613-4fec-f048-264792a0225b"
      },
      "execution_count": 10,
      "outputs": [
        {
          "output_type": "display_data",
          "data": {
            "text/plain": [
              "<Figure size 720x432 with 4 Axes>"
            ],
            "image/png": "[encoded data removed]"
          },
          "metadata": {
            "needs_background": "light"
          }
        }
      ]
    },
    {
      "cell_type": "markdown",
      "source": [
        "## 배깅(Bagging: Bootrstrap aggregating)\n",
        "----"
      ],
      "metadata": {
        "id": "RyClZhWUSunP"
      }
    },
    {
      "cell_type": "markdown",
      "source": [
        "<p align='center'>\n",
        "<img src=https://git.io/Jtsk4?raw=true width=500>\n",
        "</p>"
      ],
      "metadata": {
        "id": "Bsiz6oTu2mdo"
      }
    },
    {
      "cell_type": "markdown",
      "source": [
        "#### 모델 구성\n",
        "\n",
        "```\n",
        "sklearn.ensemble.BaggingClassifier(\n",
        "                                  base_estimator=None, \n",
        "                                  n_estimators=10, *, \n",
        "                                  max_samples=1.0, \n",
        "                                  max_features=1.0, \n",
        "                                  bootstrap=True, \n",
        "                                  bootstrap_features=False, \n",
        "                                  oob_score=False, \n",
        "                                  warm_start=False, \n",
        "                                  n_jobs=None, \n",
        "                                  random_state=None, \n",
        "                                  verbose=0\n",
        "\n",
        "```"
      ],
      "metadata": {
        "id": "RAyk72CyklGO"
      }
    },
    {
      "cell_type": "code",
      "source": [
        "from sklearn.ensemble import BaggingClassifier\n",
        "\n",
        "tree = DecisionTreeClassifier(criterion='entropy',\n",
        "                              max_depth = None,\n",
        "                              random_state=1)\n",
        "bagging = BaggingClassifier(base_estimator=tree,\n",
        "                            n_estimators=500,\n",
        "                            random_state = 1)\n",
        "models = ['tree', 'bagging']"
      ],
      "metadata": {
        "id": "0xo3GRogIdPU"
      },
      "execution_count": 11,
      "outputs": []
    },
    {
      "cell_type": "markdown",
      "source": [
        "#### k-겹 교차검증"
      ],
      "metadata": {
        "id": "CX0I3Zw6kkaQ"
      }
    },
    {
      "cell_type": "code",
      "source": [
        "print('10-겹 교차검증')\n",
        "for model in models : \n",
        "  scores = cross_val_score(\n",
        "      estimator=eval(model),\n",
        "      X = X_train,\n",
        "      y = y_train,\n",
        "      cv = 10,\n",
        "      scoring = 'accuracy')\n",
        "  print(f'{model} ACC : {scores.mean():.2f} (+/- {scores.std():.2f}) ')"
      ],
      "metadata": {
        "id": "5jq0Z5DekkaW",
        "colab": {
          "base_uri": "https://localhost:8080/"
        },
        "outputId": "b1320eac-edb4-4b69-8019-179ff60d1ab3"
      },
      "execution_count": 12,
      "outputs": [
        {
          "output_type": "stream",
          "name": "stdout",
          "text": [
            "10-겹 교차검증\n",
            "tree ACC : 0.88 (+/- 0.12) \n",
            "bagging ACC : 0.90 (+/- 0.10) \n"
          ]
        }
      ]
    },
    {
      "cell_type": "markdown",
      "source": [
        "#### 스코어 계산"
      ],
      "metadata": {
        "id": "Z765JfzgkkaW"
      }
    },
    {
      "cell_type": "code",
      "source": [
        "for model in models :\n",
        "  # 학습\n",
        "  eval(model).fit(X_train,y_train)\n",
        "  # 평가\n",
        "  train_score = eval(model).score(X_train, y_train)\n",
        "  test_score = eval(model).score(X_test, y_test)\n",
        "\n",
        "  print(f'{model} Train ACC : {train_score:.2f}, Test ACC : {test_score:.2f} ')"
      ],
      "metadata": {
        "id": "diKO1WZNkkaW",
        "colab": {
          "base_uri": "https://localhost:8080/"
        },
        "outputId": "e9320301-a2ce-4676-c6c7-0b97e5fd3c4d"
      },
      "execution_count": 13,
      "outputs": [
        {
          "output_type": "stream",
          "name": "stdout",
          "text": [
            "tree Train ACC : 1.00, Test ACC : 0.83 \n",
            "bagging Train ACC : 1.00, Test ACC : 0.92 \n"
          ]
        }
      ]
    },
    {
      "cell_type": "markdown",
      "source": [
        "#### 모델 별 분류경계 시각화"
      ],
      "metadata": {
        "id": "EFruX6HokkaW"
      }
    },
    {
      "cell_type": "code",
      "source": [
        "plt.figure(figsize = (10,6))\n",
        "for i, model in enumerate(models):\n",
        "  plt.subplot(2,2,i+1)\n",
        "  draw_decision_region(eval(model),\n",
        "                       X_train, y_train,\n",
        "                       X_test, y_test,\n",
        "                       title = model)\n",
        "plt.show()"
      ],
      "metadata": {
        "id": "zu37L4jJkkaW",
        "colab": {
          "base_uri": "https://localhost:8080/",
          "height": 212
        },
        "outputId": "5f97181f-655b-4e74-8de4-79c2f8e5c841"
      },
      "execution_count": 14,
      "outputs": [
        {
          "output_type": "display_data",
          "data": {
            "text/plain": [
              "<Figure size 720x432 with 2 Axes>"
            ],
            "image/png": "[encoded data removed]"
          },
          "metadata": {
            "needs_background": "light"
          }
        }
      ]
    },
    {
      "cell_type": "markdown",
      "source": [
        "##  에이다부스트(AdaBoost)\n",
        "---\n",
        "\n",
        "\n",
        "<p align='center'>\n",
        "<img src=https://camo.githubusercontent.com/e0966809177c396bd5f64c2142e11ca7f31dfb05094ac671c5f425fbd2cd2f91/68747470733a2f2f6769742e696f2f4a74736b30?raw=true width=500>\n",
        "</p>"
      ],
      "metadata": {
        "id": "hV7TSWQCTtdB"
      }
    },
    {
      "cell_type": "markdown",
      "source": [
        "#### 모델구성\n",
        "\n",
        "```\n",
        "class sklearn.ensemble.AdaBoostClassifier(\n",
        "                          base_estimator=None, *, \n",
        "                          n_estimators=50, \n",
        "                          learning_rate=1.0, \n",
        "                          algorithm='SAMME.R', \n",
        "                          random_state=None)[source]¶\n",
        "\n",
        "```"
      ],
      "metadata": {
        "id": "YwA2MPiIk4cb"
      }
    },
    {
      "cell_type": "code",
      "source": [
        "from sklearn.ensemble import AdaBoostClassifier\n",
        "\n",
        "tree = DecisionTreeClassifier(criterion='entropy',\n",
        "                              max_depth = None,\n",
        "                              random_state=1)\n",
        "ada = AdaBoostClassifier(base_estimator=tree,\n",
        "                            n_estimators=500,\n",
        "                            learning_rate = 0.1,\n",
        "                            random_state = 1)\n",
        "models = ['tree', 'ada']"
      ],
      "metadata": {
        "id": "wwYYOHZhL0tz"
      },
      "execution_count": 15,
      "outputs": []
    },
    {
      "cell_type": "markdown",
      "source": [
        "#### k-겹 교차검증"
      ],
      "metadata": {
        "id": "DmYbeLLkk2-P"
      }
    },
    {
      "cell_type": "code",
      "source": [
        "print('10-겹 교차검증')\n",
        "for model in models : \n",
        "  scores = cross_val_score(\n",
        "      estimator=eval(model),\n",
        "      X = X_train,\n",
        "      y = y_train,\n",
        "      cv = 10,\n",
        "      scoring = 'accuracy')\n",
        "  print(f'{model} ACC : {scores.mean():.2f} (+/- {scores.std():.2f}) ')"
      ],
      "metadata": {
        "id": "rQufj2Kvk2-P",
        "colab": {
          "base_uri": "https://localhost:8080/"
        },
        "outputId": "e9754260-00e2-4125-c93c-862375b262f6"
      },
      "execution_count": 16,
      "outputs": [
        {
          "output_type": "stream",
          "name": "stdout",
          "text": [
            "10-겹 교차검증\n",
            "tree ACC : 0.88 (+/- 0.12) \n",
            "ada ACC : 0.85 (+/- 0.13) \n"
          ]
        }
      ]
    },
    {
      "cell_type": "markdown",
      "source": [
        "#### 스코어 계산"
      ],
      "metadata": {
        "id": "0NTETTYDk2-Q"
      }
    },
    {
      "cell_type": "code",
      "source": [
        "for model in models :\n",
        "  # 학습\n",
        "  eval(model).fit(X_train,y_train)\n",
        "  # 평가\n",
        "  train_score = eval(model).score(X_train, y_train)\n",
        "  test_score = eval(model).score(X_test, y_test)\n",
        "\n",
        "  print(f'{model} Train ACC : {train_score:.2f}, Test ACC : {test_score:.2f} ')"
      ],
      "metadata": {
        "id": "8wwZpueek2-Q",
        "colab": {
          "base_uri": "https://localhost:8080/"
        },
        "outputId": "d660de91-ba3c-40fb-c29d-c85280141864"
      },
      "execution_count": 17,
      "outputs": [
        {
          "output_type": "stream",
          "name": "stdout",
          "text": [
            "tree Train ACC : 1.00, Test ACC : 0.83 \n",
            "ada Train ACC : 1.00, Test ACC : 0.83 \n"
          ]
        }
      ]
    },
    {
      "cell_type": "markdown",
      "source": [
        "#### 모델 별 분류경계 시각화"
      ],
      "metadata": {
        "id": "ln3yawpgk2-Q"
      }
    },
    {
      "cell_type": "code",
      "source": [
        "plt.figure(figsize = (10,6))\n",
        "for i, model in enumerate(models):\n",
        "  plt.subplot(2,2,i+1)\n",
        "  draw_decision_region(eval(model),\n",
        "                       X_train, y_train,\n",
        "                       X_test, y_test,\n",
        "                       title = model)\n",
        "plt.show()"
      ],
      "metadata": {
        "id": "FdJyW3MYk2-Q",
        "colab": {
          "base_uri": "https://localhost:8080/",
          "height": 212
        },
        "outputId": "65b6f8db-b0e0-4aa8-b5e3-19606fea1c0c"
      },
      "execution_count": 18,
      "outputs": [
        {
          "output_type": "display_data",
          "data": {
            "text/plain": [
              "<Figure size 720x432 with 2 Axes>"
            ],
            "image/png": "[encoded data removed]"
          },
          "metadata": {
            "needs_background": "light"
          }
        }
      ]
    },
    {
      "cell_type": "markdown",
      "source": [
        "## 앙상블 모델 정리\n",
        "---"
      ],
      "metadata": {
        "id": "Ogt9eqqaaGo6"
      }
    },
    {
      "cell_type": "code",
      "source": [
        "from sklearn.ensemble import *\n",
        "from sklearn.tree import *\n",
        "from xgboost import XGBClassifier\n",
        "from lightgbm import LGBMClassifier\n",
        "\n",
        "# Voting\n",
        "tree = DecisionTreeClassifier(criterion = 'entropy', max_depth = None,       \n",
        "                              random_state = 1)\n",
        "voting = VotingClassifier(estimators = [('logistic', lr),\n",
        "                                        ('tree',tree),\n",
        "                                        ('knn', knn)],\n",
        "                                        voting = 'soft') # {hard, soft}\n",
        "\n",
        "# Bagging\n",
        "# tree = DecisionTreeClassifier(criterion = 'entropy', max_depth = None, random_state = 1)\n",
        "bagging = BaggingClassifier(base_estimator = tree, n_estimators = 500, random_state = 1)                                        \n",
        "\n",
        "\n",
        "\n",
        "# Adaboost\n",
        "#tree = DecisionTreeClassifier(criterion = 'entropy', max_depth =1,random_state = 1) # Adaboost는 tree의 max_depth 깊이를 낮게(적당히) 맞추면 됨\n",
        "ada = AdaBoostClassifier(base_estimator = tree,\n",
        "                         n_estimators = 500,learning_rate = 0.1,\n",
        "                         random_state = 1)\n",
        "\n",
        "# random forest\n",
        "rnd_tree = RandomForestClassifier(random_state = 1)\n",
        "\n",
        "# 그래디언트 부스팅\n",
        "gbrt = GradientBoostingClassifier(random_state=1)\n",
        "\n",
        "# xgb\n",
        "xgb = XGBClassifier(random_state = 1)\n",
        "\n",
        "# light bgm\n",
        "lgb = LGBMClassifier(random_state = 1)\n",
        "\n",
        "models = ['tree', 'rnd_tree', 'bagging', 'ada', 'xgb', 'lgb', 'voting', 'gbrt']"
      ],
      "metadata": {
        "id": "TkuZlA-qNcg6"
      },
      "execution_count": 19,
      "outputs": []
    },
    {
      "cell_type": "markdown",
      "source": [
        "#### k-겹 교차검증"
      ],
      "metadata": {
        "id": "KMNY3o41r3mj"
      }
    },
    {
      "cell_type": "code",
      "source": [
        "from sklearn.model_selection import cross_val_score\n",
        "print('10-겹 교차검증')\n",
        "\n",
        "for model in models : \n",
        "  scores = cross_val_score(estimator=eval(model),\n",
        "                           X = X_train, y = y_train, cv = 10, \n",
        "                           scoring = 'accuracy')\n",
        "  print(f'{model} Acc : {scores.mean() : .3f} (+/- {scores.std():.3f})')"
      ],
      "metadata": {
        "id": "iQFxyWcJr3mj",
        "colab": {
          "base_uri": "https://localhost:8080/"
        },
        "outputId": "5d2a7305-761b-48a5-e4cd-d816b8ad898f"
      },
      "execution_count": 20,
      "outputs": [
        {
          "output_type": "stream",
          "name": "stdout",
          "text": [
            "10-겹 교차검증\n",
            "tree Acc :  0.883 (+/- 0.121)\n",
            "rnd_tree Acc :  0.903 (+/- 0.102)\n",
            "bagging Acc :  0.902 (+/- 0.105)\n",
            "ada Acc :  0.851 (+/- 0.129)\n",
            "xgb Acc :  0.904 (+/- 0.087)\n",
            "lgb Acc :  0.913 (+/- 0.096)\n",
            "voting Acc :  0.916 (+/- 0.115)\n",
            "gbrt Acc :  0.841 (+/- 0.107)\n"
          ]
        }
      ]
    },
    {
      "cell_type": "markdown",
      "source": [
        "#### 스코어 계산"
      ],
      "metadata": {
        "id": "nqdlr_Bpr3mk"
      }
    },
    {
      "cell_type": "code",
      "source": [
        "for model in models : \n",
        "  # 학습\n",
        "  eval(model).fit(X_train, y_train)\n",
        "  # 평가\n",
        "  train_score = eval(model).score(X_train, y_train)\n",
        "  test_score = eval(model).score(X_test, y_test)\n",
        "  print(f'{model} Acc : {train_score : .3f} {test_score : .3f}')"
      ],
      "metadata": {
        "id": "NSpJyIdIr3mk",
        "colab": {
          "base_uri": "https://localhost:8080/"
        },
        "outputId": "bd8d723b-a461-4574-d5b8-eecd9f909e8d"
      },
      "execution_count": 21,
      "outputs": [
        {
          "output_type": "stream",
          "name": "stdout",
          "text": [
            "tree Acc :  1.000  0.833\n",
            "rnd_tree Acc :  1.000  0.917\n",
            "bagging Acc :  1.000  0.917\n",
            "ada Acc :  1.000  0.833\n",
            "xgb Acc :  0.968  0.917\n",
            "lgb Acc :  0.968  0.917\n",
            "voting Acc :  1.000  0.917\n",
            "gbrt Acc :  1.000  0.917\n"
          ]
        }
      ]
    },
    {
      "cell_type": "markdown",
      "source": [
        "#### 모델 별 분류경계 시각화"
      ],
      "metadata": {
        "id": "Q1xddXFGr3mk"
      }
    },
    {
      "cell_type": "code",
      "source": [
        "plt.figure(figsize = (10,6))\n",
        "for i, model in enumerate(models):\n",
        "  plt.subplot(2,4,i+1)\n",
        "  draw_decision_region(eval(model),\n",
        "                       X_train, y_train,\n",
        "                       X_test, y_test,\n",
        "                       title = model)\n",
        "plt.show()"
      ],
      "metadata": {
        "id": "xu0y1hZuZUwi",
        "colab": {
          "base_uri": "https://localhost:8080/",
          "height": 390
        },
        "outputId": "621a5d6a-99e3-43c8-f81a-32efc174b47f"
      },
      "execution_count": 26,
      "outputs": [
        {
          "output_type": "display_data",
          "data": {
            "text/plain": [
              "<Figure size 720x432 with 8 Axes>"
            ],
            "image/png": "[encoded data removed]"
          },
          "metadata": {
            "needs_background": "light"
          }
        }
      ]
    },
    {
      "cell_type": "markdown",
      "source": [
        "## 알고리즘 정해서 발표하기\n",
        "\n",
        "1. PCA, KNN\n",
        "2. 앙상블(Ensemble), 배깅(Bagging)\n",
        "3. 부스팅(Bossting)\n",
        "\n",
        "포함되어야 할 내용\n",
        "- 개념 설명\n",
        "- (앙상블, 배깅, 부스팅)의 경우 관련 모델\n",
        "- 사이킷런 구현시 함수의 각 파라미터"
      ],
      "metadata": {
        "id": "y4qzEwGusPFx"
      }
    },
    {
      "cell_type": "code",
      "source": [
        "from sklearn.decomposition import PCA\n",
        "# 각 매개변수에는 기본값이 들어가 있음.\n",
        "pca = PCA(n_components=None, # (int,float,'mle'). 변환할 차원의 수. 'mle'를 선택하고, svd_solver = 'full'이면 토마스 민카의 차원 선택 방식을 사용.\n",
        "          copy=True, # False이면 fit에 전달된 데이터를 덮어쓰고 fit(X).transform(X)을 실행해도 예상한 결과가 나오지 않으므로 대신 fit_transform(X)를 사용할 것.\n",
        "          whiten=False, # True일 때, components_벡터에 n_samples의 제곱근을 곱한 다음 특이값으로 나누어 단위 구성 요소별 분산과 uncorrelated한 값을 출력.\n",
        "          svd_solver=['full', 'arpack', 'randomized'], # ('auto', 'full', 'arpack', 'randomized').\n",
        "          # Scikit-Learn에서는 PCA를 계산할 때 특이값 분해(SVD, Singular Value Decomposition)를 이용해 계산. 이 떄 어떤 방식을 사용할 것 인지를 입력.\n",
        "          # 'full' : LAPACK solver를 호출. 'arpack' :  ARPACK solver를 호출. \n",
        "          # 'randomized' : 랜덤 PCA라는 확률적 알고리즘을 사용할 때 호출. 근사치를  'auto' : 원본 데이터의 크기나 차원 수가 500보다 크고, 축소할 차원이 이것들의 80%보다 작으면 sklearn은 자동으로 랜덤 PCA 알고리즘을 사용\n",
        "          tol=0, # svd_solver == 'arpack'을 사용할 때, 특이값의 허용오차.\n",
        "          iterated_power='auto', # svd_solver = 'randomized 일 때 거듭제곱식 반복 횟수\n",
        "          random_state=None, # 난수 값\n",
        "          )\n"
      ],
      "metadata": {
        "id": "seWnGJ0UPRKb"
      },
      "execution_count": null,
      "outputs": []
    },
    {
      "cell_type": "code",
      "source": [
        "KNeighborsClassifier(algorithm='auto', # ('ball_tree', 'kd_tree', 'brute', 'auto') 사용할 알고리즘 선택.\n",
        "                     leaf_size=30, # 트리에서 뻗어나갈 잎의 크기. 너무 작으면 느리고 노이즈 생성. 너무 크면 성능 저하.\n",
        "                     metric='minkowski', # 거리 측정 박식을 변경하는 매개변수 선택.\n",
        "                     metric_params=None, # 메트릭 함수 추가 키워드\n",
        "                     n_jobs=1, # 이웃을 검색하는데 실행하는 병렬 작업 수\n",
        "                     n_neighbors = 5, # 검색할 이웃의 수\n",
        "                     p=2, # minkowski사용 시 매개변수 선택\n",
        "                     weights='uniform' # ('uniform', 'distance') 예측에 사용 할 가중치. 'uniform' : 각 이웃에게 동일한 가중치, 'distance' : 가까운 이웃에게 더 큰 영향을 받음\n",
        "                     )"
      ],
      "metadata": {
        "id": "JYDGCwE3_Mis"
      },
      "execution_count": null,
      "outputs": []
    }
  ]
}