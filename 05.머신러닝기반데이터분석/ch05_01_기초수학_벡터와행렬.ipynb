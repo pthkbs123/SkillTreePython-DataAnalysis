{
  "nbformat": 4,
  "nbformat_minor": 0,
  "metadata": {
    "colab": {
      "name": "ch05_01_기초수학_벡터와행렬.ipynb",
      "provenance": [],
      "collapsed_sections": [],
      "include_colab_link": true
    },
    "kernelspec": {
      "name": "python3",
      "display_name": "Python 3"
    },
    "language_info": {
      "name": "python"
    }
  },
  "cells": [
    {
      "cell_type": "markdown",
      "metadata": {
        "id": "view-in-github",
        "colab_type": "text"
      },
      "source": [
        "<a href=\"https://colab.research.google.com/github/pthkbs123/SkillTreePython-DataAnalysis/blob/main/05.%EB%A8%B8%EC%8B%A0%EB%9F%AC%EB%8B%9D%EA%B8%B0%EB%B0%98%EB%8D%B0%EC%9D%B4%ED%84%B0%EB%B6%84%EC%84%9D/ch05_01_%EA%B8%B0%EC%B4%88%EC%88%98%ED%95%99_%EB%B2%A1%ED%84%B0%EC%99%80%ED%96%89%EB%A0%AC.ipynb\" target=\"_parent\"><img src=\"https://colab.research.google.com/assets/colab-badge.svg\" alt=\"Open In Colab\"/></a>"
      ]
    },
    {
      "cell_type": "markdown",
      "source": [
        "# ch05.01. 기초수학 - 벡터와 행렬\n",
        "---\n",
        "* 날짜: 2022-05-12\n",
        "* 이름: 박태현\n",
        "\n",
        "## 학습내용\n",
        "    - 스칼라, 벡터, 행렬에 대한 기본 개념을 배운다\n",
        "    - 벡터의 연산에 대해 이해한다\n",
        "    - 행렬의 연산에 대해 이해한다.\n",
        "\n",
        "\n",
        "**라이브러리 임포트**\n",
        "```\n",
        "import numpy as np\n",
        "import matplotlib.pyplot as plt\n",
        "```\n"
      ],
      "metadata": {
        "id": "wWpXZc2fi39U"
      }
    },
    {
      "cell_type": "code",
      "source": [
        "import numpy as np\n",
        "import matplotlib.pyplot as plt"
      ],
      "metadata": {
        "id": "Yy0fwqVsVbYr"
      },
      "execution_count": 1,
      "outputs": []
    },
    {
      "cell_type": "markdown",
      "source": [
        "## 스칼라\n",
        "---\n",
        "\n",
        "* Zeros-order Tensor Operations\n",
        "\n",
        "\n",
        "\\begin{split}\n",
        "\\begin{align}\n",
        "\\ \\ a, b ∈ℝ\n",
        "\\\\\n",
        "\\end{align}\n",
        "\\end{split}\n",
        "\n",
        "\\begin{align}\n",
        "\\\\\n",
        "\\end{align}\n",
        "### **| 스칼라 연산**\n",
        "\n",
        "\\begin{split}\n",
        "\\begin{align}\n",
        "\\\\ a+b ∈ℝ \n",
        "\\\\ a-b ∈ℝ\n",
        "\\\\ a×b ∈ℝ\n",
        "\\end{align}\n",
        "\\end{split}"
      ],
      "metadata": {
        "id": "ezw1TJA2kO_a"
      }
    },
    {
      "cell_type": "markdown",
      "source": [
        "## 벡터\n",
        "---\n",
        "* First-order Tensor Operation\n",
        "\n",
        "\n",
        "\\begin{split}\n",
        "\\begin{align}\n",
        "𝐱 =\n",
        "\\begin{bmatrix}\n",
        "x_1 \\\\\n",
        "x_2 \\\\\n",
        "... \\\\\n",
        "x_N \\\\\n",
        "\\end{bmatrix}\n",
        ", \\ \\ \\ \n",
        "𝐱^T =[ x_1, x_2, ..., x_N]\n",
        "\\ \\ \\, ∈ℝ^N \\ (ℝ^{N\\times 1})\n",
        "\\end{align}\n",
        "\\end{split}\n"
      ],
      "metadata": {
        "id": "UUCK0XLTkciq"
      }
    },
    {
      "cell_type": "markdown",
      "source": [
        "\n",
        "### **| 벡터와 벡터의 연산**\n",
        "\n",
        "\\begin{split}\n",
        "\\begin{align}\n",
        "𝐱 + 𝐲 =\n",
        "\\begin{bmatrix}\n",
        "x_1 \\\\\n",
        "x_2 \\\\\n",
        "... \\\\\n",
        "x_N \\\\\n",
        "\\end{bmatrix}\n",
        "+\n",
        "\\begin{bmatrix}\n",
        "y_1 \\\\\n",
        "y_2 \\\\\n",
        "... \\\\\n",
        "y_N \\\\\n",
        "\\end{bmatrix}\n",
        "=\n",
        "\\begin{bmatrix}\n",
        "x_1 + y_1 \\\\\n",
        "x_2 + y_2  \\\\\n",
        "... \\\\\n",
        "x_N + y_N \\\\\n",
        "\\end{bmatrix}\n",
        "\\end{align}\n",
        "\\end{split}\n",
        "\n",
        "\\\\\n",
        "\n",
        "\\begin{split}\n",
        "\\begin{align}\n",
        "𝐱 - 𝐲 =\n",
        "\\begin{bmatrix}\n",
        "x_1 \\\\\n",
        "x_2 \\\\\n",
        "... \\\\\n",
        "x_N \\\\\n",
        "\\end{bmatrix}\n",
        "-\n",
        "\\begin{bmatrix}\n",
        "y_1 \\\\\n",
        "y_2 \\\\\n",
        "... \\\\\n",
        "y_N \\\\\n",
        "\\end{bmatrix}\n",
        "=\n",
        "\\begin{bmatrix}\n",
        "x_1 - y_1 \\\\\n",
        "x_2 - y_2  \\\\\n",
        "... \\\\\n",
        "x_N - y_N \\\\\n",
        "\\end{bmatrix}\n",
        "\\end{align}\n",
        "\\end{split}\n",
        "\n",
        "\\\\\n",
        "\n",
        "\\begin{split}\n",
        "\\begin{align}\n",
        "𝐱^T𝐲 = 𝐱^T ⋅ 𝐲 = <𝐱,𝐲> = \n",
        "\\begin{bmatrix}\n",
        "x_{1} & x_{2} & \\cdots & x_{N} \n",
        "\\end{bmatrix}\n",
        "\\begin{bmatrix}\n",
        "y_{1} \\\\\n",
        "y_{2} \\\\\n",
        "\\vdots \\\\\n",
        "y_{N} \\\\\n",
        "\\end{bmatrix} \n",
        "= x_1 y_1 + \\cdots + x_N y_N \n",
        "=\\sum_{i=1}^N x_i y_i\n",
        "\\end{align}\n",
        "\\end{split}\n",
        "\\\\\n",
        "\n"
      ],
      "metadata": {
        "id": "AHjhQ01OpmpX"
      }
    },
    {
      "cell_type": "markdown",
      "source": [
        "#### **예제 01**\n",
        "\n",
        "\\begin{split}\n",
        "\\begin{align}\n",
        "𝐱=\n",
        "\\begin{bmatrix}\n",
        "2 \\\\\n",
        "1 \\\\\n",
        "2 \\\\\n",
        "0 \\\\\n",
        "\\end{bmatrix}\n",
        ",\\;\\;\n",
        "𝐲=\n",
        "\\begin{bmatrix}\n",
        "1 \\\\\n",
        "1 \\\\\n",
        "2 \\\\\n",
        "4 \\\\\n",
        "\\end{bmatrix}\n",
        "\\end{align}\n",
        "\\end{split}"
      ],
      "metadata": {
        "id": "QWNt0MEpeoqr"
      }
    },
    {
      "cell_type": "code",
      "source": [
        "# 정확한 표현\n",
        "x = np.array([ [2],[1],[2],[0] ])\n",
        "y = np.array([ [1],[1],[2],[4] ])\n",
        "# 편의상 표현\n",
        "x = np.array([2,1,2,0])\n",
        "y = np.array([1,1,2,4])"
      ],
      "metadata": {
        "id": "1MBfp-kcehla"
      },
      "execution_count": 32,
      "outputs": []
    },
    {
      "cell_type": "markdown",
      "source": [
        "#### **예제 02**\n",
        "\n",
        "**예제 01**의 𝐱, 𝐲 에 대해 다음 연산을 진행하세요.\n",
        "\n",
        "* 𝐱 + 𝐲\n",
        "* 𝐱 - 𝐲\n",
        "* 𝐱 ⋅ 𝐲\n",
        "* 𝐱𝐲 (넘파이 브로드 케스팅 연산)"
      ],
      "metadata": {
        "id": "PHx6e1fVhtDh"
      }
    },
    {
      "cell_type": "code",
      "source": [
        "print(x+y)\n",
        "print(x-y)\n",
        "print(np.dot(x,y))\n",
        "print(x*y)"
      ],
      "metadata": {
        "id": "tBSVL92Jd1v7",
        "colab": {
          "base_uri": "https://localhost:8080/"
        },
        "outputId": "ed827f60-6f49-47b1-df9d-78daeb255b5a"
      },
      "execution_count": 34,
      "outputs": [
        {
          "output_type": "stream",
          "name": "stdout",
          "text": [
            "[3 2 4 4]\n",
            "[ 1  0  0 -4]\n",
            "7\n",
            "[2 1 4 0]\n"
          ]
        }
      ]
    },
    {
      "cell_type": "markdown",
      "source": [
        "\n",
        "### **| 벡터와 스칼라의 연산**\n",
        "\n",
        "\\begin{split}\n",
        "\\begin{align}\n",
        "c𝐱 =\n",
        "c\n",
        "\\begin{bmatrix}\n",
        "x_1 \\\\\n",
        "x_2 \\\\\n",
        "... \\\\\n",
        "x_N \\\\\n",
        "\\end{bmatrix}\n",
        "=\n",
        "\\begin{bmatrix}\n",
        "cx_1  \\\\\n",
        "cx_2  \\\\\n",
        "... \\\\\n",
        "cx_N  \\\\\n",
        "\\end{bmatrix}\n",
        "\\end{align}\n",
        "\\end{split}\n",
        "\n",
        "\n",
        "* 브로드 캐스팅\n",
        "\n",
        "원래 덧셈과 뺄셈은 크기가 같은 두 벡터에 대해서만 할 수 있지만 벡터와 스칼라의 경우에는 관례적으로 다음과 같이 스칼라 값을 벡터로 변환하여 연산을 수행합니다.  이를 브로드 캐스팅(broad casting) 이라고 합니다.\n",
        "\n",
        "\\begin{split}\n",
        "\\begin{align}\n",
        "c+𝐱 =\n",
        "\\begin{bmatrix}\n",
        "c \\\\\n",
        "c \\\\\n",
        "... \\\\\n",
        "c \\\\\n",
        "\\end{bmatrix}\n",
        "+\n",
        "\\begin{bmatrix}\n",
        "x_1 \\\\\n",
        "x_2 \\\\\n",
        "... \\\\\n",
        "x_N \\\\\n",
        "\\end{bmatrix}\n",
        "=\n",
        "\\begin{bmatrix}\n",
        "c+x_1  \\\\\n",
        "c+x_2  \\\\\n",
        "... \\\\\n",
        "c+x_N  \\\\\n",
        "\\end{bmatrix}\n",
        "\\end{align}\n",
        "\\end{split}\n",
        "\n",
        "\\\\\n",
        "\n",
        "\\begin{split}\n",
        "\\begin{align}\n",
        "c-𝐱 =\n",
        "\\begin{bmatrix}\n",
        "c \\\\\n",
        "c \\\\\n",
        "... \\\\\n",
        "c \\\\\n",
        "\\end{bmatrix}\n",
        "-\n",
        "\\begin{bmatrix}\n",
        "x_1 \\\\\n",
        "x_2 \\\\\n",
        "... \\\\\n",
        "x_N \\\\\n",
        "\\end{bmatrix}\n",
        "=\n",
        "\\begin{bmatrix}\n",
        "c-x_1  \\\\\n",
        "c-x_2  \\\\\n",
        "... \\\\\n",
        "c-x_N  \\\\\n",
        "\\end{bmatrix}\n",
        "\\end{align}\n",
        "\\end{split}"
      ],
      "metadata": {
        "id": "i7AO2yCypuOf"
      }
    },
    {
      "cell_type": "markdown",
      "source": [
        "#### **예제 03**\n",
        "\n",
        "\\begin{split}\n",
        "\\begin{align}\n",
        "𝐱=\n",
        "\\begin{bmatrix}\n",
        "10 \\\\\n",
        "11 \\\\\n",
        "12 \\\\\n",
        "\\end{bmatrix}\n",
        ",\\;\\;\n",
        "𝐲=\n",
        "\\begin{bmatrix}\n",
        "0 \\\\\n",
        "1 \\\\\n",
        "2 \\\\\n",
        "\\end{bmatrix}\n",
        ", \\; c = 2\n",
        "\\end{align}\n",
        "\\end{split}\n",
        "\n",
        "\n"
      ],
      "metadata": {
        "id": "gn41v88LmJZ6"
      }
    },
    {
      "cell_type": "markdown",
      "source": [
        "* 𝐱, 𝐲, c 정의하기"
      ],
      "metadata": {
        "id": "qHbUVtFiq-JG"
      }
    },
    {
      "cell_type": "code",
      "source": [
        "x = np.array( [ [10],[11],[12] ] )\n",
        "y = np.array( [[0],[1],[2]] )\n",
        "c = 2"
      ],
      "metadata": {
        "id": "3bzsd-1Jkciq"
      },
      "execution_count": 18,
      "outputs": []
    },
    {
      "cell_type": "markdown",
      "source": [
        "* $c𝐱-𝐲$ "
      ],
      "metadata": {
        "id": "jJVfzPRFrDUu"
      }
    },
    {
      "cell_type": "code",
      "source": [
        "(c*x) - y"
      ],
      "metadata": {
        "id": "q9gQ6Ri8rFRO",
        "colab": {
          "base_uri": "https://localhost:8080/"
        },
        "outputId": "50040dc1-d786-4a6c-f739-fb5316b67c15"
      },
      "execution_count": 19,
      "outputs": [
        {
          "output_type": "execute_result",
          "data": {
            "text/plain": [
              "array([[20],\n",
              "       [21],\n",
              "       [22]])"
            ]
          },
          "metadata": {},
          "execution_count": 19
        }
      ]
    },
    {
      "cell_type": "markdown",
      "source": [
        "* $𝐱^T𝐲$"
      ],
      "metadata": {
        "id": "J-446sswrFWZ"
      }
    },
    {
      "cell_type": "code",
      "source": [
        "np.dot(x.T,y)"
      ],
      "metadata": {
        "id": "IUGkyIhvrL_u",
        "colab": {
          "base_uri": "https://localhost:8080/"
        },
        "outputId": "8fb6fe19-2415-409e-fab9-34c1ecf0cc88"
      },
      "execution_count": 35,
      "outputs": [
        {
          "output_type": "execute_result",
          "data": {
            "text/plain": [
              "7"
            ]
          },
          "metadata": {},
          "execution_count": 35
        }
      ]
    },
    {
      "cell_type": "markdown",
      "source": [
        "* $2c𝐱+𝐲$"
      ],
      "metadata": {
        "id": "oASdmAl5rd0Y"
      }
    },
    {
      "cell_type": "code",
      "source": [
        "(2*c*x) + y"
      ],
      "metadata": {
        "id": "1cXlopvwrlRm",
        "colab": {
          "base_uri": "https://localhost:8080/"
        },
        "outputId": "4dbe662e-63be-4236-852d-2886ebd3b1a7"
      },
      "execution_count": 22,
      "outputs": [
        {
          "output_type": "execute_result",
          "data": {
            "text/plain": [
              "array([[40],\n",
              "       [45],\n",
              "       [50]])"
            ]
          },
          "metadata": {},
          "execution_count": 22
        }
      ]
    },
    {
      "cell_type": "markdown",
      "source": [
        "#### **예제 04**\n",
        "\n",
        "도매로 A, B, C 세개의 물건을 사려 하는데 한 박스당 각각 10만원, 12만원, 20만원입니다. 각각 총 5박스, 8박스, 4박스를 사려고 합니다. \n",
        "\n",
        "(1) 박스가격과 구매 수량을 각각 p 벡터, n 벡터로 표시하고 넘파이로 코딩합니다.\n",
        "\n",
        "(2) 물건을 구입할 때 드는 총 비용을 계산하세요."
      ],
      "metadata": {
        "id": "kDj3EemGsDkA"
      }
    },
    {
      "cell_type": "code",
      "source": [
        "p = np.array( [10,12,20] )\n",
        "n = np.array( [5,8,4] )\n",
        "\n",
        "np.dot(p,n)"
      ],
      "metadata": {
        "id": "R3NDw23HsDry",
        "colab": {
          "base_uri": "https://localhost:8080/"
        },
        "outputId": "636a9245-a3f3-4282-f4f8-3eabc37b4854"
      },
      "execution_count": 39,
      "outputs": [
        {
          "output_type": "execute_result",
          "data": {
            "text/plain": [
              "226"
            ]
          },
          "metadata": {},
          "execution_count": 39
        }
      ]
    },
    {
      "cell_type": "markdown",
      "source": [
        "#### **예제 05**\n",
        "\n",
        "(1) 국어, 수학, 사회, 과학, 영어 의 시험 성적이 각각 70, 100, 90, 70, 50 입니다. 성적을 벡터 x 로 표시하고 넘파이로 코딩합니다.\n",
        "\n",
        "(2) 문과에서 과목별 가중치는 각각 0.25, 0.2, 0.2, 0.1, 0.25 입니다. 가중치를 벡터 w1 로 표시하고 넘파이로 코딩합니다.\n",
        "\n",
        "(3) 이과에서 과목별 가중치는 각각 0.15, 0.4, 0.1, 0.2, 0.15 입니다. 가중치를 벡터 w2 로 표시하고 넘파이로 코딩합니다.\n",
        "\n",
        "(4) 문과 가중치와 이과 가중치를 적용해서 성적의 총합을 계산하고 어떤 과를 가는게 유리한지 적으세요."
      ],
      "metadata": {
        "id": "xazFR86esvwl"
      }
    },
    {
      "cell_type": "code",
      "source": [
        "x = np.array( [70,100,90,70,50] )\n",
        "w1 = np.array( [0.25,0.2,0.2,0.1,0.25] )\n",
        "w2 = np.array( [0.15,0.4,0.1,0.2,0.15] )\n",
        "\n",
        "np.dot(x,w1), np.dot(x,w2)\n",
        "# 이과"
      ],
      "metadata": {
        "id": "w7qzzN3Hsvwr",
        "colab": {
          "base_uri": "https://localhost:8080/"
        },
        "outputId": "99150d80-8392-447f-8164-19e55acaf093"
      },
      "execution_count": 42,
      "outputs": [
        {
          "output_type": "execute_result",
          "data": {
            "text/plain": [
              "(75.0, 81.0)"
            ]
          },
          "metadata": {},
          "execution_count": 42
        }
      ]
    },
    {
      "cell_type": "markdown",
      "source": [
        "## 행렬\n",
        "---\n",
        "\n",
        "* Second-order Tensor Operation\n",
        "\n",
        "\\begin{split}\n",
        "\\begin{align}\n",
        "A=\n",
        "\\begin{bmatrix}\n",
        "a_{11} \\ \\ \\ a_{12} \\ \\ \\ ... \\ \\ \\ a_{1M} \\\\\n",
        "a_{21} \\ \\ \\ a_{22} \\ \\ \\ ... \\ \\ \\ a_{2M} \\\\\n",
        "... \\ \\ \\ ... \\ \\ \\ ... \\ \\ \\ ... \\\\\n",
        "... \\ \\ \\ ... \\ \\ \\ a_{ij} \\ \\ \\ ... \\\\\n",
        "... \\ \\ \\ ... \\ \\ \\ ... \\ \\ \\ ... \\\\\n",
        "a_{N1} \\ \\ \\ a_{N2} \\ \\ \\ ... \\ \\ \\ a_{NM} \\\\\n",
        "\\end{bmatrix}\n",
        "\\ \\ , \\ \\ A∈ℝ^{N\\times M}\n",
        "\\end{align}\n",
        "\\end{split}\n",
        "\n"
      ],
      "metadata": {
        "id": "mXAe-U8okcwj"
      }
    },
    {
      "cell_type": "markdown",
      "source": [
        "\n",
        "### **| 행렬과 행렬의 연산**\n",
        "\n",
        "\n",
        "* 덧셈, 뺄셈\n",
        "\n",
        "\\begin{align}\n",
        "A+(-)B=\n",
        "\\begin{bmatrix}\n",
        "a_{11} \\ \\ \\ a_{12} \\ \\ \\ ... \\ \\ \\ a_{1M} \\\\\n",
        "a_{21} \\ \\ \\ a_{22} \\ \\ \\ ... \\ \\ \\ a_{2M} \\\\\n",
        "... \\ \\ \\ ... \\ \\ \\ ... \\ \\ \\ ... \\\\\n",
        "... \\ \\ \\ ... \\ \\ \\ a_{ij} \\ \\ \\ ... \\\\\n",
        "... \\ \\ \\ ... \\ \\ \\ ... \\ \\ \\ ... \\\\\n",
        "a_{N1} \\ \\ \\ a_{N2} \\ \\ \\ ... \\ \\ \\ a_{NM} \\\\\n",
        "\\end{bmatrix}\n",
        "+(-)\n",
        "\\begin{bmatrix}\n",
        "b_{11} \\ \\ \\ b_{12} \\ \\ \\ ... \\ \\ \\ b_{1M} \\\\\n",
        "b_{21} \\ \\ \\ b_{22} \\ \\ \\ ... \\ \\ \\ b_{2M} \\\\\n",
        "... \\ \\ \\ ... \\ \\ \\ ... \\ \\ \\ ... \\\\\n",
        "... \\ \\ \\ ... \\ \\ \\ b_{ij} \\ \\ \\ ... \\\\\n",
        "... \\ \\ \\ ... \\ \\ \\ ... \\ \\ \\ ... \\\\\n",
        "b_{N1} \\ \\ \\ b_{N2} \\ \\ \\ ... \\ \\ \\ b_{NM} \\\\\n",
        "\\end{bmatrix}\n",
        "\\end{align}\n",
        "\\begin{align}\n",
        "\\\\\n",
        "\\\\\n",
        "A∈ℝ^{N\\times M} \\ \\ \\ \\ B∈ℝ^{N\\times M}\n",
        "\\\\\n",
        "\\\\\n",
        "\\end{align}\n",
        "\n",
        "\n",
        "\n",
        "\n",
        "* 곱셈\n",
        "\n",
        "\\begin{align}\n",
        "\\\\\n",
        "\\\\\n",
        "A \\ \\ \\ \\ \\ \\ \\times \\ \\ \\ \\ \\ \\ B \\ \\ \\ \\ \\ \\ =  \\ \\ \\ \\ \\ C \\\\\n",
        "\\\\\n",
        "ℝ^{N\\times M} \\ \\ \\ \\ \\ \\ \\ \\ \\ ℝ^{M\\times K} \\  \\ \\ \\ \\ \\ \\ \\ ℝ^{N\\times K}\n",
        "\\end{align}"
      ],
      "metadata": {
        "id": "0EBcIIAAxMdY"
      }
    },
    {
      "cell_type": "markdown",
      "source": [
        "\n",
        "\n",
        "\n",
        "### **| 행렬과 벡터의 연산**\n",
        "\n",
        "* 곱셈\n",
        "\n",
        "\\begin{align}\n",
        "\\\\\n",
        "\\\\\n",
        "A \\ \\ \\ \\ \\ \\ \\times \\ \\ \\ \\ \\ \\ 𝐱 \\ \\ \\ \\ \\ \\ =  \\ \\ \\ \\ \\ A𝐱 \\\\\n",
        "\\\\\n",
        "ℝ^{N\\times M} \\ \\ \\ \\ \\ \\ \\ \\ \\ ℝ^{M\\times 1} \\  \\ \\ \\ \\ \\ \\ \\ ℝ^{N\\times 1}\n",
        "\\end{align}\n"
      ],
      "metadata": {
        "id": "HZhNDpognJu2"
      }
    },
    {
      "cell_type": "markdown",
      "source": [
        "#### **예제 06**\n",
        "\n",
        "\\begin{split}\n",
        "\\begin{align}\n",
        "A=\n",
        "\\begin{bmatrix}\n",
        "1 \\ \\ \\ 1 \\ \\ \\ 0 \\ \\ \\ 0 \\\\\n",
        "2 \\ \\ \\ 0 \\ \\ \\ 0 \\ \\ \\ 1 \\\\\n",
        "0 \\ \\ \\ 1 \\ \\ \\ 0 \\ \\ \\ 1 \\\\\n",
        "\\end{bmatrix}\n",
        "\\end{align}\n",
        "\\end{split}"
      ],
      "metadata": {
        "id": "V2gm-pdInTRF"
      }
    },
    {
      "cell_type": "markdown",
      "source": [
        "* $A$를 정의하세요."
      ],
      "metadata": {
        "id": "x6YrqquVnwod"
      }
    },
    {
      "cell_type": "code",
      "source": [
        "A = np.array( [[1,1,0,0],[2,0,0,1],[0,1,0,1]] )\n",
        "A"
      ],
      "metadata": {
        "id": "rff6Ypwanwr1",
        "colab": {
          "base_uri": "https://localhost:8080/"
        },
        "outputId": "356c512a-3af9-45e1-983c-6324d001e200"
      },
      "execution_count": 44,
      "outputs": [
        {
          "output_type": "execute_result",
          "data": {
            "text/plain": [
              "array([[1, 1, 0, 0],\n",
              "       [2, 0, 0, 1],\n",
              "       [0, 1, 0, 1]])"
            ]
          },
          "metadata": {},
          "execution_count": 44
        }
      ]
    },
    {
      "cell_type": "markdown",
      "source": [
        "* $A∈ℝ^{N\\times M}$ 에서 N과 M을 구하세요."
      ],
      "metadata": {
        "id": "oG7p3s9Hnrrl"
      }
    },
    {
      "cell_type": "code",
      "source": [
        "N = 3\n",
        "M = 4"
      ],
      "metadata": {
        "id": "0TxxpqptnUnv"
      },
      "execution_count": 45,
      "outputs": []
    },
    {
      "cell_type": "markdown",
      "source": [
        "#### **예제 07**\n",
        "\n",
        "\\begin{split}\n",
        "\\begin{align}\n",
        "A =\n",
        "\\begin{bmatrix}\n",
        "1 \\ \\ 2 \\ \\ 3 \\\\\n",
        "4 \\ \\ 5 \\ \\ 6 \\\\\n",
        "\\end{bmatrix}\n",
        "B =\n",
        "\\begin{bmatrix}\n",
        "1 \\ \\ 0 \\ \\ 0 \\\\\n",
        "0 \\ \\ 1 \\ \\ 0 \\\\\n",
        "0 \\ \\ 0 \\ \\ 1 \\\\\n",
        "\\end{bmatrix}\n",
        ",\\;\\;\n",
        "𝐱=\n",
        "\\begin{bmatrix}\n",
        "0 \\\\\n",
        "1 \\\\\n",
        "2 \\\\\n",
        "\\end{bmatrix}\n",
        ", \\; c = 2\n",
        "\\end{align}\n",
        "\\end{split}\n",
        "\n",
        "\n"
      ],
      "metadata": {
        "id": "9Y90HqUy4dvT"
      }
    },
    {
      "cell_type": "markdown",
      "source": [
        "* $A, B, 𝐱, c$ 정의하기"
      ],
      "metadata": {
        "id": "797vmDbR4dvZ"
      }
    },
    {
      "cell_type": "code",
      "source": [
        "A = np.array( [ [1,2,3],[4,5,6] ] )\n",
        "B = np.identity(3)\n",
        "x = np.array([ [0],[1],[2] ])\n",
        "c = 2"
      ],
      "metadata": {
        "id": "RSNbZr6_4dvZ"
      },
      "execution_count": 54,
      "outputs": []
    },
    {
      "cell_type": "markdown",
      "source": [
        "* $cAB$ 을 계산하고 ℝ 의 변화를 쓰세요."
      ],
      "metadata": {
        "id": "20HvJyEI4dvZ"
      }
    },
    {
      "cell_type": "code",
      "source": [
        "print(np.dot(c*A, B))\n",
        "N, M = 2,3"
      ],
      "metadata": {
        "id": "5R7wMXjE4dvZ",
        "colab": {
          "base_uri": "https://localhost:8080/"
        },
        "outputId": "7ceeefaa-a823-4a1f-de6d-e4b149ee7c4a"
      },
      "execution_count": 55,
      "outputs": [
        {
          "output_type": "stream",
          "name": "stdout",
          "text": [
            "[[ 2.  4.  6.]\n",
            " [ 8. 10. 12.]]\n"
          ]
        }
      ]
    },
    {
      "cell_type": "markdown",
      "source": [
        "* $AB𝐱$"
      ],
      "metadata": {
        "id": "4r79slHG4dva"
      }
    },
    {
      "cell_type": "code",
      "source": [
        "AB = np.dot(A,B)\n",
        "np.dot(AB, x)"
      ],
      "metadata": {
        "id": "OZZvs-7t4dva",
        "colab": {
          "base_uri": "https://localhost:8080/"
        },
        "outputId": "59809b19-baf2-4982-8700-0f64175e7dec"
      },
      "execution_count": 56,
      "outputs": [
        {
          "output_type": "execute_result",
          "data": {
            "text/plain": [
              "array([[ 8.],\n",
              "       [17.]])"
            ]
          },
          "metadata": {},
          "execution_count": 56
        }
      ]
    },
    {
      "cell_type": "markdown",
      "source": [
        "* $𝐱^TBA^T$ 을 계산하고 ℝ 의 변화를 쓰세요."
      ],
      "metadata": {
        "id": "R7TcJH964dva"
      }
    },
    {
      "cell_type": "code",
      "source": [
        "x.T @ B @ A.T\n",
        "# N = 1 M = 2"
      ],
      "metadata": {
        "id": "BJQtGchi4dva",
        "colab": {
          "base_uri": "https://localhost:8080/"
        },
        "outputId": "1baeb49c-e53b-4129-89bd-f4b73fee0a9d"
      },
      "execution_count": 58,
      "outputs": [
        {
          "output_type": "execute_result",
          "data": {
            "text/plain": [
              "array([[ 8., 17.]])"
            ]
          },
          "metadata": {},
          "execution_count": 58
        }
      ]
    },
    {
      "cell_type": "markdown",
      "source": [
        "#### **예제 08**\n",
        "\n",
        "행렬 $A$가 다음과 같이 주어졌을 때 $AB$ 행렬이 각 shape를 만족하도록 $B$를 정의하세요. 단 $B$의 값은 1부터 5까지 랜덤 정수 입니다.\n",
        "\n",
        "\\begin{split}\n",
        "\\begin{align}\n",
        "A =\n",
        "\\begin{bmatrix}\n",
        "1 \\ \\ 1 \\ \\ 1 \\ \\ 1 \\\\\n",
        "2 \\ \\ 2 \\ \\ 2 \\ \\ 2 \\\\\n",
        "\\end{bmatrix}\n",
        "\\end{align}\n",
        "\\end{split}\n",
        "\n",
        "\n",
        "\n",
        "\n"
      ],
      "metadata": {
        "id": "flJGa8_N6b3c"
      }
    },
    {
      "cell_type": "markdown",
      "source": [
        "* $A$ 정의하기"
      ],
      "metadata": {
        "id": "9z6pk6Ks6b3c"
      }
    },
    {
      "cell_type": "code",
      "source": [
        "A = np.array([1,1,1,1,2,2,2,2]).reshape(2,4)\n",
        "A"
      ],
      "metadata": {
        "id": "Y1rLUk0W7K91",
        "colab": {
          "base_uri": "https://localhost:8080/"
        },
        "outputId": "0e729a24-0ddb-4fba-8317-dfe09023bf5b"
      },
      "execution_count": 71,
      "outputs": [
        {
          "output_type": "execute_result",
          "data": {
            "text/plain": [
              "array([[1, 1, 1, 1],\n",
              "       [2, 2, 2, 2]])"
            ]
          },
          "metadata": {},
          "execution_count": 71
        }
      ]
    },
    {
      "cell_type": "markdown",
      "source": [
        "* $AB \\in ℝ^{2\\times5}$ 일 때 $B$를 정의하고 $AB$를 계산하세요."
      ],
      "metadata": {
        "id": "axa7c9zM7LBW"
      }
    },
    {
      "cell_type": "code",
      "source": [
        "B = np.random.randint(1,2,(4,5))\n",
        "A@B"
      ],
      "metadata": {
        "id": "MNLM4rsJ7SC3",
        "colab": {
          "base_uri": "https://localhost:8080/"
        },
        "outputId": "973cebab-663d-486d-9672-1f7721dfca8f"
      },
      "execution_count": 61,
      "outputs": [
        {
          "output_type": "execute_result",
          "data": {
            "text/plain": [
              "array([[4, 4, 4, 4, 4],\n",
              "       [8, 8, 8, 8, 8]])"
            ]
          },
          "metadata": {},
          "execution_count": 61
        }
      ]
    },
    {
      "cell_type": "markdown",
      "source": [
        "* $AB \\in ℝ^{2\\times3}$ 일 때 $B$를 정의하고 $AB$를 계산하세요."
      ],
      "metadata": {
        "id": "K5lR-8Gq7Zbr"
      }
    },
    {
      "cell_type": "code",
      "source": [
        "B = np.random.randint(1,2,(4,3))\n",
        "A@B"
      ],
      "metadata": {
        "id": "kTv6QWNf7Zbs",
        "colab": {
          "base_uri": "https://localhost:8080/"
        },
        "outputId": "8d326397-d9c5-4544-f31c-6f8c9a17e0d1"
      },
      "execution_count": 62,
      "outputs": [
        {
          "output_type": "execute_result",
          "data": {
            "text/plain": [
              "array([[4, 4, 4],\n",
              "       [8, 8, 8]])"
            ]
          },
          "metadata": {},
          "execution_count": 62
        }
      ]
    },
    {
      "cell_type": "markdown",
      "source": [
        "* $AB \\in ℝ^{2\\times1}$ 일 때 $B$를 정의하고 $AB$를 계산하세요."
      ],
      "metadata": {
        "id": "6T1Z7a2o7dtb"
      }
    },
    {
      "cell_type": "code",
      "source": [
        "B = np.random.randint(1,2,(4,1))\n",
        "A@B"
      ],
      "metadata": {
        "id": "B8CfyOpY7dtc",
        "colab": {
          "base_uri": "https://localhost:8080/"
        },
        "outputId": "3b8b6853-26f0-4c5a-ede0-d9f938d0cdfc"
      },
      "execution_count": 63,
      "outputs": [
        {
          "output_type": "execute_result",
          "data": {
            "text/plain": [
              "array([[4],\n",
              "       [8]])"
            ]
          },
          "metadata": {},
          "execution_count": 63
        }
      ]
    },
    {
      "cell_type": "markdown",
      "source": [
        "* $A$와 $M$ 두개의 값을 인풋으로 하면 $AB \\in ℝ^{N\\times M}$를 만족하는 랜덤행렬 $B$를 반환하도록 함수 `random_weights`를 생성하세요."
      ],
      "metadata": {
        "id": "VdV80fUjrbRi"
      }
    },
    {
      "cell_type": "code",
      "source": [
        "A.shape[1]"
      ],
      "metadata": {
        "colab": {
          "base_uri": "https://localhost:8080/"
        },
        "id": "cEX2PDlB81j0",
        "outputId": "4a3a4762-12b4-4dc0-ad2f-62b70ec73529"
      },
      "execution_count": 66,
      "outputs": [
        {
          "output_type": "execute_result",
          "data": {
            "text/plain": [
              "4"
            ]
          },
          "metadata": {},
          "execution_count": 66
        }
      ]
    },
    {
      "cell_type": "code",
      "source": [
        "def random_weights(A,M) : \n",
        "  return np.random.randint(1,2, (A.shape[1],M) )"
      ],
      "metadata": {
        "id": "B6Qflg8WsON9"
      },
      "execution_count": 73,
      "outputs": []
    },
    {
      "cell_type": "markdown",
      "source": [
        "* 함수 사용 예시"
      ],
      "metadata": {
        "id": "qsmTEg4vwabg"
      }
    },
    {
      "cell_type": "code",
      "source": [
        "B = random_weights(A, 3)\n",
        "print(A.shape, B.shape, (A@B).shape)"
      ],
      "metadata": {
        "colab": {
          "base_uri": "https://localhost:8080/"
        },
        "id": "7_HakKX_u41-",
        "outputId": "25c7c932-0bb0-4ae4-8aad-613bdce1f70f"
      },
      "execution_count": 75,
      "outputs": [
        {
          "output_type": "stream",
          "name": "stdout",
          "text": [
            "(2, 4) (4, 3) (2, 3)\n"
          ]
        }
      ]
    },
    {
      "cell_type": "code",
      "source": [
        ""
      ],
      "metadata": {
        "id": "sZJ9q4f9oa_a"
      },
      "execution_count": null,
      "outputs": []
    }
  ]
}