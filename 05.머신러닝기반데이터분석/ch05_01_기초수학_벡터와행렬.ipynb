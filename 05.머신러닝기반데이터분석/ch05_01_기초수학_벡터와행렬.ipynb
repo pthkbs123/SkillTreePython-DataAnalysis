{
  "nbformat": 4,
  "nbformat_minor": 0,
  "metadata": {
    "colab": {
      "name": "ch05_01_기초수학-벡터와행렬.ipynb",
      "provenance": [],
      "collapsed_sections": [],
      "authorship_tag": "ABX9TyPG54PV3GQZkxTS9s4xVlDd",
      "include_colab_link": true
    },
    "kernelspec": {
      "name": "python3",
      "display_name": "Python 3"
    },
    "language_info": {
      "name": "python"
    }
  },
  "cells": [
    {
      "cell_type": "markdown",
      "metadata": {
        "id": "view-in-github",
        "colab_type": "text"
      },
      "source": [
        "<a href=\"https://colab.research.google.com/github/yebiny/SkillTreePython-DataAnalysis/blob/main/05.%EB%A8%B8%EC%8B%A0%EB%9F%AC%EB%8B%9D%EA%B8%B0%EB%B0%98%EB%8D%B0%EC%9D%B4%ED%84%B0%EB%B6%84%EC%84%9D/ch05_01_%EA%B8%B0%EC%B4%88%EC%88%98%ED%95%99_%EB%B2%A1%ED%84%B0%EC%99%80%ED%96%89%EB%A0%AC.ipynb\" target=\"_parent\"><img src=\"https://colab.research.google.com/assets/colab-badge.svg\" alt=\"Open In Colab\"/></a>"
      ]
    },
    {
      "cell_type": "markdown",
      "source": [
        "# ch05.01. 기초수학 - 벡터와 행렬\n",
        "---\n",
        "* 날짜:\n",
        "* 이름:\n",
        "\n",
        "## 학습내용\n",
        "    - 스칼라, 벡터, 행렬에 대한 기본 개념을 배운다\n",
        "    - 벡터의 연산에 대해 이해한다\n",
        "    - 행렬의 연산에 대해 이해한다.\n",
        "\n",
        "\n",
        "**라이브러리 임포트**\n",
        "```\n",
        "import numpy as np\n",
        "import matplotlib.pyplot as plt\n",
        "```\n"
      ],
      "metadata": {
        "id": "wWpXZc2fi39U"
      }
    },
    {
      "cell_type": "code",
      "source": [
        ""
      ],
      "metadata": {
        "id": "Yy0fwqVsVbYr"
      },
      "execution_count": null,
      "outputs": []
    },
    {
      "cell_type": "markdown",
      "source": [
        "## 스칼라\n",
        "---\n",
        "\n",
        "* Zeros-order Tensor Operations\n",
        "\n",
        "\n",
        "\\begin{split}\n",
        "\\begin{align}\n",
        "\\ \\ a, b ∈ℝ\n",
        "\\\\\n",
        "\\end{align}\n",
        "\\end{split}\n",
        "\n",
        "\\begin{align}\n",
        "\\\\\n",
        "\\end{align}\n",
        "### **| 스칼라 연산**\n",
        "\n",
        "\\begin{split}\n",
        "\\begin{align}\n",
        "\\\\ a+b ∈ℝ \n",
        "\\\\ a-b ∈ℝ\n",
        "\\\\ a×b ∈ℝ\n",
        "\\end{align}\n",
        "\\end{split}"
      ],
      "metadata": {
        "id": "ezw1TJA2kO_a"
      }
    },
    {
      "cell_type": "markdown",
      "source": [
        "## 벡터\n",
        "---\n",
        "* First-order Tensor Operation\n",
        "\n",
        "\n",
        "\\begin{split}\n",
        "\\begin{align}\n",
        "𝐱 =\n",
        "\\begin{bmatrix}\n",
        "x_1 \\\\\n",
        "x_2 \\\\\n",
        "... \\\\\n",
        "x_N \\\\\n",
        "\\end{bmatrix}\n",
        ", \\ \\ \\ \n",
        "𝐱^T =[ x_1, x_2, ..., x_N]\n",
        "\\ \\ \\, ∈ℝ^N \\ (ℝ^{N\\times 1})\n",
        "\\end{align}\n",
        "\\end{split}\n"
      ],
      "metadata": {
        "id": "UUCK0XLTkciq"
      }
    },
    {
      "cell_type": "markdown",
      "source": [
        "\n",
        "### **| 벡터와 벡터의 연산**\n",
        "\n",
        "\\begin{split}\n",
        "\\begin{align}\n",
        "𝐱 + 𝐲 =\n",
        "\\begin{bmatrix}\n",
        "x_1 \\\\\n",
        "x_2 \\\\\n",
        "... \\\\\n",
        "x_N \\\\\n",
        "\\end{bmatrix}\n",
        "+\n",
        "\\begin{bmatrix}\n",
        "y_1 \\\\\n",
        "y_2 \\\\\n",
        "... \\\\\n",
        "y_N \\\\\n",
        "\\end{bmatrix}\n",
        "=\n",
        "\\begin{bmatrix}\n",
        "x_1 + y_1 \\\\\n",
        "x_2 + y_2  \\\\\n",
        "... \\\\\n",
        "x_N + y_N \\\\\n",
        "\\end{bmatrix}\n",
        "\\end{align}\n",
        "\\end{split}\n",
        "\n",
        "\\\\\n",
        "\n",
        "\\begin{split}\n",
        "\\begin{align}\n",
        "𝐱 - 𝐲 =\n",
        "\\begin{bmatrix}\n",
        "x_1 \\\\\n",
        "x_2 \\\\\n",
        "... \\\\\n",
        "x_N \\\\\n",
        "\\end{bmatrix}\n",
        "-\n",
        "\\begin{bmatrix}\n",
        "y_1 \\\\\n",
        "y_2 \\\\\n",
        "... \\\\\n",
        "y_N \\\\\n",
        "\\end{bmatrix}\n",
        "=\n",
        "\\begin{bmatrix}\n",
        "x_1 - y_1 \\\\\n",
        "x_2 - y_2  \\\\\n",
        "... \\\\\n",
        "x_N - y_N \\\\\n",
        "\\end{bmatrix}\n",
        "\\end{align}\n",
        "\\end{split}\n",
        "\n",
        "\\\\\n",
        "\n",
        "\\begin{split}\n",
        "\\begin{align}\n",
        "𝐱^T𝐲 = 𝐱^T ⋅ 𝐲 = <𝐱,𝐲> = \n",
        "\\begin{bmatrix}\n",
        "x_{1} & x_{2} & \\cdots & x_{N} \n",
        "\\end{bmatrix}\n",
        "\\begin{bmatrix}\n",
        "y_{1} \\\\\n",
        "y_{2} \\\\\n",
        "\\vdots \\\\\n",
        "y_{N} \\\\\n",
        "\\end{bmatrix} \n",
        "= x_1 y_1 + \\cdots + x_N y_N \n",
        "=\\sum_{i=1}^N x_i y_i\n",
        "\\end{align}\n",
        "\\end{split}\n",
        "\\\\\n",
        "\n"
      ],
      "metadata": {
        "id": "AHjhQ01OpmpX"
      }
    },
    {
      "cell_type": "markdown",
      "source": [
        "#### **예제 01**\n",
        "\n",
        "\\begin{split}\n",
        "\\begin{align}\n",
        "𝐱=\n",
        "\\begin{bmatrix}\n",
        "2 \\\\\n",
        "1 \\\\\n",
        "2 \\\\\n",
        "0 \\\\\n",
        "\\end{bmatrix}\n",
        ",\\;\\;\n",
        "𝐲=\n",
        "\\begin{bmatrix}\n",
        "1 \\\\\n",
        "1 \\\\\n",
        "2 \\\\\n",
        "4 \\\\\n",
        "\\end{bmatrix}\n",
        "\\end{align}\n",
        "\\end{split}"
      ],
      "metadata": {
        "id": "QWNt0MEpeoqr"
      }
    },
    {
      "cell_type": "code",
      "source": [
        "# 정확한 표현\n",
        "\n",
        "\n",
        "# 편의상 표현\n"
      ],
      "metadata": {
        "id": "1MBfp-kcehla"
      },
      "execution_count": null,
      "outputs": []
    },
    {
      "cell_type": "markdown",
      "source": [
        "#### **예제 02**\n",
        "\n",
        "**예제 01**의 𝐱, 𝐲 에 대해 다음 연산을 진행하세요.\n",
        "\n",
        "* 𝐱 + 𝐲\n",
        "* 𝐱 - 𝐲\n",
        "* 𝐱 ⋅ 𝐲\n",
        "* 𝐱𝐲 (넘파이 브로드 케스팅 연산)"
      ],
      "metadata": {
        "id": "PHx6e1fVhtDh"
      }
    },
    {
      "cell_type": "code",
      "source": [
        ""
      ],
      "metadata": {
        "id": "tBSVL92Jd1v7"
      },
      "execution_count": null,
      "outputs": []
    },
    {
      "cell_type": "markdown",
      "source": [
        "\n",
        "### **| 벡터와 스칼라의 연산**\n",
        "\n",
        "\\begin{split}\n",
        "\\begin{align}\n",
        "c𝐱 =\n",
        "c\n",
        "\\begin{bmatrix}\n",
        "x_1 \\\\\n",
        "x_2 \\\\\n",
        "... \\\\\n",
        "x_N \\\\\n",
        "\\end{bmatrix}\n",
        "=\n",
        "\\begin{bmatrix}\n",
        "cx_1  \\\\\n",
        "cx_2  \\\\\n",
        "... \\\\\n",
        "cx_N  \\\\\n",
        "\\end{bmatrix}\n",
        "\\end{align}\n",
        "\\end{split}\n",
        "\n",
        "\n",
        "* 브로드 캐스팅\n",
        "\n",
        "원래 덧셈과 뺄셈은 크기가 같은 두 벡터에 대해서만 할 수 있지만 벡터와 스칼라의 경우에는 관례적으로 다음과 같이 스칼라 값을 벡터로 변환하여 연산을 수행합니다.  이를 브로드 캐스팅(broad casting) 이라고 합니다.\n",
        "\n",
        "\\begin{split}\n",
        "\\begin{align}\n",
        "c+𝐱 =\n",
        "\\begin{bmatrix}\n",
        "c \\\\\n",
        "c \\\\\n",
        "... \\\\\n",
        "c \\\\\n",
        "\\end{bmatrix}\n",
        "+\n",
        "\\begin{bmatrix}\n",
        "x_1 \\\\\n",
        "x_2 \\\\\n",
        "... \\\\\n",
        "x_N \\\\\n",
        "\\end{bmatrix}\n",
        "=\n",
        "\\begin{bmatrix}\n",
        "c+x_1  \\\\\n",
        "c+x_2  \\\\\n",
        "... \\\\\n",
        "c+x_N  \\\\\n",
        "\\end{bmatrix}\n",
        "\\end{align}\n",
        "\\end{split}\n",
        "\n",
        "\\\\\n",
        "\n",
        "\\begin{split}\n",
        "\\begin{align}\n",
        "c-𝐱 =\n",
        "\\begin{bmatrix}\n",
        "c \\\\\n",
        "c \\\\\n",
        "... \\\\\n",
        "c \\\\\n",
        "\\end{bmatrix}\n",
        "-\n",
        "\\begin{bmatrix}\n",
        "x_1 \\\\\n",
        "x_2 \\\\\n",
        "... \\\\\n",
        "x_N \\\\\n",
        "\\end{bmatrix}\n",
        "=\n",
        "\\begin{bmatrix}\n",
        "c-x_1  \\\\\n",
        "c-x_2  \\\\\n",
        "... \\\\\n",
        "c-x_N  \\\\\n",
        "\\end{bmatrix}\n",
        "\\end{align}\n",
        "\\end{split}"
      ],
      "metadata": {
        "id": "i7AO2yCypuOf"
      }
    },
    {
      "cell_type": "markdown",
      "source": [
        "#### **예제 03**\n",
        "\n",
        "\\begin{split}\n",
        "\\begin{align}\n",
        "𝐱=\n",
        "\\begin{bmatrix}\n",
        "10 \\\\\n",
        "11 \\\\\n",
        "12 \\\\\n",
        "\\end{bmatrix}\n",
        ",\\;\\;\n",
        "𝐲=\n",
        "\\begin{bmatrix}\n",
        "0 \\\\\n",
        "1 \\\\\n",
        "2 \\\\\n",
        "\\end{bmatrix}\n",
        ", \\; c = 2\n",
        "\\end{align}\n",
        "\\end{split}\n",
        "\n",
        "\n"
      ],
      "metadata": {
        "id": "gn41v88LmJZ6"
      }
    },
    {
      "cell_type": "markdown",
      "source": [
        "* 𝐱, 𝐲, c 정의하기"
      ],
      "metadata": {
        "id": "qHbUVtFiq-JG"
      }
    },
    {
      "cell_type": "code",
      "source": [
        ""
      ],
      "metadata": {
        "id": "3bzsd-1Jkciq"
      },
      "execution_count": null,
      "outputs": []
    },
    {
      "cell_type": "markdown",
      "source": [
        "* $c𝐱-𝐲$ "
      ],
      "metadata": {
        "id": "jJVfzPRFrDUu"
      }
    },
    {
      "cell_type": "code",
      "source": [
        ""
      ],
      "metadata": {
        "id": "q9gQ6Ri8rFRO"
      },
      "execution_count": null,
      "outputs": []
    },
    {
      "cell_type": "markdown",
      "source": [
        "* $𝐱^T𝐲$"
      ],
      "metadata": {
        "id": "J-446sswrFWZ"
      }
    },
    {
      "cell_type": "code",
      "source": [
        ""
      ],
      "metadata": {
        "id": "IUGkyIhvrL_u"
      },
      "execution_count": null,
      "outputs": []
    },
    {
      "cell_type": "markdown",
      "source": [
        "* $2c𝐱+𝐲$"
      ],
      "metadata": {
        "id": "oASdmAl5rd0Y"
      }
    },
    {
      "cell_type": "code",
      "source": [
        ""
      ],
      "metadata": {
        "id": "1cXlopvwrlRm"
      },
      "execution_count": null,
      "outputs": []
    },
    {
      "cell_type": "markdown",
      "source": [
        "#### **예제 04**\n",
        "\n",
        "도매로 A, B, C 세개의 물건을 사려 하는데 한 박스당 각각 10만원, 12만원, 20만원입니다. 각각 총 5박스, 8박스, 4박스를 사려고 합니다. \n",
        "\n",
        "(1) 박스가격과 구매 수량을 각각 p 벡터, n 벡터로 표시하고 넘파이로 코딩합니다.\n",
        "\n",
        "(2) 물건을 구입할 때 드는 총 비용을 계산하세요."
      ],
      "metadata": {
        "id": "kDj3EemGsDkA"
      }
    },
    {
      "cell_type": "code",
      "source": [
        ""
      ],
      "metadata": {
        "id": "R3NDw23HsDry"
      },
      "execution_count": null,
      "outputs": []
    },
    {
      "cell_type": "markdown",
      "source": [
        "#### **예제 05**\n",
        "\n",
        "(1) 국어, 수학, 사회, 과학, 영어 의 시험 성적이 각각 70, 100, 90, 70, 50 입니다. 성적을 벡터 x 로 표시하고 넘파이로 코딩합니다.\n",
        "\n",
        "(2) 문과에서 과목별 가중치는 각각 0.25, 0.2, 0.2, 0.1, 0.25 입니다. 가중치를 벡터 w1 로 표시하고 넘파이로 코딩합니다.\n",
        "\n",
        "(3) 이과에서 과목별 가중치는 각각 0.15, 0.4, 0.1, 0.2, 0.15 입니다. 가중치를 벡터 w2 로 표시하고 넘파이로 코딩합니다.\n",
        "\n",
        "(4) 문과 가중치와 이과 가중치를 적용해서 성적의 총합을 계산하고 어떤 과를 가는게 유리한지 적으세요."
      ],
      "metadata": {
        "id": "xazFR86esvwl"
      }
    },
    {
      "cell_type": "code",
      "source": [
        ""
      ],
      "metadata": {
        "id": "w7qzzN3Hsvwr"
      },
      "execution_count": null,
      "outputs": []
    },
    {
      "cell_type": "markdown",
      "source": [
        "## 행렬\n",
        "---\n",
        "\n",
        "* Second-order Tensor Operation\n",
        "\n",
        "\\begin{split}\n",
        "\\begin{align}\n",
        "A=\n",
        "\\begin{bmatrix}\n",
        "a_{11} \\ \\ \\ a_{12} \\ \\ \\ ... \\ \\ \\ a_{1M} \\\\\n",
        "a_{21} \\ \\ \\ a_{22} \\ \\ \\ ... \\ \\ \\ a_{2M} \\\\\n",
        "... \\ \\ \\ ... \\ \\ \\ ... \\ \\ \\ ... \\\\\n",
        "... \\ \\ \\ ... \\ \\ \\ a_{ij} \\ \\ \\ ... \\\\\n",
        "... \\ \\ \\ ... \\ \\ \\ ... \\ \\ \\ ... \\\\\n",
        "a_{N1} \\ \\ \\ a_{N2} \\ \\ \\ ... \\ \\ \\ a_{NM} \\\\\n",
        "\\end{bmatrix}\n",
        "\\ \\ , \\ \\ A∈ℝ^{N\\times M}\n",
        "\\end{align}\n",
        "\\end{split}\n",
        "\n"
      ],
      "metadata": {
        "id": "mXAe-U8okcwj"
      }
    },
    {
      "cell_type": "markdown",
      "source": [
        "\n",
        "### **| 행렬과 행렬의 연산**\n",
        "\n",
        "\n",
        "* 덧셈, 뺄셈\n",
        "\n",
        "\\begin{align}\n",
        "A+(-)B=\n",
        "\\begin{bmatrix}\n",
        "a_{11} \\ \\ \\ a_{12} \\ \\ \\ ... \\ \\ \\ a_{1M} \\\\\n",
        "a_{21} \\ \\ \\ a_{22} \\ \\ \\ ... \\ \\ \\ a_{2M} \\\\\n",
        "... \\ \\ \\ ... \\ \\ \\ ... \\ \\ \\ ... \\\\\n",
        "... \\ \\ \\ ... \\ \\ \\ a_{ij} \\ \\ \\ ... \\\\\n",
        "... \\ \\ \\ ... \\ \\ \\ ... \\ \\ \\ ... \\\\\n",
        "a_{N1} \\ \\ \\ a_{N2} \\ \\ \\ ... \\ \\ \\ a_{NM} \\\\\n",
        "\\end{bmatrix}\n",
        "+(-)\n",
        "\\begin{bmatrix}\n",
        "b_{11} \\ \\ \\ b_{12} \\ \\ \\ ... \\ \\ \\ b_{1M} \\\\\n",
        "b_{21} \\ \\ \\ b_{22} \\ \\ \\ ... \\ \\ \\ b_{2M} \\\\\n",
        "... \\ \\ \\ ... \\ \\ \\ ... \\ \\ \\ ... \\\\\n",
        "... \\ \\ \\ ... \\ \\ \\ b_{ij} \\ \\ \\ ... \\\\\n",
        "... \\ \\ \\ ... \\ \\ \\ ... \\ \\ \\ ... \\\\\n",
        "b_{N1} \\ \\ \\ b_{N2} \\ \\ \\ ... \\ \\ \\ b_{NM} \\\\\n",
        "\\end{bmatrix}\n",
        "\\end{align}\n",
        "\\begin{align}\n",
        "\\\\\n",
        "\\\\\n",
        "A∈ℝ^{N\\times M} \\ \\ \\ \\ B∈ℝ^{N\\times M}\n",
        "\\\\\n",
        "\\\\\n",
        "\\end{align}\n",
        "\n",
        "\n",
        "\n",
        "\n",
        "* 곱셈\n",
        "\n",
        "\\begin{align}\n",
        "\\\\\n",
        "\\\\\n",
        "A \\ \\ \\ \\ \\ \\ \\times \\ \\ \\ \\ \\ \\ B \\ \\ \\ \\ \\ \\ =  \\ \\ \\ \\ \\ C \\\\\n",
        "\\\\\n",
        "ℝ^{N\\times M} \\ \\ \\ \\ \\ \\ \\ \\ \\ ℝ^{M\\times K} \\  \\ \\ \\ \\ \\ \\ \\ ℝ^{N\\times K}\n",
        "\\end{align}"
      ],
      "metadata": {
        "id": "0EBcIIAAxMdY"
      }
    },
    {
      "cell_type": "markdown",
      "source": [
        "\n",
        "\n",
        "\n",
        "### **| 행렬과 벡터의 연산**\n",
        "\n",
        "* 곱셈\n",
        "\n",
        "\\begin{align}\n",
        "\\\\\n",
        "\\\\\n",
        "A \\ \\ \\ \\ \\ \\ \\times \\ \\ \\ \\ \\ \\ 𝐱 \\ \\ \\ \\ \\ \\ =  \\ \\ \\ \\ \\ A𝐱 \\\\\n",
        "\\\\\n",
        "ℝ^{N\\times M} \\ \\ \\ \\ \\ \\ \\ \\ \\ ℝ^{M\\times 1} \\  \\ \\ \\ \\ \\ \\ \\ ℝ^{N\\times 1}\n",
        "\\end{align}\n"
      ],
      "metadata": {
        "id": "HZhNDpognJu2"
      }
    },
    {
      "cell_type": "markdown",
      "source": [
        "#### **예제 06**\n",
        "\n",
        "\\begin{split}\n",
        "\\begin{align}\n",
        "A=\n",
        "\\begin{bmatrix}\n",
        "1 \\ \\ \\ 1 \\ \\ \\ 0 \\ \\ \\ 0 \\\\\n",
        "2 \\ \\ \\ 0 \\ \\ \\ 0 \\ \\ \\ 1 \\\\\n",
        "0 \\ \\ \\ 1 \\ \\ \\ 0 \\ \\ \\ 1 \\\\\n",
        "\\end{bmatrix}\n",
        "\\end{align}\n",
        "\\end{split}"
      ],
      "metadata": {
        "id": "V2gm-pdInTRF"
      }
    },
    {
      "cell_type": "markdown",
      "source": [
        "* $A$를 정의하세요."
      ],
      "metadata": {
        "id": "x6YrqquVnwod"
      }
    },
    {
      "cell_type": "code",
      "source": [
        ""
      ],
      "metadata": {
        "id": "rff6Ypwanwr1"
      },
      "execution_count": null,
      "outputs": []
    },
    {
      "cell_type": "markdown",
      "source": [
        "* $A∈ℝ^{N\\times M}$ 에서 N과 M을 구하세요."
      ],
      "metadata": {
        "id": "oG7p3s9Hnrrl"
      }
    },
    {
      "cell_type": "code",
      "source": [
        ""
      ],
      "metadata": {
        "id": "0TxxpqptnUnv"
      },
      "execution_count": null,
      "outputs": []
    },
    {
      "cell_type": "markdown",
      "source": [
        "#### **예제 07**\n",
        "\n",
        "\\begin{split}\n",
        "\\begin{align}\n",
        "A =\n",
        "\\begin{bmatrix}\n",
        "1 \\ \\ 2 \\ \\ 3 \\\\\n",
        "4 \\ \\ 5 \\ \\ 6 \\\\\n",
        "\\end{bmatrix}\n",
        "B =\n",
        "\\begin{bmatrix}\n",
        "1 \\ \\ 0 \\ \\ 0 \\\\\n",
        "0 \\ \\ 1 \\ \\ 0 \\\\\n",
        "0 \\ \\ 0 \\ \\ 1 \\\\\n",
        "\\end{bmatrix}\n",
        ",\\;\\;\n",
        "𝐱=\n",
        "\\begin{bmatrix}\n",
        "0 \\\\\n",
        "1 \\\\\n",
        "2 \\\\\n",
        "\\end{bmatrix}\n",
        ", \\; c = 2\n",
        "\\end{align}\n",
        "\\end{split}\n",
        "\n",
        "\n"
      ],
      "metadata": {
        "id": "9Y90HqUy4dvT"
      }
    },
    {
      "cell_type": "markdown",
      "source": [
        "* $A, B, 𝐱, c$ 정의하기"
      ],
      "metadata": {
        "id": "797vmDbR4dvZ"
      }
    },
    {
      "cell_type": "code",
      "source": [
        ""
      ],
      "metadata": {
        "id": "RSNbZr6_4dvZ"
      },
      "execution_count": null,
      "outputs": []
    },
    {
      "cell_type": "markdown",
      "source": [
        "* $cAB$ 을 계산하고 ℝ 의 변화를 쓰세요."
      ],
      "metadata": {
        "id": "20HvJyEI4dvZ"
      }
    },
    {
      "cell_type": "code",
      "source": [
        ""
      ],
      "metadata": {
        "id": "5R7wMXjE4dvZ"
      },
      "execution_count": null,
      "outputs": []
    },
    {
      "cell_type": "markdown",
      "source": [
        "* $AB𝐱$"
      ],
      "metadata": {
        "id": "4r79slHG4dva"
      }
    },
    {
      "cell_type": "code",
      "source": [
        ""
      ],
      "metadata": {
        "id": "OZZvs-7t4dva"
      },
      "execution_count": null,
      "outputs": []
    },
    {
      "cell_type": "markdown",
      "source": [
        "* $𝐱^TBA^T$ 을 계산하고 ℝ 의 변화를 쓰세요."
      ],
      "metadata": {
        "id": "R7TcJH964dva"
      }
    },
    {
      "cell_type": "code",
      "source": [
        ""
      ],
      "metadata": {
        "id": "BJQtGchi4dva"
      },
      "execution_count": null,
      "outputs": []
    },
    {
      "cell_type": "markdown",
      "source": [
        "#### **예제 08**\n",
        "\n",
        "행렬 $A$가 다음과 같이 주어졌을 때 $AB$ 행렬이 각 shape를 만족하도록 $B$를 정의하세요. 단 $B$의 값은 1부터 5까지 랜덤 정수 입니다.\n",
        "\n",
        "\\begin{split}\n",
        "\\begin{align}\n",
        "A =\n",
        "\\begin{bmatrix}\n",
        "1 \\ \\ 1 \\ \\ 1 \\ \\ 1 \\\\\n",
        "2 \\ \\ 2 \\ \\ 2 \\ \\ 2 \\\\\n",
        "\\end{bmatrix}\n",
        "\\end{align}\n",
        "\\end{split}\n",
        "\n",
        "\n",
        "\n",
        "\n"
      ],
      "metadata": {
        "id": "flJGa8_N6b3c"
      }
    },
    {
      "cell_type": "markdown",
      "source": [
        "* $A$ 정의하기"
      ],
      "metadata": {
        "id": "9z6pk6Ks6b3c"
      }
    },
    {
      "cell_type": "code",
      "source": [
        ""
      ],
      "metadata": {
        "id": "Y1rLUk0W7K91"
      },
      "execution_count": null,
      "outputs": []
    },
    {
      "cell_type": "markdown",
      "source": [
        "* $AB \\in ℝ^{2\\times5}$ 일 때 $B$를 정의하고 $AB$를 계산하세요."
      ],
      "metadata": {
        "id": "axa7c9zM7LBW"
      }
    },
    {
      "cell_type": "code",
      "source": [
        ""
      ],
      "metadata": {
        "id": "MNLM4rsJ7SC3"
      },
      "execution_count": null,
      "outputs": []
    },
    {
      "cell_type": "markdown",
      "source": [
        "* $AB \\in ℝ^{2\\times3}$ 일 때 $B$를 정의하고 $AB$를 계산하세요."
      ],
      "metadata": {
        "id": "K5lR-8Gq7Zbr"
      }
    },
    {
      "cell_type": "code",
      "source": [
        ""
      ],
      "metadata": {
        "id": "kTv6QWNf7Zbs"
      },
      "execution_count": null,
      "outputs": []
    },
    {
      "cell_type": "markdown",
      "source": [
        "* $AB \\in ℝ^{2\\times1}$ 일 때 $B$를 정의하고 $AB$를 계산하세요."
      ],
      "metadata": {
        "id": "6T1Z7a2o7dtb"
      }
    },
    {
      "cell_type": "code",
      "source": [
        ""
      ],
      "metadata": {
        "id": "B8CfyOpY7dtc"
      },
      "execution_count": null,
      "outputs": []
    },
    {
      "cell_type": "markdown",
      "source": [
        "* $A$와 $M$ 두개의 값을 인풋으로 하면 $AB \\in ℝ^{N\\times M}$를 만족하는 랜덤행렬 $B$를 반환하도록 함수 `random_weights`를 생성하세요."
      ],
      "metadata": {
        "id": "VdV80fUjrbRi"
      }
    },
    {
      "cell_type": "code",
      "source": [
        ""
      ],
      "metadata": {
        "id": "B6Qflg8WsON9"
      },
      "execution_count": null,
      "outputs": []
    },
    {
      "cell_type": "markdown",
      "source": [
        "* 함수 사용 예시"
      ],
      "metadata": {
        "id": "qsmTEg4vwabg"
      }
    },
    {
      "cell_type": "code",
      "source": [
        "B = random_weights(A, 5)\n",
        "print(A.shape, B.shape, (A@B).shape)"
      ],
      "metadata": {
        "colab": {
          "base_uri": "https://localhost:8080/"
        },
        "id": "7_HakKX_u41-",
        "outputId": "5cc7f1f7-12da-4d35-d0f5-3ae3df4089ed"
      },
      "execution_count": null,
      "outputs": [
        {
          "output_type": "stream",
          "name": "stdout",
          "text": [
            "(2, 4) (4, 5) (2, 5)\n"
          ]
        }
      ]
    },
    {
      "cell_type": "code",
      "source": [
        ""
      ],
      "metadata": {
        "id": "sZJ9q4f9oa_a"
      },
      "execution_count": null,
      "outputs": []
    }
  ]
}