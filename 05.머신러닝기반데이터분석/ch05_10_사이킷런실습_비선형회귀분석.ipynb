{
  "nbformat": 4,
  "nbformat_minor": 0,
  "metadata": {
    "colab": {
      "name": "ch05_10_사이킷런실습_비선형회귀분석.ipynb",
      "provenance": [],
      "collapsed_sections": [],
      "include_colab_link": true
    },
    "kernelspec": {
      "name": "python3",
      "display_name": "Python 3"
    },
    "language_info": {
      "name": "python"
    }
  },
  "cells": [
    {
      "cell_type": "markdown",
      "metadata": {
        "id": "view-in-github",
        "colab_type": "text"
      },
      "source": [
        "<a href=\"https://colab.research.google.com/github/pthkbs123/SkillTreePython-DataAnalysis/blob/main/05.%EB%A8%B8%EC%8B%A0%EB%9F%AC%EB%8B%9D%EA%B8%B0%EB%B0%98%EB%8D%B0%EC%9D%B4%ED%84%B0%EB%B6%84%EC%84%9D/ch05_10_%EC%82%AC%EC%9D%B4%ED%82%B7%EB%9F%B0%EC%8B%A4%EC%8A%B5_%EB%B9%84%EC%84%A0%ED%98%95%ED%9A%8C%EA%B7%80%EB%B6%84%EC%84%9D.ipynb\" target=\"_parent\"><img src=\"https://colab.research.google.com/assets/colab-badge.svg\" alt=\"Open In Colab\"/></a>"
      ]
    },
    {
      "cell_type": "markdown",
      "metadata": {
        "id": "wWpXZc2fi39U"
      },
      "source": [
        "# ch05.10. 사이킷런 실습 - 비선형회귀분석\n",
        "\n",
        "---\n",
        "* 날짜: 2022-05-23\n",
        "* 이름: 박태현\n",
        "\n",
        "## 학습내용\n",
        "    - 다항식을 이용한 회귀 분석을 진행한다.\n",
        "    - 랜덤 포레스트를 이용해 비선형 회귀를 진행한다.\n",
        "    - 앙상블 학습에 대해 이해한다."
      ]
    },
    {
      "cell_type": "markdown",
      "metadata": {
        "id": "kByKdJPApy6P"
      },
      "source": [
        "```\n",
        "import numpy as np\n",
        "import pandas as pd\n",
        "import seaborn as sns\n",
        "import matplotlib.pyplot as plt\n",
        "```"
      ]
    },
    {
      "cell_type": "code",
      "source": [
        "import numpy as np\n",
        "import pandas as pd\n",
        "import seaborn as sns\n",
        "import matplotlib.pyplot as plt"
      ],
      "metadata": {
        "id": "YW4q7CsxPlQh"
      },
      "execution_count": 1,
      "outputs": []
    },
    {
      "cell_type": "code",
      "source": [
        "import sys\n",
        "sys.path.append('/content/drive/MyDrive/딥러닝 프레임워크실무/SkillTreePython-DataAnalysis-main/05.머신러닝기반데이터분석/scripts')\n",
        "from data_loader import *\n",
        "from score_dict import *"
      ],
      "metadata": {
        "id": "YIUkCYsGEVIh"
      },
      "execution_count": 2,
      "outputs": []
    },
    {
      "cell_type": "code",
      "source": [
        "from google.colab import drive\n",
        "drive.mount('/content/drive')"
      ],
      "metadata": {
        "colab": {
          "base_uri": "https://localhost:8080/"
        },
        "id": "AmRRWWEC3UoD",
        "outputId": "26172511-0e8d-494b-9dbd-2cdb6a96a896"
      },
      "execution_count": 3,
      "outputs": [
        {
          "output_type": "stream",
          "name": "stdout",
          "text": [
            "Mounted at /content/drive\n"
          ]
        }
      ]
    },
    {
      "cell_type": "markdown",
      "source": [
        "## **선형 회귀 모델을 다항 회귀로 변환**\n",
        "---"
      ],
      "metadata": {
        "id": "GYfR9QxDOEIy"
      }
    },
    {
      "cell_type": "markdown",
      "source": [
        "### **| 간단한 데이터에 대한 다항 회귀**"
      ],
      "metadata": {
        "id": "_dvcAIL3C3vE"
      }
    },
    {
      "cell_type": "markdown",
      "source": [
        "#### **데이터**\n",
        "```\n",
        "X = np.array([258.0, 270.0, 294.0, \n",
        "              320.0, 342.0, 368.0, \n",
        "              396.0, 446.0, 480.0, 586.0]).reshape(-1, 1)\n",
        "\n",
        "y = np.array([236.4, 234.4, 252.8, \n",
        "              298.6, 314.2, 342.2, \n",
        "              360.8, 368.0, 391.2,\n",
        "              390.8])\n",
        "```"
      ],
      "metadata": {
        "id": "OhR4fxMkCt-3"
      }
    },
    {
      "cell_type": "markdown",
      "source": [
        "* 데이터 생성"
      ],
      "metadata": {
        "id": "GMZTe-AcDRFw"
      }
    },
    {
      "cell_type": "code",
      "source": [
        "X = np.array([258.0, 270.0, 294.0, \n",
        "              320.0, 342.0, 368.0, \n",
        "              396.0, 446.0, 480.0, 586.0]).reshape(-1, 1)\n",
        "\n",
        "y = np.array([236.4, 234.4, 252.8, \n",
        "              298.6, 314.2, 342.2, \n",
        "              360.8, 368.0, 391.2,\n",
        "              390.8])\n",
        "\n",
        "X.shape, y.shape"
      ],
      "metadata": {
        "id": "3Ycs4pI60zPo",
        "colab": {
          "base_uri": "https://localhost:8080/"
        },
        "outputId": "c2437e8a-8cf5-417e-ac63-929ab8811ec7"
      },
      "execution_count": 3,
      "outputs": [
        {
          "output_type": "execute_result",
          "data": {
            "text/plain": [
              "((10, 1), (10,))"
            ]
          },
          "metadata": {},
          "execution_count": 3
        }
      ]
    },
    {
      "cell_type": "markdown",
      "source": [
        "* 시각화"
      ],
      "metadata": {
        "id": "kJKrGZF0C1du"
      }
    },
    {
      "cell_type": "code",
      "source": [
        "plt.scatter(X,y)"
      ],
      "metadata": {
        "id": "TaZLcFNu3gRm",
        "colab": {
          "base_uri": "https://localhost:8080/",
          "height": 283
        },
        "outputId": "a1347de4-d0f9-458e-d685-86d5e97c2864"
      },
      "execution_count": 4,
      "outputs": [
        {
          "output_type": "execute_result",
          "data": {
            "text/plain": [
              "<matplotlib.collections.PathCollection at 0x7f5c61593c10>"
            ]
          },
          "metadata": {},
          "execution_count": 4
        },
        {
          "output_type": "display_data",
          "data": {
            "text/plain": [
              "<Figure size 432x288 with 1 Axes>"
            ],
            "image/png": "[encoded data removed]"
          },
          "metadata": {
            "needs_background": "light"
          }
        }
      ]
    },
    {
      "cell_type": "markdown",
      "source": [
        "#### **선형 특성 학습**"
      ],
      "metadata": {
        "id": "sjMo6aNaDCIU"
      }
    },
    {
      "cell_type": "code",
      "source": [
        "from sklearn.linear_model import LinearRegression\n",
        "lr1 = LinearRegression()\n",
        "lr1.fit(X,y)"
      ],
      "metadata": {
        "id": "QK57ELPT0-9M",
        "colab": {
          "base_uri": "https://localhost:8080/"
        },
        "outputId": "f6599254-38d2-4363-ee50-125c30b9acf6"
      },
      "execution_count": 48,
      "outputs": [
        {
          "output_type": "execute_result",
          "data": {
            "text/plain": [
              "LinearRegression()"
            ]
          },
          "metadata": {},
          "execution_count": 48
        }
      ]
    },
    {
      "cell_type": "code",
      "source": [
        "plt.scatter(X,y)\n",
        "y_pred = lr1.predict(X)\n",
        "plt.plot(X,y_pred)"
      ],
      "metadata": {
        "colab": {
          "base_uri": "https://localhost:8080/",
          "height": 283
        },
        "id": "23emrig-6lJJ",
        "outputId": "c938c203-eeb2-4be4-c81c-4aae7efda5c5"
      },
      "execution_count": 49,
      "outputs": [
        {
          "output_type": "execute_result",
          "data": {
            "text/plain": [
              "[<matplotlib.lines.Line2D at 0x7f5c5b3dc710>]"
            ]
          },
          "metadata": {},
          "execution_count": 49
        },
        {
          "output_type": "display_data",
          "data": {
            "text/plain": [
              "<Figure size 432x288 with 1 Axes>"
            ],
            "image/png": "[encoded data removed]"
          },
          "metadata": {
            "needs_background": "light"
          }
        }
      ]
    },
    {
      "cell_type": "markdown",
      "source": [
        "#### **이차항 특성 학습**\n"
      ],
      "metadata": {
        "id": "rvuZSvRvzmhT"
      }
    },
    {
      "cell_type": "code",
      "source": [
        "from sklearn.preprocessing import PolynomialFeatures\n",
        "# x가 1차항 -> 다차항으로 변환\n",
        "quad = PolynomialFeatures(degree = 2) # 차수 지정"
      ],
      "metadata": {
        "id": "zaVfSiPW1DyA"
      },
      "execution_count": 50,
      "outputs": []
    },
    {
      "cell_type": "markdown",
      "source": [
        "* X 데이터 변환"
      ],
      "metadata": {
        "id": "Tlyc4sYWH3Zg"
      }
    },
    {
      "cell_type": "code",
      "source": [
        "X_quad = quad.fit_transform(X)\n",
        "X.shape, X_quad.shape"
      ],
      "metadata": {
        "id": "7TE8lUHfz86X",
        "colab": {
          "base_uri": "https://localhost:8080/"
        },
        "outputId": "0eab9fbe-2ccf-47a5-c857-d33015d187ee"
      },
      "execution_count": 51,
      "outputs": [
        {
          "output_type": "execute_result",
          "data": {
            "text/plain": [
              "((10, 1), (10, 3))"
            ]
          },
          "metadata": {},
          "execution_count": 51
        }
      ]
    },
    {
      "cell_type": "code",
      "source": [
        "quad.get_feature_names_out()\n",
        "pd.DataFrame(X_quad, columns = quad.get_feature_names_out())"
      ],
      "metadata": {
        "colab": {
          "base_uri": "https://localhost:8080/",
          "height": 363
        },
        "id": "BEXqzBX28GRp",
        "outputId": "08de29b5-159b-4d3a-f089-da70778f5406"
      },
      "execution_count": 52,
      "outputs": [
        {
          "output_type": "execute_result",
          "data": {
            "text/plain": [
              "     1     x0      x0^2\n",
              "0  1.0  258.0   66564.0\n",
              "1  1.0  270.0   72900.0\n",
              "2  1.0  294.0   86436.0\n",
              "3  1.0  320.0  102400.0\n",
              "4  1.0  342.0  116964.0\n",
              "5  1.0  368.0  135424.0\n",
              "6  1.0  396.0  156816.0\n",
              "7  1.0  446.0  198916.0\n",
              "8  1.0  480.0  230400.0\n",
              "9  1.0  586.0  343396.0"
            ],
            "text/html": [
              "\n",
              "  <div id=\"df-69615ade-708a-45b5-a269-6193bc1e8876\">\n",
              "    <div class=\"colab-df-container\">\n",
              "      <div>\n",
              "<style scoped>\n",
              "    .dataframe tbody tr th:only-of-type {\n",
              "        vertical-align: middle;\n",
              "    }\n",
              "\n",
              "    .dataframe tbody tr th {\n",
              "        vertical-align: top;\n",
              "    }\n",
              "\n",
              "    .dataframe thead th {\n",
              "        text-align: right;\n",
              "    }\n",
              "</style>\n",
              "<table border=\"1\" class=\"dataframe\">\n",
              "  <thead>\n",
              "    <tr style=\"text-align: right;\">\n",
              "      <th></th>\n",
              "      <th>1</th>\n",
              "      <th>x0</th>\n",
              "      <th>x0^2</th>\n",
              "    </tr>\n",
              "  </thead>\n",
              "  <tbody>\n",
              "    <tr>\n",
              "      <th>0</th>\n",
              "      <td>1.0</td>\n",
              "      <td>258.0</td>\n",
              "      <td>66564.0</td>\n",
              "    </tr>\n",
              "    <tr>\n",
              "      <th>1</th>\n",
              "      <td>1.0</td>\n",
              "      <td>270.0</td>\n",
              "      <td>72900.0</td>\n",
              "    </tr>\n",
              "    <tr>\n",
              "      <th>2</th>\n",
              "      <td>1.0</td>\n",
              "      <td>294.0</td>\n",
              "      <td>86436.0</td>\n",
              "    </tr>\n",
              "    <tr>\n",
              "      <th>3</th>\n",
              "      <td>1.0</td>\n",
              "      <td>320.0</td>\n",
              "      <td>102400.0</td>\n",
              "    </tr>\n",
              "    <tr>\n",
              "      <th>4</th>\n",
              "      <td>1.0</td>\n",
              "      <td>342.0</td>\n",
              "      <td>116964.0</td>\n",
              "    </tr>\n",
              "    <tr>\n",
              "      <th>5</th>\n",
              "      <td>1.0</td>\n",
              "      <td>368.0</td>\n",
              "      <td>135424.0</td>\n",
              "    </tr>\n",
              "    <tr>\n",
              "      <th>6</th>\n",
              "      <td>1.0</td>\n",
              "      <td>396.0</td>\n",
              "      <td>156816.0</td>\n",
              "    </tr>\n",
              "    <tr>\n",
              "      <th>7</th>\n",
              "      <td>1.0</td>\n",
              "      <td>446.0</td>\n",
              "      <td>198916.0</td>\n",
              "    </tr>\n",
              "    <tr>\n",
              "      <th>8</th>\n",
              "      <td>1.0</td>\n",
              "      <td>480.0</td>\n",
              "      <td>230400.0</td>\n",
              "    </tr>\n",
              "    <tr>\n",
              "      <th>9</th>\n",
              "      <td>1.0</td>\n",
              "      <td>586.0</td>\n",
              "      <td>343396.0</td>\n",
              "    </tr>\n",
              "  </tbody>\n",
              "</table>\n",
              "</div>\n",
              "      <button class=\"colab-df-convert\" onclick=\"convertToInteractive('df-69615ade-708a-45b5-a269-6193bc1e8876')\"\n",
              "              title=\"Convert this dataframe to an interactive table.\"\n",
              "              style=\"display:none;\">\n",
              "        \n",
              "  <svg xmlns=\"http://www.w3.org/2000/svg\" height=\"24px\"viewBox=\"0 0 24 24\"\n",
              "       width=\"24px\">\n",
              "    <path d=\"M0 0h24v24H0V0z\" fill=\"none\"/>\n",
              "    <path d=\"M18.56 5.44l.94 2.06.94-2.06 2.06-.94-2.06-.94-.94-2.06-.94 2.06-2.06.94zm-11 1L8.5 8.5l.94-2.06 2.06-.94-2.06-.94L8.5 2.5l-.94 2.06-2.06.94zm10 10l.94 2.06.94-2.06 2.06-.94-2.06-.94-.94-2.06-.94 2.06-2.06.94z\"/><path d=\"M17.41 7.96l-1.37-1.37c-.4-.4-.92-.59-1.43-.59-.52 0-1.04.2-1.43.59L10.3 9.45l-7.72 7.72c-.78.78-.78 2.05 0 2.83L4 21.41c.39.39.9.59 1.41.59.51 0 1.02-.2 1.41-.59l7.78-7.78 2.81-2.81c.8-.78.8-2.07 0-2.86zM5.41 20L4 18.59l7.72-7.72 1.47 1.35L5.41 20z\"/>\n",
              "  </svg>\n",
              "      </button>\n",
              "      \n",
              "  <style>\n",
              "    .colab-df-container {\n",
              "      display:flex;\n",
              "      flex-wrap:wrap;\n",
              "      gap: 12px;\n",
              "    }\n",
              "\n",
              "    .colab-df-convert {\n",
              "      background-color: #E8F0FE;\n",
              "      border: none;\n",
              "      border-radius: 50%;\n",
              "      cursor: pointer;\n",
              "      display: none;\n",
              "      fill: #1967D2;\n",
              "      height: 32px;\n",
              "      padding: 0 0 0 0;\n",
              "      width: 32px;\n",
              "    }\n",
              "\n",
              "    .colab-df-convert:hover {\n",
              "      background-color: #E2EBFA;\n",
              "      box-shadow: 0px 1px 2px rgba(60, 64, 67, 0.3), 0px 1px 3px 1px rgba(60, 64, 67, 0.15);\n",
              "      fill: #174EA6;\n",
              "    }\n",
              "\n",
              "    [theme=dark] .colab-df-convert {\n",
              "      background-color: #3B4455;\n",
              "      fill: #D2E3FC;\n",
              "    }\n",
              "\n",
              "    [theme=dark] .colab-df-convert:hover {\n",
              "      background-color: #434B5C;\n",
              "      box-shadow: 0px 1px 3px 1px rgba(0, 0, 0, 0.15);\n",
              "      filter: drop-shadow(0px 1px 2px rgba(0, 0, 0, 0.3));\n",
              "      fill: #FFFFFF;\n",
              "    }\n",
              "  </style>\n",
              "\n",
              "      <script>\n",
              "        const buttonEl =\n",
              "          document.querySelector('#df-69615ade-708a-45b5-a269-6193bc1e8876 button.colab-df-convert');\n",
              "        buttonEl.style.display =\n",
              "          google.colab.kernel.accessAllowed ? 'block' : 'none';\n",
              "\n",
              "        async function convertToInteractive(key) {\n",
              "          const element = document.querySelector('#df-69615ade-708a-45b5-a269-6193bc1e8876');\n",
              "          const dataTable =\n",
              "            await google.colab.kernel.invokeFunction('convertToInteractive',\n",
              "                                                     [key], {});\n",
              "          if (!dataTable) return;\n",
              "\n",
              "          const docLinkHtml = 'Like what you see? Visit the ' +\n",
              "            '<a target=\"_blank\" href=https://colab.research.google.com/notebooks/data_table.ipynb>data table notebook</a>'\n",
              "            + ' to learn more about interactive tables.';\n",
              "          element.innerHTML = '';\n",
              "          dataTable['output_type'] = 'display_data';\n",
              "          await google.colab.output.renderOutput(dataTable, element);\n",
              "          const docLink = document.createElement('div');\n",
              "          docLink.innerHTML = docLinkHtml;\n",
              "          element.appendChild(docLink);\n",
              "        }\n",
              "      </script>\n",
              "    </div>\n",
              "  </div>\n",
              "  "
            ]
          },
          "metadata": {},
          "execution_count": 52
        }
      ]
    },
    {
      "cell_type": "markdown",
      "source": [
        "* 학습"
      ],
      "metadata": {
        "id": "DR79eUEsH8gM"
      }
    },
    {
      "cell_type": "code",
      "source": [
        "lr2 = LinearRegression()\n",
        "lr2.fit(X_quad, y)"
      ],
      "metadata": {
        "id": "831zjGBc6kGX",
        "colab": {
          "base_uri": "https://localhost:8080/"
        },
        "outputId": "e125a9c7-8771-4359-b6d3-250f0d1b49e4"
      },
      "execution_count": 53,
      "outputs": [
        {
          "output_type": "execute_result",
          "data": {
            "text/plain": [
              "LinearRegression()"
            ]
          },
          "metadata": {},
          "execution_count": 53
        }
      ]
    },
    {
      "cell_type": "markdown",
      "source": [
        "#### **테스트셋 성능 비교**"
      ],
      "metadata": {
        "id": "tyHcbw-9HzF8"
      }
    },
    {
      "cell_type": "code",
      "source": [
        "y_pred1 = lr1.predict(X)\n",
        "lr1_socres = regression_scores(y,y_pred1)\n",
        "y_pred2 = lr2.predict(X_quad)\n",
        "lr2_socres = regression_scores(y,y_pred2)\n",
        "\n",
        "pd.DataFrame([lr1_socres, lr2_socres], index = ['linear','quad'])"
      ],
      "metadata": {
        "id": "pKQsac_KAQz0",
        "colab": {
          "base_uri": "https://localhost:8080/",
          "height": 130
        },
        "outputId": "559cbed0-9f64-4206-fce1-835d49e7e0b7"
      },
      "execution_count": 54,
      "outputs": [
        {
          "output_type": "stream",
          "name": "stdout",
          "text": [
            "(10,) (10,)\n"
          ]
        },
        {
          "output_type": "execute_result",
          "data": {
            "text/plain": [
              "           mse    rmse     mae   nmae   mape     r2\n",
              "linear  569.78  23.870  21.898  0.069  7.035  0.832\n",
              "quad     61.33   7.831   6.379  0.020  2.213  0.982"
            ],
            "text/html": [
              "\n",
              "  <div id=\"df-35bf976f-c996-4df6-8e62-1542f7e483e0\">\n",
              "    <div class=\"colab-df-container\">\n",
              "      <div>\n",
              "<style scoped>\n",
              "    .dataframe tbody tr th:only-of-type {\n",
              "        vertical-align: middle;\n",
              "    }\n",
              "\n",
              "    .dataframe tbody tr th {\n",
              "        vertical-align: top;\n",
              "    }\n",
              "\n",
              "    .dataframe thead th {\n",
              "        text-align: right;\n",
              "    }\n",
              "</style>\n",
              "<table border=\"1\" class=\"dataframe\">\n",
              "  <thead>\n",
              "    <tr style=\"text-align: right;\">\n",
              "      <th></th>\n",
              "      <th>mse</th>\n",
              "      <th>rmse</th>\n",
              "      <th>mae</th>\n",
              "      <th>nmae</th>\n",
              "      <th>mape</th>\n",
              "      <th>r2</th>\n",
              "    </tr>\n",
              "  </thead>\n",
              "  <tbody>\n",
              "    <tr>\n",
              "      <th>linear</th>\n",
              "      <td>569.78</td>\n",
              "      <td>23.870</td>\n",
              "      <td>21.898</td>\n",
              "      <td>0.069</td>\n",
              "      <td>7.035</td>\n",
              "      <td>0.832</td>\n",
              "    </tr>\n",
              "    <tr>\n",
              "      <th>quad</th>\n",
              "      <td>61.33</td>\n",
              "      <td>7.831</td>\n",
              "      <td>6.379</td>\n",
              "      <td>0.020</td>\n",
              "      <td>2.213</td>\n",
              "      <td>0.982</td>\n",
              "    </tr>\n",
              "  </tbody>\n",
              "</table>\n",
              "</div>\n",
              "      <button class=\"colab-df-convert\" onclick=\"convertToInteractive('df-35bf976f-c996-4df6-8e62-1542f7e483e0')\"\n",
              "              title=\"Convert this dataframe to an interactive table.\"\n",
              "              style=\"display:none;\">\n",
              "        \n",
              "  <svg xmlns=\"http://www.w3.org/2000/svg\" height=\"24px\"viewBox=\"0 0 24 24\"\n",
              "       width=\"24px\">\n",
              "    <path d=\"M0 0h24v24H0V0z\" fill=\"none\"/>\n",
              "    <path d=\"M18.56 5.44l.94 2.06.94-2.06 2.06-.94-2.06-.94-.94-2.06-.94 2.06-2.06.94zm-11 1L8.5 8.5l.94-2.06 2.06-.94-2.06-.94L8.5 2.5l-.94 2.06-2.06.94zm10 10l.94 2.06.94-2.06 2.06-.94-2.06-.94-.94-2.06-.94 2.06-2.06.94z\"/><path d=\"M17.41 7.96l-1.37-1.37c-.4-.4-.92-.59-1.43-.59-.52 0-1.04.2-1.43.59L10.3 9.45l-7.72 7.72c-.78.78-.78 2.05 0 2.83L4 21.41c.39.39.9.59 1.41.59.51 0 1.02-.2 1.41-.59l7.78-7.78 2.81-2.81c.8-.78.8-2.07 0-2.86zM5.41 20L4 18.59l7.72-7.72 1.47 1.35L5.41 20z\"/>\n",
              "  </svg>\n",
              "      </button>\n",
              "      \n",
              "  <style>\n",
              "    .colab-df-container {\n",
              "      display:flex;\n",
              "      flex-wrap:wrap;\n",
              "      gap: 12px;\n",
              "    }\n",
              "\n",
              "    .colab-df-convert {\n",
              "      background-color: #E8F0FE;\n",
              "      border: none;\n",
              "      border-radius: 50%;\n",
              "      cursor: pointer;\n",
              "      display: none;\n",
              "      fill: #1967D2;\n",
              "      height: 32px;\n",
              "      padding: 0 0 0 0;\n",
              "      width: 32px;\n",
              "    }\n",
              "\n",
              "    .colab-df-convert:hover {\n",
              "      background-color: #E2EBFA;\n",
              "      box-shadow: 0px 1px 2px rgba(60, 64, 67, 0.3), 0px 1px 3px 1px rgba(60, 64, 67, 0.15);\n",
              "      fill: #174EA6;\n",
              "    }\n",
              "\n",
              "    [theme=dark] .colab-df-convert {\n",
              "      background-color: #3B4455;\n",
              "      fill: #D2E3FC;\n",
              "    }\n",
              "\n",
              "    [theme=dark] .colab-df-convert:hover {\n",
              "      background-color: #434B5C;\n",
              "      box-shadow: 0px 1px 3px 1px rgba(0, 0, 0, 0.15);\n",
              "      filter: drop-shadow(0px 1px 2px rgba(0, 0, 0, 0.3));\n",
              "      fill: #FFFFFF;\n",
              "    }\n",
              "  </style>\n",
              "\n",
              "      <script>\n",
              "        const buttonEl =\n",
              "          document.querySelector('#df-35bf976f-c996-4df6-8e62-1542f7e483e0 button.colab-df-convert');\n",
              "        buttonEl.style.display =\n",
              "          google.colab.kernel.accessAllowed ? 'block' : 'none';\n",
              "\n",
              "        async function convertToInteractive(key) {\n",
              "          const element = document.querySelector('#df-35bf976f-c996-4df6-8e62-1542f7e483e0');\n",
              "          const dataTable =\n",
              "            await google.colab.kernel.invokeFunction('convertToInteractive',\n",
              "                                                     [key], {});\n",
              "          if (!dataTable) return;\n",
              "\n",
              "          const docLinkHtml = 'Like what you see? Visit the ' +\n",
              "            '<a target=\"_blank\" href=https://colab.research.google.com/notebooks/data_table.ipynb>data table notebook</a>'\n",
              "            + ' to learn more about interactive tables.';\n",
              "          element.innerHTML = '';\n",
              "          dataTable['output_type'] = 'display_data';\n",
              "          await google.colab.output.renderOutput(dataTable, element);\n",
              "          const docLink = document.createElement('div');\n",
              "          docLink.innerHTML = docLinkHtml;\n",
              "          element.appendChild(docLink);\n",
              "        }\n",
              "      </script>\n",
              "    </div>\n",
              "  </div>\n",
              "  "
            ]
          },
          "metadata": {},
          "execution_count": 54
        }
      ]
    },
    {
      "cell_type": "markdown",
      "source": [
        "#### **그래프 시각화**"
      ],
      "metadata": {
        "id": "4Ef6kxh6H1hs"
      }
    },
    {
      "cell_type": "code",
      "source": [
        "X_every = np.arange(250, 600, 0.1).reshape(-1,1)\n",
        "plt.scatter(X,y, label = 'trainset', c='k')\n",
        "plt.plot(X, lr1.predict(X), label = 'linear')\n",
        "plt.plot(X_every, lr2.predict(quad.fit_transform(X_every)), label = 'quadratic')\n",
        "plt.legend()\n",
        "plt.show()"
      ],
      "metadata": {
        "id": "p4WIs-nQ1VKG",
        "colab": {
          "base_uri": "https://localhost:8080/",
          "height": 265
        },
        "outputId": "837e1fbf-a490-4814-d220-28a559790324"
      },
      "execution_count": 25,
      "outputs": [
        {
          "output_type": "display_data",
          "data": {
            "text/plain": [
              "<Figure size 432x288 with 1 Axes>"
            ],
            "image/png": "[encoded data removed]"
          },
          "metadata": {
            "needs_background": "light"
          }
        }
      ]
    },
    {
      "cell_type": "markdown",
      "source": [
        "### **| 주택 데이터를 이용한 비선형 회귀 분석**\n"
      ],
      "metadata": {
        "id": "B4BejB3gxzqR"
      }
    },
    {
      "cell_type": "markdown",
      "source": [
        "\n",
        "#### **주택 데이터셋**\n",
        "\n",
        "[https://archive.ics.uci.edu/ml/datasets/Housing](https://archive.ics.uci.edu/ml/datasets/Housing)\n",
        "\n",
        "    \n",
        "<pre>\n",
        "01. CRIM     도시의 인당 범죄율\n",
        "02. ZN       2만 5,0000평방 피트가 넘는 주택 비율\n",
        "03. INDUS    도시에서 소매 업종이 아닌 지역 비율\n",
        "04. CHAS     찰스 강 인접 여부(강 주변=1, 그외=0)\n",
        "05. NOX      일산화질소 농도(10ppm당)\n",
        "06. RM       주택의 평균 방 개수\n",
        "07. AGE      1940년 이전에 지어진 자가 주택 비율\n",
        "08. DIS      다섯 개의 보스턴 고용 센터까지 가중치가 적용된 거리\n",
        "09. RAD      방사형으로 뻗은 고속도로까지 접근성 지수\n",
        "10. TAX      10만 달러당 재산세율\n",
        "11. PTRATIO  도시의 학생-교사 비율\n",
        "12. B        1000(Bk - 0.63)^2 도시의 아프리카계 미국인 비율\n",
        "13. LSTAT    저소득층 비율\n",
        "14. MEDV     자가 주택의 중간가격 (단위 $1000s)\n",
        "</pre>\n",
        "\n"
      ],
      "metadata": {
        "id": "SwHpIs02xtKM"
      }
    },
    {
      "cell_type": "markdown",
      "source": [
        "* 데이터 불러오기\n"
      ],
      "metadata": {
        "id": "an_F7hczTA6u"
      }
    },
    {
      "cell_type": "code",
      "source": [
        "X_train, X_test, y_train, y_test =housing_loader(['LSTAT']) # X 속성 선택 가능\n",
        "X_train.shape, X_test.shape, y_train.shape, y_test.shape"
      ],
      "metadata": {
        "id": "hyZDJJVdJ9--",
        "colab": {
          "base_uri": "https://localhost:8080/"
        },
        "outputId": "961717c1-cdf2-4d0f-a823-fb9d52b04037"
      },
      "execution_count": 26,
      "outputs": [
        {
          "output_type": "stream",
          "name": "stdout",
          "text": [
            "(506, 14)\n"
          ]
        },
        {
          "output_type": "execute_result",
          "data": {
            "text/plain": [
              "((404, 1), (102, 1), (404,), (102,))"
            ]
          },
          "metadata": {},
          "execution_count": 26
        }
      ]
    },
    {
      "cell_type": "markdown",
      "source": [
        "* 시각화"
      ],
      "metadata": {
        "id": "Edjyi6Ba-t5F"
      }
    },
    {
      "cell_type": "code",
      "source": [
        "def draw_data():\n",
        "  plt.scatter(X_train, y_train, label='Trainset', color='lightgray')\n",
        "  plt.scatter(X_test, y_test, label='Testset', color='lightgreen')\n",
        "  plt.xlabel('% lower status of the population [LSTAT]')\n",
        "  plt.ylabel('Price in $1000s [MEDV]')\n",
        "  plt.legend()\n",
        "draw_data()"
      ],
      "metadata": {
        "colab": {
          "base_uri": "https://localhost:8080/",
          "height": 279
        },
        "id": "VTkitF4MNXWp",
        "outputId": "996d7393-f1f7-492e-82bc-f7e5a3079fd2"
      },
      "execution_count": 70,
      "outputs": [
        {
          "output_type": "display_data",
          "data": {
            "text/plain": [
              "<Figure size 432x288 with 1 Axes>"
            ],
            "image/png": "[encoded data removed]"
          },
          "metadata": {
            "needs_background": "light"
          }
        }
      ]
    },
    {
      "cell_type": "markdown",
      "source": [
        "#### **선형 모델 학습**"
      ],
      "metadata": {
        "id": "-lSaVrzH-0fd"
      }
    },
    {
      "cell_type": "code",
      "source": [
        "lr1 = LinearRegression()\n",
        "lr1.fit(X_train, y_train)\n"
      ],
      "metadata": {
        "id": "TgFDjdHP-yBz",
        "colab": {
          "base_uri": "https://localhost:8080/"
        },
        "outputId": "54e1754c-4f27-4539-c6ae-f6c753bd6664"
      },
      "execution_count": 79,
      "outputs": [
        {
          "output_type": "execute_result",
          "data": {
            "text/plain": [
              "LinearRegression()"
            ]
          },
          "metadata": {},
          "execution_count": 79
        }
      ]
    },
    {
      "cell_type": "markdown",
      "source": [
        "#### **이차 다항 모델 학습**"
      ],
      "metadata": {
        "id": "1RTFnTJE-29P"
      }
    },
    {
      "cell_type": "code",
      "source": [
        "lr2 = LinearRegression()\n",
        "quad = PolynomialFeatures(degree = 2)\n",
        "X_quad = quad.fit_transform(X_train)\n",
        "lr2.fit(X_quad, y_train)\n"
      ],
      "metadata": {
        "id": "XGz31zmn-yD9",
        "colab": {
          "base_uri": "https://localhost:8080/"
        },
        "outputId": "db6ca41c-ca7d-4ed6-a71d-e4da4c16c74c"
      },
      "execution_count": 80,
      "outputs": [
        {
          "output_type": "execute_result",
          "data": {
            "text/plain": [
              "LinearRegression()"
            ]
          },
          "metadata": {},
          "execution_count": 80
        }
      ]
    },
    {
      "cell_type": "markdown",
      "source": [
        "#### **삼차 다항 모델 학습**"
      ],
      "metadata": {
        "id": "sUOLczvE-9vM"
      }
    },
    {
      "cell_type": "code",
      "source": [
        "lr3 = LinearRegression()\n",
        "cubic = PolynomialFeatures(degree = 3)\n",
        "X_cubic = cubic.fit_transform(X_train)\n",
        "lr3.fit(X_cubic, y_train)\n"
      ],
      "metadata": {
        "id": "69sIWqRt-yF8",
        "colab": {
          "base_uri": "https://localhost:8080/"
        },
        "outputId": "a5bf09a1-2f42-424d-b38b-abdecd11b603"
      },
      "execution_count": 81,
      "outputs": [
        {
          "output_type": "execute_result",
          "data": {
            "text/plain": [
              "LinearRegression()"
            ]
          },
          "metadata": {},
          "execution_count": 81
        }
      ]
    },
    {
      "cell_type": "markdown",
      "source": [
        "#### **테스트셋 성능 비교**"
      ],
      "metadata": {
        "id": "V3fvA5AZCci0"
      }
    },
    {
      "cell_type": "code",
      "source": [
        "# 예측\n",
        "y_pred1 = lr1.predict(X_test)\n",
        "y_pred2 = lr2.predict(quad.fit_transform(X_test)) # 이차항 변환\n",
        "y_pred3 = lr3.predict(cubic.fit_transform(X_test)) # 삼차항 변환\n",
        "\n",
        "# 성능 평가\n",
        "lr1_scores = regression_scores(y_test,y_pred1)\n",
        "lr2_scores = regression_scores(y_test,y_pred2)\n",
        "lr3_scores = regression_scores(y_test,y_pred3)\n",
        "\n",
        "# 데이터프레임으로 보기\n",
        "df_scores = pd.DataFrame([lr1_scores, lr2_scores, lr3_scores], index = ['index', 'quadratic', 'cubic'])\n",
        "\n",
        "df_scores"
      ],
      "metadata": {
        "id": "ljOPV5DGRBoR",
        "colab": {
          "base_uri": "https://localhost:8080/",
          "height": 143
        },
        "outputId": "9c751fd0-4f20-4078-ba90-3538f9044db1"
      },
      "execution_count": 82,
      "outputs": [
        {
          "output_type": "execute_result",
          "data": {
            "text/plain": [
              "             mse   rmse    mae   nmae     mape     r2\n",
              "index      0.463  0.680  0.501  0.721  239.529  0.537\n",
              "quadratic  0.343  0.586  0.445  0.640  228.354  0.657\n",
              "cubic      0.315  0.562  0.422  0.606  180.717  0.685"
            ],
            "text/html": [
              "\n",
              "  <div id=\"df-fbe79ac7-0301-4961-ad18-e23b286d35c1\">\n",
              "    <div class=\"colab-df-container\">\n",
              "      <div>\n",
              "<style scoped>\n",
              "    .dataframe tbody tr th:only-of-type {\n",
              "        vertical-align: middle;\n",
              "    }\n",
              "\n",
              "    .dataframe tbody tr th {\n",
              "        vertical-align: top;\n",
              "    }\n",
              "\n",
              "    .dataframe thead th {\n",
              "        text-align: right;\n",
              "    }\n",
              "</style>\n",
              "<table border=\"1\" class=\"dataframe\">\n",
              "  <thead>\n",
              "    <tr style=\"text-align: right;\">\n",
              "      <th></th>\n",
              "      <th>mse</th>\n",
              "      <th>rmse</th>\n",
              "      <th>mae</th>\n",
              "      <th>nmae</th>\n",
              "      <th>mape</th>\n",
              "      <th>r2</th>\n",
              "    </tr>\n",
              "  </thead>\n",
              "  <tbody>\n",
              "    <tr>\n",
              "      <th>index</th>\n",
              "      <td>0.463</td>\n",
              "      <td>0.680</td>\n",
              "      <td>0.501</td>\n",
              "      <td>0.721</td>\n",
              "      <td>239.529</td>\n",
              "      <td>0.537</td>\n",
              "    </tr>\n",
              "    <tr>\n",
              "      <th>quadratic</th>\n",
              "      <td>0.343</td>\n",
              "      <td>0.586</td>\n",
              "      <td>0.445</td>\n",
              "      <td>0.640</td>\n",
              "      <td>228.354</td>\n",
              "      <td>0.657</td>\n",
              "    </tr>\n",
              "    <tr>\n",
              "      <th>cubic</th>\n",
              "      <td>0.315</td>\n",
              "      <td>0.562</td>\n",
              "      <td>0.422</td>\n",
              "      <td>0.606</td>\n",
              "      <td>180.717</td>\n",
              "      <td>0.685</td>\n",
              "    </tr>\n",
              "  </tbody>\n",
              "</table>\n",
              "</div>\n",
              "      <button class=\"colab-df-convert\" onclick=\"convertToInteractive('df-fbe79ac7-0301-4961-ad18-e23b286d35c1')\"\n",
              "              title=\"Convert this dataframe to an interactive table.\"\n",
              "              style=\"display:none;\">\n",
              "        \n",
              "  <svg xmlns=\"http://www.w3.org/2000/svg\" height=\"24px\"viewBox=\"0 0 24 24\"\n",
              "       width=\"24px\">\n",
              "    <path d=\"M0 0h24v24H0V0z\" fill=\"none\"/>\n",
              "    <path d=\"M18.56 5.44l.94 2.06.94-2.06 2.06-.94-2.06-.94-.94-2.06-.94 2.06-2.06.94zm-11 1L8.5 8.5l.94-2.06 2.06-.94-2.06-.94L8.5 2.5l-.94 2.06-2.06.94zm10 10l.94 2.06.94-2.06 2.06-.94-2.06-.94-.94-2.06-.94 2.06-2.06.94z\"/><path d=\"M17.41 7.96l-1.37-1.37c-.4-.4-.92-.59-1.43-.59-.52 0-1.04.2-1.43.59L10.3 9.45l-7.72 7.72c-.78.78-.78 2.05 0 2.83L4 21.41c.39.39.9.59 1.41.59.51 0 1.02-.2 1.41-.59l7.78-7.78 2.81-2.81c.8-.78.8-2.07 0-2.86zM5.41 20L4 18.59l7.72-7.72 1.47 1.35L5.41 20z\"/>\n",
              "  </svg>\n",
              "      </button>\n",
              "      \n",
              "  <style>\n",
              "    .colab-df-container {\n",
              "      display:flex;\n",
              "      flex-wrap:wrap;\n",
              "      gap: 12px;\n",
              "    }\n",
              "\n",
              "    .colab-df-convert {\n",
              "      background-color: #E8F0FE;\n",
              "      border: none;\n",
              "      border-radius: 50%;\n",
              "      cursor: pointer;\n",
              "      display: none;\n",
              "      fill: #1967D2;\n",
              "      height: 32px;\n",
              "      padding: 0 0 0 0;\n",
              "      width: 32px;\n",
              "    }\n",
              "\n",
              "    .colab-df-convert:hover {\n",
              "      background-color: #E2EBFA;\n",
              "      box-shadow: 0px 1px 2px rgba(60, 64, 67, 0.3), 0px 1px 3px 1px rgba(60, 64, 67, 0.15);\n",
              "      fill: #174EA6;\n",
              "    }\n",
              "\n",
              "    [theme=dark] .colab-df-convert {\n",
              "      background-color: #3B4455;\n",
              "      fill: #D2E3FC;\n",
              "    }\n",
              "\n",
              "    [theme=dark] .colab-df-convert:hover {\n",
              "      background-color: #434B5C;\n",
              "      box-shadow: 0px 1px 3px 1px rgba(0, 0, 0, 0.15);\n",
              "      filter: drop-shadow(0px 1px 2px rgba(0, 0, 0, 0.3));\n",
              "      fill: #FFFFFF;\n",
              "    }\n",
              "  </style>\n",
              "\n",
              "      <script>\n",
              "        const buttonEl =\n",
              "          document.querySelector('#df-fbe79ac7-0301-4961-ad18-e23b286d35c1 button.colab-df-convert');\n",
              "        buttonEl.style.display =\n",
              "          google.colab.kernel.accessAllowed ? 'block' : 'none';\n",
              "\n",
              "        async function convertToInteractive(key) {\n",
              "          const element = document.querySelector('#df-fbe79ac7-0301-4961-ad18-e23b286d35c1');\n",
              "          const dataTable =\n",
              "            await google.colab.kernel.invokeFunction('convertToInteractive',\n",
              "                                                     [key], {});\n",
              "          if (!dataTable) return;\n",
              "\n",
              "          const docLinkHtml = 'Like what you see? Visit the ' +\n",
              "            '<a target=\"_blank\" href=https://colab.research.google.com/notebooks/data_table.ipynb>data table notebook</a>'\n",
              "            + ' to learn more about interactive tables.';\n",
              "          element.innerHTML = '';\n",
              "          dataTable['output_type'] = 'display_data';\n",
              "          await google.colab.output.renderOutput(dataTable, element);\n",
              "          const docLink = document.createElement('div');\n",
              "          docLink.innerHTML = docLinkHtml;\n",
              "          element.appendChild(docLink);\n",
              "        }\n",
              "      </script>\n",
              "    </div>\n",
              "  </div>\n",
              "  "
            ]
          },
          "metadata": {},
          "execution_count": 82
        }
      ]
    },
    {
      "cell_type": "markdown",
      "source": [
        "#### **그래프 시각화**"
      ],
      "metadata": {
        "id": "aNIjJ9smCf9F"
      }
    },
    {
      "cell_type": "code",
      "source": [
        "draw_data()\n",
        "\n",
        "X_every = np.arange(-2, 4, 0.1).reshape(-1,1)\n",
        "plt.plot(X_every, lr1.predict(X_every), \n",
        "         label='Linear',\n",
        "         linewidth=3, linestyle=':') # 1차항\n",
        "plt.plot(X_every, lr2.predict(quad.fit_transform(X_every)), \n",
        "         label='Quadratic',\n",
        "         linewidth=3) # 2차항\n",
        "plt.plot(X_every, lr3.predict(cubic.fit_transform(X_every)), \n",
        "         label='Cubic',\n",
        "         linewidth=3, linestyle='--') # 3차항\n",
        "plt.legend()\n",
        "plt.show()"
      ],
      "metadata": {
        "id": "irw_FWuHRPra",
        "colab": {
          "base_uri": "https://localhost:8080/",
          "height": 279
        },
        "outputId": "66cd2dd9-b311-4621-c05c-793aad59f91b"
      },
      "execution_count": 84,
      "outputs": [
        {
          "output_type": "display_data",
          "data": {
            "text/plain": [
              "<Figure size 432x288 with 1 Axes>"
            ],
            "image/png": "[encoded data removed]"
          },
          "metadata": {
            "needs_background": "light"
          }
        }
      ]
    },
    {
      "cell_type": "markdown",
      "source": [
        "## **랜덤 포레스트를 사용하여 비선형 관계 다루기**\n",
        "---\n",
        "\n",
        "![](https://img1.daumcdn.net/thumb/R1280x0/?scode=mtistory2&fname=https%3A%2F%2Fblog.kakaocdn.net%2Fdn%2F96F6N%2FbtqwVglgV2S%2FYTCytd7Z2egbnbJM29MJv1%2Fimg.png)\n",
        "\n",
        "*출처:  ratsgo's blog"
      ],
      "metadata": {
        "id": "o_Z_UJB-bM6R"
      }
    },
    {
      "cell_type": "markdown",
      "source": [
        "### **| 결정트리 회귀**\n",
        "\n",
        "* Decision Tree"
      ],
      "metadata": {
        "id": "JmqniPTaf0sE"
      }
    },
    {
      "cell_type": "markdown",
      "source": [
        "#### **모델 학습**"
      ],
      "metadata": {
        "id": "U9AXb-Z5EV9C"
      }
    },
    {
      "cell_type": "code",
      "source": [
        "from sklearn.tree import DecisionTreeRegressor\n",
        "\n",
        "tree = DecisionTreeRegressor(random_state=1,\n",
        "                             max_depth = 3)\n",
        "tree.fit(X_train, y_train)"
      ],
      "metadata": {
        "id": "jBKTe-_bgNDi"
      },
      "execution_count": 86,
      "outputs": []
    },
    {
      "cell_type": "markdown",
      "source": [
        "#### **테스트셋 성능비교**"
      ],
      "metadata": {
        "id": "p0j-4TSyEY0a"
      }
    },
    {
      "cell_type": "code",
      "source": [
        "y_pred = tree.predict(X_test)\n",
        "score = regression_scores(y_test, y_pred)\n",
        "df_scores.loc['tree'] = score\n",
        "df_scores.style.background_gradient(cmap = 'Blues_r')"
      ],
      "metadata": {
        "id": "22aKQ3OJ9v8n",
        "colab": {
          "base_uri": "https://localhost:8080/",
          "height": 175
        },
        "outputId": "747b600d-b5a3-4c77-b723-2c650e0599dc"
      },
      "execution_count": 93,
      "outputs": [
        {
          "output_type": "execute_result",
          "data": {
            "text/plain": [
              "<pandas.io.formats.style.Styler at 0x7f5c580f4e90>"
            ],
            "text/html": [
              "<style type=\"text/css\">\n",
              "#T_b1a74_row0_col0, #T_b1a74_row0_col1, #T_b1a74_row0_col2, #T_b1a74_row0_col3, #T_b1a74_row3_col4, #T_b1a74_row3_col5 {\n",
              "  background-color: #f7fbff;\n",
              "  color: #000000;\n",
              "}\n",
              "#T_b1a74_row0_col4 {\n",
              "  background-color: #6aaed6;\n",
              "  color: #f1f1f1;\n",
              "}\n",
              "#T_b1a74_row0_col5, #T_b1a74_row2_col4, #T_b1a74_row3_col0, #T_b1a74_row3_col1, #T_b1a74_row3_col2, #T_b1a74_row3_col3 {\n",
              "  background-color: #08306b;\n",
              "  color: #f1f1f1;\n",
              "}\n",
              "#T_b1a74_row1_col0 {\n",
              "  background-color: #1d6cb1;\n",
              "  color: #f1f1f1;\n",
              "}\n",
              "#T_b1a74_row1_col1 {\n",
              "  background-color: #2272b6;\n",
              "  color: #f1f1f1;\n",
              "}\n",
              "#T_b1a74_row1_col2 {\n",
              "  background-color: #56a0ce;\n",
              "  color: #f1f1f1;\n",
              "}\n",
              "#T_b1a74_row1_col3 {\n",
              "  background-color: #549fcd;\n",
              "  color: #f1f1f1;\n",
              "}\n",
              "#T_b1a74_row1_col4 {\n",
              "  background-color: #4b98ca;\n",
              "  color: #f1f1f1;\n",
              "}\n",
              "#T_b1a74_row1_col5 {\n",
              "  background-color: #caddf0;\n",
              "  color: #000000;\n",
              "}\n",
              "#T_b1a74_row2_col0 {\n",
              "  background-color: #083d7f;\n",
              "  color: #f1f1f1;\n",
              "}\n",
              "#T_b1a74_row2_col1 {\n",
              "  background-color: #084184;\n",
              "  color: #f1f1f1;\n",
              "}\n",
              "#T_b1a74_row2_col2 {\n",
              "  background-color: #1764ab;\n",
              "  color: #f1f1f1;\n",
              "}\n",
              "#T_b1a74_row2_col3 {\n",
              "  background-color: #1663aa;\n",
              "  color: #f1f1f1;\n",
              "}\n",
              "#T_b1a74_row2_col5 {\n",
              "  background-color: #edf4fc;\n",
              "  color: #000000;\n",
              "}\n",
              "</style>\n",
              "<table id=\"T_b1a74_\" class=\"dataframe\">\n",
              "  <thead>\n",
              "    <tr>\n",
              "      <th class=\"blank level0\" >&nbsp;</th>\n",
              "      <th class=\"col_heading level0 col0\" >mse</th>\n",
              "      <th class=\"col_heading level0 col1\" >rmse</th>\n",
              "      <th class=\"col_heading level0 col2\" >mae</th>\n",
              "      <th class=\"col_heading level0 col3\" >nmae</th>\n",
              "      <th class=\"col_heading level0 col4\" >mape</th>\n",
              "      <th class=\"col_heading level0 col5\" >r2</th>\n",
              "    </tr>\n",
              "  </thead>\n",
              "  <tbody>\n",
              "    <tr>\n",
              "      <th id=\"T_b1a74_level0_row0\" class=\"row_heading level0 row0\" >index</th>\n",
              "      <td id=\"T_b1a74_row0_col0\" class=\"data row0 col0\" >0.463000</td>\n",
              "      <td id=\"T_b1a74_row0_col1\" class=\"data row0 col1\" >0.680000</td>\n",
              "      <td id=\"T_b1a74_row0_col2\" class=\"data row0 col2\" >0.501000</td>\n",
              "      <td id=\"T_b1a74_row0_col3\" class=\"data row0 col3\" >0.721000</td>\n",
              "      <td id=\"T_b1a74_row0_col4\" class=\"data row0 col4\" >239.529000</td>\n",
              "      <td id=\"T_b1a74_row0_col5\" class=\"data row0 col5\" >0.537000</td>\n",
              "    </tr>\n",
              "    <tr>\n",
              "      <th id=\"T_b1a74_level0_row1\" class=\"row_heading level0 row1\" >quadratic</th>\n",
              "      <td id=\"T_b1a74_row1_col0\" class=\"data row1 col0\" >0.343000</td>\n",
              "      <td id=\"T_b1a74_row1_col1\" class=\"data row1 col1\" >0.586000</td>\n",
              "      <td id=\"T_b1a74_row1_col2\" class=\"data row1 col2\" >0.445000</td>\n",
              "      <td id=\"T_b1a74_row1_col3\" class=\"data row1 col3\" >0.640000</td>\n",
              "      <td id=\"T_b1a74_row1_col4\" class=\"data row1 col4\" >228.354000</td>\n",
              "      <td id=\"T_b1a74_row1_col5\" class=\"data row1 col5\" >0.657000</td>\n",
              "    </tr>\n",
              "    <tr>\n",
              "      <th id=\"T_b1a74_level0_row2\" class=\"row_heading level0 row2\" >cubic</th>\n",
              "      <td id=\"T_b1a74_row2_col0\" class=\"data row2 col0\" >0.315000</td>\n",
              "      <td id=\"T_b1a74_row2_col1\" class=\"data row2 col1\" >0.562000</td>\n",
              "      <td id=\"T_b1a74_row2_col2\" class=\"data row2 col2\" >0.422000</td>\n",
              "      <td id=\"T_b1a74_row2_col3\" class=\"data row2 col3\" >0.606000</td>\n",
              "      <td id=\"T_b1a74_row2_col4\" class=\"data row2 col4\" >180.717000</td>\n",
              "      <td id=\"T_b1a74_row2_col5\" class=\"data row2 col5\" >0.685000</td>\n",
              "    </tr>\n",
              "    <tr>\n",
              "      <th id=\"T_b1a74_level0_row3\" class=\"row_heading level0 row3\" >tree</th>\n",
              "      <td id=\"T_b1a74_row3_col0\" class=\"data row3 col0\" >0.307000</td>\n",
              "      <td id=\"T_b1a74_row3_col1\" class=\"data row3 col1\" >0.554000</td>\n",
              "      <td id=\"T_b1a74_row3_col2\" class=\"data row3 col2\" >0.402000</td>\n",
              "      <td id=\"T_b1a74_row3_col3\" class=\"data row3 col3\" >0.578000</td>\n",
              "      <td id=\"T_b1a74_row3_col4\" class=\"data row3 col4\" >298.471000</td>\n",
              "      <td id=\"T_b1a74_row3_col5\" class=\"data row3 col5\" >0.693000</td>\n",
              "    </tr>\n",
              "  </tbody>\n",
              "</table>\n"
            ]
          },
          "metadata": {},
          "execution_count": 93
        }
      ]
    },
    {
      "cell_type": "markdown",
      "source": [
        "#### **그래프 시각화**"
      ],
      "metadata": {
        "id": "J1EfnMS-Eb0T"
      }
    },
    {
      "cell_type": "code",
      "source": [
        "draw_data()\n",
        "\n",
        "plt.plot(X_every, tree.predict(X_every))"
      ],
      "metadata": {
        "id": "wefFK6Ivatq5",
        "colab": {
          "base_uri": "https://localhost:8080/",
          "height": 297
        },
        "outputId": "48426ebc-8ee5-438e-f0f9-d9cf54ab1ac9"
      },
      "execution_count": 94,
      "outputs": [
        {
          "output_type": "execute_result",
          "data": {
            "text/plain": [
              "[<matplotlib.lines.Line2D at 0x7f5c5e0bf8d0>]"
            ]
          },
          "metadata": {},
          "execution_count": 94
        },
        {
          "output_type": "display_data",
          "data": {
            "text/plain": [
              "<Figure size 432x288 with 1 Axes>"
            ],
            "image/png": "[encoded data removed]"
          },
          "metadata": {
            "needs_background": "light"
          }
        }
      ]
    },
    {
      "cell_type": "markdown",
      "source": [
        "### **| 랜덤 포레스트 회귀 (Random Forest Regressor)**"
      ],
      "metadata": {
        "id": "l1XVbkXFD7Rm"
      }
    },
    {
      "cell_type": "markdown",
      "source": [
        "#### **모델 학습**"
      ],
      "metadata": {
        "id": "vPA4opI3EAza"
      }
    },
    {
      "cell_type": "code",
      "source": [
        "from sklearn.ensemble import RandomForestRegressor\n",
        "forest = RandomForestRegressor(random_state = 1)\n",
        "forest.fit(X_train, y_train)"
      ],
      "metadata": {
        "id": "M_wdfRw0bQhp",
        "colab": {
          "base_uri": "https://localhost:8080/"
        },
        "outputId": "22780c01-f5cf-4c41-9b34-ec28f09ceb0c"
      },
      "execution_count": 95,
      "outputs": [
        {
          "output_type": "execute_result",
          "data": {
            "text/plain": [
              "RandomForestRegressor(random_state=1)"
            ]
          },
          "metadata": {},
          "execution_count": 95
        }
      ]
    },
    {
      "cell_type": "markdown",
      "source": [
        "#### **테스트셋 성능 비교**"
      ],
      "metadata": {
        "id": "uLPJ4OV6EFyT"
      }
    },
    {
      "cell_type": "code",
      "source": [
        "y_pred = forest.predict(X_test)\n",
        "score = regression_scores(y_test, y_pred)\n",
        "df_scores.loc['forest'] = score\n",
        "df_scores.style.background_gradient(cmap = 'Blues_r')"
      ],
      "metadata": {
        "id": "thihkhhg91d0",
        "colab": {
          "base_uri": "https://localhost:8080/",
          "height": 206
        },
        "outputId": "1138f585-32ed-4b7f-a3a3-df8989190b64"
      },
      "execution_count": 96,
      "outputs": [
        {
          "output_type": "execute_result",
          "data": {
            "text/plain": [
              "<pandas.io.formats.style.Styler at 0x7f5c5a8f8ed0>"
            ],
            "text/html": [
              "<style type=\"text/css\">\n",
              "#T_f9cea_row0_col0, #T_f9cea_row0_col1, #T_f9cea_row0_col2, #T_f9cea_row0_col3, #T_f9cea_row3_col4, #T_f9cea_row3_col5 {\n",
              "  background-color: #f7fbff;\n",
              "  color: #000000;\n",
              "}\n",
              "#T_f9cea_row0_col4 {\n",
              "  background-color: #8fc2de;\n",
              "  color: #000000;\n",
              "}\n",
              "#T_f9cea_row0_col5, #T_f9cea_row3_col0, #T_f9cea_row3_col1, #T_f9cea_row3_col2, #T_f9cea_row3_col3, #T_f9cea_row4_col4 {\n",
              "  background-color: #08306b;\n",
              "  color: #f1f1f1;\n",
              "}\n",
              "#T_f9cea_row1_col0 {\n",
              "  background-color: #1d6cb1;\n",
              "  color: #f1f1f1;\n",
              "}\n",
              "#T_f9cea_row1_col1 {\n",
              "  background-color: #2272b6;\n",
              "  color: #f1f1f1;\n",
              "}\n",
              "#T_f9cea_row1_col2 {\n",
              "  background-color: #56a0ce;\n",
              "  color: #f1f1f1;\n",
              "}\n",
              "#T_f9cea_row1_col3 {\n",
              "  background-color: #549fcd;\n",
              "  color: #f1f1f1;\n",
              "}\n",
              "#T_f9cea_row1_col4 {\n",
              "  background-color: #6fb0d7;\n",
              "  color: #f1f1f1;\n",
              "}\n",
              "#T_f9cea_row1_col5 {\n",
              "  background-color: #caddf0;\n",
              "  color: #000000;\n",
              "}\n",
              "#T_f9cea_row2_col0 {\n",
              "  background-color: #083d7f;\n",
              "  color: #f1f1f1;\n",
              "}\n",
              "#T_f9cea_row2_col1 {\n",
              "  background-color: #084184;\n",
              "  color: #f1f1f1;\n",
              "}\n",
              "#T_f9cea_row2_col2 {\n",
              "  background-color: #1764ab;\n",
              "  color: #f1f1f1;\n",
              "}\n",
              "#T_f9cea_row2_col3 {\n",
              "  background-color: #1663aa;\n",
              "  color: #f1f1f1;\n",
              "}\n",
              "#T_f9cea_row2_col4 {\n",
              "  background-color: #125da6;\n",
              "  color: #f1f1f1;\n",
              "}\n",
              "#T_f9cea_row2_col5 {\n",
              "  background-color: #edf4fc;\n",
              "  color: #000000;\n",
              "}\n",
              "#T_f9cea_row4_col0 {\n",
              "  background-color: #d9e7f5;\n",
              "  color: #000000;\n",
              "}\n",
              "#T_f9cea_row4_col1 {\n",
              "  background-color: #dceaf6;\n",
              "  color: #000000;\n",
              "}\n",
              "#T_f9cea_row4_col2, #T_f9cea_row4_col3 {\n",
              "  background-color: #c6dbef;\n",
              "  color: #000000;\n",
              "}\n",
              "#T_f9cea_row4_col5 {\n",
              "  background-color: #0e58a2;\n",
              "  color: #f1f1f1;\n",
              "}\n",
              "</style>\n",
              "<table id=\"T_f9cea_\" class=\"dataframe\">\n",
              "  <thead>\n",
              "    <tr>\n",
              "      <th class=\"blank level0\" >&nbsp;</th>\n",
              "      <th class=\"col_heading level0 col0\" >mse</th>\n",
              "      <th class=\"col_heading level0 col1\" >rmse</th>\n",
              "      <th class=\"col_heading level0 col2\" >mae</th>\n",
              "      <th class=\"col_heading level0 col3\" >nmae</th>\n",
              "      <th class=\"col_heading level0 col4\" >mape</th>\n",
              "      <th class=\"col_heading level0 col5\" >r2</th>\n",
              "    </tr>\n",
              "  </thead>\n",
              "  <tbody>\n",
              "    <tr>\n",
              "      <th id=\"T_f9cea_level0_row0\" class=\"row_heading level0 row0\" >index</th>\n",
              "      <td id=\"T_f9cea_row0_col0\" class=\"data row0 col0\" >0.463000</td>\n",
              "      <td id=\"T_f9cea_row0_col1\" class=\"data row0 col1\" >0.680000</td>\n",
              "      <td id=\"T_f9cea_row0_col2\" class=\"data row0 col2\" >0.501000</td>\n",
              "      <td id=\"T_f9cea_row0_col3\" class=\"data row0 col3\" >0.721000</td>\n",
              "      <td id=\"T_f9cea_row0_col4\" class=\"data row0 col4\" >239.529000</td>\n",
              "      <td id=\"T_f9cea_row0_col5\" class=\"data row0 col5\" >0.537000</td>\n",
              "    </tr>\n",
              "    <tr>\n",
              "      <th id=\"T_f9cea_level0_row1\" class=\"row_heading level0 row1\" >quadratic</th>\n",
              "      <td id=\"T_f9cea_row1_col0\" class=\"data row1 col0\" >0.343000</td>\n",
              "      <td id=\"T_f9cea_row1_col1\" class=\"data row1 col1\" >0.586000</td>\n",
              "      <td id=\"T_f9cea_row1_col2\" class=\"data row1 col2\" >0.445000</td>\n",
              "      <td id=\"T_f9cea_row1_col3\" class=\"data row1 col3\" >0.640000</td>\n",
              "      <td id=\"T_f9cea_row1_col4\" class=\"data row1 col4\" >228.354000</td>\n",
              "      <td id=\"T_f9cea_row1_col5\" class=\"data row1 col5\" >0.657000</td>\n",
              "    </tr>\n",
              "    <tr>\n",
              "      <th id=\"T_f9cea_level0_row2\" class=\"row_heading level0 row2\" >cubic</th>\n",
              "      <td id=\"T_f9cea_row2_col0\" class=\"data row2 col0\" >0.315000</td>\n",
              "      <td id=\"T_f9cea_row2_col1\" class=\"data row2 col1\" >0.562000</td>\n",
              "      <td id=\"T_f9cea_row2_col2\" class=\"data row2 col2\" >0.422000</td>\n",
              "      <td id=\"T_f9cea_row2_col3\" class=\"data row2 col3\" >0.606000</td>\n",
              "      <td id=\"T_f9cea_row2_col4\" class=\"data row2 col4\" >180.717000</td>\n",
              "      <td id=\"T_f9cea_row2_col5\" class=\"data row2 col5\" >0.685000</td>\n",
              "    </tr>\n",
              "    <tr>\n",
              "      <th id=\"T_f9cea_level0_row3\" class=\"row_heading level0 row3\" >tree</th>\n",
              "      <td id=\"T_f9cea_row3_col0\" class=\"data row3 col0\" >0.307000</td>\n",
              "      <td id=\"T_f9cea_row3_col1\" class=\"data row3 col1\" >0.554000</td>\n",
              "      <td id=\"T_f9cea_row3_col2\" class=\"data row3 col2\" >0.402000</td>\n",
              "      <td id=\"T_f9cea_row3_col3\" class=\"data row3 col3\" >0.578000</td>\n",
              "      <td id=\"T_f9cea_row3_col4\" class=\"data row3 col4\" >298.471000</td>\n",
              "      <td id=\"T_f9cea_row3_col5\" class=\"data row3 col5\" >0.693000</td>\n",
              "    </tr>\n",
              "    <tr>\n",
              "      <th id=\"T_f9cea_level0_row4\" class=\"row_heading level0 row4\" >forest</th>\n",
              "      <td id=\"T_f9cea_row4_col0\" class=\"data row4 col0\" >0.439000</td>\n",
              "      <td id=\"T_f9cea_row4_col1\" class=\"data row4 col1\" >0.663000</td>\n",
              "      <td id=\"T_f9cea_row4_col2\" class=\"data row4 col2\" >0.476000</td>\n",
              "      <td id=\"T_f9cea_row4_col3\" class=\"data row4 col3\" >0.685000</td>\n",
              "      <td id=\"T_f9cea_row4_col4\" class=\"data row4 col4\" >155.811000</td>\n",
              "      <td id=\"T_f9cea_row4_col5\" class=\"data row4 col5\" >0.561000</td>\n",
              "    </tr>\n",
              "  </tbody>\n",
              "</table>\n"
            ]
          },
          "metadata": {},
          "execution_count": 96
        }
      ]
    },
    {
      "cell_type": "markdown",
      "source": [
        "#### **그래프 시각화**"
      ],
      "metadata": {
        "id": "9yj-SJ85ESGc"
      }
    },
    {
      "cell_type": "code",
      "source": [
        "draw_data()\n",
        "\n",
        "plt.plot(X_every, forest.predict(X_every))"
      ],
      "metadata": {
        "id": "Zipzp2MBf400",
        "colab": {
          "base_uri": "https://localhost:8080/",
          "height": 297
        },
        "outputId": "57bb8c8b-7a7f-4873-e700-071213907ab4"
      },
      "execution_count": 98,
      "outputs": [
        {
          "output_type": "execute_result",
          "data": {
            "text/plain": [
              "[<matplotlib.lines.Line2D at 0x7f5c57d6efd0>]"
            ]
          },
          "metadata": {},
          "execution_count": 98
        },
        {
          "output_type": "display_data",
          "data": {
            "text/plain": [
              "<Figure size 432x288 with 1 Axes>"
            ],
            "image/png": "[encoded data removed]"
          },
          "metadata": {
            "needs_background": "light"
          }
        }
      ]
    },
    {
      "cell_type": "markdown",
      "source": [
        "### **| 엑스트라 트리 (Extra Tree Regressor)**"
      ],
      "metadata": {
        "id": "J6xmuPP6LZjz"
      }
    },
    {
      "cell_type": "markdown",
      "source": [
        "#### **모델 학습**"
      ],
      "metadata": {
        "id": "hC2KVu-XLZj5"
      }
    },
    {
      "cell_type": "code",
      "source": [
        "from sklearn.ensemble import ExtraTreesRegressor\n",
        "et = ExtraTreesRegressor(random_state=1)\n",
        "et.fit(X_train, y_train)"
      ],
      "metadata": {
        "id": "w63LEOBVLZj5",
        "colab": {
          "base_uri": "https://localhost:8080/"
        },
        "outputId": "5eb7d9e5-5e0c-4b3f-98a5-0a228af49e12"
      },
      "execution_count": 99,
      "outputs": [
        {
          "output_type": "execute_result",
          "data": {
            "text/plain": [
              "ExtraTreesRegressor(random_state=1)"
            ]
          },
          "metadata": {},
          "execution_count": 99
        }
      ]
    },
    {
      "cell_type": "markdown",
      "source": [
        "#### **테스트셋 성능 비교**"
      ],
      "metadata": {
        "id": "exSV_oihLZj5"
      }
    },
    {
      "cell_type": "code",
      "source": [
        "y_pred = et.predict(X_test)\n",
        "score = regression_scores(y_test, y_pred)\n",
        "df_scores.loc['et'] = score\n",
        "df_scores.style.background_gradient(cmap = 'Blues_r')"
      ],
      "metadata": {
        "id": "iF7cDoxQLZj5",
        "colab": {
          "base_uri": "https://localhost:8080/",
          "height": 238
        },
        "outputId": "4f118391-32ad-437d-e5e0-e97b3f2a9987"
      },
      "execution_count": 100,
      "outputs": [
        {
          "output_type": "execute_result",
          "data": {
            "text/plain": [
              "<pandas.io.formats.style.Styler at 0x7f5c5aaafe50>"
            ],
            "text/html": [
              "<style type=\"text/css\">\n",
              "#T_d8d75_row0_col0, #T_d8d75_row0_col1, #T_d8d75_row0_col2, #T_d8d75_row0_col3, #T_d8d75_row3_col4, #T_d8d75_row3_col5 {\n",
              "  background-color: #f7fbff;\n",
              "  color: #000000;\n",
              "}\n",
              "#T_d8d75_row0_col4 {\n",
              "  background-color: #a0cbe2;\n",
              "  color: #000000;\n",
              "}\n",
              "#T_d8d75_row0_col5, #T_d8d75_row3_col0, #T_d8d75_row3_col1, #T_d8d75_row3_col2, #T_d8d75_row3_col3, #T_d8d75_row5_col4 {\n",
              "  background-color: #08306b;\n",
              "  color: #f1f1f1;\n",
              "}\n",
              "#T_d8d75_row1_col0 {\n",
              "  background-color: #1d6cb1;\n",
              "  color: #f1f1f1;\n",
              "}\n",
              "#T_d8d75_row1_col1 {\n",
              "  background-color: #2272b6;\n",
              "  color: #f1f1f1;\n",
              "}\n",
              "#T_d8d75_row1_col2 {\n",
              "  background-color: #56a0ce;\n",
              "  color: #f1f1f1;\n",
              "}\n",
              "#T_d8d75_row1_col3 {\n",
              "  background-color: #549fcd;\n",
              "  color: #f1f1f1;\n",
              "}\n",
              "#T_d8d75_row1_col4 {\n",
              "  background-color: #82bbdb;\n",
              "  color: #000000;\n",
              "}\n",
              "#T_d8d75_row1_col5 {\n",
              "  background-color: #caddf0;\n",
              "  color: #000000;\n",
              "}\n",
              "#T_d8d75_row2_col0 {\n",
              "  background-color: #083d7f;\n",
              "  color: #f1f1f1;\n",
              "}\n",
              "#T_d8d75_row2_col1 {\n",
              "  background-color: #084184;\n",
              "  color: #f1f1f1;\n",
              "}\n",
              "#T_d8d75_row2_col2 {\n",
              "  background-color: #1764ab;\n",
              "  color: #f1f1f1;\n",
              "}\n",
              "#T_d8d75_row2_col3 {\n",
              "  background-color: #1663aa;\n",
              "  color: #f1f1f1;\n",
              "}\n",
              "#T_d8d75_row2_col4 {\n",
              "  background-color: #2373b6;\n",
              "  color: #f1f1f1;\n",
              "}\n",
              "#T_d8d75_row2_col5 {\n",
              "  background-color: #edf4fc;\n",
              "  color: #000000;\n",
              "}\n",
              "#T_d8d75_row4_col0 {\n",
              "  background-color: #d9e7f5;\n",
              "  color: #000000;\n",
              "}\n",
              "#T_d8d75_row4_col1 {\n",
              "  background-color: #dceaf6;\n",
              "  color: #000000;\n",
              "}\n",
              "#T_d8d75_row4_col2, #T_d8d75_row4_col3 {\n",
              "  background-color: #c6dbef;\n",
              "  color: #000000;\n",
              "}\n",
              "#T_d8d75_row4_col4 {\n",
              "  background-color: #084b93;\n",
              "  color: #f1f1f1;\n",
              "}\n",
              "#T_d8d75_row4_col5 {\n",
              "  background-color: #0e58a2;\n",
              "  color: #f1f1f1;\n",
              "}\n",
              "#T_d8d75_row5_col0 {\n",
              "  background-color: #d7e6f5;\n",
              "  color: #000000;\n",
              "}\n",
              "#T_d8d75_row5_col1 {\n",
              "  background-color: #dbe9f6;\n",
              "  color: #000000;\n",
              "}\n",
              "#T_d8d75_row5_col2, #T_d8d75_row5_col3 {\n",
              "  background-color: #c7dcef;\n",
              "  color: #000000;\n",
              "}\n",
              "#T_d8d75_row5_col5 {\n",
              "  background-color: #0f5aa3;\n",
              "  color: #f1f1f1;\n",
              "}\n",
              "</style>\n",
              "<table id=\"T_d8d75_\" class=\"dataframe\">\n",
              "  <thead>\n",
              "    <tr>\n",
              "      <th class=\"blank level0\" >&nbsp;</th>\n",
              "      <th class=\"col_heading level0 col0\" >mse</th>\n",
              "      <th class=\"col_heading level0 col1\" >rmse</th>\n",
              "      <th class=\"col_heading level0 col2\" >mae</th>\n",
              "      <th class=\"col_heading level0 col3\" >nmae</th>\n",
              "      <th class=\"col_heading level0 col4\" >mape</th>\n",
              "      <th class=\"col_heading level0 col5\" >r2</th>\n",
              "    </tr>\n",
              "  </thead>\n",
              "  <tbody>\n",
              "    <tr>\n",
              "      <th id=\"T_d8d75_level0_row0\" class=\"row_heading level0 row0\" >index</th>\n",
              "      <td id=\"T_d8d75_row0_col0\" class=\"data row0 col0\" >0.463000</td>\n",
              "      <td id=\"T_d8d75_row0_col1\" class=\"data row0 col1\" >0.680000</td>\n",
              "      <td id=\"T_d8d75_row0_col2\" class=\"data row0 col2\" >0.501000</td>\n",
              "      <td id=\"T_d8d75_row0_col3\" class=\"data row0 col3\" >0.721000</td>\n",
              "      <td id=\"T_d8d75_row0_col4\" class=\"data row0 col4\" >239.529000</td>\n",
              "      <td id=\"T_d8d75_row0_col5\" class=\"data row0 col5\" >0.537000</td>\n",
              "    </tr>\n",
              "    <tr>\n",
              "      <th id=\"T_d8d75_level0_row1\" class=\"row_heading level0 row1\" >quadratic</th>\n",
              "      <td id=\"T_d8d75_row1_col0\" class=\"data row1 col0\" >0.343000</td>\n",
              "      <td id=\"T_d8d75_row1_col1\" class=\"data row1 col1\" >0.586000</td>\n",
              "      <td id=\"T_d8d75_row1_col2\" class=\"data row1 col2\" >0.445000</td>\n",
              "      <td id=\"T_d8d75_row1_col3\" class=\"data row1 col3\" >0.640000</td>\n",
              "      <td id=\"T_d8d75_row1_col4\" class=\"data row1 col4\" >228.354000</td>\n",
              "      <td id=\"T_d8d75_row1_col5\" class=\"data row1 col5\" >0.657000</td>\n",
              "    </tr>\n",
              "    <tr>\n",
              "      <th id=\"T_d8d75_level0_row2\" class=\"row_heading level0 row2\" >cubic</th>\n",
              "      <td id=\"T_d8d75_row2_col0\" class=\"data row2 col0\" >0.315000</td>\n",
              "      <td id=\"T_d8d75_row2_col1\" class=\"data row2 col1\" >0.562000</td>\n",
              "      <td id=\"T_d8d75_row2_col2\" class=\"data row2 col2\" >0.422000</td>\n",
              "      <td id=\"T_d8d75_row2_col3\" class=\"data row2 col3\" >0.606000</td>\n",
              "      <td id=\"T_d8d75_row2_col4\" class=\"data row2 col4\" >180.717000</td>\n",
              "      <td id=\"T_d8d75_row2_col5\" class=\"data row2 col5\" >0.685000</td>\n",
              "    </tr>\n",
              "    <tr>\n",
              "      <th id=\"T_d8d75_level0_row3\" class=\"row_heading level0 row3\" >tree</th>\n",
              "      <td id=\"T_d8d75_row3_col0\" class=\"data row3 col0\" >0.307000</td>\n",
              "      <td id=\"T_d8d75_row3_col1\" class=\"data row3 col1\" >0.554000</td>\n",
              "      <td id=\"T_d8d75_row3_col2\" class=\"data row3 col2\" >0.402000</td>\n",
              "      <td id=\"T_d8d75_row3_col3\" class=\"data row3 col3\" >0.578000</td>\n",
              "      <td id=\"T_d8d75_row3_col4\" class=\"data row3 col4\" >298.471000</td>\n",
              "      <td id=\"T_d8d75_row3_col5\" class=\"data row3 col5\" >0.693000</td>\n",
              "    </tr>\n",
              "    <tr>\n",
              "      <th id=\"T_d8d75_level0_row4\" class=\"row_heading level0 row4\" >forest</th>\n",
              "      <td id=\"T_d8d75_row4_col0\" class=\"data row4 col0\" >0.439000</td>\n",
              "      <td id=\"T_d8d75_row4_col1\" class=\"data row4 col1\" >0.663000</td>\n",
              "      <td id=\"T_d8d75_row4_col2\" class=\"data row4 col2\" >0.476000</td>\n",
              "      <td id=\"T_d8d75_row4_col3\" class=\"data row4 col3\" >0.685000</td>\n",
              "      <td id=\"T_d8d75_row4_col4\" class=\"data row4 col4\" >155.811000</td>\n",
              "      <td id=\"T_d8d75_row4_col5\" class=\"data row4 col5\" >0.561000</td>\n",
              "    </tr>\n",
              "    <tr>\n",
              "      <th id=\"T_d8d75_level0_row5\" class=\"row_heading level0 row5\" >et</th>\n",
              "      <td id=\"T_d8d75_row5_col0\" class=\"data row5 col0\" >0.438000</td>\n",
              "      <td id=\"T_d8d75_row5_col1\" class=\"data row5 col1\" >0.662000</td>\n",
              "      <td id=\"T_d8d75_row5_col2\" class=\"data row5 col2\" >0.477000</td>\n",
              "      <td id=\"T_d8d75_row5_col3\" class=\"data row5 col3\" >0.686000</td>\n",
              "      <td id=\"T_d8d75_row5_col4\" class=\"data row5 col4\" >139.622000</td>\n",
              "      <td id=\"T_d8d75_row5_col5\" class=\"data row5 col5\" >0.562000</td>\n",
              "    </tr>\n",
              "  </tbody>\n",
              "</table>\n"
            ]
          },
          "metadata": {},
          "execution_count": 100
        }
      ]
    },
    {
      "cell_type": "markdown",
      "source": [
        "#### **그래프 시각화**"
      ],
      "metadata": {
        "id": "RWMOqMszLZj5"
      }
    },
    {
      "cell_type": "code",
      "source": [
        "draw_data()\n",
        "\n",
        "plt.plot(X_every, et.predict(X_every))"
      ],
      "metadata": {
        "id": "SAm2hvuYLZj5",
        "colab": {
          "base_uri": "https://localhost:8080/",
          "height": 297
        },
        "outputId": "b77f6ebe-976b-4aee-d637-49137850ca2d"
      },
      "execution_count": 101,
      "outputs": [
        {
          "output_type": "execute_result",
          "data": {
            "text/plain": [
              "[<matplotlib.lines.Line2D at 0x7f5c57cf4fd0>]"
            ]
          },
          "metadata": {},
          "execution_count": 101
        },
        {
          "output_type": "display_data",
          "data": {
            "text/plain": [
              "<Figure size 432x288 with 1 Axes>"
            ],
            "image/png": "[encoded data removed]"
          },
          "metadata": {
            "needs_background": "light"
          }
        }
      ]
    },
    {
      "cell_type": "markdown",
      "source": [
        "### **| Gradient Boosting Regressor**"
      ],
      "metadata": {
        "id": "k8XiGE3NMED_"
      }
    },
    {
      "cell_type": "markdown",
      "source": [
        "#### **모델 학습**"
      ],
      "metadata": {
        "id": "OuQDDlYoMEEE"
      }
    },
    {
      "cell_type": "code",
      "source": [
        "from sklearn.ensemble import GradientBoostingRegressor\n",
        "\n",
        "gb = GradientBoostingRegressor(random_state = 1)\n",
        "gb.fit(X_train, y_train)"
      ],
      "metadata": {
        "id": "JuqxOkcjMEEF",
        "colab": {
          "base_uri": "https://localhost:8080/"
        },
        "outputId": "af63cc45-1ffe-4232-e53e-6330b6fcff55"
      },
      "execution_count": 102,
      "outputs": [
        {
          "output_type": "execute_result",
          "data": {
            "text/plain": [
              "GradientBoostingRegressor(random_state=1)"
            ]
          },
          "metadata": {},
          "execution_count": 102
        }
      ]
    },
    {
      "cell_type": "markdown",
      "source": [
        "#### **테스트셋 성능 비교**"
      ],
      "metadata": {
        "id": "gCjS_nhuMEEF"
      }
    },
    {
      "cell_type": "code",
      "source": [
        "y_pred = gb.predict(X_test)\n",
        "score = regression_scores(y_test, y_pred)\n",
        "df_scores.loc['gb'] = score\n",
        "df_scores.style.background_gradient(cmap = 'Blues_r')"
      ],
      "metadata": {
        "id": "m2EaO6yuMEEF",
        "colab": {
          "base_uri": "https://localhost:8080/",
          "height": 269
        },
        "outputId": "b8601a6b-0abe-4912-a054-3b0bbe8b607b"
      },
      "execution_count": 103,
      "outputs": [
        {
          "output_type": "execute_result",
          "data": {
            "text/plain": [
              "<pandas.io.formats.style.Styler at 0x7f5c57d43d90>"
            ],
            "text/html": [
              "<style type=\"text/css\">\n",
              "#T_a3521_row0_col0, #T_a3521_row0_col1, #T_a3521_row0_col2, #T_a3521_row0_col3, #T_a3521_row3_col4, #T_a3521_row3_col5 {\n",
              "  background-color: #f7fbff;\n",
              "  color: #000000;\n",
              "}\n",
              "#T_a3521_row0_col4 {\n",
              "  background-color: #b9d6ea;\n",
              "  color: #000000;\n",
              "}\n",
              "#T_a3521_row0_col5, #T_a3521_row3_col0, #T_a3521_row3_col1, #T_a3521_row3_col2, #T_a3521_row3_col3, #T_a3521_row6_col4 {\n",
              "  background-color: #08306b;\n",
              "  color: #f1f1f1;\n",
              "}\n",
              "#T_a3521_row1_col0 {\n",
              "  background-color: #1d6cb1;\n",
              "  color: #f1f1f1;\n",
              "}\n",
              "#T_a3521_row1_col1 {\n",
              "  background-color: #2272b6;\n",
              "  color: #f1f1f1;\n",
              "}\n",
              "#T_a3521_row1_col2 {\n",
              "  background-color: #56a0ce;\n",
              "  color: #f1f1f1;\n",
              "}\n",
              "#T_a3521_row1_col3 {\n",
              "  background-color: #549fcd;\n",
              "  color: #f1f1f1;\n",
              "}\n",
              "#T_a3521_row1_col4 {\n",
              "  background-color: #a8cee4;\n",
              "  color: #000000;\n",
              "}\n",
              "#T_a3521_row1_col5 {\n",
              "  background-color: #caddf0;\n",
              "  color: #000000;\n",
              "}\n",
              "#T_a3521_row2_col0 {\n",
              "  background-color: #083d7f;\n",
              "  color: #f1f1f1;\n",
              "}\n",
              "#T_a3521_row2_col1 {\n",
              "  background-color: #084184;\n",
              "  color: #f1f1f1;\n",
              "}\n",
              "#T_a3521_row2_col2 {\n",
              "  background-color: #1764ab;\n",
              "  color: #f1f1f1;\n",
              "}\n",
              "#T_a3521_row2_col3 {\n",
              "  background-color: #1663aa;\n",
              "  color: #f1f1f1;\n",
              "}\n",
              "#T_a3521_row2_col4 {\n",
              "  background-color: #519ccc;\n",
              "  color: #f1f1f1;\n",
              "}\n",
              "#T_a3521_row2_col5 {\n",
              "  background-color: #edf4fc;\n",
              "  color: #000000;\n",
              "}\n",
              "#T_a3521_row4_col0 {\n",
              "  background-color: #d9e7f5;\n",
              "  color: #000000;\n",
              "}\n",
              "#T_a3521_row4_col1 {\n",
              "  background-color: #dceaf6;\n",
              "  color: #000000;\n",
              "}\n",
              "#T_a3521_row4_col2, #T_a3521_row4_col3 {\n",
              "  background-color: #c6dbef;\n",
              "  color: #000000;\n",
              "}\n",
              "#T_a3521_row4_col4 {\n",
              "  background-color: #2e7ebc;\n",
              "  color: #f1f1f1;\n",
              "}\n",
              "#T_a3521_row4_col5 {\n",
              "  background-color: #0e58a2;\n",
              "  color: #f1f1f1;\n",
              "}\n",
              "#T_a3521_row5_col0 {\n",
              "  background-color: #d7e6f5;\n",
              "  color: #000000;\n",
              "}\n",
              "#T_a3521_row5_col1 {\n",
              "  background-color: #dbe9f6;\n",
              "  color: #000000;\n",
              "}\n",
              "#T_a3521_row5_col2, #T_a3521_row5_col3 {\n",
              "  background-color: #c7dcef;\n",
              "  color: #000000;\n",
              "}\n",
              "#T_a3521_row5_col4 {\n",
              "  background-color: #1b69af;\n",
              "  color: #f1f1f1;\n",
              "}\n",
              "#T_a3521_row5_col5 {\n",
              "  background-color: #0f5aa3;\n",
              "  color: #f1f1f1;\n",
              "}\n",
              "#T_a3521_row6_col0 {\n",
              "  background-color: #1460a8;\n",
              "  color: #f1f1f1;\n",
              "}\n",
              "#T_a3521_row6_col1 {\n",
              "  background-color: #1865ac;\n",
              "  color: #f1f1f1;\n",
              "}\n",
              "#T_a3521_row6_col2 {\n",
              "  background-color: #084387;\n",
              "  color: #f1f1f1;\n",
              "}\n",
              "#T_a3521_row6_col3 {\n",
              "  background-color: #084285;\n",
              "  color: #f1f1f1;\n",
              "}\n",
              "#T_a3521_row6_col5 {\n",
              "  background-color: #d3e3f3;\n",
              "  color: #000000;\n",
              "}\n",
              "</style>\n",
              "<table id=\"T_a3521_\" class=\"dataframe\">\n",
              "  <thead>\n",
              "    <tr>\n",
              "      <th class=\"blank level0\" >&nbsp;</th>\n",
              "      <th class=\"col_heading level0 col0\" >mse</th>\n",
              "      <th class=\"col_heading level0 col1\" >rmse</th>\n",
              "      <th class=\"col_heading level0 col2\" >mae</th>\n",
              "      <th class=\"col_heading level0 col3\" >nmae</th>\n",
              "      <th class=\"col_heading level0 col4\" >mape</th>\n",
              "      <th class=\"col_heading level0 col5\" >r2</th>\n",
              "    </tr>\n",
              "  </thead>\n",
              "  <tbody>\n",
              "    <tr>\n",
              "      <th id=\"T_a3521_level0_row0\" class=\"row_heading level0 row0\" >index</th>\n",
              "      <td id=\"T_a3521_row0_col0\" class=\"data row0 col0\" >0.463000</td>\n",
              "      <td id=\"T_a3521_row0_col1\" class=\"data row0 col1\" >0.680000</td>\n",
              "      <td id=\"T_a3521_row0_col2\" class=\"data row0 col2\" >0.501000</td>\n",
              "      <td id=\"T_a3521_row0_col3\" class=\"data row0 col3\" >0.721000</td>\n",
              "      <td id=\"T_a3521_row0_col4\" class=\"data row0 col4\" >239.529000</td>\n",
              "      <td id=\"T_a3521_row0_col5\" class=\"data row0 col5\" >0.537000</td>\n",
              "    </tr>\n",
              "    <tr>\n",
              "      <th id=\"T_a3521_level0_row1\" class=\"row_heading level0 row1\" >quadratic</th>\n",
              "      <td id=\"T_a3521_row1_col0\" class=\"data row1 col0\" >0.343000</td>\n",
              "      <td id=\"T_a3521_row1_col1\" class=\"data row1 col1\" >0.586000</td>\n",
              "      <td id=\"T_a3521_row1_col2\" class=\"data row1 col2\" >0.445000</td>\n",
              "      <td id=\"T_a3521_row1_col3\" class=\"data row1 col3\" >0.640000</td>\n",
              "      <td id=\"T_a3521_row1_col4\" class=\"data row1 col4\" >228.354000</td>\n",
              "      <td id=\"T_a3521_row1_col5\" class=\"data row1 col5\" >0.657000</td>\n",
              "    </tr>\n",
              "    <tr>\n",
              "      <th id=\"T_a3521_level0_row2\" class=\"row_heading level0 row2\" >cubic</th>\n",
              "      <td id=\"T_a3521_row2_col0\" class=\"data row2 col0\" >0.315000</td>\n",
              "      <td id=\"T_a3521_row2_col1\" class=\"data row2 col1\" >0.562000</td>\n",
              "      <td id=\"T_a3521_row2_col2\" class=\"data row2 col2\" >0.422000</td>\n",
              "      <td id=\"T_a3521_row2_col3\" class=\"data row2 col3\" >0.606000</td>\n",
              "      <td id=\"T_a3521_row2_col4\" class=\"data row2 col4\" >180.717000</td>\n",
              "      <td id=\"T_a3521_row2_col5\" class=\"data row2 col5\" >0.685000</td>\n",
              "    </tr>\n",
              "    <tr>\n",
              "      <th id=\"T_a3521_level0_row3\" class=\"row_heading level0 row3\" >tree</th>\n",
              "      <td id=\"T_a3521_row3_col0\" class=\"data row3 col0\" >0.307000</td>\n",
              "      <td id=\"T_a3521_row3_col1\" class=\"data row3 col1\" >0.554000</td>\n",
              "      <td id=\"T_a3521_row3_col2\" class=\"data row3 col2\" >0.402000</td>\n",
              "      <td id=\"T_a3521_row3_col3\" class=\"data row3 col3\" >0.578000</td>\n",
              "      <td id=\"T_a3521_row3_col4\" class=\"data row3 col4\" >298.471000</td>\n",
              "      <td id=\"T_a3521_row3_col5\" class=\"data row3 col5\" >0.693000</td>\n",
              "    </tr>\n",
              "    <tr>\n",
              "      <th id=\"T_a3521_level0_row4\" class=\"row_heading level0 row4\" >forest</th>\n",
              "      <td id=\"T_a3521_row4_col0\" class=\"data row4 col0\" >0.439000</td>\n",
              "      <td id=\"T_a3521_row4_col1\" class=\"data row4 col1\" >0.663000</td>\n",
              "      <td id=\"T_a3521_row4_col2\" class=\"data row4 col2\" >0.476000</td>\n",
              "      <td id=\"T_a3521_row4_col3\" class=\"data row4 col3\" >0.685000</td>\n",
              "      <td id=\"T_a3521_row4_col4\" class=\"data row4 col4\" >155.811000</td>\n",
              "      <td id=\"T_a3521_row4_col5\" class=\"data row4 col5\" >0.561000</td>\n",
              "    </tr>\n",
              "    <tr>\n",
              "      <th id=\"T_a3521_level0_row5\" class=\"row_heading level0 row5\" >et</th>\n",
              "      <td id=\"T_a3521_row5_col0\" class=\"data row5 col0\" >0.438000</td>\n",
              "      <td id=\"T_a3521_row5_col1\" class=\"data row5 col1\" >0.662000</td>\n",
              "      <td id=\"T_a3521_row5_col2\" class=\"data row5 col2\" >0.477000</td>\n",
              "      <td id=\"T_a3521_row5_col3\" class=\"data row5 col3\" >0.686000</td>\n",
              "      <td id=\"T_a3521_row5_col4\" class=\"data row5 col4\" >139.622000</td>\n",
              "      <td id=\"T_a3521_row5_col5\" class=\"data row5 col5\" >0.562000</td>\n",
              "    </tr>\n",
              "    <tr>\n",
              "      <th id=\"T_a3521_level0_row6\" class=\"row_heading level0 row6\" >gb</th>\n",
              "      <td id=\"T_a3521_row6_col0\" class=\"data row6 col0\" >0.336000</td>\n",
              "      <td id=\"T_a3521_row6_col1\" class=\"data row6 col1\" >0.580000</td>\n",
              "      <td id=\"T_a3521_row6_col2\" class=\"data row6 col2\" >0.409000</td>\n",
              "      <td id=\"T_a3521_row6_col3\" class=\"data row6 col3\" >0.588000</td>\n",
              "      <td id=\"T_a3521_row6_col4\" class=\"data row6 col4\" >95.064000</td>\n",
              "      <td id=\"T_a3521_row6_col5\" class=\"data row6 col5\" >0.664000</td>\n",
              "    </tr>\n",
              "  </tbody>\n",
              "</table>\n"
            ]
          },
          "metadata": {},
          "execution_count": 103
        }
      ]
    },
    {
      "cell_type": "markdown",
      "source": [
        "#### **그래프 시각화**"
      ],
      "metadata": {
        "id": "VizJqzEyMEEF"
      }
    },
    {
      "cell_type": "code",
      "source": [
        "draw_data()\n",
        "\n",
        "plt.plot(X_every, gb.predict(X_every))"
      ],
      "metadata": {
        "id": "HT2r-hT9MEEF",
        "colab": {
          "base_uri": "https://localhost:8080/",
          "height": 297
        },
        "outputId": "2e17dcd2-a517-4567-a6c2-8d60b5816985"
      },
      "execution_count": 107,
      "outputs": [
        {
          "output_type": "execute_result",
          "data": {
            "text/plain": [
              "[<matplotlib.lines.Line2D at 0x7f5c57bf36d0>]"
            ]
          },
          "metadata": {},
          "execution_count": 107
        },
        {
          "output_type": "display_data",
          "data": {
            "text/plain": [
              "<Figure size 432x288 with 1 Axes>"
            ],
            "image/png": "[encoded data removed]"
          },
          "metadata": {
            "needs_background": "light"
          }
        }
      ]
    },
    {
      "cell_type": "markdown",
      "source": [
        "### **| XGBoost Regressor**"
      ],
      "metadata": {
        "id": "kNc2FzbdMbBX"
      }
    },
    {
      "cell_type": "markdown",
      "source": [
        "#### **모델 학습**"
      ],
      "metadata": {
        "id": "o4GP5G89MbBX"
      }
    },
    {
      "cell_type": "code",
      "source": [
        "from xgboost import XGBRegressor\n",
        "\n",
        "xgb = XGBRegressor(random_state=1)\n",
        "xgb.fit(X_train, y_train)"
      ],
      "metadata": {
        "id": "e-Z4OxoFMbBX",
        "colab": {
          "base_uri": "https://localhost:8080/"
        },
        "outputId": "1558ac38-cc59-4d38-b359-4d3f1f4a4953"
      },
      "execution_count": 105,
      "outputs": [
        {
          "output_type": "stream",
          "name": "stdout",
          "text": [
            "[05:13:58] WARNING: /workspace/src/objective/regression_obj.cu:152: reg:linear is now deprecated in favor of reg:squarederror.\n"
          ]
        },
        {
          "output_type": "execute_result",
          "data": {
            "text/plain": [
              "XGBRegressor(random_state=1)"
            ]
          },
          "metadata": {},
          "execution_count": 105
        }
      ]
    },
    {
      "cell_type": "markdown",
      "source": [
        "#### **테스트셋 성능 비교**"
      ],
      "metadata": {
        "id": "JlCj1bdxMbBY"
      }
    },
    {
      "cell_type": "code",
      "source": [
        "y_pred = xgb.predict(X_test)\n",
        "score = regression_scores(y_test, y_pred)\n",
        "df_scores.loc['xgb'] = score\n",
        "df_scores.style.background_gradient(cmap = 'Blues_r')"
      ],
      "metadata": {
        "id": "dJDy8n18MbBY",
        "colab": {
          "base_uri": "https://localhost:8080/",
          "height": 300
        },
        "outputId": "81d5db91-0d85-4431-bc3c-d5bd64001eba"
      },
      "execution_count": 108,
      "outputs": [
        {
          "output_type": "execute_result",
          "data": {
            "text/plain": [
              "<pandas.io.formats.style.Styler at 0x7f5c4ee39f90>"
            ],
            "text/html": [
              "<style type=\"text/css\">\n",
              "#T_2680e_row0_col0, #T_2680e_row0_col1, #T_2680e_row0_col2, #T_2680e_row0_col3, #T_2680e_row3_col4, #T_2680e_row3_col5 {\n",
              "  background-color: #f7fbff;\n",
              "  color: #000000;\n",
              "}\n",
              "#T_2680e_row0_col4 {\n",
              "  background-color: #bed8ec;\n",
              "  color: #000000;\n",
              "}\n",
              "#T_2680e_row0_col5, #T_2680e_row3_col0, #T_2680e_row3_col1, #T_2680e_row7_col2, #T_2680e_row7_col3, #T_2680e_row7_col4 {\n",
              "  background-color: #08306b;\n",
              "  color: #f1f1f1;\n",
              "}\n",
              "#T_2680e_row1_col0 {\n",
              "  background-color: #1d6cb1;\n",
              "  color: #f1f1f1;\n",
              "}\n",
              "#T_2680e_row1_col1, #T_2680e_row5_col4 {\n",
              "  background-color: #2272b6;\n",
              "  color: #f1f1f1;\n",
              "}\n",
              "#T_2680e_row1_col2, #T_2680e_row1_col3, #T_2680e_row2_col4 {\n",
              "  background-color: #5aa2cf;\n",
              "  color: #f1f1f1;\n",
              "}\n",
              "#T_2680e_row1_col4 {\n",
              "  background-color: #add0e6;\n",
              "  color: #000000;\n",
              "}\n",
              "#T_2680e_row1_col5 {\n",
              "  background-color: #caddf0;\n",
              "  color: #000000;\n",
              "}\n",
              "#T_2680e_row2_col0 {\n",
              "  background-color: #083d7f;\n",
              "  color: #f1f1f1;\n",
              "}\n",
              "#T_2680e_row2_col1 {\n",
              "  background-color: #084184;\n",
              "  color: #f1f1f1;\n",
              "}\n",
              "#T_2680e_row2_col2, #T_2680e_row2_col3 {\n",
              "  background-color: #1a68ae;\n",
              "  color: #f1f1f1;\n",
              "}\n",
              "#T_2680e_row2_col5 {\n",
              "  background-color: #edf4fc;\n",
              "  color: #000000;\n",
              "}\n",
              "#T_2680e_row3_col2 {\n",
              "  background-color: #083573;\n",
              "  color: #f1f1f1;\n",
              "}\n",
              "#T_2680e_row3_col3 {\n",
              "  background-color: #083674;\n",
              "  color: #f1f1f1;\n",
              "}\n",
              "#T_2680e_row4_col0 {\n",
              "  background-color: #d9e7f5;\n",
              "  color: #000000;\n",
              "}\n",
              "#T_2680e_row4_col1 {\n",
              "  background-color: #dceaf6;\n",
              "  color: #000000;\n",
              "}\n",
              "#T_2680e_row4_col2 {\n",
              "  background-color: #c7dbef;\n",
              "  color: #000000;\n",
              "}\n",
              "#T_2680e_row4_col3 {\n",
              "  background-color: #c7dcef;\n",
              "  color: #000000;\n",
              "}\n",
              "#T_2680e_row4_col4 {\n",
              "  background-color: #3686c0;\n",
              "  color: #f1f1f1;\n",
              "}\n",
              "#T_2680e_row4_col5 {\n",
              "  background-color: #0e58a2;\n",
              "  color: #f1f1f1;\n",
              "}\n",
              "#T_2680e_row5_col0 {\n",
              "  background-color: #d7e6f5;\n",
              "  color: #000000;\n",
              "}\n",
              "#T_2680e_row5_col1 {\n",
              "  background-color: #dbe9f6;\n",
              "  color: #000000;\n",
              "}\n",
              "#T_2680e_row5_col2, #T_2680e_row5_col3 {\n",
              "  background-color: #c9ddf0;\n",
              "  color: #000000;\n",
              "}\n",
              "#T_2680e_row5_col5 {\n",
              "  background-color: #0f5aa3;\n",
              "  color: #f1f1f1;\n",
              "}\n",
              "#T_2680e_row6_col0 {\n",
              "  background-color: #1460a8;\n",
              "  color: #f1f1f1;\n",
              "}\n",
              "#T_2680e_row6_col1 {\n",
              "  background-color: #1865ac;\n",
              "  color: #f1f1f1;\n",
              "}\n",
              "#T_2680e_row6_col2 {\n",
              "  background-color: #08478d;\n",
              "  color: #f1f1f1;\n",
              "}\n",
              "#T_2680e_row6_col3, #T_2680e_row7_col0 {\n",
              "  background-color: #084990;\n",
              "  color: #f1f1f1;\n",
              "}\n",
              "#T_2680e_row6_col4 {\n",
              "  background-color: #083b7c;\n",
              "  color: #f1f1f1;\n",
              "}\n",
              "#T_2680e_row6_col5 {\n",
              "  background-color: #d3e3f3;\n",
              "  color: #000000;\n",
              "}\n",
              "#T_2680e_row7_col1 {\n",
              "  background-color: #084b93;\n",
              "  color: #f1f1f1;\n",
              "}\n",
              "#T_2680e_row7_col5 {\n",
              "  background-color: #e4eff9;\n",
              "  color: #000000;\n",
              "}\n",
              "</style>\n",
              "<table id=\"T_2680e_\" class=\"dataframe\">\n",
              "  <thead>\n",
              "    <tr>\n",
              "      <th class=\"blank level0\" >&nbsp;</th>\n",
              "      <th class=\"col_heading level0 col0\" >mse</th>\n",
              "      <th class=\"col_heading level0 col1\" >rmse</th>\n",
              "      <th class=\"col_heading level0 col2\" >mae</th>\n",
              "      <th class=\"col_heading level0 col3\" >nmae</th>\n",
              "      <th class=\"col_heading level0 col4\" >mape</th>\n",
              "      <th class=\"col_heading level0 col5\" >r2</th>\n",
              "    </tr>\n",
              "  </thead>\n",
              "  <tbody>\n",
              "    <tr>\n",
              "      <th id=\"T_2680e_level0_row0\" class=\"row_heading level0 row0\" >index</th>\n",
              "      <td id=\"T_2680e_row0_col0\" class=\"data row0 col0\" >0.463000</td>\n",
              "      <td id=\"T_2680e_row0_col1\" class=\"data row0 col1\" >0.680000</td>\n",
              "      <td id=\"T_2680e_row0_col2\" class=\"data row0 col2\" >0.501000</td>\n",
              "      <td id=\"T_2680e_row0_col3\" class=\"data row0 col3\" >0.721000</td>\n",
              "      <td id=\"T_2680e_row0_col4\" class=\"data row0 col4\" >239.529000</td>\n",
              "      <td id=\"T_2680e_row0_col5\" class=\"data row0 col5\" >0.537000</td>\n",
              "    </tr>\n",
              "    <tr>\n",
              "      <th id=\"T_2680e_level0_row1\" class=\"row_heading level0 row1\" >quadratic</th>\n",
              "      <td id=\"T_2680e_row1_col0\" class=\"data row1 col0\" >0.343000</td>\n",
              "      <td id=\"T_2680e_row1_col1\" class=\"data row1 col1\" >0.586000</td>\n",
              "      <td id=\"T_2680e_row1_col2\" class=\"data row1 col2\" >0.445000</td>\n",
              "      <td id=\"T_2680e_row1_col3\" class=\"data row1 col3\" >0.640000</td>\n",
              "      <td id=\"T_2680e_row1_col4\" class=\"data row1 col4\" >228.354000</td>\n",
              "      <td id=\"T_2680e_row1_col5\" class=\"data row1 col5\" >0.657000</td>\n",
              "    </tr>\n",
              "    <tr>\n",
              "      <th id=\"T_2680e_level0_row2\" class=\"row_heading level0 row2\" >cubic</th>\n",
              "      <td id=\"T_2680e_row2_col0\" class=\"data row2 col0\" >0.315000</td>\n",
              "      <td id=\"T_2680e_row2_col1\" class=\"data row2 col1\" >0.562000</td>\n",
              "      <td id=\"T_2680e_row2_col2\" class=\"data row2 col2\" >0.422000</td>\n",
              "      <td id=\"T_2680e_row2_col3\" class=\"data row2 col3\" >0.606000</td>\n",
              "      <td id=\"T_2680e_row2_col4\" class=\"data row2 col4\" >180.717000</td>\n",
              "      <td id=\"T_2680e_row2_col5\" class=\"data row2 col5\" >0.685000</td>\n",
              "    </tr>\n",
              "    <tr>\n",
              "      <th id=\"T_2680e_level0_row3\" class=\"row_heading level0 row3\" >tree</th>\n",
              "      <td id=\"T_2680e_row3_col0\" class=\"data row3 col0\" >0.307000</td>\n",
              "      <td id=\"T_2680e_row3_col1\" class=\"data row3 col1\" >0.554000</td>\n",
              "      <td id=\"T_2680e_row3_col2\" class=\"data row3 col2\" >0.402000</td>\n",
              "      <td id=\"T_2680e_row3_col3\" class=\"data row3 col3\" >0.578000</td>\n",
              "      <td id=\"T_2680e_row3_col4\" class=\"data row3 col4\" >298.471000</td>\n",
              "      <td id=\"T_2680e_row3_col5\" class=\"data row3 col5\" >0.693000</td>\n",
              "    </tr>\n",
              "    <tr>\n",
              "      <th id=\"T_2680e_level0_row4\" class=\"row_heading level0 row4\" >forest</th>\n",
              "      <td id=\"T_2680e_row4_col0\" class=\"data row4 col0\" >0.439000</td>\n",
              "      <td id=\"T_2680e_row4_col1\" class=\"data row4 col1\" >0.663000</td>\n",
              "      <td id=\"T_2680e_row4_col2\" class=\"data row4 col2\" >0.476000</td>\n",
              "      <td id=\"T_2680e_row4_col3\" class=\"data row4 col3\" >0.685000</td>\n",
              "      <td id=\"T_2680e_row4_col4\" class=\"data row4 col4\" >155.811000</td>\n",
              "      <td id=\"T_2680e_row4_col5\" class=\"data row4 col5\" >0.561000</td>\n",
              "    </tr>\n",
              "    <tr>\n",
              "      <th id=\"T_2680e_level0_row5\" class=\"row_heading level0 row5\" >et</th>\n",
              "      <td id=\"T_2680e_row5_col0\" class=\"data row5 col0\" >0.438000</td>\n",
              "      <td id=\"T_2680e_row5_col1\" class=\"data row5 col1\" >0.662000</td>\n",
              "      <td id=\"T_2680e_row5_col2\" class=\"data row5 col2\" >0.477000</td>\n",
              "      <td id=\"T_2680e_row5_col3\" class=\"data row5 col3\" >0.686000</td>\n",
              "      <td id=\"T_2680e_row5_col4\" class=\"data row5 col4\" >139.622000</td>\n",
              "      <td id=\"T_2680e_row5_col5\" class=\"data row5 col5\" >0.562000</td>\n",
              "    </tr>\n",
              "    <tr>\n",
              "      <th id=\"T_2680e_level0_row6\" class=\"row_heading level0 row6\" >gb</th>\n",
              "      <td id=\"T_2680e_row6_col0\" class=\"data row6 col0\" >0.336000</td>\n",
              "      <td id=\"T_2680e_row6_col1\" class=\"data row6 col1\" >0.580000</td>\n",
              "      <td id=\"T_2680e_row6_col2\" class=\"data row6 col2\" >0.409000</td>\n",
              "      <td id=\"T_2680e_row6_col3\" class=\"data row6 col3\" >0.588000</td>\n",
              "      <td id=\"T_2680e_row6_col4\" class=\"data row6 col4\" >95.064000</td>\n",
              "      <td id=\"T_2680e_row6_col5\" class=\"data row6 col5\" >0.664000</td>\n",
              "    </tr>\n",
              "    <tr>\n",
              "      <th id=\"T_2680e_level0_row7\" class=\"row_heading level0 row7\" >xgb</th>\n",
              "      <td id=\"T_2680e_row7_col0\" class=\"data row7 col0\" >0.322000</td>\n",
              "      <td id=\"T_2680e_row7_col1\" class=\"data row7 col1\" >0.567000</td>\n",
              "      <td id=\"T_2680e_row7_col2\" class=\"data row7 col2\" >0.400000</td>\n",
              "      <td id=\"T_2680e_row7_col3\" class=\"data row7 col3\" >0.574000</td>\n",
              "      <td id=\"T_2680e_row7_col4\" class=\"data row7 col4\" >85.381000</td>\n",
              "      <td id=\"T_2680e_row7_col5\" class=\"data row7 col5\" >0.678000</td>\n",
              "    </tr>\n",
              "  </tbody>\n",
              "</table>\n"
            ]
          },
          "metadata": {},
          "execution_count": 108
        }
      ]
    },
    {
      "cell_type": "markdown",
      "source": [
        "#### **그래프 시각화**"
      ],
      "metadata": {
        "id": "YFFUEVtXMbBY"
      }
    },
    {
      "cell_type": "code",
      "source": [
        "draw_data()\n",
        "\n",
        "plt.plot(X_every, xgb.predict(X_every))"
      ],
      "metadata": {
        "id": "ChvPJh-nMbBY",
        "colab": {
          "base_uri": "https://localhost:8080/",
          "height": 297
        },
        "outputId": "52bac2a4-17bc-49db-9b9f-6872d5b84110"
      },
      "execution_count": 109,
      "outputs": [
        {
          "output_type": "execute_result",
          "data": {
            "text/plain": [
              "[<matplotlib.lines.Line2D at 0x7f5c4ee1f190>]"
            ]
          },
          "metadata": {},
          "execution_count": 109
        },
        {
          "output_type": "display_data",
          "data": {
            "text/plain": [
              "<Figure size 432x288 with 1 Axes>"
            ],
            "image/png": "[encoded data removed]"
          },
          "metadata": {
            "needs_background": "light"
          }
        }
      ]
    },
    {
      "cell_type": "markdown",
      "source": [
        "## **과제1: 주택 데이터셋 다중 회귀 분석**\n",
        "---\n",
        "\n",
        "* 주택 데이터셋의 X의 모든 속성을 이용해 y를 예측합니다.\n",
        "* 지난시간과 이번시간에 배운 회귀 분석 모델을 모두 사용해보고, 성능을 비교해 봅니다.\n",
        "* 단, 다항회귀는 사용하지 마세요.\n",
        "* 사용 모델 : \n",
        "```\n",
        "'linear', 'ridge', 'lasso', 'elastic', 'bayes_ridge', 'tree', 'forest', 'et', 'gb', 'xgb'\n",
        "```"
      ],
      "metadata": {
        "id": "5JWTBCG-EkR1"
      }
    },
    {
      "cell_type": "markdown",
      "source": [
        "#### **데이터 불러오기**"
      ],
      "metadata": {
        "id": "hc-YysUvFJWS"
      }
    },
    {
      "cell_type": "code",
      "source": [
        "X_train, X_test, y_train, y_test = housing_loader() # X 속성 선택 가능\n",
        "X_train.shape, X_test.shape, y_train.shape, y_test.shape"
      ],
      "metadata": {
        "id": "qpeyED8xf9gT",
        "colab": {
          "base_uri": "https://localhost:8080/"
        },
        "outputId": "4db2f50b-7e4f-42fd-c726-872ffa80ea1e"
      },
      "execution_count": 110,
      "outputs": [
        {
          "output_type": "stream",
          "name": "stdout",
          "text": [
            "(506, 14)\n"
          ]
        },
        {
          "output_type": "execute_result",
          "data": {
            "text/plain": [
              "((404, 13), (102, 13), (404,), (102,))"
            ]
          },
          "metadata": {},
          "execution_count": 110
        }
      ]
    },
    {
      "cell_type": "markdown",
      "source": [
        "* 분석 예시"
      ],
      "metadata": {
        "id": "bOGoI8O3GieY"
      }
    },
    {
      "cell_type": "code",
      "source": [
        "from sklearn.linear_model import *\n",
        "linear = LinearRegression()\n",
        "ridge = Ridge(alpha=0.1)\n",
        "lasso = Lasso(alpha=0.1)\n",
        "elastic = ElasticNet(alpha = 0.1)\n",
        "bayes_ridge = BayesianRidge()\n",
        "\n",
        "df_score = pd.DataFrame()\n",
        "\n",
        "plt.figure(figsize=(20,9))\n",
        "for idx, model in enumerate(['linear', 'ridge', 'lasso', 'elastic', 'bayes_ridge', \n",
        "                             'tree', 'forest', 'et', 'gb', 'xgb']):\n",
        "  # 모델별 학습 및 예측\n",
        "  eval(model).fit(X_train, y_train)\n",
        "  y_pred = eval(model).predict(X_test)\n",
        "  \n",
        "  # 실제-예측 산점도\n",
        "  plt.subplot(2,5,idx+1)\n",
        "  plt.title(model)\n",
        "  plt.scatter(y_test, y_pred, marker='.')\n",
        "  plt.plot([-2,3],[-2,3], c='r')\n",
        "  plt.xlabel('y_true')\n",
        "  plt.ylabel('y_pred')\n",
        "  \n",
        "  # 성능 평가\n",
        "  df_score = pd.concat([df_score, pd.DataFrame(regression_scores(y_test, y_pred) ,index=[model]) ])\n",
        "\n",
        "plt.show()\n",
        "df_score.style.background_gradient(cmap = 'Blues_r')"
      ],
      "metadata": {
        "id": "T0rcVkSyoQWp",
        "colab": {
          "base_uri": "https://localhost:8080/",
          "height": 932
        },
        "outputId": "7e990f56-83d4-450a-f57d-729f97486531"
      },
      "execution_count": 116,
      "outputs": [
        {
          "output_type": "stream",
          "name": "stdout",
          "text": [
            "[05:25:21] WARNING: /workspace/src/objective/regression_obj.cu:152: reg:linear is now deprecated in favor of reg:squarederror.\n"
          ]
        },
        {
          "output_type": "display_data",
          "data": {
            "text/plain": [
              "<Figure size 1440x648 with 10 Axes>"
            ],
            "image/png": "[encoded data removed]"
          },
          "metadata": {
            "needs_background": "light"
          }
        },
        {
          "output_type": "execute_result",
          "data": {
            "text/plain": [
              "<pandas.io.formats.style.Styler at 0x7f5c4cd49510>"
            ],
            "text/html": [
              "<style type=\"text/css\">\n",
              "#T_c2b83_row0_col0, #T_c2b83_row1_col0 {\n",
              "  background-color: #97c6df;\n",
              "  color: #000000;\n",
              "}\n",
              "#T_c2b83_row0_col1, #T_c2b83_row1_col1 {\n",
              "  background-color: #afd1e7;\n",
              "  color: #000000;\n",
              "}\n",
              "#T_c2b83_row0_col2, #T_c2b83_row0_col3, #T_c2b83_row1_col2 {\n",
              "  background-color: #bed8ec;\n",
              "  color: #000000;\n",
              "}\n",
              "#T_c2b83_row0_col4, #T_c2b83_row1_col4 {\n",
              "  background-color: #75b4d8;\n",
              "  color: #000000;\n",
              "}\n",
              "#T_c2b83_row0_col5, #T_c2b83_row1_col5 {\n",
              "  background-color: #4896c8;\n",
              "  color: #f1f1f1;\n",
              "}\n",
              "#T_c2b83_row1_col3 {\n",
              "  background-color: #bdd7ec;\n",
              "  color: #000000;\n",
              "}\n",
              "#T_c2b83_row2_col0, #T_c2b83_row2_col1, #T_c2b83_row2_col2, #T_c2b83_row2_col3, #T_c2b83_row5_col4, #T_c2b83_row7_col5 {\n",
              "  background-color: #f7fbff;\n",
              "  color: #000000;\n",
              "}\n",
              "#T_c2b83_row2_col4 {\n",
              "  background-color: #66abd4;\n",
              "  color: #f1f1f1;\n",
              "}\n",
              "#T_c2b83_row2_col5, #T_c2b83_row7_col0, #T_c2b83_row7_col1, #T_c2b83_row7_col2, #T_c2b83_row7_col3, #T_c2b83_row8_col4 {\n",
              "  background-color: #08306b;\n",
              "  color: #f1f1f1;\n",
              "}\n",
              "#T_c2b83_row3_col0 {\n",
              "  background-color: #dae8f6;\n",
              "  color: #000000;\n",
              "}\n",
              "#T_c2b83_row3_col1 {\n",
              "  background-color: #e0ecf8;\n",
              "  color: #000000;\n",
              "}\n",
              "#T_c2b83_row3_col2 {\n",
              "  background-color: #e3eef8;\n",
              "  color: #000000;\n",
              "}\n",
              "#T_c2b83_row3_col3 {\n",
              "  background-color: #e2edf8;\n",
              "  color: #000000;\n",
              "}\n",
              "#T_c2b83_row3_col4 {\n",
              "  background-color: #8abfdd;\n",
              "  color: #000000;\n",
              "}\n",
              "#T_c2b83_row3_col5 {\n",
              "  background-color: #0c56a0;\n",
              "  color: #f1f1f1;\n",
              "}\n",
              "#T_c2b83_row4_col0 {\n",
              "  background-color: #92c4de;\n",
              "  color: #000000;\n",
              "}\n",
              "#T_c2b83_row4_col1 {\n",
              "  background-color: #add0e6;\n",
              "  color: #000000;\n",
              "}\n",
              "#T_c2b83_row4_col2 {\n",
              "  background-color: #bad6eb;\n",
              "  color: #000000;\n",
              "}\n",
              "#T_c2b83_row4_col3 {\n",
              "  background-color: #b9d6ea;\n",
              "  color: #000000;\n",
              "}\n",
              "#T_c2b83_row4_col4 {\n",
              "  background-color: #8cc0dd;\n",
              "  color: #000000;\n",
              "}\n",
              "#T_c2b83_row4_col5 {\n",
              "  background-color: #4b98ca;\n",
              "  color: #f1f1f1;\n",
              "}\n",
              "#T_c2b83_row5_col0 {\n",
              "  background-color: #8fc2de;\n",
              "  color: #000000;\n",
              "}\n",
              "#T_c2b83_row5_col1 {\n",
              "  background-color: #aacfe5;\n",
              "  color: #000000;\n",
              "}\n",
              "#T_c2b83_row5_col2 {\n",
              "  background-color: #d0e1f2;\n",
              "  color: #000000;\n",
              "}\n",
              "#T_c2b83_row5_col3 {\n",
              "  background-color: #cfe1f2;\n",
              "  color: #000000;\n",
              "}\n",
              "#T_c2b83_row5_col5 {\n",
              "  background-color: #4e9acb;\n",
              "  color: #f1f1f1;\n",
              "}\n",
              "#T_c2b83_row6_col0, #T_c2b83_row9_col1 {\n",
              "  background-color: #084285;\n",
              "  color: #f1f1f1;\n",
              "}\n",
              "#T_c2b83_row6_col1 {\n",
              "  background-color: #08488e;\n",
              "  color: #f1f1f1;\n",
              "}\n",
              "#T_c2b83_row6_col2 {\n",
              "  background-color: #09529d;\n",
              "  color: #f1f1f1;\n",
              "}\n",
              "#T_c2b83_row6_col3, #T_c2b83_row6_col4 {\n",
              "  background-color: #08519c;\n",
              "  color: #f1f1f1;\n",
              "}\n",
              "#T_c2b83_row6_col5 {\n",
              "  background-color: #eaf2fb;\n",
              "  color: #000000;\n",
              "}\n",
              "#T_c2b83_row7_col4 {\n",
              "  background-color: #084990;\n",
              "  color: #f1f1f1;\n",
              "}\n",
              "#T_c2b83_row8_col0 {\n",
              "  background-color: #084d96;\n",
              "  color: #f1f1f1;\n",
              "}\n",
              "#T_c2b83_row8_col1 {\n",
              "  background-color: #0d57a1;\n",
              "  color: #f1f1f1;\n",
              "}\n",
              "#T_c2b83_row8_col2 {\n",
              "  background-color: #1460a8;\n",
              "  color: #f1f1f1;\n",
              "}\n",
              "#T_c2b83_row8_col3 {\n",
              "  background-color: #135fa7;\n",
              "  color: #f1f1f1;\n",
              "}\n",
              "#T_c2b83_row8_col5 {\n",
              "  background-color: #e1edf8;\n",
              "  color: #000000;\n",
              "}\n",
              "#T_c2b83_row9_col0 {\n",
              "  background-color: #083d7f;\n",
              "  color: #f1f1f1;\n",
              "}\n",
              "#T_c2b83_row9_col2 {\n",
              "  background-color: #0a549e;\n",
              "  color: #f1f1f1;\n",
              "}\n",
              "#T_c2b83_row9_col3 {\n",
              "  background-color: #0a539e;\n",
              "  color: #f1f1f1;\n",
              "}\n",
              "#T_c2b83_row9_col4 {\n",
              "  background-color: #3888c1;\n",
              "  color: #f1f1f1;\n",
              "}\n",
              "#T_c2b83_row9_col5 {\n",
              "  background-color: #edf4fc;\n",
              "  color: #000000;\n",
              "}\n",
              "</style>\n",
              "<table id=\"T_c2b83_\" class=\"dataframe\">\n",
              "  <thead>\n",
              "    <tr>\n",
              "      <th class=\"blank level0\" >&nbsp;</th>\n",
              "      <th class=\"col_heading level0 col0\" >mse</th>\n",
              "      <th class=\"col_heading level0 col1\" >rmse</th>\n",
              "      <th class=\"col_heading level0 col2\" >mae</th>\n",
              "      <th class=\"col_heading level0 col3\" >nmae</th>\n",
              "      <th class=\"col_heading level0 col4\" >mape</th>\n",
              "      <th class=\"col_heading level0 col5\" >r2</th>\n",
              "    </tr>\n",
              "  </thead>\n",
              "  <tbody>\n",
              "    <tr>\n",
              "      <th id=\"T_c2b83_level0_row0\" class=\"row_heading level0 row0\" >linear</th>\n",
              "      <td id=\"T_c2b83_row0_col0\" class=\"data row0 col0\" >0.222000</td>\n",
              "      <td id=\"T_c2b83_row0_col1\" class=\"data row0 col1\" >0.471000</td>\n",
              "      <td id=\"T_c2b83_row0_col2\" class=\"data row0 col2\" >0.362000</td>\n",
              "      <td id=\"T_c2b83_row0_col3\" class=\"data row0 col3\" >0.521000</td>\n",
              "      <td id=\"T_c2b83_row0_col4\" class=\"data row0 col4\" >198.397000</td>\n",
              "      <td id=\"T_c2b83_row0_col5\" class=\"data row0 col5\" >0.778000</td>\n",
              "    </tr>\n",
              "    <tr>\n",
              "      <th id=\"T_c2b83_level0_row1\" class=\"row_heading level0 row1\" >ridge</th>\n",
              "      <td id=\"T_c2b83_row1_col0\" class=\"data row1 col0\" >0.222000</td>\n",
              "      <td id=\"T_c2b83_row1_col1\" class=\"data row1 col1\" >0.471000</td>\n",
              "      <td id=\"T_c2b83_row1_col2\" class=\"data row1 col2\" >0.362000</td>\n",
              "      <td id=\"T_c2b83_row1_col3\" class=\"data row1 col3\" >0.520000</td>\n",
              "      <td id=\"T_c2b83_row1_col4\" class=\"data row1 col4\" >198.722000</td>\n",
              "      <td id=\"T_c2b83_row1_col5\" class=\"data row1 col5\" >0.778000</td>\n",
              "    </tr>\n",
              "    <tr>\n",
              "      <th id=\"T_c2b83_level0_row2\" class=\"row_heading level0 row2\" >lasso</th>\n",
              "      <td id=\"T_c2b83_row2_col0\" class=\"data row2 col0\" >0.315000</td>\n",
              "      <td id=\"T_c2b83_row2_col1\" class=\"data row2 col1\" >0.561000</td>\n",
              "      <td id=\"T_c2b83_row2_col2\" class=\"data row2 col2\" >0.421000</td>\n",
              "      <td id=\"T_c2b83_row2_col3\" class=\"data row2 col3\" >0.606000</td>\n",
              "      <td id=\"T_c2b83_row2_col4\" class=\"data row2 col4\" >188.638000</td>\n",
              "      <td id=\"T_c2b83_row2_col5\" class=\"data row2 col5\" >0.685000</td>\n",
              "    </tr>\n",
              "    <tr>\n",
              "      <th id=\"T_c2b83_level0_row3\" class=\"row_heading level0 row3\" >elastic</th>\n",
              "      <td id=\"T_c2b83_row3_col0\" class=\"data row3 col0\" >0.280000</td>\n",
              "      <td id=\"T_c2b83_row3_col1\" class=\"data row3 col1\" >0.529000</td>\n",
              "      <td id=\"T_c2b83_row3_col2\" class=\"data row3 col2\" >0.399000</td>\n",
              "      <td id=\"T_c2b83_row3_col3\" class=\"data row3 col3\" >0.573000</td>\n",
              "      <td id=\"T_c2b83_row3_col4\" class=\"data row3 col4\" >211.990000</td>\n",
              "      <td id=\"T_c2b83_row3_col5\" class=\"data row3 col5\" >0.720000</td>\n",
              "    </tr>\n",
              "    <tr>\n",
              "      <th id=\"T_c2b83_level0_row4\" class=\"row_heading level0 row4\" >bayes_ridge</th>\n",
              "      <td id=\"T_c2b83_row4_col0\" class=\"data row4 col0\" >0.220000</td>\n",
              "      <td id=\"T_c2b83_row4_col1\" class=\"data row4 col1\" >0.469000</td>\n",
              "      <td id=\"T_c2b83_row4_col2\" class=\"data row4 col2\" >0.359000</td>\n",
              "      <td id=\"T_c2b83_row4_col3\" class=\"data row4 col3\" >0.516000</td>\n",
              "      <td id=\"T_c2b83_row4_col4\" class=\"data row4 col4\" >212.854000</td>\n",
              "      <td id=\"T_c2b83_row4_col5\" class=\"data row4 col5\" >0.780000</td>\n",
              "    </tr>\n",
              "    <tr>\n",
              "      <th id=\"T_c2b83_level0_row5\" class=\"row_heading level0 row5\" >tree</th>\n",
              "      <td id=\"T_c2b83_row5_col0\" class=\"data row5 col0\" >0.218000</td>\n",
              "      <td id=\"T_c2b83_row5_col1\" class=\"data row5 col1\" >0.467000</td>\n",
              "      <td id=\"T_c2b83_row5_col2\" class=\"data row5 col2\" >0.378000</td>\n",
              "      <td id=\"T_c2b83_row5_col3\" class=\"data row5 col3\" >0.543000</td>\n",
              "      <td id=\"T_c2b83_row5_col4\" class=\"data row5 col4\" >323.084000</td>\n",
              "      <td id=\"T_c2b83_row5_col5\" class=\"data row5 col5\" >0.782000</td>\n",
              "    </tr>\n",
              "    <tr>\n",
              "      <th id=\"T_c2b83_level0_row6\" class=\"row_heading level0 row6\" >forest</th>\n",
              "      <td id=\"T_c2b83_row6_col0\" class=\"data row6 col0\" >0.095000</td>\n",
              "      <td id=\"T_c2b83_row6_col1\" class=\"data row6 col1\" >0.308000</td>\n",
              "      <td id=\"T_c2b83_row6_col2\" class=\"data row6 col2\" >0.234000</td>\n",
              "      <td id=\"T_c2b83_row6_col3\" class=\"data row6 col3\" >0.336000</td>\n",
              "      <td id=\"T_c2b83_row6_col4\" class=\"data row6 col4\" >93.510000</td>\n",
              "      <td id=\"T_c2b83_row6_col5\" class=\"data row6 col5\" >0.905000</td>\n",
              "    </tr>\n",
              "    <tr>\n",
              "      <th id=\"T_c2b83_level0_row7\" class=\"row_heading level0 row7\" >et</th>\n",
              "      <td id=\"T_c2b83_row7_col0\" class=\"data row7 col0\" >0.079000</td>\n",
              "      <td id=\"T_c2b83_row7_col1\" class=\"data row7 col1\" >0.282000</td>\n",
              "      <td id=\"T_c2b83_row7_col2\" class=\"data row7 col2\" >0.206000</td>\n",
              "      <td id=\"T_c2b83_row7_col3\" class=\"data row7 col3\" >0.297000</td>\n",
              "      <td id=\"T_c2b83_row7_col4\" class=\"data row7 col4\" >85.360000</td>\n",
              "      <td id=\"T_c2b83_row7_col5\" class=\"data row7 col5\" >0.921000</td>\n",
              "    </tr>\n",
              "    <tr>\n",
              "      <th id=\"T_c2b83_level0_row8\" class=\"row_heading level0 row8\" >gb</th>\n",
              "      <td id=\"T_c2b83_row8_col0\" class=\"data row8 col0\" >0.105000</td>\n",
              "      <td id=\"T_c2b83_row8_col1\" class=\"data row8 col1\" >0.324000</td>\n",
              "      <td id=\"T_c2b83_row8_col2\" class=\"data row8 col2\" >0.246000</td>\n",
              "      <td id=\"T_c2b83_row8_col3\" class=\"data row8 col3\" >0.353000</td>\n",
              "      <td id=\"T_c2b83_row8_col4\" class=\"data row8 col4\" >60.484000</td>\n",
              "      <td id=\"T_c2b83_row8_col5\" class=\"data row8 col5\" >0.895000</td>\n",
              "    </tr>\n",
              "    <tr>\n",
              "      <th id=\"T_c2b83_level0_row9\" class=\"row_heading level0 row9\" >xgb</th>\n",
              "      <td id=\"T_c2b83_row9_col0\" class=\"data row9 col0\" >0.091000</td>\n",
              "      <td id=\"T_c2b83_row9_col1\" class=\"data row9 col1\" >0.301000</td>\n",
              "      <td id=\"T_c2b83_row9_col2\" class=\"data row9 col2\" >0.236000</td>\n",
              "      <td id=\"T_c2b83_row9_col3\" class=\"data row9 col3\" >0.339000</td>\n",
              "      <td id=\"T_c2b83_row9_col4\" class=\"data row9 col4\" >149.109000</td>\n",
              "      <td id=\"T_c2b83_row9_col5\" class=\"data row9 col5\" >0.909000</td>\n",
              "    </tr>\n",
              "  </tbody>\n",
              "</table>\n"
            ]
          },
          "metadata": {},
          "execution_count": 116
        }
      ]
    },
    {
      "cell_type": "markdown",
      "source": [
        "## **과제2: 해외 축구 선수 이적료 예측 미션**\n",
        "---\n",
        "\n",
        "* https://dacon.io/competitions/open/235538/overview/description\n",
        "* 수업 시간에 배운 내용들을 적용하여 이적료 예측을 진행하고 리더보드에 결과를 제출합니다."
      ],
      "metadata": {
        "id": "ZFUD38WPFP4Y"
      }
    },
    {
      "cell_type": "code",
      "source": [
        "df1 = pd.read_csv('/content/FIFA_train.csv')\n",
        "df2 = pd.read_csv('/content/FIFA_test.csv')\n",
        "df1.shape, df2.shape"
      ],
      "metadata": {
        "id": "KKEbLngkFdwk",
        "colab": {
          "base_uri": "https://localhost:8080/"
        },
        "outputId": "fb8740ef-38f2-404e-dffc-dca905b67e0c"
      },
      "execution_count": 123,
      "outputs": [
        {
          "output_type": "execute_result",
          "data": {
            "text/plain": [
              "((8932, 12), (3828, 11))"
            ]
          },
          "metadata": {},
          "execution_count": 123
        }
      ]
    },
    {
      "cell_type": "code",
      "source": [
        "df1.head()"
      ],
      "metadata": {
        "colab": {
          "base_uri": "https://localhost:8080/",
          "height": 206
        },
        "id": "IdOrJqh8YrLN",
        "outputId": "2114e933-580a-464a-8d04-a323b31ad3d5"
      },
      "execution_count": 119,
      "outputs": [
        {
          "output_type": "execute_result",
          "data": {
            "text/plain": [
              "   id          name  age      continent contract_until position prefer_foot  \\\n",
              "0   0      L. Messi   31  south america           2021       ST        left   \n",
              "1   3        De Gea   27         europe           2020       GK       right   \n",
              "2   7     L. Suárez   31  south america           2021       ST       right   \n",
              "3   8  Sergio Ramos   32         europe           2020       DF       right   \n",
              "4   9      J. Oblak   25         europe           2021       GK       right   \n",
              "\n",
              "   reputation  stat_overall  stat_potential  stat_skill_moves        value  \n",
              "0         5.0            94              94               4.0  110500000.0  \n",
              "1         4.0            91              93               1.0   72000000.0  \n",
              "2         5.0            91              91               3.0   80000000.0  \n",
              "3         4.0            91              91               3.0   51000000.0  \n",
              "4         3.0            90              93               1.0   68000000.0  "
            ],
            "text/html": [
              "\n",
              "  <div id=\"df-840a10de-06d9-43c5-bf04-343522d1b11a\">\n",
              "    <div class=\"colab-df-container\">\n",
              "      <div>\n",
              "<style scoped>\n",
              "    .dataframe tbody tr th:only-of-type {\n",
              "        vertical-align: middle;\n",
              "    }\n",
              "\n",
              "    .dataframe tbody tr th {\n",
              "        vertical-align: top;\n",
              "    }\n",
              "\n",
              "    .dataframe thead th {\n",
              "        text-align: right;\n",
              "    }\n",
              "</style>\n",
              "<table border=\"1\" class=\"dataframe\">\n",
              "  <thead>\n",
              "    <tr style=\"text-align: right;\">\n",
              "      <th></th>\n",
              "      <th>id</th>\n",
              "      <th>name</th>\n",
              "      <th>age</th>\n",
              "      <th>continent</th>\n",
              "      <th>contract_until</th>\n",
              "      <th>position</th>\n",
              "      <th>prefer_foot</th>\n",
              "      <th>reputation</th>\n",
              "      <th>stat_overall</th>\n",
              "      <th>stat_potential</th>\n",
              "      <th>stat_skill_moves</th>\n",
              "      <th>value</th>\n",
              "    </tr>\n",
              "  </thead>\n",
              "  <tbody>\n",
              "    <tr>\n",
              "      <th>0</th>\n",
              "      <td>0</td>\n",
              "      <td>L. Messi</td>\n",
              "      <td>31</td>\n",
              "      <td>south america</td>\n",
              "      <td>2021</td>\n",
              "      <td>ST</td>\n",
              "      <td>left</td>\n",
              "      <td>5.0</td>\n",
              "      <td>94</td>\n",
              "      <td>94</td>\n",
              "      <td>4.0</td>\n",
              "      <td>110500000.0</td>\n",
              "    </tr>\n",
              "    <tr>\n",
              "      <th>1</th>\n",
              "      <td>3</td>\n",
              "      <td>De Gea</td>\n",
              "      <td>27</td>\n",
              "      <td>europe</td>\n",
              "      <td>2020</td>\n",
              "      <td>GK</td>\n",
              "      <td>right</td>\n",
              "      <td>4.0</td>\n",
              "      <td>91</td>\n",
              "      <td>93</td>\n",
              "      <td>1.0</td>\n",
              "      <td>72000000.0</td>\n",
              "    </tr>\n",
              "    <tr>\n",
              "      <th>2</th>\n",
              "      <td>7</td>\n",
              "      <td>L. Suárez</td>\n",
              "      <td>31</td>\n",
              "      <td>south america</td>\n",
              "      <td>2021</td>\n",
              "      <td>ST</td>\n",
              "      <td>right</td>\n",
              "      <td>5.0</td>\n",
              "      <td>91</td>\n",
              "      <td>91</td>\n",
              "      <td>3.0</td>\n",
              "      <td>80000000.0</td>\n",
              "    </tr>\n",
              "    <tr>\n",
              "      <th>3</th>\n",
              "      <td>8</td>\n",
              "      <td>Sergio Ramos</td>\n",
              "      <td>32</td>\n",
              "      <td>europe</td>\n",
              "      <td>2020</td>\n",
              "      <td>DF</td>\n",
              "      <td>right</td>\n",
              "      <td>4.0</td>\n",
              "      <td>91</td>\n",
              "      <td>91</td>\n",
              "      <td>3.0</td>\n",
              "      <td>51000000.0</td>\n",
              "    </tr>\n",
              "    <tr>\n",
              "      <th>4</th>\n",
              "      <td>9</td>\n",
              "      <td>J. Oblak</td>\n",
              "      <td>25</td>\n",
              "      <td>europe</td>\n",
              "      <td>2021</td>\n",
              "      <td>GK</td>\n",
              "      <td>right</td>\n",
              "      <td>3.0</td>\n",
              "      <td>90</td>\n",
              "      <td>93</td>\n",
              "      <td>1.0</td>\n",
              "      <td>68000000.0</td>\n",
              "    </tr>\n",
              "  </tbody>\n",
              "</table>\n",
              "</div>\n",
              "      <button class=\"colab-df-convert\" onclick=\"convertToInteractive('df-840a10de-06d9-43c5-bf04-343522d1b11a')\"\n",
              "              title=\"Convert this dataframe to an interactive table.\"\n",
              "              style=\"display:none;\">\n",
              "        \n",
              "  <svg xmlns=\"http://www.w3.org/2000/svg\" height=\"24px\"viewBox=\"0 0 24 24\"\n",
              "       width=\"24px\">\n",
              "    <path d=\"M0 0h24v24H0V0z\" fill=\"none\"/>\n",
              "    <path d=\"M18.56 5.44l.94 2.06.94-2.06 2.06-.94-2.06-.94-.94-2.06-.94 2.06-2.06.94zm-11 1L8.5 8.5l.94-2.06 2.06-.94-2.06-.94L8.5 2.5l-.94 2.06-2.06.94zm10 10l.94 2.06.94-2.06 2.06-.94-2.06-.94-.94-2.06-.94 2.06-2.06.94z\"/><path d=\"M17.41 7.96l-1.37-1.37c-.4-.4-.92-.59-1.43-.59-.52 0-1.04.2-1.43.59L10.3 9.45l-7.72 7.72c-.78.78-.78 2.05 0 2.83L4 21.41c.39.39.9.59 1.41.59.51 0 1.02-.2 1.41-.59l7.78-7.78 2.81-2.81c.8-.78.8-2.07 0-2.86zM5.41 20L4 18.59l7.72-7.72 1.47 1.35L5.41 20z\"/>\n",
              "  </svg>\n",
              "      </button>\n",
              "      \n",
              "  <style>\n",
              "    .colab-df-container {\n",
              "      display:flex;\n",
              "      flex-wrap:wrap;\n",
              "      gap: 12px;\n",
              "    }\n",
              "\n",
              "    .colab-df-convert {\n",
              "      background-color: #E8F0FE;\n",
              "      border: none;\n",
              "      border-radius: 50%;\n",
              "      cursor: pointer;\n",
              "      display: none;\n",
              "      fill: #1967D2;\n",
              "      height: 32px;\n",
              "      padding: 0 0 0 0;\n",
              "      width: 32px;\n",
              "    }\n",
              "\n",
              "    .colab-df-convert:hover {\n",
              "      background-color: #E2EBFA;\n",
              "      box-shadow: 0px 1px 2px rgba(60, 64, 67, 0.3), 0px 1px 3px 1px rgba(60, 64, 67, 0.15);\n",
              "      fill: #174EA6;\n",
              "    }\n",
              "\n",
              "    [theme=dark] .colab-df-convert {\n",
              "      background-color: #3B4455;\n",
              "      fill: #D2E3FC;\n",
              "    }\n",
              "\n",
              "    [theme=dark] .colab-df-convert:hover {\n",
              "      background-color: #434B5C;\n",
              "      box-shadow: 0px 1px 3px 1px rgba(0, 0, 0, 0.15);\n",
              "      filter: drop-shadow(0px 1px 2px rgba(0, 0, 0, 0.3));\n",
              "      fill: #FFFFFF;\n",
              "    }\n",
              "  </style>\n",
              "\n",
              "      <script>\n",
              "        const buttonEl =\n",
              "          document.querySelector('#df-840a10de-06d9-43c5-bf04-343522d1b11a button.colab-df-convert');\n",
              "        buttonEl.style.display =\n",
              "          google.colab.kernel.accessAllowed ? 'block' : 'none';\n",
              "\n",
              "        async function convertToInteractive(key) {\n",
              "          const element = document.querySelector('#df-840a10de-06d9-43c5-bf04-343522d1b11a');\n",
              "          const dataTable =\n",
              "            await google.colab.kernel.invokeFunction('convertToInteractive',\n",
              "                                                     [key], {});\n",
              "          if (!dataTable) return;\n",
              "\n",
              "          const docLinkHtml = 'Like what you see? Visit the ' +\n",
              "            '<a target=\"_blank\" href=https://colab.research.google.com/notebooks/data_table.ipynb>data table notebook</a>'\n",
              "            + ' to learn more about interactive tables.';\n",
              "          element.innerHTML = '';\n",
              "          dataTable['output_type'] = 'display_data';\n",
              "          await google.colab.output.renderOutput(dataTable, element);\n",
              "          const docLink = document.createElement('div');\n",
              "          docLink.innerHTML = docLinkHtml;\n",
              "          element.appendChild(docLink);\n",
              "        }\n",
              "      </script>\n",
              "    </div>\n",
              "  </div>\n",
              "  "
            ]
          },
          "metadata": {},
          "execution_count": 119
        }
      ]
    },
    {
      "cell_type": "code",
      "source": [
        "df2.head()"
      ],
      "metadata": {
        "colab": {
          "base_uri": "https://localhost:8080/",
          "height": 206
        },
        "id": "N7WZDea9b7Ud",
        "outputId": "b372aba8-1c4f-49c5-e95c-d7f67a9dd62a"
      },
      "execution_count": 124,
      "outputs": [
        {
          "output_type": "execute_result",
          "data": {
            "text/plain": [
              "   id               name  age      continent contract_until position  \\\n",
              "0   1  Cristiano Ronaldo   33         europe           2022       ST   \n",
              "1   2          Neymar Jr   26  south america           2022       ST   \n",
              "2   4       K. De Bruyne   27         europe           2023       MF   \n",
              "3   5          E. Hazard   27         europe           2020       ST   \n",
              "4   6          L. Modrić   32         europe           2020       MF   \n",
              "\n",
              "  prefer_foot  reputation  stat_overall  stat_potential  stat_skill_moves  \n",
              "0       right         5.0            94              94               5.0  \n",
              "1       right         5.0            92              93               5.0  \n",
              "2       right         4.0            91              92               4.0  \n",
              "3       right         4.0            91              91               4.0  \n",
              "4       right         4.0            91              91               4.0  "
            ],
            "text/html": [
              "\n",
              "  <div id=\"df-debc7fae-0aac-476c-979a-d971920294dd\">\n",
              "    <div class=\"colab-df-container\">\n",
              "      <div>\n",
              "<style scoped>\n",
              "    .dataframe tbody tr th:only-of-type {\n",
              "        vertical-align: middle;\n",
              "    }\n",
              "\n",
              "    .dataframe tbody tr th {\n",
              "        vertical-align: top;\n",
              "    }\n",
              "\n",
              "    .dataframe thead th {\n",
              "        text-align: right;\n",
              "    }\n",
              "</style>\n",
              "<table border=\"1\" class=\"dataframe\">\n",
              "  <thead>\n",
              "    <tr style=\"text-align: right;\">\n",
              "      <th></th>\n",
              "      <th>id</th>\n",
              "      <th>name</th>\n",
              "      <th>age</th>\n",
              "      <th>continent</th>\n",
              "      <th>contract_until</th>\n",
              "      <th>position</th>\n",
              "      <th>prefer_foot</th>\n",
              "      <th>reputation</th>\n",
              "      <th>stat_overall</th>\n",
              "      <th>stat_potential</th>\n",
              "      <th>stat_skill_moves</th>\n",
              "    </tr>\n",
              "  </thead>\n",
              "  <tbody>\n",
              "    <tr>\n",
              "      <th>0</th>\n",
              "      <td>1</td>\n",
              "      <td>Cristiano Ronaldo</td>\n",
              "      <td>33</td>\n",
              "      <td>europe</td>\n",
              "      <td>2022</td>\n",
              "      <td>ST</td>\n",
              "      <td>right</td>\n",
              "      <td>5.0</td>\n",
              "      <td>94</td>\n",
              "      <td>94</td>\n",
              "      <td>5.0</td>\n",
              "    </tr>\n",
              "    <tr>\n",
              "      <th>1</th>\n",
              "      <td>2</td>\n",
              "      <td>Neymar Jr</td>\n",
              "      <td>26</td>\n",
              "      <td>south america</td>\n",
              "      <td>2022</td>\n",
              "      <td>ST</td>\n",
              "      <td>right</td>\n",
              "      <td>5.0</td>\n",
              "      <td>92</td>\n",
              "      <td>93</td>\n",
              "      <td>5.0</td>\n",
              "    </tr>\n",
              "    <tr>\n",
              "      <th>2</th>\n",
              "      <td>4</td>\n",
              "      <td>K. De Bruyne</td>\n",
              "      <td>27</td>\n",
              "      <td>europe</td>\n",
              "      <td>2023</td>\n",
              "      <td>MF</td>\n",
              "      <td>right</td>\n",
              "      <td>4.0</td>\n",
              "      <td>91</td>\n",
              "      <td>92</td>\n",
              "      <td>4.0</td>\n",
              "    </tr>\n",
              "    <tr>\n",
              "      <th>3</th>\n",
              "      <td>5</td>\n",
              "      <td>E. Hazard</td>\n",
              "      <td>27</td>\n",
              "      <td>europe</td>\n",
              "      <td>2020</td>\n",
              "      <td>ST</td>\n",
              "      <td>right</td>\n",
              "      <td>4.0</td>\n",
              "      <td>91</td>\n",
              "      <td>91</td>\n",
              "      <td>4.0</td>\n",
              "    </tr>\n",
              "    <tr>\n",
              "      <th>4</th>\n",
              "      <td>6</td>\n",
              "      <td>L. Modrić</td>\n",
              "      <td>32</td>\n",
              "      <td>europe</td>\n",
              "      <td>2020</td>\n",
              "      <td>MF</td>\n",
              "      <td>right</td>\n",
              "      <td>4.0</td>\n",
              "      <td>91</td>\n",
              "      <td>91</td>\n",
              "      <td>4.0</td>\n",
              "    </tr>\n",
              "  </tbody>\n",
              "</table>\n",
              "</div>\n",
              "      <button class=\"colab-df-convert\" onclick=\"convertToInteractive('df-debc7fae-0aac-476c-979a-d971920294dd')\"\n",
              "              title=\"Convert this dataframe to an interactive table.\"\n",
              "              style=\"display:none;\">\n",
              "        \n",
              "  <svg xmlns=\"http://www.w3.org/2000/svg\" height=\"24px\"viewBox=\"0 0 24 24\"\n",
              "       width=\"24px\">\n",
              "    <path d=\"M0 0h24v24H0V0z\" fill=\"none\"/>\n",
              "    <path d=\"M18.56 5.44l.94 2.06.94-2.06 2.06-.94-2.06-.94-.94-2.06-.94 2.06-2.06.94zm-11 1L8.5 8.5l.94-2.06 2.06-.94-2.06-.94L8.5 2.5l-.94 2.06-2.06.94zm10 10l.94 2.06.94-2.06 2.06-.94-2.06-.94-.94-2.06-.94 2.06-2.06.94z\"/><path d=\"M17.41 7.96l-1.37-1.37c-.4-.4-.92-.59-1.43-.59-.52 0-1.04.2-1.43.59L10.3 9.45l-7.72 7.72c-.78.78-.78 2.05 0 2.83L4 21.41c.39.39.9.59 1.41.59.51 0 1.02-.2 1.41-.59l7.78-7.78 2.81-2.81c.8-.78.8-2.07 0-2.86zM5.41 20L4 18.59l7.72-7.72 1.47 1.35L5.41 20z\"/>\n",
              "  </svg>\n",
              "      </button>\n",
              "      \n",
              "  <style>\n",
              "    .colab-df-container {\n",
              "      display:flex;\n",
              "      flex-wrap:wrap;\n",
              "      gap: 12px;\n",
              "    }\n",
              "\n",
              "    .colab-df-convert {\n",
              "      background-color: #E8F0FE;\n",
              "      border: none;\n",
              "      border-radius: 50%;\n",
              "      cursor: pointer;\n",
              "      display: none;\n",
              "      fill: #1967D2;\n",
              "      height: 32px;\n",
              "      padding: 0 0 0 0;\n",
              "      width: 32px;\n",
              "    }\n",
              "\n",
              "    .colab-df-convert:hover {\n",
              "      background-color: #E2EBFA;\n",
              "      box-shadow: 0px 1px 2px rgba(60, 64, 67, 0.3), 0px 1px 3px 1px rgba(60, 64, 67, 0.15);\n",
              "      fill: #174EA6;\n",
              "    }\n",
              "\n",
              "    [theme=dark] .colab-df-convert {\n",
              "      background-color: #3B4455;\n",
              "      fill: #D2E3FC;\n",
              "    }\n",
              "\n",
              "    [theme=dark] .colab-df-convert:hover {\n",
              "      background-color: #434B5C;\n",
              "      box-shadow: 0px 1px 3px 1px rgba(0, 0, 0, 0.15);\n",
              "      filter: drop-shadow(0px 1px 2px rgba(0, 0, 0, 0.3));\n",
              "      fill: #FFFFFF;\n",
              "    }\n",
              "  </style>\n",
              "\n",
              "      <script>\n",
              "        const buttonEl =\n",
              "          document.querySelector('#df-debc7fae-0aac-476c-979a-d971920294dd button.colab-df-convert');\n",
              "        buttonEl.style.display =\n",
              "          google.colab.kernel.accessAllowed ? 'block' : 'none';\n",
              "\n",
              "        async function convertToInteractive(key) {\n",
              "          const element = document.querySelector('#df-debc7fae-0aac-476c-979a-d971920294dd');\n",
              "          const dataTable =\n",
              "            await google.colab.kernel.invokeFunction('convertToInteractive',\n",
              "                                                     [key], {});\n",
              "          if (!dataTable) return;\n",
              "\n",
              "          const docLinkHtml = 'Like what you see? Visit the ' +\n",
              "            '<a target=\"_blank\" href=https://colab.research.google.com/notebooks/data_table.ipynb>data table notebook</a>'\n",
              "            + ' to learn more about interactive tables.';\n",
              "          element.innerHTML = '';\n",
              "          dataTable['output_type'] = 'display_data';\n",
              "          await google.colab.output.renderOutput(dataTable, element);\n",
              "          const docLink = document.createElement('div');\n",
              "          docLink.innerHTML = docLinkHtml;\n",
              "          element.appendChild(docLink);\n",
              "        }\n",
              "      </script>\n",
              "    </div>\n",
              "  </div>\n",
              "  "
            ]
          },
          "metadata": {},
          "execution_count": 124
        }
      ]
    },
    {
      "cell_type": "code",
      "source": [
        "df2.isnull().sum()"
      ],
      "metadata": {
        "colab": {
          "base_uri": "https://localhost:8080/"
        },
        "id": "vS9v1vcwZBF1",
        "outputId": "fe14ecd8-2590-4cd8-bb74-6ddd7c6ac89c"
      },
      "execution_count": 125,
      "outputs": [
        {
          "output_type": "execute_result",
          "data": {
            "text/plain": [
              "id                  0\n",
              "name                0\n",
              "age                 0\n",
              "continent           0\n",
              "contract_until      0\n",
              "position            0\n",
              "prefer_foot         0\n",
              "reputation          0\n",
              "stat_overall        0\n",
              "stat_potential      0\n",
              "stat_skill_moves    0\n",
              "dtype: int64"
            ]
          },
          "metadata": {},
          "execution_count": 125
        }
      ]
    },
    {
      "cell_type": "code",
      "source": [
        "df1['value'].shape"
      ],
      "metadata": {
        "colab": {
          "base_uri": "https://localhost:8080/"
        },
        "id": "bHZxbcvQZkiE",
        "outputId": "8feffc3f-166f-477f-bd58-0ce13b078223"
      },
      "execution_count": 126,
      "outputs": [
        {
          "output_type": "execute_result",
          "data": {
            "text/plain": [
              "(8932,)"
            ]
          },
          "metadata": {},
          "execution_count": 126
        }
      ]
    },
    {
      "cell_type": "code",
      "source": [
        ""
      ],
      "metadata": {
        "id": "x2-wKv2EbSKm"
      },
      "execution_count": null,
      "outputs": []
    }
  ]
}