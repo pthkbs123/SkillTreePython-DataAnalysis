{
  "cells": [
    {
      "cell_type": "markdown",
      "metadata": {
        "id": "view-in-github",
        "colab_type": "text"
      },
      "source": [
        "<a href=\"https://colab.research.google.com/github/yebiny/SkillTreePython-DataAnalysis/blob/main/04.%ED%83%90%EC%83%89%EC%A0%81%EB%8D%B0%EC%9D%B4%ED%84%B0%EB%B6%84%EC%84%9D/ch04_04_%EB%B6%84%EB%A5%98%EB%AC%B8%EC%A0%9CEDA_titanic.ipynb\" target=\"_parent\"><img src=\"https://colab.research.google.com/assets/colab-badge.svg\" alt=\"Open In Colab\"/></a>"
      ]
    },
    {
      "cell_type": "markdown",
      "source": [
        "# ch04.04. 분류문제 EDA - titanic\n",
        "---\n",
        "* 날짜:\n",
        "* 이름:\n",
        "\n",
        "## 학습내용\n",
        "    - titanic 데이터 EDA\n",
        "    - 분류문제 에서의 탐색적 데이터 분석 진행\n"
      ],
      "metadata": {
        "id": "wWpXZc2fi39U"
      }
    },
    {
      "cell_type": "markdown",
      "source": [
        "## 라이브러리 및 데이터 로드\n",
        "---"
      ],
      "metadata": {
        "id": "rx3G1AI_nCTw"
      }
    },
    {
      "cell_type": "markdown",
      "metadata": {
        "id": "zNhPOER8-jQd"
      },
      "source": [
        "* 라이브러리 불러오기"
      ]
    },
    {
      "cell_type": "code",
      "execution_count": null,
      "metadata": {
        "id": "StZtz5scLb_y"
      },
      "outputs": [],
      "source": [
        "# 데이터 분석을 위한 pandas 라이브러리를 불러옵니다.\n",
        "# 수치계산을 위한 numpy를 불러옵니다.\n",
        "# 데이터 시각화를 위한 matplotlib, seaborn 을 불러옵니다.\n"
      ]
    },
    {
      "cell_type": "markdown",
      "source": [
        "* seaborn에서 제공하는 `titanic` 데이터셋을 불러오기"
      ],
      "metadata": {
        "id": "eaGaN4e929jM"
      }
    },
    {
      "cell_type": "code",
      "execution_count": null,
      "metadata": {
        "id": "nwO26Ga0Lb_0"
      },
      "outputs": [],
      "source": [
        ""
      ]
    },
    {
      "cell_type": "markdown",
      "source": [
        "* 데이터셋 일부 확인"
      ],
      "metadata": {
        "id": "f0uEgVYQ3GTb"
      }
    },
    {
      "cell_type": "code",
      "execution_count": null,
      "metadata": {
        "scrolled": true,
        "id": "7hje8sJ9Lb_1"
      },
      "outputs": [],
      "source": [
        ""
      ]
    },
    {
      "cell_type": "markdown",
      "source": [
        "## 데이터 기본 확인\n",
        "---"
      ],
      "metadata": {
        "id": "NvkvA5-X69bB"
      }
    },
    {
      "cell_type": "markdown",
      "metadata": {
        "id": "ZmUjQtUg-jQl"
      },
      "source": [
        "### **| 결측치 확인**"
      ]
    },
    {
      "cell_type": "markdown",
      "source": [
        "* 결측지 개수 확인"
      ],
      "metadata": {
        "id": "seNi-Dpz5Rep"
      }
    },
    {
      "cell_type": "code",
      "execution_count": null,
      "metadata": {
        "id": "4A_vx49l-jQl"
      },
      "outputs": [],
      "source": [
        ""
      ]
    },
    {
      "cell_type": "markdown",
      "source": [
        "* 결측지 비율 확인"
      ],
      "metadata": {
        "id": "icOMArSv5UT2"
      }
    },
    {
      "cell_type": "code",
      "execution_count": null,
      "metadata": {
        "id": "w1ICpBe0-jQm"
      },
      "outputs": [],
      "source": [
        ""
      ]
    },
    {
      "cell_type": "markdown",
      "metadata": {
        "id": "fWJ7OgcL-jQm"
      },
      "source": [
        "### **| 기술통계**"
      ]
    },
    {
      "cell_type": "markdown",
      "source": [
        "* `info` 이용해 데이터 확인"
      ],
      "metadata": {
        "id": "KDghqSUh5rRO"
      }
    },
    {
      "cell_type": "code",
      "execution_count": null,
      "metadata": {
        "id": "3olvQOpc-jQk"
      },
      "outputs": [],
      "source": [
        ""
      ]
    },
    {
      "cell_type": "markdown",
      "source": [
        "* 숫자 자료형의 기술 통계"
      ],
      "metadata": {
        "id": "vcNgvzL25bh-"
      }
    },
    {
      "cell_type": "code",
      "execution_count": null,
      "metadata": {
        "id": "XYTXTKhN-jQm"
      },
      "outputs": [],
      "source": [
        ""
      ]
    },
    {
      "cell_type": "markdown",
      "source": [
        "* 숫자 자료형 외의 기술 통계"
      ],
      "metadata": {
        "id": "BPvthObX5etC"
      }
    },
    {
      "cell_type": "code",
      "execution_count": null,
      "metadata": {
        "id": "gOzWfmei-jQm"
      },
      "outputs": [],
      "source": [
        ""
      ]
    },
    {
      "cell_type": "code",
      "source": [
        ""
      ],
      "metadata": {
        "id": "rE34hJvlJFqW"
      },
      "execution_count": null,
      "outputs": []
    },
    {
      "cell_type": "code",
      "source": [
        ""
      ],
      "metadata": {
        "id": "zRvQcQ6fMitf"
      },
      "execution_count": null,
      "outputs": []
    },
    {
      "cell_type": "markdown",
      "source": [
        "* 숫자 자료형 외 값 및 개수 확인"
      ],
      "metadata": {
        "id": "4SG30b1u_Nvl"
      }
    },
    {
      "cell_type": "code",
      "source": [
        ""
      ],
      "metadata": {
        "id": "u99wMrhg-1ZZ"
      },
      "execution_count": null,
      "outputs": []
    },
    {
      "cell_type": "markdown",
      "metadata": {
        "id": "6PYdvkjs-jQk"
      },
      "source": [
        "### **| 변수 요약**"
      ]
    },
    {
      "cell_type": "markdown",
      "source": [
        "* 속성을 그리기전 bool 값을 가지는 속성 `adult_mal`과 `alone`을 int 값으로 변환해야 합니다."
      ],
      "metadata": {
        "id": "GtGFLiAQMK-w"
      }
    },
    {
      "cell_type": "code",
      "source": [
        ""
      ],
      "metadata": {
        "id": "tExFxSKMQym1"
      },
      "execution_count": null,
      "outputs": []
    },
    {
      "cell_type": "markdown",
      "source": [
        "* 모든 속성의 분포 간단히 그리기"
      ],
      "metadata": {
        "id": "Mbh25pJJmxLZ"
      }
    },
    {
      "cell_type": "code",
      "source": [
        ""
      ],
      "metadata": {
        "id": "aBZP2cYfYrN6"
      },
      "execution_count": null,
      "outputs": []
    },
    {
      "cell_type": "markdown",
      "source": [
        "* 자료형 정리하기"
      ],
      "metadata": {
        "id": "C0xa5VNz5zWk"
      }
    },
    {
      "cell_type": "code",
      "source": [
        ""
      ],
      "metadata": {
        "id": "RcMGkQMf50J9"
      },
      "execution_count": null,
      "outputs": []
    },
    {
      "cell_type": "markdown",
      "source": [
        "* 데이터 정리하기\n",
        "  * 데이터 소개: \n",
        "  * 자료형 소개\n",
        "  * 모델링을 위한 자료형 구분:\n",
        "\n"
      ],
      "metadata": {
        "id": "IlRl9T1S7F6G"
      }
    },
    {
      "cell_type": "markdown",
      "metadata": {
        "id": "yocREvGN-jQm"
      },
      "source": [
        "## 데이터 분포\n",
        "---"
      ]
    },
    {
      "cell_type": "markdown",
      "source": [
        "### **| 데이터 분포 시각화**"
      ],
      "metadata": {
        "id": "lVGJt-PqAsGV"
      }
    },
    {
      "cell_type": "markdown",
      "source": [
        "* 연속 자료형 분포 그리기"
      ],
      "metadata": {
        "id": "qd4KUuf29W5T"
      }
    },
    {
      "cell_type": "code",
      "execution_count": null,
      "metadata": {
        "id": "uzJOOeJx-jQn"
      },
      "outputs": [],
      "source": [
        ""
      ]
    },
    {
      "cell_type": "markdown",
      "source": [
        "* 이산 자료형 분포 그리기"
      ],
      "metadata": {
        "id": "ALJ8-qYm9Ztg"
      }
    },
    {
      "cell_type": "code",
      "source": [
        ""
      ],
      "metadata": {
        "id": "NjpNrPlHFCaV"
      },
      "execution_count": null,
      "outputs": []
    },
    {
      "cell_type": "markdown",
      "metadata": {
        "id": "E1inV69N-jQq"
      },
      "source": [
        "### | **기술 통계량 시각화**"
      ]
    },
    {
      "cell_type": "markdown",
      "source": [
        "* 기술통계량 확인"
      ],
      "metadata": {
        "id": "N0Lj6cXibJO0"
      }
    },
    {
      "cell_type": "code",
      "source": [
        ""
      ],
      "metadata": {
        "id": "LxYrkuZtbJpp"
      },
      "execution_count": null,
      "outputs": []
    },
    {
      "cell_type": "markdown",
      "source": [
        "* boxplot 으로 연속 자료형 기술 통계 시각화하기"
      ],
      "metadata": {
        "id": "c2nCExp_E931"
      }
    },
    {
      "cell_type": "code",
      "execution_count": null,
      "metadata": {
        "id": "-YMmJAfN-jQq"
      },
      "outputs": [],
      "source": [
        ""
      ]
    },
    {
      "cell_type": "markdown",
      "source": [
        "* viloinplot 으로 연속 자료형 기술 통계 시각화하기"
      ],
      "metadata": {
        "id": "S4To5P-zOTW4"
      }
    },
    {
      "cell_type": "code",
      "source": [
        ""
      ],
      "metadata": {
        "id": "jtgDV6hROTyB"
      },
      "execution_count": null,
      "outputs": []
    },
    {
      "cell_type": "markdown",
      "source": [
        "### **| 왜도와 첨도**"
      ],
      "metadata": {
        "id": "f3Q-1OWjAIVk"
      }
    },
    {
      "cell_type": "markdown",
      "source": [
        "* `skew` 이용해 왜도 구하기"
      ],
      "metadata": {
        "id": "7iJhbEZdASDk"
      }
    },
    {
      "cell_type": "code",
      "execution_count": null,
      "metadata": {
        "id": "qM63pjrD-jQo"
      },
      "outputs": [],
      "source": [
        ""
      ]
    },
    {
      "cell_type": "markdown",
      "metadata": {
        "id": "c7Q4Fe4k-jQo"
      },
      "source": [
        "* `kurt` 이용해 첨도 구하기"
      ]
    },
    {
      "cell_type": "code",
      "execution_count": null,
      "metadata": {
        "id": "cFhmtCX2-jQo"
      },
      "outputs": [],
      "source": [
        ""
      ]
    },
    {
      "cell_type": "markdown",
      "source": [
        "### **| 예측값에 대한 추가 시각화**"
      ],
      "metadata": {
        "id": "VJ3-1FzGBBpO"
      }
    },
    {
      "cell_type": "markdown",
      "source": [
        "* `countplot`으로 그리기\n"
      ],
      "metadata": {
        "id": "ydlCYd8YBFay"
      }
    },
    {
      "cell_type": "code",
      "execution_count": null,
      "metadata": {
        "id": "p9euUHOc-jQp"
      },
      "outputs": [],
      "source": [
        ""
      ]
    },
    {
      "cell_type": "markdown",
      "source": [
        "* `hue` 옵션에 범주형 속성 추가하기"
      ],
      "metadata": {
        "id": "a1EGbP8rBrgt"
      }
    },
    {
      "cell_type": "code",
      "execution_count": null,
      "metadata": {
        "id": "LGmcAiTJ-jQp"
      },
      "outputs": [],
      "source": [
        ""
      ]
    },
    {
      "cell_type": "markdown",
      "metadata": {
        "id": "7fyc_7M6OPwu"
      },
      "source": [
        "## 속성간 관계 파악\n",
        "---"
      ]
    },
    {
      "cell_type": "markdown",
      "source": [
        "### **| 상관분석**"
      ],
      "metadata": {
        "id": "jrVdKMLBOPwv"
      }
    },
    {
      "cell_type": "markdown",
      "source": [
        "* `corr`를 이용해 상관계수 구하기"
      ],
      "metadata": {
        "id": "khMf-S_5OPwv"
      }
    },
    {
      "cell_type": "code",
      "source": [
        ""
      ],
      "metadata": {
        "id": "tD4frqRVPDl1"
      },
      "execution_count": null,
      "outputs": []
    },
    {
      "cell_type": "markdown",
      "source": [
        "* `style.background_gradient` 이용해 상관계수 시각화 하기"
      ],
      "metadata": {
        "id": "uONomZNLPFpf"
      }
    },
    {
      "cell_type": "code",
      "source": [
        ""
      ],
      "metadata": {
        "id": "UgGfEcLYPlgI"
      },
      "execution_count": null,
      "outputs": []
    },
    {
      "cell_type": "markdown",
      "source": [
        "* `heatmap` 이용해 상관계수 시각화 하기"
      ],
      "metadata": {
        "id": "0C0IR2oxP_ng"
      }
    },
    {
      "cell_type": "code",
      "execution_count": null,
      "metadata": {
        "scrolled": true,
        "id": "pxxF2QAn-jQt"
      },
      "outputs": [],
      "source": [
        ""
      ]
    },
    {
      "cell_type": "markdown",
      "source": [
        "* 상관관계가 높은 속성 정리하기\n",
        "\n",
        "\n"
      ],
      "metadata": {
        "id": "7e7mdqIbQPVN"
      }
    },
    {
      "cell_type": "code",
      "source": [
        ""
      ],
      "metadata": {
        "id": "v9SOfqG_QT4y"
      },
      "execution_count": null,
      "outputs": []
    },
    {
      "cell_type": "markdown",
      "metadata": {
        "id": "kAE68U29-jQr"
      },
      "source": [
        "### **| 속성간 관계 시각화**"
      ]
    },
    {
      "cell_type": "markdown",
      "source": [
        "* `pairplot` 이용해 시각화 하기 "
      ],
      "metadata": {
        "id": "8WwEeyA1RaHy"
      }
    },
    {
      "cell_type": "code",
      "execution_count": null,
      "metadata": {
        "scrolled": true,
        "id": "2rJWEm15-jQr"
      },
      "outputs": [],
      "source": [
        "# pairplot 은 시간이 오래 걸리기 때문에 일부 샘플을 추출해 그리는게 좋습니다.\n"
      ]
    },
    {
      "cell_type": "markdown",
      "metadata": {
        "id": "bFHJIvDq-jQq"
      },
      "source": [
        "* `displot` 이용해 연속 자료형 별 예측값의 분포 `kde` 선으로 시각화 하기 "
      ]
    },
    {
      "cell_type": "code",
      "execution_count": null,
      "metadata": {
        "id": "RmS0ZO8g-jQq"
      },
      "outputs": [],
      "source": [
        ""
      ]
    },
    {
      "cell_type": "markdown",
      "source": [
        "* 위에서 그린 플롯에 `col` 옵션으로 `sex` 추가하기"
      ],
      "metadata": {
        "id": "_rmT3ETQNO1X"
      }
    },
    {
      "cell_type": "code",
      "source": [
        ""
      ],
      "metadata": {
        "id": "Y2POJ88vNO1X"
      },
      "execution_count": null,
      "outputs": []
    },
    {
      "cell_type": "markdown",
      "source": [
        "* 위에서 그린 플롯에 `hue` 옵션으로 `class` 추가하기"
      ],
      "metadata": {
        "id": "3FSF9KRaPBy5"
      }
    },
    {
      "cell_type": "code",
      "source": [
        ""
      ],
      "metadata": {
        "id": "rDiyXjezmYM2"
      },
      "execution_count": null,
      "outputs": []
    },
    {
      "cell_type": "markdown",
      "metadata": {
        "id": "ist7evJaXykz"
      },
      "source": [
        "* `age`과 `fare`의 산점도를 그리고 `hue`옵션에 예측값 추가하기"
      ]
    },
    {
      "cell_type": "code",
      "execution_count": null,
      "metadata": {
        "id": "ABai3wCMXykz"
      },
      "outputs": [],
      "source": [
        ""
      ]
    },
    {
      "cell_type": "markdown",
      "source": [
        "* `lmplot`을 이용해 위의 산점도를 다시 그리고 `col` 옵션에 `class` 추가하기"
      ],
      "metadata": {
        "id": "sZwlRhMpUmSd"
      }
    },
    {
      "cell_type": "code",
      "source": [
        ""
      ],
      "metadata": {
        "id": "LGJXzOIJUb4l"
      },
      "execution_count": null,
      "outputs": []
    },
    {
      "cell_type": "markdown",
      "source": [
        "* `histplot`으로 범주형 속성들과 예측값 히트맵 그리기"
      ],
      "metadata": {
        "id": "9sVusDeeR24U"
      }
    },
    {
      "cell_type": "code",
      "source": [
        ""
      ],
      "metadata": {
        "id": "jKZMuNbFOLrU"
      },
      "execution_count": null,
      "outputs": []
    }
  ],
  "metadata": {
    "kernelspec": {
      "display_name": "Python 3",
      "language": "python",
      "name": "python3"
    },
    "language_info": {
      "codemirror_mode": {
        "name": "ipython",
        "version": 3
      },
      "file_extension": ".py",
      "mimetype": "text/x-python",
      "name": "python",
      "nbconvert_exporter": "python",
      "pygments_lexer": "ipython3",
      "version": "3.7.6"
    },
    "toc": {
      "base_numbering": 1,
      "nav_menu": {},
      "number_sections": true,
      "sideBar": true,
      "skip_h1_title": false,
      "title_cell": "Table of Contents",
      "title_sidebar": "Contents",
      "toc_cell": false,
      "toc_position": {
        "height": "calc(100% - 180px)",
        "left": "10px",
        "top": "150px",
        "width": "204.8px"
      },
      "toc_section_display": true,
      "toc_window_display": true
    },
    "varInspector": {
      "cols": {
        "lenName": 16,
        "lenType": 16,
        "lenVar": 40
      },
      "kernels_config": {
        "python": {
          "delete_cmd_postfix": "",
          "delete_cmd_prefix": "del ",
          "library": "var_list.py",
          "varRefreshCmd": "print(var_dic_list())"
        },
        "r": {
          "delete_cmd_postfix": ") ",
          "delete_cmd_prefix": "rm(",
          "library": "var_list.r",
          "varRefreshCmd": "cat(var_dic_list()) "
        }
      },
      "types_to_exclude": [
        "module",
        "function",
        "builtin_function_or_method",
        "instance",
        "_Feature"
      ],
      "window_display": false
    },
    "colab": {
      "name": "ch04_04_분류문제EDA-titanic.ipynb",
      "provenance": [],
      "collapsed_sections": [],
      "include_colab_link": true
    }
  },
  "nbformat": 4,
  "nbformat_minor": 0
}